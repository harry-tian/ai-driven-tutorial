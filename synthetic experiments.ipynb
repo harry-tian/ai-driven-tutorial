{
 "cells": [
  {
   "cell_type": "code",
   "execution_count": 1,
   "metadata": {},
   "outputs": [],
   "source": [
    "%load_ext autoreload\n",
    "%autoreload 2\n",
    "import os, pickle, csv, itertools, shutil, random\n",
    "import numpy as np\n",
    "import matplotlib.pyplot as plt\n",
    "import pandas as pd\n",
    "import torchvision, torch\n",
    "from torchvision import transforms\n",
    "from omegaconf import OmegaConf as oc\n",
    "\n",
    "%matplotlib inline\n",
    "%config InlineBackend.figure_format='retina'\n",
    "\n",
    "import models.utils as utils\n",
    "import evals.embed_evals as evals\n",
    "import utils.plot_data as plot\n",
    "import utils.gen_triplets as gen\n",
    "import warnings\n",
    "warnings.filterwarnings(\"ignore\")"
   ]
  },
  {
   "cell_type": "markdown",
   "metadata": {},
   "source": [
    "## direct NI comparison"
   ]
  },
  {
   "cell_type": "code",
   "execution_count": null,
   "metadata": {},
   "outputs": [],
   "source": [
    "## filter out correct NIs\n",
    "NIs = pd.read_csv(\"noise_NIs.csv\")\n",
    "RESN_NIs = pickle.load(open(\"embeds/wv_2d/RESN_d=50/RESN_NIs.pkl\",\"rb\"))\n",
    "y_train = np.array([x[1] for x in torchvision.datasets.ImageFolder(\"datasets/weevil_vespula/train\")])\n",
    "y_test = np.array([x[1] for x in torchvision.datasets.ImageFolder(\"datasets/weevil_vespula/test\")])\n",
    "syn_x_train = pickle.load(open(\"/net/scratch/tianh/explain_teach/embeds/wv_2d/train.pkl\",\"rb\"))\n",
    "syn_x_test = pickle.load(open(\"/net/scratch/tianh/explain_teach/embeds/wv_2d/test.pkl\",\"rb\"))\n",
    "def str2list(S): return [int(x) for x in S.replace(\"]\",\" \").replace(\"[\",\" \").replace(\",\",\"\").strip().split(\" \")]"
   ]
  },
  {
   "cell_type": "code",
   "execution_count": null,
   "metadata": {},
   "outputs": [],
   "source": [
    "weights = [1,0]\n",
    "nn_comparison = []\n",
    "for NI in NIs[\"NI\"]:\n",
    "    NI = str2list(NI)\n",
    "    NI = np.array(NI).reshape(-1,1)\n",
    "    wins, errs, ties = evals.nn_comparison(syn_x_train, syn_x_test, NI, RESN_NIs[0].reshape(-1,1), weights)\n",
    "    nn_comparison.append((wins + ties*0.5)/40)"
   ]
  },
  {
   "cell_type": "code",
   "execution_count": null,
   "metadata": {},
   "outputs": [],
   "source": [
    "count = 0\n",
    "NIs = []\n",
    "NI = []\n",
    "a = open(\"temp/wv_NI.txt\",\"r\")\n",
    "for line in a:\n",
    "    line = line.replace(\"]\",\" \").replace(\"[\",\" \").strip().split(\" \")\n",
    "    # print(line)\n",
    "    for x in line:\n",
    "        if len(NI)==40:\n",
    "            NIs.append(NI)\n",
    "            NI=[]\n",
    "        if x.isdigit():\n",
    "            NI.append(int(x))\n",
    "            count += 1"
   ]
  },
  {
   "cell_type": "markdown",
   "metadata": {},
   "source": [
    "## resn eval"
   ]
  },
  {
   "cell_type": "code",
   "execution_count": 2,
   "metadata": {},
   "outputs": [],
   "source": [
    "RESN_embed_dir = \"embeds/wv_3d_alignments/RESN\"\n",
    "for seed in range(5):\n",
    "    RESN_train = [pickle.load(open(f\"{RESN_embed_dir}/RESN_train_seed{seed}.pkl\",\"rb\")) for seed in range(5)]\n",
    "    RESN_test = [pickle.load(open(f\"{RESN_embed_dir}/RESN_test_seed{seed}.pkl\",\"rb\")) for seed in range(5)]\n",
    "syn_x_train = pickle.load(open(\"datasets/wv_3d/train_features.pkl\",\"rb\"))\n",
    "syn_x_test = pickle.load(open(\"datasets/wv_3d/test_features.pkl\",\"rb\"))\n",
    "y_train = np.array([x[1] for x in torchvision.datasets.ImageFolder(\"datasets/wv_3d/train\")])\n",
    "y_test = np.array([x[1] for x in torchvision.datasets.ImageFolder(\"datasets/wv_3d/test\")])"
   ]
  },
  {
   "cell_type": "code",
   "execution_count": 6,
   "metadata": {},
   "outputs": [
    {
     "data": {
      "text/plain": [
       "0.7675"
      ]
     },
     "execution_count": 6,
     "metadata": {},
     "output_type": "execute_result"
    }
   ],
   "source": [
    "z_train = RESN_train[0]\n",
    "z_test = RESN_test[0]\n",
    "NINO = evals.get_NINO(z_train, y_train, z_test, y_test, 1)\n",
    "weights = [1,0,1,1]\n",
    "NINO_ds_acc, NINO_ds_err = evals.decision_support(syn_x_train, y_train, syn_x_test, y_test, NINO, weights, \"\")\n",
    "NINO_ds_acc"
   ]
  },
  {
   "cell_type": "code",
   "execution_count": 41,
   "metadata": {},
   "outputs": [],
   "source": [
    "NINO = evals.get_rNINO(dist, y_train, y_test, 3)"
   ]
  },
  {
   "cell_type": "code",
   "execution_count": null,
   "metadata": {},
   "outputs": [],
   "source": []
  },
  {
   "cell_type": "code",
   "execution_count": null,
   "metadata": {},
   "outputs": [],
   "source": [
    "metric = [\"NINO_ds_acc\",\"rNINO_ds_acc\",\"NIFO_ds_acc\"]\n",
    "align_results = pd.DataFrame()\n",
    "\n",
    "align_dir = \"models/configs/wv_3d/align_triplets\"\n",
    "align_yamls = [os.path.join(align_dir,f) for f in os.listdir(align_dir)]\n",
    "for yaml in align_yamls:\n",
    "    args = oc.load(yaml)\n",
    "    weights = args[\"weights\"]\n",
    "    group = args[\"wandb_group\"]\n",
    "    \n",
    "    results = []\n",
    "    for z_train,z_test in zip(RESN_train,RESN_test):\n",
    "        data = evals.resn_evals(z_train, y_train, z_test, y_test, syn_x_train, syn_x_test, weights, None, k=1)\n",
    "        data = {m: [data[m]] for m in metric}\n",
    "        results.append(pd.DataFrame(data=data))\n",
    "    results = pd.concat(results)\n",
    "    results.insert(0, \"group\", [group]*5)\n",
    "    align_results = pd.concat([align_results, results])"
   ]
  },
  {
   "cell_type": "code",
   "execution_count": null,
   "metadata": {},
   "outputs": [],
   "source": [
    "align_results"
   ]
  },
  {
   "cell_type": "code",
   "execution_count": 7,
   "metadata": {},
   "outputs": [
    {
     "data": {
      "text/html": [
       "<div>\n",
       "<style scoped>\n",
       "    .dataframe tbody tr th:only-of-type {\n",
       "        vertical-align: middle;\n",
       "    }\n",
       "\n",
       "    .dataframe tbody tr th {\n",
       "        vertical-align: top;\n",
       "    }\n",
       "\n",
       "    .dataframe thead th {\n",
       "        text-align: right;\n",
       "    }\n",
       "</style>\n",
       "<table border=\"1\" class=\"dataframe\">\n",
       "  <thead>\n",
       "    <tr style=\"text-align: right;\">\n",
       "      <th></th>\n",
       "      <th>NINO_ds_acc</th>\n",
       "      <th>rNINO_ds_acc</th>\n",
       "      <th>NIFO_ds_acc</th>\n",
       "    </tr>\n",
       "  </thead>\n",
       "  <tbody>\n",
       "    <tr>\n",
       "      <th>0</th>\n",
       "      <td>[0.8125]</td>\n",
       "      <td>[0.8125]</td>\n",
       "      <td>[0.77]</td>\n",
       "    </tr>\n",
       "  </tbody>\n",
       "</table>\n",
       "</div>"
      ],
      "text/plain": [
       "  NINO_ds_acc rNINO_ds_acc NIFO_ds_acc\n",
       "0    [0.8125]     [0.8125]      [0.77]"
      ]
     },
     "execution_count": 7,
     "metadata": {},
     "output_type": "execute_result"
    }
   ],
   "source": [
    "train_embeds = pickle.load(open(f\"{resn_dir}/RESN_train_seed{0}.pkl\",\"rb\"))\n",
    "test_embeds = pickle.load(open(f\"{resn_dir}/RESN_test_seed{0}.pkl\",\"rb\")) \n",
    "evals.syn_evals(train_embeds, y_train, test_embeds, y_test, syn_x_train, syn_x_test, weights, None, k=1)\n",
    "pd.DataFrame({m: [data[m]] for m in metric})"
   ]
  },
  {
   "cell_type": "code",
   "execution_count": 8,
   "metadata": {},
   "outputs": [
    {
     "data": {
      "text/html": [
       "<div>\n",
       "<style scoped>\n",
       "    .dataframe tbody tr th:only-of-type {\n",
       "        vertical-align: middle;\n",
       "    }\n",
       "\n",
       "    .dataframe tbody tr th {\n",
       "        vertical-align: top;\n",
       "    }\n",
       "\n",
       "    .dataframe thead th {\n",
       "        text-align: right;\n",
       "    }\n",
       "</style>\n",
       "<table border=\"1\" class=\"dataframe\">\n",
       "  <thead>\n",
       "    <tr style=\"text-align: right;\">\n",
       "      <th></th>\n",
       "      <th>NINO_ds_acc</th>\n",
       "      <th>rNINO_ds_acc</th>\n",
       "      <th>NIFO_ds_acc</th>\n",
       "    </tr>\n",
       "  </thead>\n",
       "  <tbody>\n",
       "    <tr>\n",
       "      <th>0</th>\n",
       "      <td>[0.8125]</td>\n",
       "      <td>[0.8125]</td>\n",
       "      <td>[0.77]</td>\n",
       "    </tr>\n",
       "  </tbody>\n",
       "</table>\n",
       "</div>"
      ],
      "text/plain": [
       "  NINO_ds_acc rNINO_ds_acc NIFO_ds_acc\n",
       "0    [0.8125]     [0.8125]      [0.77]"
      ]
     },
     "execution_count": 8,
     "metadata": {},
     "output_type": "execute_result"
    }
   ],
   "source": [
    "train_embeds = pickle.load(open(f\"{resn_dir}/RESN_train_seed0_.pkl\",\"rb\"))\n",
    "test_embeds = pickle.load(open(f\"{resn_dir}/RESN_test_seed0_.pkl\",\"rb\")) \n",
    "evals.syn_evals(train_embeds, y_train, test_embeds, y_test, syn_x_train, syn_x_test, weights, None, k=1)\n",
    "pd.DataFrame({m: [data[m]] for m in metric})"
   ]
  },
  {
   "cell_type": "code",
   "execution_count": 9,
   "metadata": {},
   "outputs": [
    {
     "data": {
      "text/html": [
       "<div>\n",
       "<style scoped>\n",
       "    .dataframe tbody tr th:only-of-type {\n",
       "        vertical-align: middle;\n",
       "    }\n",
       "\n",
       "    .dataframe tbody tr th {\n",
       "        vertical-align: top;\n",
       "    }\n",
       "\n",
       "    .dataframe thead th {\n",
       "        text-align: right;\n",
       "    }\n",
       "</style>\n",
       "<table border=\"1\" class=\"dataframe\">\n",
       "  <thead>\n",
       "    <tr style=\"text-align: right;\">\n",
       "      <th></th>\n",
       "      <th>NINO_ds_acc</th>\n",
       "      <th>rNINO_ds_acc</th>\n",
       "      <th>NIFO_ds_acc</th>\n",
       "    </tr>\n",
       "  </thead>\n",
       "  <tbody>\n",
       "    <tr>\n",
       "      <th>0</th>\n",
       "      <td>[0.8125]</td>\n",
       "      <td>[0.8125]</td>\n",
       "      <td>[0.77]</td>\n",
       "    </tr>\n",
       "  </tbody>\n",
       "</table>\n",
       "</div>"
      ],
      "text/plain": [
       "  NINO_ds_acc rNINO_ds_acc NIFO_ds_acc\n",
       "0    [0.8125]     [0.8125]      [0.77]"
      ]
     },
     "execution_count": 9,
     "metadata": {},
     "output_type": "execute_result"
    }
   ],
   "source": [
    "train_embeds = pickle.load(open(f\"{resn_dir}/RESN_train_seed0_0.pkl\",\"rb\"))\n",
    "test_embeds = pickle.load(open(f\"{resn_dir}/RESN_test_seed0_0.pkl\",\"rb\")) \n",
    "evals.syn_evals(train_embeds, y_train, test_embeds, y_test, syn_x_train, syn_x_test, weights, None, k=1)\n",
    "pd.DataFrame({m: [data[m]] for m in metric})"
   ]
  },
  {
   "cell_type": "markdown",
   "metadata": {},
   "source": [
    "# wv_2d"
   ]
  },
  {
   "cell_type": "code",
   "execution_count": null,
   "metadata": {},
   "outputs": [],
   "source": [
    "def return_label(w,b,x,y): return 1 if y > w*x+b else  0\n",
    "w = -0.73027025\n",
    "b = 0.68565111"
   ]
  },
  {
   "cell_type": "code",
   "execution_count": null,
   "metadata": {},
   "outputs": [],
   "source": [
    "df = evals.get_wv_df()\n",
    "selected_features = [\"bodyheadszratio\",\"bodyheadcolordiff\"]\n",
    "df['pseudo_label'] = df.apply(lambda row : return_label(w,b,row[selected_features[0]],row[selected_features[1]]), axis = 1)\n",
    "df\n"
   ]
  },
  {
   "cell_type": "code",
   "execution_count": null,
   "metadata": {},
   "outputs": [],
   "source": [
    "p2i_train = pickle.load(open(\"/net/scratch/chacha-shared/weevil_vespula/p2i.pkl\",\"rb\"))\n",
    "i2p_train = {v:k for k,v in p2i_train.items()}\n",
    "p2i_test = pickle.load(open(\"/net/scratch/chacha-shared/weevil_vespula/p2i_test.pkl\",\"rb\"))\n",
    "i2p_test = {v:k for k,v in p2i_test.items()}\n",
    "df_train = df.iloc[[int(x) for x in p2i_train.keys()]]"
   ]
  },
  {
   "cell_type": "code",
   "execution_count": null,
   "metadata": {},
   "outputs": [],
   "source": [
    "def vis_err_df(df, err):\n",
    "#     plt.figure(figsize=(8,6))\n",
    "    colors = {1:'b',0:'r'}\n",
    "\n",
    "    plt.scatter(df_train[selected_features[0]],df_train[selected_features[1]], c=df_train['pseudo_label'], s=50,\n",
    "            cmap=\"RdBu\", vmin=-.2, vmax=1.2,\n",
    "            edgecolor=\"white\", linewidth=1)\n",
    "\n",
    "    a_label, p_label, n_label = df.iloc[int(i2p_test[err[0]])][\"pseudo_label\"], df.iloc[int(i2p_train[err[1]])][\"pseudo_label\"], df.iloc[int(i2p_train[err[2]])][\"pseudo_label\"]\n",
    "    a = df.iloc[int(i2p_test[err[0]])][selected_features].values\n",
    "    p = df.iloc[int(i2p_train[err[1]])][selected_features].values\n",
    "    n = df.iloc[int(i2p_train[err[2]])][selected_features].values\n",
    "    plt.scatter(a[0],a[1], edgecolors=colors[a_label], marker='^', s=500, linewidths=1, c=\"w\")\n",
    "    plt.scatter(p[0],p[1], edgecolors=colors[p_label], marker='^', s=500, linewidths=1, c=\"w\")\n",
    "    plt.scatter(n[0],n[1], edgecolors=colors[n_label], marker='^', s=500, linewidths=1, c=\"w\")\n",
    "    plt.plot(a[0],a[1],  c=colors[a_label], marker='$A$', markersize=15)\n",
    "    plt.plot(p[0],p[1], c=colors[p_label], marker='$P$', markersize=15)\n",
    "    plt.plot(n[0],n[1], c=colors[n_label], marker='$N$', markersize=15)\n",
    "\n",
    "    plt.show()"
   ]
  },
  {
   "cell_type": "code",
   "execution_count": null,
   "metadata": {},
   "outputs": [],
   "source": [
    "RESN_errors = [[1, 35, 105], [2, 35, 105], [3, 35, 105], [9, 35, 105], [10, 35, 105], [12, 35, 105], [13, 35, 105], [15, 42, 105], [29, 35, 105], [39, 35, 105]]\n",
    "TN_errors = [[1, 23, 96], [3, 19, 100], [10, 10, 86], [13, 28, 115], [22, 27, 62], [23, 28, 68], [26, 10, 103], [27, 11, 77], [29, 45, 101], [32, 7, 108], [33, 27, 107], [36, 5, 113], [37, 52, 82], [39, 1, 101]]\n",
    "MTL_errors = [[10, 10, 86], [12, 15, 97], [22, 27, 69], [23, 28, 102], [25, 27, 107], [26, 10, 103], [29, 42, 101], [32, 25, 108], [34, 59, 71], [36, 5, 113], [37, 27, 111], [38, 59, 73], [39, 35, 101]]\n",
    "# MTL_errors = [[3, 49, 100], [10, 10, 86], [13, 56, 68], [21, 27, 80], [22, 27, 62], [23, 28, 117], [26, 10, 103], [27, 11, 108], [28, 52, 98], [29, 55, 101], [31, 10, 66], [32, 7, 108], [33, 27, 67], [34, 30, 89], [36, 5, 113], [37, 27, 80], [38, 30, 89], [39, 1, 101]]"
   ]
  },
  {
   "cell_type": "code",
   "execution_count": null,
   "metadata": {},
   "outputs": [],
   "source": [
    "RESN_TN = [err for err in RESN_errors if err in TN_errors]\n",
    "RESN_MTL = [err for err in RESN_errors if err in MTL_errors]\n",
    "TN_MTL = [err for err in TN_errors if err in MTL_errors]\n",
    "len(RESN_TN), len(RESN_MTL), len(TN_MTL)"
   ]
  },
  {
   "cell_type": "markdown",
   "metadata": {},
   "source": [
    "## vis on input space"
   ]
  },
  {
   "cell_type": "code",
   "execution_count": null,
   "metadata": {},
   "outputs": [],
   "source": [
    "for err in RESN_errors[:4]: vis_err_df(df, err)"
   ]
  },
  {
   "cell_type": "code",
   "execution_count": null,
   "metadata": {},
   "outputs": [],
   "source": [
    "for err in TN_MTL: vis_err_df(df, err)"
   ]
  },
  {
   "cell_type": "code",
   "execution_count": null,
   "metadata": {},
   "outputs": [],
   "source": [
    "for err in TN_errors[:4]: \n",
    "    if err not in TN_MTL: vis_err_df(df, err)"
   ]
  },
  {
   "cell_type": "code",
   "execution_count": null,
   "metadata": {},
   "outputs": [],
   "source": [
    "for err in MTL_errors[:4]: \n",
    "    if err not in TN_MTL: vis_err_df(df, err)"
   ]
  },
  {
   "cell_type": "markdown",
   "metadata": {},
   "source": [
    "## vis on embedding space"
   ]
  },
  {
   "cell_type": "code",
   "execution_count": null,
   "metadata": {},
   "outputs": [],
   "source": [
    "y_train = torchvision.datasets.ImageFolder(\"data/weevil_vespula/train\")\n",
    "y_train = [x[1] for x in y_train]\n",
    "RESN_train = pickle.load(open(\"embeds/wv_2d/pretrained/RESN_train_emb512.pkl\",\"rb\"))\n",
    "TN_train = pickle.load(open(\"embeds/wv_2d/pretrained/TN_train_emb512.pkl\",\"rb\"))\n",
    "MTL_train = pickle.load(open(\"embeds/wv_2d/pretrained/MTL_train_emb512.pkl\",\"rb\"))"
   ]
  },
  {
   "cell_type": "code",
   "execution_count": null,
   "metadata": {},
   "outputs": [],
   "source": [
    "y_test = torchvision.datasets.ImageFolder(\"data/weevil_vespula/test\")\n",
    "y_test = [x[1] for x in y_test]\n",
    "RESN_test = pickle.load(open(\"embeds/wv_2d/pretrained/RESN_test_emb512.pkl\",\"rb\"))\n",
    "TN_test = pickle.load(open(\"embeds/wv_2d/pretrained/TN_test_emb512.pkl\",\"rb\"))\n",
    "MTL_test = pickle.load(open(\"embeds/wv_2d/pretrained/MTL_test_emb512.pkl\",\"rb\"))"
   ]
  },
  {
   "cell_type": "code",
   "execution_count": null,
   "metadata": {},
   "outputs": [],
   "source": [
    "def vis_err_embeds(x_train, y_train, x_test, y_test, err):\n",
    "    plt.figure(figsize=(8,6))\n",
    "    colors = {1:'b',0:'r'}\n",
    "    x_test = [x_test[err[0]]]\n",
    "    y_test = [y_test[err[0]]]\n",
    "    x_all = plot.tsne2(np.concatenate([x_train,x_test]))\n",
    "    y_all = y_train + y_test\n",
    "    x_train = x_all[np.arange(len(x_train))]\n",
    "    x_test = x_all[np.arange(len(x_train),len(x_train)+len(x_test))]\n",
    "\n",
    "    classes = np.unique(y_all)\n",
    "\n",
    "    for c in classes:\n",
    "        c_idx = np.where(y_train==c)[0]\n",
    "        plt.scatter(x_train[c_idx][:,0], x_train[c_idx][:,1], c=colors[c])\n",
    "\n",
    "    a,p,n = err[0], err[1], err[2]\n",
    "    a_label, p_label, n_label = y_test[0], y_train[p], y_train[n]\n",
    "    plt.scatter(x_test[0][0], x_test[0][1], edgecolors=colors[a_label], marker='^', s=500, linewidths=1, c=\"w\")\n",
    "    plt.scatter(x_train[p][0], x_train[p][1], edgecolors=colors[p_label], marker='^', s=500, linewidths=1, c=\"w\")\n",
    "    plt.scatter(x_train[n][0], x_train[n][1], edgecolors=colors[n_label], marker='^', s=500, linewidths=1, c=\"w\")\n",
    "    plt.plot(x_test[0][0], x_test[0][1], c=colors[a_label], marker='$A$',markersize=15)\n",
    "    plt.plot(x_train[p][0], x_train[p][1], c=colors[p_label], marker='$P$',markersize=15)\n",
    "    plt.plot(x_train[n][0], x_train[n][1], c=colors[n_label], marker='$N$',markersize=15)\n",
    "\n",
    "    plt.show()\n",
    "    return x_train,x_test"
   ]
  },
  {
   "cell_type": "code",
   "execution_count": null,
   "metadata": {},
   "outputs": [],
   "source": [
    "RESN_train_2, RESN_test_2 = vis_err_embeds(RESN_train, y_train, RESN_test, y_test, RESN_errors[0])"
   ]
  },
  {
   "cell_type": "code",
   "execution_count": null,
   "metadata": {},
   "outputs": [],
   "source": [
    "TN_train_2, TN_test_2 = vis_err_embeds(TN_train, y_train, TN_test, y_test, TN_errors[0])"
   ]
  },
  {
   "cell_type": "code",
   "execution_count": null,
   "metadata": {},
   "outputs": [],
   "source": [
    "MTL_train_2, MTL_test_2 = vis_err_embeds(MTL_train, y_train, MTL_test, y_test, MTL_errors[0])"
   ]
  },
  {
   "cell_type": "code",
   "execution_count": null,
   "metadata": {},
   "outputs": [],
   "source": [
    "MTL_errors_10 = [[1, 30, 96], [2, 52, 79], [3, 19, 89], [9, 23, 96], [10, 10, 86], [13, 28, 115], [15, 14, 101], [21, 27, 111], [22, 27, 107], [23, 28, 68], [27, 43, 108], [29, 12, 101], [32, 43, 108], [33, 27, 107], [34, 30, 73], [37, 52, 82], [39, 1, 101]]\n",
    "RESN_errors_10 = [[2, 47, 86], [10, 41, 86], [13, 41, 86], [24, 41, 114], [27, 41, 74], [29, 41, 86], [30, 41, 61], [34, 41, 86], [36, 41, 61], [38, 41, 66], [39, 41, 86]]\n",
    "[err for err in RESN_errors_10 if err in MTL_errors_10]"
   ]
  },
  {
   "cell_type": "code",
   "execution_count": 67,
   "metadata": {},
   "outputs": [],
   "source": [
    "y_train = torchvision.datasets.ImageFolder(\"data/weevil_vespula/train\")\n",
    "y_train = [x[1] for x in y_train]\n",
    "y_test = torchvision.datasets.ImageFolder(\"data/weevil_vespula/test\")\n",
    "y_test = [x[1] for x in y_test]\n",
    "MTL_train_10 = pickle.load(open(\"embeds/wv_2d/pretrained/MTL_train_emb10.pkl\",\"rb\"))\n",
    "MTL_test_10 = pickle.load(open(\"embeds/wv_2d/pretrained/MTL_test_emb10.pkl\",\"rb\"))\n",
    "RESN_train_10 = pickle.load(open(\"embeds/wv_2d/pretrained/RESN_train_emb10.pkl\",\"rb\"))\n",
    "RESN_test_10 = pickle.load(open(\"embeds/wv_2d/pretrained/RESN_test_emb10.pkl\",\"rb\"))"
   ]
  },
  {
   "cell_type": "code",
   "execution_count": null,
   "metadata": {},
   "outputs": [],
   "source": [
    "RESN_train_2, RESN_test_2 = vis_err_embeds(RESN_train_10, y_train, RESN_test_10, y_test, RESN_errors_10[0])"
   ]
  },
  {
   "cell_type": "code",
   "execution_count": null,
   "metadata": {},
   "outputs": [],
   "source": [
    "MTL_train_2, MTL_test_2 = vis_err_embeds(MTL_train_10, y_train, MTL_test_10, y_test, MTL_errors_10[0])"
   ]
  },
  {
   "cell_type": "code",
   "execution_count": 2,
   "metadata": {},
   "outputs": [],
   "source": [
    "y_train = torchvision.datasets.ImageFolder(\"data/weevil_vespula/train\")\n",
    "y_train = [x[1] for x in y_train]\n",
    "y_test = torchvision.datasets.ImageFolder(\"data/weevil_vespula/test\")\n",
    "y_test = [x[1] for x in y_test]\n",
    "RESN_train_50 = pickle.load(open(\"embeds/wv_2d/pretrained/RESN_train_emb50.pkl\",\"rb\"))\n",
    "RESN_test_50 = pickle.load(open(\"embeds/wv_2d/pretrained/RESN_test_emb50.pkl\",\"rb\"))"
   ]
  },
  {
   "cell_type": "code",
   "execution_count": 70,
   "metadata": {},
   "outputs": [],
   "source": [
    "\n",
    "def NIFO(x_train, y_train, x, y):\n",
    "    ''' for each test example, return its in-class nearest neighbors and out-of-classes farthest \"neighbor\", for all classes '''\n",
    "    classes = np.unique(y_train)\n",
    "    idx_by_class = {c: np.where(y_train==c)[0] for c in classes}\n",
    "    # print(idx_by_class)\n",
    "\n",
    "    example = []\n",
    "    for c in classes:\n",
    "        in_class = x_train[idx_by_class[c]]\n",
    "        dists = np.array([evals.euc_dist(x, x_) for x_ in in_class])\n",
    "        # print(dists)\n",
    "        # print(dists[30], dists[33])\n",
    "        class_nn = np.argmin(dists)# if y == c else np.argmax(dists)\n",
    "        class_nn = idx_by_class[c][class_nn]\n",
    "        example.append(class_nn)\n",
    "\n",
    "    return example"
   ]
  },
  {
   "cell_type": "code",
   "execution_count": 78,
   "metadata": {},
   "outputs": [
    {
     "data": {
      "text/plain": [
       "[1, 30, 96]"
      ]
     },
     "execution_count": 78,
     "metadata": {},
     "output_type": "execute_result"
    }
   ],
   "source": [
    "MTL_errors_10[0]"
   ]
  },
  {
   "cell_type": "code",
   "execution_count": 71,
   "metadata": {},
   "outputs": [
    {
     "data": {
      "text/plain": [
       "[30, 96]"
      ]
     },
     "execution_count": 71,
     "metadata": {},
     "output_type": "execute_result"
    }
   ],
   "source": [
    "x = MTL_test_10[MTL_errors_10[0][0]]\n",
    "y = y_test[MTL_errors_10[0][0]]\n",
    "NIFO(MTL_train_10, y_train, x,y)"
   ]
  },
  {
   "cell_type": "code",
   "execution_count": 86,
   "metadata": {},
   "outputs": [
    {
     "data": {
      "text/plain": [
       "array([[ 22, 101],\n",
       "       [ 30,  73],\n",
       "       [ 52, 116],\n",
       "       [ 19,  89],\n",
       "       [ 38, 101],\n",
       "       [ 22, 101],\n",
       "       [ 39, 101],\n",
       "       [  6, 101],\n",
       "       [ 38, 101],\n",
       "       [ 23,  96],\n",
       "       [ 10,  64],\n",
       "       [ 22, 101],\n",
       "       [ 40, 105],\n",
       "       [ 28, 104],\n",
       "       [  2, 101],\n",
       "       [ 14, 101],\n",
       "       [ 13, 101],\n",
       "       [ 54, 101],\n",
       "       [ 45, 101],\n",
       "       [ 35, 101],\n",
       "       [112,  10],\n",
       "       [111,  27],\n",
       "       [107,  27],\n",
       "       [ 68,  28],\n",
       "       [ 84,  53],\n",
       "       [104,  27],\n",
       "       [ 81,  10],\n",
       "       [108,  43],\n",
       "       [118,  52],\n",
       "       [101,  26],\n",
       "       [ 94,  30],\n",
       "       [ 69,  27],\n",
       "       [108,  43],\n",
       "       [107,  27],\n",
       "       [ 73,  30],\n",
       "       [106,  10],\n",
       "       [ 94,  19],\n",
       "       [ 82,  52],\n",
       "       [ 96,  30],\n",
       "       [101,   2]])"
      ]
     },
     "execution_count": 86,
     "metadata": {},
     "output_type": "execute_result"
    }
   ],
   "source": [
    "evals.get_rational_NINO(MTL_train_10, y_train, MTL_test_10,y_test)"
   ]
  },
  {
   "cell_type": "code",
   "execution_count": 85,
   "metadata": {},
   "outputs": [
    {
     "data": {
      "text/plain": [
       "array([[ 22, 101],\n",
       "       [ 30,  96],\n",
       "       [ 52,  79],\n",
       "       [ 19,  89],\n",
       "       [ 38, 101],\n",
       "       [ 22, 101],\n",
       "       [ 39, 101],\n",
       "       [  6, 101],\n",
       "       [ 38, 101],\n",
       "       [ 23,  96],\n",
       "       [ 10,  86],\n",
       "       [ 22, 101],\n",
       "       [ 40, 105],\n",
       "       [ 28, 115],\n",
       "       [  2, 101],\n",
       "       [ 14, 101],\n",
       "       [ 13, 101],\n",
       "       [ 54, 101],\n",
       "       [ 45, 101],\n",
       "       [ 35, 101],\n",
       "       [112,  10],\n",
       "       [111,  27],\n",
       "       [107,  27],\n",
       "       [ 68,  28],\n",
       "       [ 84,  53],\n",
       "       [104,  27],\n",
       "       [ 81,  10],\n",
       "       [108,  43],\n",
       "       [118,  52],\n",
       "       [101,  12],\n",
       "       [ 94,  30],\n",
       "       [ 69,  27],\n",
       "       [108,  43],\n",
       "       [107,  27],\n",
       "       [ 73,  30],\n",
       "       [106,  10],\n",
       "       [ 94,  19],\n",
       "       [ 82,  52],\n",
       "       [ 96,  30],\n",
       "       [101,   1]])"
      ]
     },
     "execution_count": 85,
     "metadata": {},
     "output_type": "execute_result"
    }
   ],
   "source": [
    "evals.get_NINO(MTL_train_10, y_train, MTL_test_10,y_test)"
   ]
  },
  {
   "cell_type": "code",
   "execution_count": 83,
   "metadata": {},
   "outputs": [
    {
     "data": {
      "text/plain": [
       "(array([ 0,  1,  2,  3,  4,  5,  6,  7,  8,  9, 10, 11, 12, 13, 14, 15, 16,\n",
       "        17, 18, 19, 20, 21, 22, 23, 24, 25, 26, 27, 28, 29, 30, 31, 32, 33,\n",
       "        34, 35, 36, 37, 38, 39, 40, 41, 42, 43, 44, 45, 46, 47, 48, 49, 50,\n",
       "        51, 52, 53, 54, 55, 56, 57, 58, 59, 60, 61, 62, 63, 64, 65, 66, 67,\n",
       "        68, 69, 70, 71, 72, 73, 74, 75, 76, 77, 78]),)"
      ]
     },
     "execution_count": 83,
     "metadata": {},
     "output_type": "execute_result"
    }
   ],
   "source": [
    "np.where(a>1)"
   ]
  },
  {
   "cell_type": "markdown",
   "metadata": {},
   "source": [
    "## Generate new decision boundary"
   ]
  },
  {
   "cell_type": "code",
   "execution_count": null,
   "metadata": {},
   "outputs": [],
   "source": [
    "def pseudo_label(w, b, row, selected_features):\n",
    "    x = np.array(row[selected_features[0]])\n",
    "    y = np.array(row[selected_features[1]])\n",
    "    y_prime = w*x+b\n",
    "\n",
    "    if y > y_prime: return 1\n",
    "    else: return 0\n",
    "\n",
    "\n",
    "def pseudo_label_2feat(clf, row, selected_features):\n",
    "    b = clf.intercept_[0]\n",
    "    w1, w2 = clf.coef_.T\n",
    "    b = -b/w2\n",
    "    w1 = -w1/w2\n",
    "\n",
    "    x = np.array(row[selected_features[0]])\n",
    "    y = np.array(row[selected_features[1]])\n",
    "    y_prime = w1*x+b\n",
    "\n",
    "    if y > y_prime: return 1\n",
    "    else: return 0\n",
    "    \n",
    "def pseudo_label_4fea(clf,x1,x2,x3,x4):\n",
    "    w1, w2, w3, w4 = clf.coef_.T\n",
    "    b = clf.intercept_[0]\n",
    "\n",
    "    b = -b/w4\n",
    "    w1 = -w1/w4\n",
    "    w2 = -w2/w4\n",
    "    w3 = -w3/w4\n",
    "    ws = np.squeeze(np.array([w1,w2,w3]))\n",
    "    xs = np.array([x1,x2,x3])\n",
    "    l_prime = np.dot(ws,xs)+b\n",
    "    if x4 > l_prime: return 1\n",
    "    else: return 0\n",
    "\n",
    "# df[\"pseudo_label\"] = df.apply(lambda row : pseudo_label_4fea(clf, row[selected_features[0]],row[selected_features[1]],row[selected_features[2]],row[selected_features[3]]), axis = 1)\n",
    "# plot_3d(df, selected_features, clf, \"pseudo_label\")\n",
    "\n",
    "def plot_2feat(df, selected_features, clf, label=\"label\"):\n",
    "    b = clf.intercept_[0]\n",
    "    w1, w2 = clf.coef_.T\n",
    "    b = -b/w2\n",
    "    w1 = -w1/w2\n",
    "\n",
    "    min_x = min(df[selected_features[0]])\n",
    "    max_x = max(df[selected_features[0]])\n",
    "    xd = np.array([min_x,max_x])\n",
    "    yd = w1*xd + b\n",
    "    plt.plot(xd, yd, 'k', lw=3, ls='--')\n",
    "    plt.scatter(df[selected_features[0]],df[selected_features[1]], c=df[label], s=50,\n",
    "           cmap=\"RdBu\", vmin=-.2, vmax=1.2,\n",
    "           edgecolor=\"white\", linewidth=1)\n",
    "\n",
    "    plt.ylabel(selected_features[1])\n",
    "    plt.xlabel(selected_features[0])\n",
    "    plt.show()\n",
    "\n",
    "def plot_3d(df, selected_features, clf, label=\"label\"):\n",
    "    b = clf.intercept_[0]\n",
    "    w1, w2, w3 = clf.coef_.T\n",
    "    b = -b/w3\n",
    "    w2 = -w2/w3\n",
    "    w1 = -w1/w3\n",
    "    X = np.linspace(-2,2,100)\n",
    "    Y = np.linspace(-2,2,100)\n",
    "    X, Y = np.meshgrid(X, Y)\n",
    "    Z = w1*X + w2*Y + b\n",
    "    fig = plt.figure(figsize=[10,10])\n",
    "    ax = fig.add_subplot(projection='3d')\n",
    "    ax.view_init(10, 30)\n",
    "    colors = [\"r\",\"g\"]\n",
    "    for i in range(len(df)):\n",
    "        ax.scatter(df[selected_features[0]][i], df[selected_features[1]][i], df[selected_features[2]][i], c=colors[df[label][i]])\n",
    "    ax.plot_surface(X, Y, Z, alpha=0.5)\n",
    "    plt.show()"
   ]
  },
  {
   "cell_type": "code",
   "execution_count": null,
   "metadata": {},
   "outputs": [],
   "source": [
    "df = pd.read_csv(\"/net/scratch/tianh-shared/wv_3d/data.csv\")\n",
    "selected_features = [\"head size\",\"body size\"]\n",
    "# clf = LogisticRegression().fit(df[selected_features],df['label'])\n",
    "# df['pseudo_label'] = df.apply(lambda row : pseudo_label_2feat(clf,row, selected_features), axis = 1)\n",
    "# plot_2feat(df, selected_features, clf,\"pseudo_label\")"
   ]
  },
  {
   "cell_type": "code",
   "execution_count": null,
   "metadata": {},
   "outputs": [],
   "source": [
    "colors=[\"r\",\"g\"]\n",
    "for i in range(len(df)):\n",
    "    plt.scatter(df[selected_features[0]][i], df[selected_features[1]][i], c=colors[df[\"label\"][i]])"
   ]
  },
  {
   "cell_type": "code",
   "execution_count": null,
   "metadata": {},
   "outputs": [],
   "source": [
    "w1 = -1\n",
    "b = 0\n",
    "\n",
    "min_x = min(df[selected_features[0]])\n",
    "max_x = max(df[selected_features[0]])\n",
    "xd = np.array([min_x,max_x])\n",
    "yd = w1*xd + b\n",
    "plt.plot(xd, yd, 'k', lw=3, ls='--')\n",
    "plt.scatter(df[selected_features[0]],df[selected_features[1]], c=df[\"label\"], s=50,\n",
    "        cmap=\"RdBu\", vmin=-.2, vmax=1.2,\n",
    "        edgecolor=\"white\", linewidth=1)\n",
    "\n",
    "plt.ylabel(selected_features[1])\n",
    "plt.xlabel(selected_features[0])\n",
    "plt.show()"
   ]
  },
  {
   "cell_type": "code",
   "execution_count": null,
   "metadata": {},
   "outputs": [],
   "source": [
    "df['pseudo_label'] = df.apply(lambda row : pseudo_label(w1, b, row, selected_features), axis = 1)"
   ]
  },
  {
   "cell_type": "code",
   "execution_count": null,
   "metadata": {},
   "outputs": [],
   "source": [
    "for i in range(len(df)):\n",
    "    c = str(df.iloc[i][\"pseudo_label\"])\n",
    "    img = df.iloc[i][\"img_id\"]\n",
    "    src = os.path.join(\"/net/scratch/tianh-shared/wv_3d/imgs\",img)\n",
    "    dst = os.path.join(\"/net/scratch/tianh-shared/wv_3d/2feats\",c)\n",
    "    shutil.copy(src, dst) "
   ]
  },
  {
   "cell_type": "code",
   "execution_count": null,
   "metadata": {},
   "outputs": [],
   "source": [
    "\"0.png\"[:-4]"
   ]
  },
  {
   "cell_type": "code",
   "execution_count": null,
   "metadata": {},
   "outputs": [],
   "source": [
    "df"
   ]
  },
  {
   "cell_type": "code",
   "execution_count": null,
   "metadata": {},
   "outputs": [],
   "source": [
    "data_dir = \"/net/scratch/tianh-shared/wv_3d/2feats/auto_split\"\n",
    "for split in [\"train\",\"valid\",\"test\"]:\n",
    "    split_dir = os.path.join(data_dir, split)\n",
    "    split_imgs = utils.dataset_filenames(split_dir)[:,0]\n",
    "    split_imgs = [int(x.split(\"/\")[-1][:-4]) for x in split_imgs]\n",
    "    print(split_imgs)\n",
    "    break"
   ]
  },
  {
   "cell_type": "markdown",
   "metadata": {},
   "source": [
    "## Human distorted space"
   ]
  },
  {
   "cell_type": "code",
   "execution_count": null,
   "metadata": {},
   "outputs": [],
   "source": [
    "test = np.random.choice(np.arange(len(df)), int(len(df)*0.2), replace=False)\n",
    "train = np.setdiff1d(np.arange(len(df)), test)\n",
    "train_df = df.iloc[train]\n",
    "test_df = df.iloc[test]"
   ]
  },
  {
   "cell_type": "code",
   "execution_count": null,
   "metadata": {},
   "outputs": [],
   "source": [
    "selected_features = [\"head size\",\"body size\", \"tail size\", \"texture\"]\n",
    "train_x = np.array(train_df[selected_features])\n",
    "train_y = np.array(train_df[\"pseudo_label\"])\n",
    "test_x = np.array(test_df[selected_features])\n",
    "test_y = np.array(test_df[\"pseudo_label\"])"
   ]
  },
  {
   "cell_type": "code",
   "execution_count": null,
   "metadata": {},
   "outputs": [],
   "source": [
    "evals.distorted_1nn(train_x, train_y, test_x, test_y, [1,1,0,0], [2,2,2,2])"
   ]
  },
  {
   "cell_type": "code",
   "execution_count": null,
   "metadata": {},
   "outputs": [],
   "source": [
    "evals.distorted_1nn(train_x, train_y, test_x, test_y, [0, 1, 1, 10000], [2,2,2,2])"
   ]
  },
  {
   "cell_type": "code",
   "execution_count": null,
   "metadata": {},
   "outputs": [],
   "source": [
    "scores = []\n",
    "weights = list(itertools.product([0, 1], repeat=4))[1:]\n",
    "scores = [evals.distorted_1nn(train_x, train_y, test_x, test_y, w, [2,2,2,2]) for w in weights]\n",
    "df_search = pd.DataFrame({'weights': weights, \"scores\":scores})\n",
    "df_search"
   ]
  },
  {
   "cell_type": "code",
   "execution_count": null,
   "metadata": {},
   "outputs": [],
   "source": [
    "scores = []\n",
    "weights = list(itertools.product([0, 1], repeat=4))[1:]\n",
    "scores = [evals.distorted_1nn(train_x, train_y, test_x, test_y, w, [1,1,1,1]) for w in weights]\n",
    "df_search = pd.DataFrame({'weights': weights, \"scores\":scores})\n",
    "df_search"
   ]
  },
  {
   "cell_type": "code",
   "execution_count": null,
   "metadata": {},
   "outputs": [],
   "source": [
    "train_x[0]"
   ]
  },
  {
   "cell_type": "code",
   "execution_count": null,
   "metadata": {},
   "outputs": [],
   "source": [
    "evals.weightedPdist(train_x[0], train_x[1], [0,0,0,0],[2,2,2,2])"
   ]
  },
  {
   "cell_type": "code",
   "execution_count": null,
   "metadata": {},
   "outputs": [],
   "source": [
    "w_cands = [-10000, -100, -1, 0, 1, 100, 10000, 0, 0,0,0]\n",
    "weights = []\n",
    "scores = []\n",
    "for _ in range(1000):\n",
    "    w = [random.choice(w_cands) for _ in range(4)]\n",
    "    score = evals.distorted_1nn(train_x, train_y, test_x, test_y, w, [2,2,2,2])\n",
    "    scores.append(score)\n",
    "    weights.append(w)\n",
    "df_search = pd.DataFrame({'weights': weights, \"scores\":scores})\n",
    "df_search.to_csv(\"search.csv\",index=False)"
   ]
  }
 ],
 "metadata": {
  "interpreter": {
   "hash": "2c73f886271c839d0ba877ba8b97f5003c6c6417a734903c0face75895daee34"
  },
  "kernelspec": {
   "display_name": "Python 3.7.11 ('han')",
   "language": "python",
   "name": "python3"
  },
  "language_info": {
   "codemirror_mode": {
    "name": "ipython",
    "version": 3
   },
   "file_extension": ".py",
   "mimetype": "text/x-python",
   "name": "python",
   "nbconvert_exporter": "python",
   "pygments_lexer": "ipython3",
   "version": "3.7.11"
  },
  "orig_nbformat": 4,
  "vscode": {
   "interpreter": {
    "hash": "2c73f886271c839d0ba877ba8b97f5003c6c6417a734903c0face75895daee34"
   }
  }
 },
 "nbformat": 4,
 "nbformat_minor": 2
}
