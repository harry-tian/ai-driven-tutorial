{
 "cells": [
  {
   "cell_type": "code",
   "execution_count": null,
   "metadata": {},
   "outputs": [],
   "source": [
    "%load_ext autoreload\n",
    "%autoreload 2\n",
    "import os, pickle, csv, itertools, shutil, random\n",
    "from sklearn import datasets\n",
    "import numpy as np\n",
    "import matplotlib.pyplot as plt\n",
    "import pandas as pd\n",
    "import torchvision, torch\n",
    "from torchvision import transforms\n",
    "from omegaconf import OmegaConf as oc\n",
    "def normalize(data):return (data-np.min(data)) / (np.max(data)-np.min(data))\n",
    "\n",
    "%matplotlib inline\n",
    "%config InlineBackend.figure_format='retina'\n",
    "\n",
    "import utils.utils as utils\n",
    "import evals.embed_evals as evals\n",
    "import utils.plot_data as plot\n",
    "import utils.gen_triplets as gen\n",
    "import pathlib\n",
    "from sklearn.linear_model import LogisticRegression\n",
    "import warnings\n",
    "warnings.filterwarnings(\"ignore\")"
   ]
  },
  {
   "cell_type": "code",
   "execution_count": null,
   "metadata": {},
   "outputs": [],
   "source": [
    "DATASET_SIZE = 2000\n",
    "INFORMATIVE_F = 2\n",
    "DISTRACTOR_F = 2"
   ]
  },
  {
   "cell_type": "markdown",
   "metadata": {},
   "source": [
    "## informative features"
   ]
  },
  {
   "cell_type": "code",
   "execution_count": null,
   "metadata": {},
   "outputs": [],
   "source": [
    "X,y = datasets.make_blobs(2000, centers=2,cluster_std=2)\n",
    "plt.scatter(X[:,0],X[:,1])"
   ]
  },
  {
   "cell_type": "code",
   "execution_count": null,
   "metadata": {},
   "outputs": [],
   "source": [
    "file = \"blob_2.npz\"\n",
    "X = np.load(file)['X']\n",
    "y = np.load(file)['y']"
   ]
  },
  {
   "cell_type": "code",
   "execution_count": null,
   "metadata": {},
   "outputs": [],
   "source": [
    "w=-6\n",
    "b=3.7\n",
    "xd = np.array([-5,5])\n",
    "# yd = w*xd + b\n",
    "# plt.plot(xd, yd, 'k', lw=3, ls='--')\n",
    "plt.scatter(X[:,0],X[:,1], s=50,c=y,\n",
    "        cmap=\"RdBu\", vmin=-.2, vmax=1.2,\n",
    "        edgecolor=\"white\", linewidth=1)\n",
    "plt.xlim(min(X[:,0]),max(X[:,0]))\n",
    "plt.ylim(min(X[:,1]),max(X[:,1]))\n",
    "plt.show()"
   ]
  },
  {
   "cell_type": "markdown",
   "metadata": {},
   "source": [
    "## distracting features"
   ]
  },
  {
   "cell_type": "code",
   "execution_count": null,
   "metadata": {},
   "outputs": [],
   "source": [
    "x3x4 = np.random.random([DATASET_SIZE,DISTRACTOR_F])\n",
    "X = np.hstack([X,x3x4])"
   ]
  },
  {
   "cell_type": "code",
   "execution_count": null,
   "metadata": {},
   "outputs": [],
   "source": [
    "np.savez(file, X=X, y=y)"
   ]
  },
  {
   "cell_type": "markdown",
   "metadata": {},
   "source": [
    "## gen df"
   ]
  },
  {
   "cell_type": "code",
   "execution_count": null,
   "metadata": {},
   "outputs": [],
   "source": [
    "features = [\"head size\",\"body size\",\"tail size\",\"texture\"]\n",
    "df = pd.DataFrame(X, columns=features)\n",
    "df.insert(0, \"label\", y)"
   ]
  },
  {
   "cell_type": "code",
   "execution_count": null,
   "metadata": {},
   "outputs": [],
   "source": [
    "img_id = []\n",
    "for i in range(DATASET_SIZE):\n",
    "    if i < 10:\n",
    "        img = f\"00{i}.png\"\n",
    "    elif i >= 10 and i < 100:\n",
    "        img = f\"0{i}.png\"\n",
    "    else:\n",
    "        img = f\"{i}.png\"\n",
    "    img_id.append(img)\n",
    "df.insert(0, \"img_id\", img_id)"
   ]
  },
  {
   "cell_type": "code",
   "execution_count": null,
   "metadata": {},
   "outputs": [],
   "source": [
    "df_file = \"datasets/wv_3d_blob_2/df.csv\"\n",
    "df.to_csv(df_file,index=False)"
   ]
  },
  {
   "cell_type": "markdown",
   "metadata": {},
   "source": [
    "## borderless plot"
   ]
  },
  {
   "cell_type": "code",
   "execution_count": null,
   "metadata": {},
   "outputs": [],
   "source": [
    "df = pd.read_csv(df_file)\n",
    "features = [\"head size\",\"body size\"]\n",
    "assert(len(df)==DATASET_SIZE)"
   ]
  },
  {
   "cell_type": "code",
   "execution_count": null,
   "metadata": {},
   "outputs": [],
   "source": [
    "plt.scatter(df[features[0]],df[features[1]], c=df[\"label\"], s=50,\n",
    "        cmap=\"RdBu\", vmin=-.2, vmax=1.2,\n",
    "        edgecolor=\"white\", linewidth=1)\n",
    "plt.tick_params(axis='both', which='both', bottom=False, top=False, labelbottom=False, right=False, left=False, labelleft=False)"
   ]
  },
  {
   "cell_type": "markdown",
   "metadata": {},
   "source": [
    "## data splitting"
   ]
  },
  {
   "cell_type": "code",
   "execution_count": null,
   "metadata": {},
   "outputs": [],
   "source": [
    "data_dir = \"datasets/wv_3d_blob_2\""
   ]
  },
  {
   "cell_type": "code",
   "execution_count": null,
   "metadata": {},
   "outputs": [],
   "source": [
    "raw_data_dir = os.path.join(data_dir, \"raw_imgs\")\n",
    "split_dir =  os.path.join(data_dir, \"data\")\n",
    "for i in range(DATASET_SIZE):\n",
    "    img_id = df.iloc[i][\"img_id\"]\n",
    "    label = df.iloc[i][\"label\"]\n",
    "    src = os.path.join(raw_data_dir,img_id)\n",
    "    dst = os.path.join(split_dir,str(label))\n",
    "    pathlib.Path(dst).mkdir(parents=True, exist_ok=True)\n",
    "    shutil.copy(src, dst)"
   ]
  },
  {
   "cell_type": "code",
   "execution_count": null,
   "metadata": {},
   "outputs": [],
   "source": [
    "total = np.arange(DATASET_SIZE)\n",
    "valid = np.random.choice(total, int(DATASET_SIZE*0.2), replace=False)\n",
    "total = np.setdiff1d(total, valid)\n",
    "test = np.random.choice(total, int(DATASET_SIZE*0.2), replace=False)\n",
    "total = np.setdiff1d(total, test)\n",
    "train = total\n",
    "train_df = df.iloc[train]\n",
    "valid_df = df.iloc[valid]\n",
    "test_df = df.iloc[test]"
   ]
  },
  {
   "cell_type": "code",
   "execution_count": null,
   "metadata": {},
   "outputs": [],
   "source": [
    "for split, df in zip([\"train\",\"valid\",\"test\"],[train_df,valid_df,test_df]):\n",
    "    for i in range(len(df)):\n",
    "        img_id = df.iloc[i][\"img_id\"]\n",
    "        label = df.iloc[i][\"label\"]\n",
    "        src = os.path.join(raw_data_dir,img_id)\n",
    "        dst = os.path.join(data_dir,split,str(label))\n",
    "        pathlib.Path(dst).mkdir(parents=True, exist_ok=True)\n",
    "        shutil.copy(src,dst)"
   ]
  },
  {
   "cell_type": "markdown",
   "metadata": {},
   "source": [
    "## synthetic features.pkl"
   ]
  },
  {
   "cell_type": "code",
   "execution_count": null,
   "metadata": {},
   "outputs": [],
   "source": [
    "data_dir = \"datasets/wv_3d_blob_2\"\n",
    "df = pd.read_csv(\"datasets/wv_3d_blob_2/df.csv\")"
   ]
  },
  {
   "cell_type": "code",
   "execution_count": null,
   "metadata": {},
   "outputs": [],
   "source": [
    "for split in [\"train\",\"valid\",\"test\"]:\n",
    "    files = utils.dataset_filenames(os.path.join(data_dir,split))\n",
    "    files = [x.split(\"/\")[-1] for x in files[:,0]]\n",
    "    features = np.array([list(df[df[\"img_id\"]==f][[\"head size\",\"body size\",\"tail size\",\"texture\"]].iloc[0]) for f in files])\n",
    "    pickle.dump(features,open(f\"{data_dir}/{split}_features.pkl\",\"wb\"))"
   ]
  },
  {
   "cell_type": "code",
   "execution_count": null,
   "metadata": {},
   "outputs": [],
   "source": []
  }
 ],
 "metadata": {
  "interpreter": {
   "hash": "2c73f886271c839d0ba877ba8b97f5003c6c6417a734903c0face75895daee34"
  },
  "kernelspec": {
   "display_name": "Python 3.7.11 ('han')",
   "language": "python",
   "name": "python3"
  },
  "language_info": {
   "codemirror_mode": {
    "name": "ipython",
    "version": 3
   },
   "file_extension": ".py",
   "mimetype": "text/x-python",
   "name": "python",
   "nbconvert_exporter": "python",
   "pygments_lexer": "ipython3",
   "version": "3.7.11"
  },
  "orig_nbformat": 4,
  "vscode": {
   "interpreter": {
    "hash": "2c73f886271c839d0ba877ba8b97f5003c6c6417a734903c0face75895daee34"
   }
  }
 },
 "nbformat": 4,
 "nbformat_minor": 2
}
