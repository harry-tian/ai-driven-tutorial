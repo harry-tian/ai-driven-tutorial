{
 "cells": [
  {
   "cell_type": "code",
   "execution_count": 1,
   "metadata": {},
   "outputs": [],
   "source": [
    "import os, pickle\n",
    "import numpy as np\n",
    "\n",
    "import warnings\n",
    "warnings.filterwarnings(\"ignore\")\n",
    "\n",
    "%matplotlib inline\n",
    "%config InlineBackend.figure_format='retina'\n",
    "\n",
    "import matplotlib.pyplot as plt\n",
    "import evals.teaching_evals as evals\n",
    "import pickle\n",
    "import utils\n",
    "import figs.plot_data as plot\n",
    "import algorithms.teaching_algs as algs\n",
    "y_train = np.array([0]*80+[1]*80)\n",
    "y_valid = np.array([0]*20+[1]*20)\n",
    "import seaborn as sns"
   ]
  },
  {
   "cell_type": "markdown",
   "metadata": {},
   "source": [
    "## load data"
   ]
  },
  {
   "cell_type": "code",
   "execution_count": 14,
   "metadata": {},
   "outputs": [],
   "source": [
    "dwac_train = pickle.load(open(\"embeds/bm/dwac_train_emb10.merged10.pkl\",\"rb\"))\n",
    "dwac_valid = pickle.load(open(\"embeds/bm/dwac_valid_emb10.merged10.pkl\",\"rb\"))\n",
    "resn_train = pickle.load(open(\"embeds/bm/resn_train_emb10.pkl\",\"rb\"))\n",
    "resn_valid = pickle.load(open(\"embeds/bm/resn_valid_emb10.pkl\",\"rb\"))\n",
    "TN_train = pickle.load(open(\"embeds/bm/human/TN_train_emb10.pkl\",\"rb\"))\n",
    "TN_valid = pickle.load(open(\"embeds/bm/human/TN_valid_emb10.pkl\",\"rb\"))\n",
    "MTL_train = pickle.load(open(\"embeds/bm/human/MTL.BCETN_train_emb10.pkl\",\"rb\"))\n",
    "MTL_valid = pickle.load(open(\"embeds/bm/human/MTL.BCETN_valid_emb10.pkl\",\"rb\"))"
   ]
  },
  {
   "cell_type": "code",
   "execution_count": null,
   "metadata": {},
   "outputs": [],
   "source": [
    "embeds = {\"dwac\": (dwac_train,dwac_valid), \n",
    "\"resn\": (resn_train,resn_valid), \n",
    "\"TN_human\":(TN_train,TN_valid),\n",
    "\"MTL_human\": (MTL_train,MTL_valid)}\n",
    "legend = ['full', 'random', 'random_ci'] + list(embeds.keys())"
   ]
  },
  {
   "cell_type": "markdown",
   "metadata": {},
   "source": [
    "## knn using model embeds"
   ]
  },
  {
   "cell_type": "code",
   "execution_count": null,
   "metadata": {},
   "outputs": [],
   "source": [
    "def get_model_knn_scores(data, m_range, selection_alg, k=1, args=None):\n",
    "    if selection_alg == \"protogreedy\":\n",
    "        selection_alg = algs.protogreedy\n",
    "    elif selection_alg == \"prototriplet\":\n",
    "        selection_alg = algs.prototriplet\n",
    "\n",
    "    x_train, y_train, x_valid, y_valid = data\n",
    "    prototype_knn_scores = []\n",
    "    for m in m_range:\n",
    "        prototype_idx = selection_alg(x_train, m, args)\n",
    "        knn_score = evals.get_knn_score(x_train[prototype_idx], y_train[prototype_idx], x_valid, y_valid, k=k)\n",
    "        prototype_knn_scores.append(knn_score)\n",
    "\n",
    "    print(prototype_knn_scores)\n",
    "    return prototype_knn_scores"
   ]
  },
  {
   "cell_type": "code",
   "execution_count": 2,
   "metadata": {},
   "outputs": [],
   "source": [
    "m_range = np.arange(4,21)"
   ]
  },
  {
   "cell_type": "code",
   "execution_count": null,
   "metadata": {},
   "outputs": [],
   "source": [
    "all_scores = {}\n",
    "for model, (x_train,x_valid) in embeds.items():\n",
    "    scores = {}\n",
    "    data = x_train, y_train, x_valid, y_valid\n",
    "    scores[\"full\"],  scores[\"random_scores\"] = evals.get_full_random(data, m_range)\n",
    "    scores[\"protogreedy\"] = get_model_knn_scores(data, m_range, \"protogreedy\")\n",
    "    scores[\"prototriplet_topk=10\"] = get_model_knn_scores(data, m_range, \"prototriplet\", args={\"topk\":10})\n",
    "    scores[\"prototriplet_topk=100\"] = get_model_knn_scores(data, m_range, \"prototriplet\", args={\"topk\":100})\n",
    "    all_scores[model] = scores"
   ]
  },
  {
   "cell_type": "code",
   "execution_count": null,
   "metadata": {},
   "outputs": [],
   "source": [
    "\n",
    "def vis_knn_scores_multiplot(m_range, allall_scores, subtitles=None, title=None, save=False, save_dir=None):\n",
    "    n = len(allall_scores)\n",
    "    fig, ax = plt.subplots(2,2, figsize=(8*2, 6*2), sharey=True)\n",
    "    for j, (model, all_score) in enumerate (allall_scores.items()):    \n",
    "        ax[j//2][j%2].axhline(all_score[\"full\"] , c='black', linewidth=2, linestyle=\"solid\", label=\"full score\")  \n",
    "        random_knn_scores, random_knn_ci = all_score[\"random_scores\"]\n",
    "        ax[j//2][j%2].plot(m_range, random_knn_scores, linewidth=2, linestyle=\"dashed\", label=\"random score\")\n",
    "        ax[j//2][j%2].fill_between(m_range, random_knn_scores + random_knn_ci / 2, random_knn_scores - random_knn_ci / 2, alpha=0.5)\n",
    "        for key, score in all_score.items():\n",
    "            if key == \"full\" or key == \"random_scores\": continue\n",
    "            ax[j//2][j%2].plot(m_range, score, linewidth=4, label=key)\n",
    "\n",
    "        ax[j//2][j%2].set_title(model, fontsize=25)\n",
    "\n",
    "    fig.supxlabel(\"number of examples\", y=0.05,fontsize=25)\n",
    "    fig.supylabel(\"acc\",x=0.09, fontsize=25)\n",
    "    plt.legend(loc='upper right', bbox_to_anchor=(1, -0.2),fancybox=True, shadow=True, ncol=7, fontsize=15)\n",
    "\n",
    "    if title: fig.suptitle(title, fontsize=30)\n",
    "    if save:\n",
    "        if not save_dir: save_dir = f\"figs/{title}.pdf\"\n",
    "        plt.savefig(save_dir, format=\"pdf\", bbox_inches=\"tight\")\n",
    "\n",
    "vis_knn_scores_multiplot(m_range,all_scores, save=True, save_dir=\"figs/model_knn.pdf\")"
   ]
  },
  {
   "cell_type": "markdown",
   "metadata": {},
   "source": [
    "## knn using human triplets"
   ]
  },
  {
   "cell_type": "code",
   "execution_count": null,
   "metadata": {},
   "outputs": [],
   "source": [
    "train_embs = np.array(pickle.load(open(\"embeds/bm/human/TN_train_emb10.pkl\",\"rb\")))\n",
    "valid_embs = np.array(pickle.load(open(\"embeds/bm/human/TN_valid_emb10.pkl\",\"rb\")))\n",
    "def get_htriplet_knn_scores(X, m_range, selection_alg, k=1, args=None):\n",
    "    if selection_alg == \"protogreedy\":\n",
    "        selection_alg = algs.protogreedy\n",
    "    elif selection_alg == \"tripet_greedy\":\n",
    "        selection_alg = algs.tripet_greedy\n",
    "\n",
    "    prototype_knn_scores = []\n",
    "    align_scores = []\n",
    "    for m in m_range:\n",
    "        prototype_idx = selection_alg(X, m, args)\n",
    "        knn_score = evals.get_knn_score(train_embs[prototype_idx], y_train[prototype_idx], valid_embs, y_valid, k=k)\n",
    "        prototype_knn_scores.append(knn_score)\n",
    "        align_scores.append(evals.human_1NN_align(X,prototype_idx))\n",
    "\n",
    "    return prototype_knn_scores, align_scores"
   ]
  },
  {
   "cell_type": "code",
   "execution_count": 20,
   "metadata": {},
   "outputs": [],
   "source": [
    "m_range=np.arange(3,21)\n",
    "def get_nn_greedy(k=1):\n",
    "    train = MTL_train\n",
    "    valid = MTL_valid\n",
    "    prototype_knn_scores = []\n",
    "    for m in m_range:\n",
    "        prototype_idx = algs.nngreedy((train,valid), m, (y_train,y_valid))\n",
    "        knn_score = evals.get_knn_score(TN_train[prototype_idx], y_train[prototype_idx], TN_valid, y_valid, k=k)\n",
    "\n",
    "        prototype_knn_scores.append(knn_score)\n",
    "\n",
    "    return prototype_knn_scores"
   ]
  },
  {
   "cell_type": "code",
   "execution_count": 21,
   "metadata": {},
   "outputs": [
    {
     "data": {
      "text/plain": [
       "[0.8,\n",
       " 0.8,\n",
       " 0.8,\n",
       " 0.8,\n",
       " 0.8,\n",
       " 0.8,\n",
       " 0.8,\n",
       " 0.8,\n",
       " 0.8,\n",
       " 0.6,\n",
       " 0.6,\n",
       " 0.6,\n",
       " 0.6,\n",
       " 0.6,\n",
       " 0.6,\n",
       " 0.6,\n",
       " 0.6,\n",
       " 0.6]"
      ]
     },
     "execution_count": 21,
     "metadata": {},
     "output_type": "execute_result"
    }
   ],
   "source": [
    "get_nn_greedy()"
   ]
  },
  {
   "cell_type": "code",
   "execution_count": null,
   "metadata": {},
   "outputs": [],
   "source": [
    "m_range = np.arange(4,21)\n",
    "data = (train_embs, y_train, valid_embs, y_valid)\n",
    "full_score,  random_scores = evals.get_full_random(data, m_range)"
   ]
  },
  {
   "cell_type": "code",
   "execution_count": null,
   "metadata": {},
   "outputs": [],
   "source": [
    "protog_scores = {\"full_score\":full_score, \"random_scores\":random_scores}\n",
    "protog_align = {}\n",
    "selection_alg = \"protogreedy\"\n",
    "for model, embed in embeds.items():\n",
    "    protog_scores[model], protog_align[model] = get_htriplet_knn_scores(embed[0], m_range, selection_alg=selection_alg)"
   ]
  },
  {
   "cell_type": "code",
   "execution_count": null,
   "metadata": {},
   "outputs": [],
   "source": [
    "protot10_scores = {\"full_score\":full_score, \"random_scores\":random_scores}\n",
    "protot10_align = {}\n",
    "selection_alg = \"prototriplet\"\n",
    "args = {\"topk\":10}\n",
    "for model, embed in embeds.items():\n",
    "    protot10_scores[model], protot10_align[model] = get_htriplet_knn_scores(embed[0], m_range, selection_alg, args=args)"
   ]
  },
  {
   "cell_type": "code",
   "execution_count": null,
   "metadata": {},
   "outputs": [],
   "source": [
    "protot100_scores = {\"full_score\":full_score, \"random_scores\":random_scores}\n",
    "protot100_align = {}\n",
    "selection_alg = \"prototriplet\"\n",
    "args = {\"topk\":100}\n",
    "for model, embed in embeds.items():\n",
    "    protot100_scores[model], protot100_align[model] = get_htriplet_knn_scores(embed[0], m_range, selection_alg, args=args)"
   ]
  },
  {
   "cell_type": "code",
   "execution_count": null,
   "metadata": {},
   "outputs": [],
   "source": [
    "plot.vis_knn_scores_multiplot(m_range, [protog_scores, protot10_scores, protot100_scores], \n",
    "subtitles=[\"protogreedy\",\"tripletgreedy_topk=10\",\"tripletgreedy_topk=100\"],\n",
    "save=True, save_dir=\"figs/KNN_TN.pdf\")"
   ]
  },
  {
   "cell_type": "code",
   "execution_count": null,
   "metadata": {},
   "outputs": [],
   "source": [
    "\n",
    "def vis_align_multiplot(m_range, allall_scores, subtitles=None, title=None, save=False, save_dir=None):\n",
    "    n = len(allall_scores)\n",
    "    fig, ax = plt.subplots(1, n, figsize=(8*n, 6), sharey=True)\n",
    "    for j, all_scores in enumerate(allall_scores):    \n",
    "        for model, score in all_scores.items():\n",
    "            ax[j].plot(m_range, score, linewidth=4, label=model)\n",
    "\n",
    "        if subtitles: ax[j].set_title(subtitles[j], fontsize=25)\n",
    "\n",
    "    fig.supxlabel(\"number of examples\", fontsize=25)\n",
    "    fig.supylabel(\"align score\",x=0.09, fontsize=25)\n",
    "    plt.legend(loc='upper right', bbox_to_anchor=(0.15, -0.12),fancybox=True, shadow=True, ncol=7, fontsize=20)\n",
    "\n",
    "    if title: fig.suptitle(title, fontsize=30)\n",
    "    if save:\n",
    "        if not save_dir: save_dir = f\"figs/{title}.pdf\"\n",
    "        plt.savefig(save_dir, format=\"pdf\", bbox_inches=\"tight\")\n"
   ]
  },
  {
   "cell_type": "code",
   "execution_count": null,
   "metadata": {},
   "outputs": [],
   "source": [
    "vis_align_multiplot(m_range,[protog_align, protot10_align, protot100_align],\n",
    "subtitles=[\"protogreedy\",\"tripletgreedy_topk=10\",\"tripletgreedy_topk=100\"],\n",
    "save=True, save_dir=\"figs/TN_align.pdf\")"
   ]
  },
  {
   "cell_type": "code",
   "execution_count": null,
   "metadata": {},
   "outputs": [],
   "source": [
    "x = plot.tsne2(TN_train)\n",
    "plot.vis_data_multiplot([(x,y_train),(x,y_train),(x,y_train)], [\"butterfly\",\"moth\"], subtitles=[\"protogreedy\",\"prototriplet_topk=10\",\"prototriplet_topk=100\"], \n",
    "prototype_idx=[algs.prototriplet(TN_train, 10, {\"topk\":10}),\n",
    "algs.prototriplet(TN_train, 10, {\"topk\":100}),\n",
    "algs.protogreedy(TN_train, 10)], \n",
    "save=True, save_dir=\"figs/bm_TN_m=10.pdf\")"
   ]
  },
  {
   "cell_type": "code",
   "execution_count": null,
   "metadata": {},
   "outputs": [],
   "source": [
    "plot.vis_data_multiplot([(x,y_train),(x,y_train),(x,y_train)], [\"butterfly\",\"moth\"], subtitles=[\"protogreedy\",\"prototriplet_topk=10\",\"prototriplet_topk=100\"], \n",
    "prototype_idx=[algs.prototriplet(MTL_train, 10, {\"topk\":10}),\n",
    "algs.prototriplet(MTL_train, 10, {\"topk\":100}),\n",
    "algs.protogreedy(MTL_train, 10)], \n",
    "save=True, save_dir=\"figs/bm_MTL_m=10.pdf\")"
   ]
  }
 ],
 "metadata": {
  "interpreter": {
   "hash": "6cc16f6c2e0c4a76d01357cefbbe61554f489b2ed194d62da059a4313aaf88b2"
  },
  "kernelspec": {
   "display_name": "Python 3.6.13 64-bit ('aix360': conda)",
   "name": "python3"
  },
  "language_info": {
   "codemirror_mode": {
    "name": "ipython",
    "version": 3
   },
   "file_extension": ".py",
   "mimetype": "text/x-python",
   "name": "python",
   "nbconvert_exporter": "python",
   "pygments_lexer": "ipython3",
   "version": "3.7.11"
  },
  "orig_nbformat": 4
 },
 "nbformat": 4,
 "nbformat_minor": 2
}
