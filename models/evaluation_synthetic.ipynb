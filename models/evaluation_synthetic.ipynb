{
 "cells": [
  {
   "cell_type": "code",
   "execution_count": 20,
   "metadata": {},
   "outputs": [],
   "source": [
    "from TN import TN\n",
    "# from pydoc import locate\n",
    "import os\n",
    "import utils\n",
    "import torchvision, torch\n",
    "import numpy as np\n",
    "import pickle\n",
    "from sklearn.metrics.pairwise import euclidean_distances\n",
    "# import argparse, pickle\n",
    "# model_ckpt = '/net/scratch/chacha/explain_teach/models/results/chacha-syn-htriplets/2ul5cslk/checkpoints/epoch=117-valid_loss=0.00.ckpt'\n",
    "# model_ckpt = '/net/scratch/chacha/explain_teach/models/results/synthetic_MTL/3sk1rynk/checkpoints/best_model.ckpt.'\n",
    "\n",
    "# args = argparse.Namespace(embed_dim=10)\n",
    "# model = TN(args)\n",
    "\n",
    "# model = model.load_from_checkpoint(model_ckpt, **vars(args)).to(\"cuda\")\n",
    "# model.eval()\n",
    "\n",
    "\n",
    "# dict_args = {'gpus': -1, 'seed': 42, 'max_epochs': 200, 'learning_rate': 0.0001, 'train_batch_size': 120, 'eval_batch_size': 64, 'dataloader_num_workers': 4, 'num_class': 2, 'train_dir': '/net/scratch/chacha/data/weevil_vespula/train', 'valid_dir': '/net/scratch/chacha/data/weevil_vespula/valid', 'test_dir': '/net/scratch/chacha/data/weevil_vespula/test', 'wandb_group': 'unpretrained', 'wandb_mode': 'online', 'wandb_project': 'chacha-syn-htriplets', 'wandb_entity': 'ai-driven-tutorial', 'wandb_name': 'TN_syn', 'do_train': True, 'do_test': True, 'pretrained': False, 'embed_dim': 10, 'transform': 'wv', 'train_triplets': '/net/scratch/chacha/data/weevil_vespula/train_triplet.pkl', 'valid_triplets': '/net/scratch/chacha/data/weevil_vespula/valid_triplet.pkl', 'test_triplets': '/net/scratch/chacha/data/weevil_vespula/test_triplet.pkl', 'subset': False}\n",
    "# model = TN(**dict_args)\n",
    "\n",
    "# model = MyLightningModule(hparams)\n",
    "# new_model = TN.load_from_checkpoint(checkpoint_path=model_ckpt)\n",
    "# model = locate(model_ckpt)\n",
    "# model = model.load_from_checkpoint(model_ckpt, **vars(args)).to(\"cuda\")"
   ]
  },
  {
   "cell_type": "code",
   "execution_count": 50,
   "metadata": {},
   "outputs": [],
   "source": [
    "\n",
    "data_parent_dir = \"/net/scratch/chacha/data/weevil_vespula\"\n",
    "split = 'train'\n",
    "data_dir = os.path.join(data_parent_dir,split)\n",
    "transform = utils.get_transform('wv', aug=False)\n",
    "dataset = torchvision.datasets.ImageFolder(data_dir, transform=transform)\n",
    "dataloader = torch.utils.data.DataLoader(dataset, batch_size=len(dataset), num_workers=4)\n",
    "groundtruth_train_labels = list(iter(dataloader))[0][1].numpy()\n",
    "\n",
    "split = 'test'\n",
    "data_dir = os.path.join(data_parent_dir,split)\n",
    "transform = utils.get_transform('wv', aug=False)\n",
    "dataset = torchvision.datasets.ImageFolder(data_dir, transform=transform)\n",
    "dataloader = torch.utils.data.DataLoader(dataset, batch_size=len(dataset), num_workers=4)\n",
    "groundtruth_test_labels = list(iter(dataloader))[0][1].numpy()\n",
    "\n",
    "\n",
    "# if len(dataset) <= 128:\n",
    "#     dataloader = torch.utils.data.DataLoader(dataset, batch_size=len(dataset), num_workers=4)\n",
    "#     embeds = model.embed(list(iter(dataloader))[0][0].cuda())\n",
    "#     embeds = embeds.cpu().detach().numpy()\n",
    "# else:\n",
    "#     dataloader = torch.utils.data.DataLoader(dataset, batch_size=128, num_workers=4)"
   ]
  },
  {
   "cell_type": "markdown",
   "metadata": {},
   "source": [
    "## 1NN accuracy"
   ]
  },
  {
   "cell_type": "code",
   "execution_count": 16,
   "metadata": {},
   "outputs": [],
   "source": [
    "wv_tn_train = np.array(pickle.load(open(\"../embeds/wv/TN_train_emb10.pkl\", \"rb\")))\n",
    "wv_tn_valid = np.array(pickle.load(open(\"../embeds/wv/TN_valid_emb10.pkl\", \"rb\")))\n",
    "wv_tn_test = np.array(pickle.load(open(\"../embeds/wv/TN_test_emb10.pkl\", \"rb\")))\n"
   ]
  },
  {
   "cell_type": "code",
   "execution_count": 22,
   "metadata": {},
   "outputs": [],
   "source": [
    "## for each test embeds, find nearest neighbor in train embeds retrieve the nearest neighbor label\n",
    "# for test in wv_tn_test:\n",
    "#     print(test)\n",
    "#     dists = euclidean_distances(test, wv_tn_train)\n",
    "#     print(dists)\n",
    "#     # np.argsort(dist[index])[1]\n",
    "#     # find_1nn(wv_tn_train,test)\n",
    "#     break\n",
    "dists = euclidean_distances(wv_tn_test, wv_tn_train)"
   ]
  },
  {
   "cell_type": "code",
   "execution_count": 54,
   "metadata": {},
   "outputs": [],
   "source": [
    "# dists[0][120]\n",
    "# groundtruth_labels\n",
    "# np.argmin(dists[0], axis=0)\n",
    "# min(dists[0])"
   ]
  },
  {
   "cell_type": "code",
   "execution_count": 53,
   "metadata": {},
   "outputs": [
    {
     "data": {
      "text/plain": [
       "0.925"
      ]
     },
     "execution_count": 53,
     "metadata": {},
     "output_type": "execute_result"
    }
   ],
   "source": [
    "acc = 0\n",
    "for i in range(dists.shape[0]):\n",
    "    ##iterate over 40 test examples to retrieve the nearest neighbor\n",
    "    min_index = np.argmin(dists[i], axis=0)\n",
    "    this_label = groundtruth_train_labels[min_index]\n",
    "    test_label = groundtruth_test_labels[i] ##\n",
    "    if this_label == test_label:\n",
    "        acc += 1\n",
    "acc/dists.shape[0]"
   ]
  },
  {
   "cell_type": "markdown",
   "metadata": {},
   "source": [
    "## Triplets acc"
   ]
  },
  {
   "cell_type": "code",
   "execution_count": 67,
   "metadata": {},
   "outputs": [],
   "source": [
    "triplet_file_path = '/net/scratch/chacha/data/weevil_vespula/test_triplet.pkl'\n",
    "wv_test_triplet = np.array(pickle.load(open(triplet_file_path, \"rb\")))\n",
    "def euc_dist(x, y): return np.sqrt(np.dot(x, x) - 2 * np.dot(x, y) + np.dot(y, y))"
   ]
  },
  {
   "cell_type": "code",
   "execution_count": 78,
   "metadata": {},
   "outputs": [
    {
     "data": {
      "text/plain": [
       "0.9174"
      ]
     },
     "execution_count": 78,
     "metadata": {},
     "output_type": "execute_result"
    }
   ],
   "source": [
    "trip_acc = 0\n",
    "for trip in wv_test_triplet:\n",
    "    a,p,n = trip\n",
    "    dist_ap = euc_dist(wv_tn_test[a],wv_tn_test[p])\n",
    "    dist_an = euc_dist(wv_tn_test[a],wv_tn_test[n])\n",
    "    if dist_ap <= dist_an:\n",
    "        trip_acc +=1\n",
    "    # break\n",
    "trip_acc/wv_test_triplet.shape[0]"
   ]
  },
  {
   "cell_type": "code",
   "execution_count": 79,
   "metadata": {},
   "outputs": [
    {
     "data": {
      "text/plain": [
       "9174"
      ]
     },
     "execution_count": 79,
     "metadata": {},
     "output_type": "execute_result"
    }
   ],
   "source": [
    "# print(a,p,n)\n",
    "# print(dist_ap,dist_an)\n",
    "# print(wv_tn_test[a])\n",
    "# print(wv_tn_test[p])\n",
    "# print(wv_tn_test[n])\n",
    "trip_acc"
   ]
  },
  {
   "cell_type": "code",
   "execution_count": 80,
   "metadata": {},
   "outputs": [
    {
     "data": {
      "text/plain": [
       "(10000, 3)"
      ]
     },
     "execution_count": 80,
     "metadata": {},
     "output_type": "execute_result"
    }
   ],
   "source": [
    "wv_test_triplet.shape"
   ]
  },
  {
   "cell_type": "code",
   "execution_count": null,
   "metadata": {},
   "outputs": [],
   "source": []
  }
 ],
 "metadata": {
  "interpreter": {
   "hash": "d481768984fd22ffaad5ac1001b63c49ae40850344d87dce2c6389b48859204f"
  },
  "kernelspec": {
   "display_name": "Python 3.7.11 ('teaching': conda)",
   "language": "python",
   "name": "python3"
  },
  "language_info": {
   "codemirror_mode": {
    "name": "ipython",
    "version": 3
   },
   "file_extension": ".py",
   "mimetype": "text/x-python",
   "name": "python",
   "nbconvert_exporter": "python",
   "pygments_lexer": "ipython3",
   "version": "3.7.11"
  },
  "orig_nbformat": 4
 },
 "nbformat": 4,
 "nbformat_minor": 2
}
