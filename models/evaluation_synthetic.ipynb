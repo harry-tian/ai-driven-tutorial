{
 "cells": [
  {
   "cell_type": "code",
   "execution_count": 2,
   "metadata": {},
   "outputs": [],
   "source": [
    "from TN import TN\n",
    "from pydoc import locate\n",
    "import argparse, pickle\n",
    "# model_ckpt = '/net/scratch/chacha/explain_teach/models/results/chacha-syn-htriplets/2ul5cslk/checkpoints/epoch=117-valid_loss=0.00.ckpt'\n",
    "model_ckpt = '/net/scratch/chacha/explain_teach/models/results/synthetic_MTL/3sk1rynk/checkpoints/best_model.ckpt.'\n",
    "\n",
    "args = argparse.Namespace(embed_dim=10)\n",
    "model = locate('TN.TN')\n",
    "\n",
    "model = model.load_from_checkpoint(model_ckpt, **vars(args)).to(\"cuda\")\n",
    "model.eval()\n",
    "\n",
    "\n",
    "# dict_args = {'gpus': 1, 'seed': 42, 'max_epochs': 200, 'learning_rate': 0.0001, 'train_batch_size': 120, 'eval_batch_size': 64, 'dataloader_num_workers': 4, 'num_class': 2, 'train_dir': '/net/scratch/chacha/data/weevil_vespula/train', 'valid_dir': '/net/scratch/chacha/data/weevil_vespula/valid', 'test_dir': '/net/scratch/chacha/data/weevil_vespula/test', 'wandb_group': 'unpretrained', 'wandb_mode': 'online', 'wandb_project': 'chacha-syn-htriplets', 'wandb_entity': 'ai-driven-tutorial', 'wandb_name': 'TN_syn', 'do_train': True, 'do_test': True, 'pretrained': False, 'embed_dim': 10, 'transform': 'wv', 'train_triplets': '/net/scratch/chacha/data/weevil_vespula/train_triplet.pkl', 'valid_triplets': '/net/scratch/chacha/data/weevil_vespula/valid_triplet.pkl', 'test_triplets': '/net/scratch/chacha/data/weevil_vespula/test_triplet.pkl', 'subset': False}\n",
    "# model = TN(**dict_args)\n",
    "\n",
    "# model = MyLightningModule(hparams)\n",
    "# new_model = TN.load_from_checkpoint(checkpoint_path=model_ckpt)\n",
    "# model = locate(model_ckpt)\n",
    "# model = model.load_from_checkpoint(model_ckpt, **vars(args)).to(\"cuda\")"
   ]
  },
  {
   "cell_type": "code",
   "execution_count": null,
   "metadata": {},
   "outputs": [],
   "source": []
  }
 ],
 "metadata": {
  "interpreter": {
   "hash": "d481768984fd22ffaad5ac1001b63c49ae40850344d87dce2c6389b48859204f"
  },
  "kernelspec": {
   "display_name": "Python 3.7.11 ('teaching': conda)",
   "language": "python",
   "name": "python3"
  },
  "language_info": {
   "codemirror_mode": {
    "name": "ipython",
    "version": 3
   },
   "file_extension": ".py",
   "mimetype": "text/x-python",
   "name": "python",
   "nbconvert_exporter": "python",
   "pygments_lexer": "ipython3",
   "version": "3.7.11"
  },
  "orig_nbformat": 4
 },
 "nbformat": 4,
 "nbformat_minor": 2
}
