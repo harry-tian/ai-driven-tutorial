{
 "cells": [
  {
   "cell_type": "code",
   "execution_count": 1,
   "metadata": {},
   "outputs": [],
   "source": [
    "# -*- coding: utf-8 -*-\n",
    "import os, pickle\n",
    "import argparse\n",
    "\n",
    "import numpy as np\n",
    "import torch\n",
    "import torchvision\n",
    "import pytorch_lightning as pl\n",
    "import warnings\n",
    "warnings.filterwarnings(\"ignore\")\n",
    "\n",
    "from MTL_base import MTL, generic_train\n",
    "import utils"
   ]
  },
  {
   "cell_type": "code",
   "execution_count": 30,
   "metadata": {},
   "outputs": [],
   "source": [
    "def dataset_with_indices(cls):\n",
    "\n",
    "    def __getitem__(self, index):\n",
    "        data, target = cls.__getitem__(self, index)\n",
    "        return data, target, index\n",
    "\n",
    "    return type(cls.__name__, (cls,), {\n",
    "        '__getitem__': __getitem__,\n",
    "    })"
   ]
  },
  {
   "cell_type": "code",
   "execution_count": 9,
   "metadata": {},
   "outputs": [],
   "source": [
    "train_dir = \"/net/scratch/hanliu-shared/data/bm/train\"\n",
    "valid_dir = \"/net/scratch/hanliu-shared/data/bm/valid\"\n",
    "train_dataset = torchvision.datasets.ImageFolder(train_dir, transform=None)\n",
    "valid_dataset = torchvision.datasets.ImageFolder(valid_dir, transform=None)"
   ]
  },
  {
   "cell_type": "code",
   "execution_count": 31,
   "metadata": {},
   "outputs": [],
   "source": [
    "make_dataset = dataset_with_indices(torchvision.datasets.ImageFolder)"
   ]
  },
  {
   "cell_type": "code",
   "execution_count": 33,
   "metadata": {},
   "outputs": [],
   "source": [
    "train_dataset  = make_dataset(train_dir, transform=None)"
   ]
  },
  {
   "cell_type": "code",
   "execution_count": 37,
   "metadata": {},
   "outputs": [
    {
     "data": {
      "text/plain": [
       "(<PIL.Image.Image image mode=RGB size=400x400 at 0x7F08B420B580>, 0, 0)"
      ]
     },
     "execution_count": 37,
     "metadata": {},
     "output_type": "execute_result"
    }
   ],
   "source": [
    "train_dataset[0]"
   ]
  },
  {
   "cell_type": "code",
   "execution_count": 61,
   "metadata": {},
   "outputs": [],
   "source": [
    "i2p = []\n",
    "for root, _, fnames in sorted(os.walk(train_dir, followlinks=True)):\n",
    "    for fname in sorted(fnames):\n",
    "        path = os.path.join(root, fname)\n",
    "        i2p.append(path)\n",
    "i2p = {i:p for i, p in enumerate(i2p)}\n",
    "p2i = {v.split(\"/\")[-1]:k for k, v in i2p.items()}\n",
    "        "
   ]
  },
  {
   "cell_type": "code",
   "execution_count": 62,
   "metadata": {},
   "outputs": [
    {
     "data": {
      "text/plain": [
       "{'0.jpg': 0,\n",
       " '1.jpg': 1,\n",
       " '10.jpg': 2,\n",
       " '11.jpg': 3,\n",
       " '12.jpg': 4,\n",
       " '13.jpg': 5,\n",
       " '14.jpg': 6,\n",
       " '15.jpg': 7,\n",
       " '16.jpg': 8,\n",
       " '17.jpg': 9,\n",
       " '18.jpg': 10,\n",
       " '19.jpg': 11,\n",
       " '2.jpg': 12,\n",
       " '20.jpg': 13,\n",
       " '21.jpg': 14,\n",
       " '22.jpg': 15,\n",
       " '23.jpg': 16,\n",
       " '24.jpg': 17,\n",
       " '25.jpg': 18,\n",
       " '26.jpg': 19,\n",
       " '27.jpg': 20,\n",
       " '28.jpg': 21,\n",
       " '29.jpg': 22,\n",
       " '3.jpg': 23,\n",
       " '30.jpg': 24,\n",
       " '31.jpg': 25,\n",
       " '32.jpg': 26,\n",
       " '33.jpg': 27,\n",
       " '34.jpg': 28,\n",
       " '35.jpg': 29,\n",
       " '36.jpg': 30,\n",
       " '37.jpg': 31,\n",
       " '38.jpg': 32,\n",
       " '39.jpg': 33,\n",
       " '4.jpg': 34,\n",
       " '5.jpg': 35,\n",
       " '50.jpg': 36,\n",
       " '51.jpg': 37,\n",
       " '52.jpg': 38,\n",
       " '53.jpg': 39,\n",
       " '54.jpg': 40,\n",
       " '55.jpg': 41,\n",
       " '56.jpg': 42,\n",
       " '57.jpg': 43,\n",
       " '58.jpg': 44,\n",
       " '59.jpg': 45,\n",
       " '6.jpg': 46,\n",
       " '60.jpg': 47,\n",
       " '61.jpg': 48,\n",
       " '62.jpg': 49,\n",
       " '63.jpg': 50,\n",
       " '64.jpg': 51,\n",
       " '65.jpg': 52,\n",
       " '66.jpg': 53,\n",
       " '67.jpg': 54,\n",
       " '68.jpg': 55,\n",
       " '69.jpg': 56,\n",
       " '7.jpg': 57,\n",
       " '70.jpg': 58,\n",
       " '71.jpg': 59,\n",
       " '72.jpg': 60,\n",
       " '73.jpg': 61,\n",
       " '74.jpg': 62,\n",
       " '75.jpg': 63,\n",
       " '76.jpg': 64,\n",
       " '77.jpg': 65,\n",
       " '78.jpg': 66,\n",
       " '79.jpg': 67,\n",
       " '8.jpg': 68,\n",
       " '80.jpg': 69,\n",
       " '81.jpg': 70,\n",
       " '82.jpg': 71,\n",
       " '83.jpg': 72,\n",
       " '84.jpg': 73,\n",
       " '85.jpg': 74,\n",
       " '86.jpg': 75,\n",
       " '87.jpg': 76,\n",
       " '88.jpg': 77,\n",
       " '89.jpg': 78,\n",
       " '9.jpg': 79,\n",
       " '100.jpg': 80,\n",
       " '101.jpg': 81,\n",
       " '102.jpg': 82,\n",
       " '103.jpg': 83,\n",
       " '104.jpg': 84,\n",
       " '105.jpg': 85,\n",
       " '106.jpg': 86,\n",
       " '107.jpg': 87,\n",
       " '108.jpg': 88,\n",
       " '109.jpg': 89,\n",
       " '110.jpg': 90,\n",
       " '111.jpg': 91,\n",
       " '112.jpg': 92,\n",
       " '113.jpg': 93,\n",
       " '114.jpg': 94,\n",
       " '115.jpg': 95,\n",
       " '116.jpg': 96,\n",
       " '117.jpg': 97,\n",
       " '118.jpg': 98,\n",
       " '119.jpg': 99,\n",
       " '120.jpg': 100,\n",
       " '121.jpg': 101,\n",
       " '122.jpg': 102,\n",
       " '123.jpg': 103,\n",
       " '124.jpg': 104,\n",
       " '125.jpg': 105,\n",
       " '126.jpg': 106,\n",
       " '127.jpg': 107,\n",
       " '128.jpg': 108,\n",
       " '129.jpg': 109,\n",
       " '130.jpg': 110,\n",
       " '131.jpg': 111,\n",
       " '132.jpg': 112,\n",
       " '133.jpg': 113,\n",
       " '134.jpg': 114,\n",
       " '135.jpg': 115,\n",
       " '136.jpg': 116,\n",
       " '137.jpg': 117,\n",
       " '138.jpg': 118,\n",
       " '139.jpg': 119,\n",
       " '150.jpg': 120,\n",
       " '151.jpg': 121,\n",
       " '152.jpg': 122,\n",
       " '153.jpg': 123,\n",
       " '154.jpg': 124,\n",
       " '155.jpg': 125,\n",
       " '156.jpg': 126,\n",
       " '157.jpg': 127,\n",
       " '158.jpg': 128,\n",
       " '159.jpg': 129,\n",
       " '160.jpg': 130,\n",
       " '161.jpg': 131,\n",
       " '162.jpg': 132,\n",
       " '163.jpg': 133,\n",
       " '164.jpg': 134,\n",
       " '165.jpg': 135,\n",
       " '166.jpg': 136,\n",
       " '167.jpg': 137,\n",
       " '168.jpg': 138,\n",
       " '169.jpg': 139,\n",
       " '170.jpg': 140,\n",
       " '171.jpg': 141,\n",
       " '172.jpg': 142,\n",
       " '173.jpg': 143,\n",
       " '174.jpg': 144,\n",
       " '175.jpg': 145,\n",
       " '176.jpg': 146,\n",
       " '177.jpg': 147,\n",
       " '178.jpg': 148,\n",
       " '179.jpg': 149,\n",
       " '180.jpg': 150,\n",
       " '181.jpg': 151,\n",
       " '182.jpg': 152,\n",
       " '183.jpg': 153,\n",
       " '184.jpg': 154,\n",
       " '185.jpg': 155,\n",
       " '186.jpg': 156,\n",
       " '187.jpg': 157,\n",
       " '188.jpg': 158,\n",
       " '189.jpg': 159}"
      ]
     },
     "execution_count": 62,
     "metadata": {},
     "output_type": "execute_result"
    }
   ],
   "source": [
    "p2i"
   ]
  },
  {
   "cell_type": "code",
   "execution_count": 51,
   "metadata": {},
   "outputs": [
    {
     "data": {
      "text/plain": [
       "{0: '/',\n",
       " 1: 'n',\n",
       " 2: 'e',\n",
       " 3: 't',\n",
       " 4: '/',\n",
       " 5: 's',\n",
       " 6: 'c',\n",
       " 7: 'r',\n",
       " 8: 'a',\n",
       " 9: 't',\n",
       " 10: 'c',\n",
       " 11: 'h',\n",
       " 12: '/',\n",
       " 13: 'h',\n",
       " 14: 'a',\n",
       " 15: 'n',\n",
       " 16: 'l',\n",
       " 17: 'i',\n",
       " 18: 'u',\n",
       " 19: '-',\n",
       " 20: 's',\n",
       " 21: 'h',\n",
       " 22: 'a',\n",
       " 23: 'r',\n",
       " 24: 'e',\n",
       " 25: 'd',\n",
       " 26: '/',\n",
       " 27: 'd',\n",
       " 28: 'a',\n",
       " 29: 't',\n",
       " 30: 'a',\n",
       " 31: '/',\n",
       " 32: 'b',\n",
       " 33: 'm',\n",
       " 34: '/',\n",
       " 35: 't',\n",
       " 36: 'r',\n",
       " 37: 'a',\n",
       " 38: 'i',\n",
       " 39: 'n',\n",
       " 40: '/',\n",
       " 41: '1',\n",
       " 42: '/',\n",
       " 43: '1',\n",
       " 44: '8',\n",
       " 45: '9',\n",
       " 46: '.',\n",
       " 47: 'j',\n",
       " 48: 'p',\n",
       " 49: 'g'}"
      ]
     },
     "execution_count": 51,
     "metadata": {},
     "output_type": "execute_result"
    }
   ],
   "source": [
    "i2p"
   ]
  },
  {
   "cell_type": "code",
   "execution_count": 28,
   "metadata": {},
   "outputs": [
    {
     "name": "stdout",
     "output_type": "stream",
     "text": [
      "['_Image__transformer', '__array_interface__', '__class__', '__copy__', '__delattr__', '__dict__', '__dir__', '__doc__', '__enter__', '__eq__', '__exit__', '__format__', '__ge__', '__getattribute__', '__getstate__', '__gt__', '__hash__', '__init__', '__init_subclass__', '__le__', '__lt__', '__module__', '__ne__', '__new__', '__reduce__', '__reduce_ex__', '__repr__', '__setattr__', '__setstate__', '__sizeof__', '__str__', '__subclasshook__', '__weakref__', '_close_exclusive_fp_after_loading', '_copy', '_crop', '_dump', '_ensure_mutable', '_exif', '_expand', '_get_safe_box', '_new', '_repr_png_', '_size', 'alpha_composite', 'category', 'close', 'convert', 'copy', 'crop', 'draft', 'effect_spread', 'encoderconfig', 'encoderinfo', 'entropy', 'filter', 'format', 'format_description', 'frombytes', 'getbands', 'getbbox', 'getchannel', 'getcolors', 'getdata', 'getexif', 'getextrema', 'getim', 'getpalette', 'getpixel', 'getprojection', 'height', 'histogram', 'im', 'info', 'load', 'mode', 'palette', 'paste', 'point', 'putalpha', 'putdata', 'putpalette', 'putpixel', 'pyaccess', 'quantize', 'readonly', 'reduce', 'remap_palette', 'resize', 'rotate', 'save', 'seek', 'show', 'size', 'split', 'tell', 'thumbnail', 'tobitmap', 'tobytes', 'toqimage', 'toqpixmap', 'transform', 'transpose', 'verify', 'width']\n"
     ]
    }
   ],
   "source": [
    "print(dir(t0))"
   ]
  },
  {
   "cell_type": "code",
   "execution_count": 29,
   "metadata": {},
   "outputs": [
    {
     "data": {
      "text/plain": [
       "{'jfif': 257,\n",
       " 'jfif_version': (1, 1),\n",
       " 'dpi': (96, 96),\n",
       " 'jfif_unit': 1,\n",
       " 'jfif_density': (96, 96)}"
      ]
     },
     "execution_count": 29,
     "metadata": {},
     "output_type": "execute_result"
    }
   ],
   "source": [
    "t0.info"
   ]
  },
  {
   "cell_type": "code",
   "execution_count": null,
   "metadata": {},
   "outputs": [],
   "source": []
  },
  {
   "cell_type": "code",
   "execution_count": 21,
   "metadata": {},
   "outputs": [
    {
     "data": {
      "text/plain": [
       "['56.jpg',\n",
       " '87.jpg',\n",
       " '51.jpg',\n",
       " '80.jpg',\n",
       " '23.jpg',\n",
       " '24.jpg',\n",
       " '58.jpg',\n",
       " '89.jpg',\n",
       " '11.jpg',\n",
       " '16.jpg',\n",
       " '64.jpg',\n",
       " '3.jpg',\n",
       " '18.jpg',\n",
       " '63.jpg',\n",
       " '4.jpg',\n",
       " '72.jpg',\n",
       " '75.jpg',\n",
       " '35.jpg',\n",
       " '32.jpg',\n",
       " '62.jpg',\n",
       " '5.jpg',\n",
       " '65.jpg',\n",
       " '2.jpg',\n",
       " '19.jpg',\n",
       " '17.jpg',\n",
       " '10.jpg',\n",
       " '25.jpg',\n",
       " '59.jpg',\n",
       " '88.jpg',\n",
       " '22.jpg',\n",
       " '50.jpg',\n",
       " '81.jpg',\n",
       " '57.jpg',\n",
       " '86.jpg',\n",
       " '33.jpg',\n",
       " '34.jpg',\n",
       " '74.jpg',\n",
       " '73.jpg',\n",
       " '39.jpg',\n",
       " '37.jpg',\n",
       " '30.jpg',\n",
       " '79.jpg',\n",
       " '70.jpg',\n",
       " '77.jpg',\n",
       " '66.jpg',\n",
       " '1.jpg',\n",
       " '61.jpg',\n",
       " '6.jpg',\n",
       " '13.jpg',\n",
       " '8.jpg',\n",
       " '68.jpg',\n",
       " '14.jpg',\n",
       " '21.jpg',\n",
       " '26.jpg',\n",
       " '28.jpg',\n",
       " '54.jpg',\n",
       " '85.jpg',\n",
       " '53.jpg',\n",
       " '82.jpg',\n",
       " '76.jpg',\n",
       " '71.jpg',\n",
       " '78.jpg',\n",
       " '31.jpg',\n",
       " '36.jpg',\n",
       " '38.jpg',\n",
       " '52.jpg',\n",
       " '83.jpg',\n",
       " '29.jpg',\n",
       " '55.jpg',\n",
       " '84.jpg',\n",
       " '27.jpg',\n",
       " '20.jpg',\n",
       " '69.jpg',\n",
       " '15.jpg',\n",
       " '12.jpg',\n",
       " '9.jpg',\n",
       " '60.jpg',\n",
       " '7.jpg',\n",
       " '67.jpg',\n",
       " '0.jpg']"
      ]
     },
     "execution_count": 21,
     "metadata": {},
     "output_type": "execute_result"
    }
   ],
   "source": [
    "import os\n",
    "os.listdir(train_dir+\"/0\")"
   ]
  },
  {
   "cell_type": "code",
   "execution_count": 8,
   "metadata": {},
   "outputs": [
    {
     "data": {
      "text/plain": [
       "(3, 224, 224)"
      ]
     },
     "execution_count": 8,
     "metadata": {},
     "output_type": "execute_result"
    }
   ],
   "source": [
    "import matplotlib.pyplot as plt"
   ]
  },
  {
   "cell_type": "code",
   "execution_count": null,
   "metadata": {},
   "outputs": [],
   "source": []
  }
 ],
 "metadata": {
  "interpreter": {
   "hash": "63211ff5f667d2462bf3cbef4ab188efe8fd5838e9505b6620d21c1e36f41af8"
  },
  "kernelspec": {
   "display_name": "Python 3.8.5 ('base')",
   "language": "python",
   "name": "python3"
  },
  "language_info": {
   "codemirror_mode": {
    "name": "ipython",
    "version": 3
   },
   "file_extension": ".py",
   "mimetype": "text/x-python",
   "name": "python",
   "nbconvert_exporter": "python",
   "pygments_lexer": "ipython3",
   "version": "3.8.5"
  },
  "orig_nbformat": 4
 },
 "nbformat": 4,
 "nbformat_minor": 2
}
