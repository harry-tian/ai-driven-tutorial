{
 "cells": [
  {
   "cell_type": "code",
   "execution_count": 1,
   "metadata": {},
   "outputs": [],
   "source": [
    "# -*- coding: utf-8 -*-\n",
    "import os, pickle\n",
    "import torchvision\n",
    "import pytorch_lightning as pl\n",
    "import warnings\n",
    "warnings.filterwarnings(\"ignore\")\n",
    "import torch\n",
    "import utils\n",
    "\n"
   ]
  },
  {
   "cell_type": "code",
   "execution_count": 3,
   "metadata": {},
   "outputs": [],
   "source": [
    "def dataset_with_indices(cls):\n",
    "\n",
    "    def __getitem__(self, index):\n",
    "        data, target = cls.__getitem__(self, index)\n",
    "        return data, target, index\n",
    "\n",
    "    return type(cls.__name__, (cls,), {\n",
    "        '__getitem__': __getitem__,\n",
    "    })"
   ]
  },
  {
   "cell_type": "code",
   "execution_count": 12,
   "metadata": {},
   "outputs": [],
   "source": [
    "train_dir = \"/net/scratch/tianh/bm/all\"\n",
    "train_dataset = torchvision.datasets.ImageFolder(train_dir, transform=None)"
   ]
  },
  {
   "cell_type": "code",
   "execution_count": 8,
   "metadata": {},
   "outputs": [],
   "source": [
    "train_dir = \"/net/scratch/hanliu-shared/data/bm/train\"\n",
    "valid_dir = \"/net/scratch/hanliu-shared/data/bm/valid\"\n",
    "train_dataset = torchvision.datasets.ImageFolder(train_dir, transform=None)\n",
    "valid_dataset = torchvision.datasets.ImageFolder(valid_dir, transform=None)"
   ]
  },
  {
   "cell_type": "code",
   "execution_count": 5,
   "metadata": {},
   "outputs": [],
   "source": [
    "train_dir = \"/net/scratch/chacha/data/weevil_vespula/train\"\n",
    "valid_dir = \"/net/scratch/chacha/data/weevil_vespula/valid\"\n",
    "test_dir = \"/net/scratch/chacha/data/weevil_vespula/test\"\n",
    "wv_transform = utils.get_transform('wv', aug=False)\n",
    "\n",
    "train_dataset = torchvision.datasets.ImageFolder(train_dir,  transform=wv_transform)\n",
    "valid_dataset = torchvision.datasets.ImageFolder(valid_dir, transform=wv_transform)\n",
    "test_dataset = torchvision.datasets.ImageFolder(test_dir, transform=wv_transform)"
   ]
  },
  {
   "cell_type": "code",
   "execution_count": 8,
   "metadata": {},
   "outputs": [],
   "source": [
    "i2p = []\n",
    "for root, _, fnames in sorted(os.walk(test_dir, followlinks=True)):\n",
    "    for fname in sorted(fnames):\n",
    "        path = os.path.join(root, fname)\n",
    "        if path[-4:] == \".pkl\":\n",
    "            continue\n",
    "        # i2p.append(path)\n",
    "        i2p.append(fname.split('.')[0])\n",
    "i2p = {i:p for i, p in enumerate(i2p)}\n",
    "p2i = {v.split(\"/\")[-1]:k for k, v in i2p.items()}\n",
    "        "
   ]
  },
  {
   "cell_type": "code",
   "execution_count": 11,
   "metadata": {},
   "outputs": [],
   "source": [
    "# i2p"
   ]
  },
  {
   "cell_type": "code",
   "execution_count": 7,
   "metadata": {},
   "outputs": [
    {
     "name": "stdout",
     "output_type": "stream",
     "text": [
      "0\n",
      "/net/scratch/chacha/data/weevil_vespula/test/0/1.jpg\n",
      "1\n",
      "/net/scratch/chacha/data/weevil_vespula/test/0/101.jpg\n",
      "2\n",
      "/net/scratch/chacha/data/weevil_vespula/test/0/128.jpg\n",
      "3\n",
      "/net/scratch/chacha/data/weevil_vespula/test/0/133.jpg\n",
      "4\n",
      "/net/scratch/chacha/data/weevil_vespula/test/0/20.jpg\n",
      "5\n",
      "/net/scratch/chacha/data/weevil_vespula/test/0/22.jpg\n",
      "6\n",
      "/net/scratch/chacha/data/weevil_vespula/test/0/25.jpg\n",
      "7\n",
      "/net/scratch/chacha/data/weevil_vespula/test/0/30.jpg\n",
      "8\n",
      "/net/scratch/chacha/data/weevil_vespula/test/0/37.jpg\n",
      "9\n",
      "/net/scratch/chacha/data/weevil_vespula/test/0/50.jpg\n",
      "10\n",
      "/net/scratch/chacha/data/weevil_vespula/test/0/57.jpg\n",
      "11\n",
      "/net/scratch/chacha/data/weevil_vespula/test/0/60.jpg\n",
      "12\n",
      "/net/scratch/chacha/data/weevil_vespula/test/0/63.jpg\n",
      "13\n",
      "/net/scratch/chacha/data/weevil_vespula/test/0/68.jpg\n",
      "14\n",
      "/net/scratch/chacha/data/weevil_vespula/test/0/7.jpg\n",
      "15\n",
      "/net/scratch/chacha/data/weevil_vespula/test/0/71.jpg\n",
      "16\n",
      "/net/scratch/chacha/data/weevil_vespula/test/0/72.jpg\n",
      "17\n",
      "/net/scratch/chacha/data/weevil_vespula/test/0/79.jpg\n",
      "18\n",
      "/net/scratch/chacha/data/weevil_vespula/test/0/86.jpg\n",
      "19\n",
      "/net/scratch/chacha/data/weevil_vespula/test/0/96.jpg\n",
      "20\n",
      "/net/scratch/chacha/data/weevil_vespula/test/1/115.jpg\n",
      "21\n",
      "/net/scratch/chacha/data/weevil_vespula/test/1/121.jpg\n",
      "22\n",
      "/net/scratch/chacha/data/weevil_vespula/test/1/129.jpg\n",
      "23\n",
      "/net/scratch/chacha/data/weevil_vespula/test/1/134.jpg\n",
      "24\n",
      "/net/scratch/chacha/data/weevil_vespula/test/1/137.jpg\n",
      "25\n",
      "/net/scratch/chacha/data/weevil_vespula/test/1/139.jpg\n",
      "26\n",
      "/net/scratch/chacha/data/weevil_vespula/test/1/140.jpg\n",
      "27\n",
      "/net/scratch/chacha/data/weevil_vespula/test/1/141.jpg\n",
      "28\n",
      "/net/scratch/chacha/data/weevil_vespula/test/1/142.jpg\n",
      "29\n",
      "/net/scratch/chacha/data/weevil_vespula/test/1/144.jpg\n",
      "30\n",
      "/net/scratch/chacha/data/weevil_vespula/test/1/146.jpg\n",
      "31\n",
      "/net/scratch/chacha/data/weevil_vespula/test/1/156.jpg\n",
      "32\n",
      "/net/scratch/chacha/data/weevil_vespula/test/1/157.jpg\n",
      "33\n",
      "/net/scratch/chacha/data/weevil_vespula/test/1/175.jpg\n",
      "34\n",
      "/net/scratch/chacha/data/weevil_vespula/test/1/178.jpg\n",
      "35\n",
      "/net/scratch/chacha/data/weevil_vespula/test/1/190.jpg\n",
      "36\n",
      "/net/scratch/chacha/data/weevil_vespula/test/1/192.jpg\n",
      "37\n",
      "/net/scratch/chacha/data/weevil_vespula/test/1/196.jpg\n",
      "38\n",
      "/net/scratch/chacha/data/weevil_vespula/test/1/61.jpg\n",
      "39\n",
      "/net/scratch/chacha/data/weevil_vespula/test/1/8.jpg\n"
     ]
    }
   ],
   "source": [
    "# f = open(\"test_y\", \"w\")\n",
    "\n",
    "# dataloader = torch.utils.data.DataLoader(\n",
    "#             test_dataset, \n",
    "#             num_workers=self.hparams.dataloader_num_workers, \n",
    "#             drop_last=True, shuffle=True)\n",
    "test_loader = torch.utils.data.DataLoader(test_dataset,batch_size =1) ## batch size???\n",
    "with torch.no_grad():\n",
    "    for i, (images, labels) in enumerate(test_loader,0):\n",
    "        # outputs = model(images)\n",
    "        # _, predicted = torch.max(outputs.data, 1)\n",
    "        print(i)\n",
    "        sample_fname, _ = test_loader.dataset.samples[i]\n",
    "        print(sample_fname)\n",
    "        # f.write(\"{}, {}\\n\".format(sample_fname, predicted.item()))\n",
    "# f.close()"
   ]
  },
  {
   "cell_type": "code",
   "execution_count": 22,
   "metadata": {},
   "outputs": [],
   "source": [
    "# p2i\n",
    "# fname\n",
    "# i2p\n",
    "# fname.split('.')[0]"
   ]
  },
  {
   "cell_type": "code",
   "execution_count": 29,
   "metadata": {},
   "outputs": [],
   "source": [
    "pickle.dump((i2p, p2i),open(\"../data/wv_all_idx.pkl\",\"wb\"))"
   ]
  },
  {
   "cell_type": "code",
   "execution_count": 6,
   "metadata": {},
   "outputs": [],
   "source": [
    "with open('/net/scratch/chacha/data/weevil_vespula/p2i_test.pkl', 'wb') as f:\n",
    "  pickle.dump(p2i, f)"
   ]
  },
  {
   "cell_type": "code",
   "execution_count": 28,
   "metadata": {},
   "outputs": [
    {
     "data": {
      "text/plain": [
       "200"
      ]
     },
     "execution_count": 28,
     "metadata": {},
     "output_type": "execute_result"
    }
   ],
   "source": [
    "len(i2p)"
   ]
  },
  {
   "cell_type": "code",
   "execution_count": 29,
   "metadata": {},
   "outputs": [
    {
     "data": {
      "text/plain": [
       "{'jfif': 257,\n",
       " 'jfif_version': (1, 1),\n",
       " 'dpi': (96, 96),\n",
       " 'jfif_unit': 1,\n",
       " 'jfif_density': (96, 96)}"
      ]
     },
     "execution_count": 29,
     "metadata": {},
     "output_type": "execute_result"
    }
   ],
   "source": [
    "t0.info"
   ]
  },
  {
   "cell_type": "code",
   "execution_count": null,
   "metadata": {},
   "outputs": [],
   "source": []
  },
  {
   "cell_type": "code",
   "execution_count": 21,
   "metadata": {},
   "outputs": [
    {
     "data": {
      "text/plain": [
       "['56.jpg',\n",
       " '87.jpg',\n",
       " '51.jpg',\n",
       " '80.jpg',\n",
       " '23.jpg',\n",
       " '24.jpg',\n",
       " '58.jpg',\n",
       " '89.jpg',\n",
       " '11.jpg',\n",
       " '16.jpg',\n",
       " '64.jpg',\n",
       " '3.jpg',\n",
       " '18.jpg',\n",
       " '63.jpg',\n",
       " '4.jpg',\n",
       " '72.jpg',\n",
       " '75.jpg',\n",
       " '35.jpg',\n",
       " '32.jpg',\n",
       " '62.jpg',\n",
       " '5.jpg',\n",
       " '65.jpg',\n",
       " '2.jpg',\n",
       " '19.jpg',\n",
       " '17.jpg',\n",
       " '10.jpg',\n",
       " '25.jpg',\n",
       " '59.jpg',\n",
       " '88.jpg',\n",
       " '22.jpg',\n",
       " '50.jpg',\n",
       " '81.jpg',\n",
       " '57.jpg',\n",
       " '86.jpg',\n",
       " '33.jpg',\n",
       " '34.jpg',\n",
       " '74.jpg',\n",
       " '73.jpg',\n",
       " '39.jpg',\n",
       " '37.jpg',\n",
       " '30.jpg',\n",
       " '79.jpg',\n",
       " '70.jpg',\n",
       " '77.jpg',\n",
       " '66.jpg',\n",
       " '1.jpg',\n",
       " '61.jpg',\n",
       " '6.jpg',\n",
       " '13.jpg',\n",
       " '8.jpg',\n",
       " '68.jpg',\n",
       " '14.jpg',\n",
       " '21.jpg',\n",
       " '26.jpg',\n",
       " '28.jpg',\n",
       " '54.jpg',\n",
       " '85.jpg',\n",
       " '53.jpg',\n",
       " '82.jpg',\n",
       " '76.jpg',\n",
       " '71.jpg',\n",
       " '78.jpg',\n",
       " '31.jpg',\n",
       " '36.jpg',\n",
       " '38.jpg',\n",
       " '52.jpg',\n",
       " '83.jpg',\n",
       " '29.jpg',\n",
       " '55.jpg',\n",
       " '84.jpg',\n",
       " '27.jpg',\n",
       " '20.jpg',\n",
       " '69.jpg',\n",
       " '15.jpg',\n",
       " '12.jpg',\n",
       " '9.jpg',\n",
       " '60.jpg',\n",
       " '7.jpg',\n",
       " '67.jpg',\n",
       " '0.jpg']"
      ]
     },
     "execution_count": 21,
     "metadata": {},
     "output_type": "execute_result"
    }
   ],
   "source": [
    "import os\n",
    "os.listdir(train_dir+\"/0\")"
   ]
  },
  {
   "cell_type": "code",
   "execution_count": 8,
   "metadata": {},
   "outputs": [
    {
     "data": {
      "text/plain": [
       "(3, 224, 224)"
      ]
     },
     "execution_count": 8,
     "metadata": {},
     "output_type": "execute_result"
    }
   ],
   "source": [
    "import matplotlib.pyplot as plt"
   ]
  },
  {
   "cell_type": "code",
   "execution_count": null,
   "metadata": {},
   "outputs": [],
   "source": []
  }
 ],
 "metadata": {
  "interpreter": {
   "hash": "63211ff5f667d2462bf3cbef4ab188efe8fd5838e9505b6620d21c1e36f41af8"
  },
  "kernelspec": {
   "display_name": "Python 3.8.5 ('base')",
   "language": "python",
   "name": "python3"
  },
  "language_info": {
   "codemirror_mode": {
    "name": "ipython",
    "version": 3
   },
   "file_extension": ".py",
   "mimetype": "text/x-python",
   "name": "python",
   "nbconvert_exporter": "python",
   "pygments_lexer": "ipython3",
   "version": "3.7.11"
  },
  "orig_nbformat": 4
 },
 "nbformat": 4,
 "nbformat_minor": 2
}
