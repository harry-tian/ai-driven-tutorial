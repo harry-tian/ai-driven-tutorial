{
 "cells": [
  {
   "cell_type": "code",
   "execution_count": 23,
   "metadata": {},
   "outputs": [
    {
     "name": "stdout",
     "output_type": "stream",
     "text": [
      "The autoreload extension is already loaded. To reload it, use:\n",
      "  %reload_ext autoreload\n"
     ]
    }
   ],
   "source": [
    "%load_ext autoreload\n",
    "%autoreload 2\n",
    "import os, pickle, csv, itertools, shutil, random\n",
    "import numpy as np\n",
    "import matplotlib.pyplot as plt\n",
    "import pandas as pd\n",
    "import torchvision, torch\n",
    "from torchvision import transforms\n",
    "from omegaconf import OmegaConf as oc\n",
    "\n",
    "%matplotlib inline\n",
    "%config InlineBackend.figure_format='retina'\n",
    "\n",
    "import utils.utils as utils\n",
    "import evals.embed_evals as evals\n",
    "import utils.plot_data as plot\n",
    "import utils.gen_triplets as gen\n",
    "import pathlib\n",
    "import warnings\n",
    "warnings.filterwarnings(\"ignore\")"
   ]
  },
  {
   "cell_type": "code",
   "execution_count": 24,
   "metadata": {},
   "outputs": [],
   "source": [
    "data_dir = \"datasets/wv_3d_square\""
   ]
  },
  {
   "cell_type": "code",
   "execution_count": 25,
   "metadata": {},
   "outputs": [],
   "source": [
    "train_features = pickle.load(open(f\"{data_dir}/train_features.pkl\",\"rb\"))\n",
    "valid_features = pickle.load(open(f\"{data_dir}/valid_features.pkl\",\"rb\"))\n",
    "test_features = pickle.load(open(f\"{data_dir}/test_features.pkl\",\"rb\"))\n",
    "y_train = np.array([x[1] for x in torchvision.datasets.ImageFolder(f\"{data_dir}/train\")])\n",
    "y_valid = np.array([x[1] for x in torchvision.datasets.ImageFolder(f\"{data_dir}/valid\")])\n",
    "y_test = np.array([x[1] for x in torchvision.datasets.ImageFolder(f\"{data_dir}/test\")])"
   ]
  },
  {
   "cell_type": "markdown",
   "metadata": {},
   "source": [
    "## search alignment"
   ]
  },
  {
   "cell_type": "code",
   "execution_count": 26,
   "metadata": {},
   "outputs": [],
   "source": [
    "total_weights = np.array(list(itertools.product([0]+[2**i for i in range(10)],repeat=2)))\n",
    "# total_weights = np.hstack([total_weights,np.zeros_like(total_weights)])\n",
    "total_weights = np.hstack([total_weights,np.ones_like(total_weights)])"
   ]
  },
  {
   "cell_type": "code",
   "execution_count": 27,
   "metadata": {},
   "outputs": [],
   "source": [
    "aligns = np.array([evals.distorted_1nn(train_features, y_train, test_features, y_test, weights) for weights in total_weights])"
   ]
  },
  {
   "cell_type": "code",
   "execution_count": 28,
   "metadata": {},
   "outputs": [
    {
     "data": {
      "text/plain": [
       "(array([  1.,   0.,   0.,   0.,   0.,   0.,  20.,   0.,   0., 100.]),\n",
       " array([0.475 , 0.5275, 0.58  , 0.6325, 0.685 , 0.7375, 0.79  , 0.8425,\n",
       "        0.895 , 0.9475, 1.    ]),\n",
       " <BarContainer object of 10 artists>)"
      ]
     },
     "execution_count": 28,
     "metadata": {},
     "output_type": "execute_result"
    },
    {
     "data": {
      "image/png": "[encoded data removed]",
      "text/plain": [
       "<Figure size 432x288 with 1 Axes>"
      ]
     },
     "metadata": {
      "image/png": {
       "height": 248,
       "width": 375
      },
      "needs_background": "light"
     },
     "output_type": "display_data"
    }
   ],
   "source": [
    "plt.hist(aligns)"
   ]
  },
  {
   "cell_type": "code",
   "execution_count": 14,
   "metadata": {},
   "outputs": [
    {
     "data": {
      "text/plain": [
       "array([[  1, 512,   1,   1]])"
      ]
     },
     "execution_count": 14,
     "metadata": {},
     "output_type": "execute_result"
    }
   ],
   "source": [
    "align = 0.9275\n",
    "total_weights[np.where(aligns==align)[0]]"
   ]
  },
  {
   "cell_type": "code",
   "execution_count": 7,
   "metadata": {},
   "outputs": [
    {
     "data": {
      "text/plain": [
       "array([0.5125, 0.56  , 0.5625, 0.57  , 0.5725, 0.5925, 0.595 , 0.6025,\n",
       "       0.8125, 0.8175, 0.8225, 0.825 , 0.8325, 0.8375, 0.84  , 0.845 ,\n",
       "       0.9275, 0.9375, 0.945 , 0.9475, 0.95  , 0.9525, 0.955 , 0.9575,\n",
       "       0.96  , 0.9625, 0.965 , 0.9675, 0.97  , 0.9725, 0.975 , 0.9775,\n",
       "       0.98  , 0.9825, 0.985 ])"
      ]
     },
     "execution_count": 7,
     "metadata": {},
     "output_type": "execute_result"
    }
   ],
   "source": [
    "np.unique(aligns)"
   ]
  },
  {
   "cell_type": "code",
   "execution_count": 12,
   "metadata": {},
   "outputs": [
    {
     "data": {
      "text/plain": [
       "0.95"
      ]
     },
     "execution_count": 12,
     "metadata": {},
     "output_type": "execute_result"
    }
   ],
   "source": [
    "evals.distorted_1nn(train_features, y_train, test_features, y_test, [1,1,1,1])"
   ]
  },
  {
   "cell_type": "markdown",
   "metadata": {},
   "source": [
    "## testing"
   ]
  },
  {
   "cell_type": "code",
   "execution_count": 15,
   "metadata": {},
   "outputs": [
    {
     "name": "stdout",
     "output_type": "stream",
     "text": [
      "0.5625\n",
      "0.84\n",
      "0.95\n",
      "0.985\n"
     ]
    }
   ],
   "source": [
    "weights = [\n",
    "    [0,1,1,1],\n",
    "    [1,0,1,1],\n",
    "    [1,1,1,1],\n",
    "    [32,256,1,1],\n",
    "]\n",
    "aligns = [0.56, 0.84, 0.95, 0.99]\n",
    "for weight in weights:\n",
    "    print(evals.distorted_1nn(train_features, y_train, test_features, y_test, weight))"
   ]
  },
  {
   "cell_type": "markdown",
   "metadata": {},
   "source": [
    "#### aligns & filtered"
   ]
  },
  {
   "cell_type": "code",
   "execution_count": 17,
   "metadata": {},
   "outputs": [],
   "source": [
    "weights = [\n",
    "    [0,1,1,1],\n",
    "    [1,0,1,1],\n",
    "    [1,1,1,1],\n",
    "    [32,256,1,1],\n",
    "]\n",
    "aligns = [0.56, 0.84, 0.95, 0.99]\n",
    "assert(len(weights)==len(aligns))\n",
    "total = 40000\n",
    "triplet_dir = data_dir + \"_triplets\""
   ]
  },
  {
   "cell_type": "code",
   "execution_count": 18,
   "metadata": {},
   "outputs": [],
   "source": [
    "for weight,align in zip(weights, aligns):\n",
    "    train_triplets, valid_triplets, test_triplets, train_triplets_filtered, valid_triplets_filtered, test_triplets_filtered =\\\n",
    "        gen.get_alignment_filtered_triplets(train_features, valid_features, test_features, y_train, y_valid, y_test, weight, total)\n",
    "    align_dir = os.path.join(triplet_dir,f\"align={str(align)}\")\n",
    "    pathlib.Path(align_dir).mkdir(parents=True, exist_ok=True)\n",
    "    pickle.dump(train_triplets, open(f\"{align_dir}/train_triplets.pkl\", \"wb\"))\n",
    "    pickle.dump(valid_triplets, open(f\"{align_dir}/valid_triplets.pkl\", \"wb\"))\n",
    "    pickle.dump(test_triplets, open(f\"{align_dir}/test_triplets.pkl\", \"wb\"))\n",
    "    pickle.dump(train_triplets_filtered, open(f\"{align_dir}/train_triplets_filtered.pkl\",\"wb\"))\n",
    "    pickle.dump(valid_triplets_filtered, open(f\"{align_dir}/valid_triplets_filtered.pkl\",\"wb\"))\n",
    "    pickle.dump(test_triplets_filtered, open(f\"{align_dir}/test_triplets_filtered.pkl\",\"wb\"))"
   ]
  },
  {
   "cell_type": "markdown",
   "metadata": {},
   "source": [
    "### noisy"
   ]
  },
  {
   "cell_type": "code",
   "execution_count": 19,
   "metadata": {},
   "outputs": [],
   "source": [
    "aligns = [\"0.82\",\"0.92\"]\n",
    "triplet_dir = data_dir + \"_triplets\""
   ]
  },
  {
   "cell_type": "code",
   "execution_count": 23,
   "metadata": {},
   "outputs": [],
   "source": [
    "for align in aligns:\n",
    "    train_triplets = pickle.load(open(f\"{triplet_dir}/align={align}/train_triplets.pkl\",\"rb\"))\n",
    "    valid_triplets = pickle.load(open(f\"{triplet_dir}/align={align}/valid_triplets.pkl\",\"rb\"))\n",
    "    test_triplets = pickle.load(open(f\"{triplet_dir}/align={align}/test_triplets.pkl\",\"rb\"))\n",
    "    for p in np.arange(1,9,1)/10:\n",
    "        dir = os.path.join(f\"{triplet_dir}/align={align}_noisy\",str(p))\n",
    "        pathlib.Path(dir).mkdir(parents=True, exist_ok=True)\n",
    "\n",
    "        train_noisy = gen.get_noisy_triplets(train_triplets, p)\n",
    "        valid_noisy = gen.get_noisy_triplets(valid_triplets, p)\n",
    "        test_noisy = gen.get_noisy_triplets(test_triplets, p)\n",
    "        pickle.dump(train_noisy, open(f\"{dir}/train_triplets.pkl\",\"wb\"))\n",
    "        pickle.dump(valid_noisy, open(f\"{dir}/valid_triplets.pkl\",\"wb\"))\n",
    "        pickle.dump(test_noisy, open(f\"{dir}/test_triplets.pkl\",\"wb\"))"
   ]
  },
  {
   "cell_type": "code",
   "execution_count": 24,
   "metadata": {},
   "outputs": [],
   "source": [
    "for align in aligns:    \n",
    "    for p in np.arange(1,9,1)/10:\n",
    "        dir = os.path.join(f\"{triplet_dir}/align={align}_noisy\",str(p))\n",
    "        train_triplets = pickle.load(open(f\"{dir}/train_triplets.pkl\",\"rb\"))\n",
    "        valid_triplets = pickle.load(open(f\"{dir}/valid_triplets.pkl\",\"rb\"))\n",
    "        test_triplets = pickle.load(open(f\"{dir}/test_triplets.pkl\",\"rb\"))\n",
    "        train_triplets_filtered = gen.filter_train_triplets(train_triplets, y_train)\n",
    "        valid_triplets_filtered = gen.filter_mixed_triplets(valid_triplets, y_train, y_valid)\n",
    "        test_triplets_filtered = gen.filter_mixed_triplets(test_triplets, y_train, y_test)\n",
    "        pickle.dump(train_triplets_filtered, open(f\"{dir}/train_triplets_filtered.pkl\",\"wb\"))\n",
    "        pickle.dump(valid_triplets_filtered, open(f\"{dir}/valid_triplets_filtered.pkl\",\"wb\"))\n",
    "        pickle.dump(test_triplets_filtered, open(f\"{dir}/test_triplets_filtered.pkl\",\"wb\"))"
   ]
  },
  {
   "cell_type": "markdown",
   "metadata": {},
   "source": [
    "### nums"
   ]
  },
  {
   "cell_type": "code",
   "execution_count": 25,
   "metadata": {},
   "outputs": [],
   "source": [
    "aligns = [\"0.82\",\"0.92\"]\n",
    "triplet_dir = data_dir + \"_triplets\"\n",
    "def dropout(triplets,p):\n",
    "    keepers = np.random.choice(np.arange(len(triplets)),int(len(triplets)*p),replace=False)\n",
    "    return np.array(triplets)[keepers]"
   ]
  },
  {
   "cell_type": "code",
   "execution_count": 26,
   "metadata": {},
   "outputs": [],
   "source": [
    "for align in aligns:\n",
    "    train_triplets = pickle.load(open(f\"{triplet_dir}/align={align}/train_triplets.pkl\",\"rb\"))\n",
    "    valid_triplets = pickle.load(open(f\"{triplet_dir}/align={align}/valid_triplets.pkl\",\"rb\"))\n",
    "    test_triplets = pickle.load(open(f\"{triplet_dir}/align={align}/test_triplets.pkl\",\"rb\"))\n",
    "    for p in [1/128,1/64,1/32,1/16,1/8,1/4,1/2]:\n",
    "        dir = os.path.join(f\"{triplet_dir}/align={align}_num\",str(p))\n",
    "        pathlib.Path(dir).mkdir(parents=True, exist_ok=True)\n",
    "\n",
    "        train_noisy = dropout(train_triplets, p)\n",
    "        valid_noisy = dropout(valid_triplets, p)\n",
    "        test_noisy = dropout(test_triplets, p)\n",
    "        pickle.dump(train_noisy, open(f\"{dir}/train_triplets.pkl\",\"wb\"))\n",
    "        pickle.dump(valid_noisy, open(f\"{dir}/valid_triplets.pkl\",\"wb\"))\n",
    "        pickle.dump(test_noisy, open(f\"{dir}/test_triplets.pkl\",\"wb\"))"
   ]
  },
  {
   "cell_type": "code",
   "execution_count": 28,
   "metadata": {},
   "outputs": [],
   "source": [
    "for align in aligns:\n",
    "    for p in [1/128,1/64,1/32,1/16,1/8,1/4,1/2]:\n",
    "        dir = os.path.join(f\"{triplet_dir}/align={align}_num\",str(p))\n",
    "        train_triplets = pickle.load(open(f\"{dir}/train_triplets.pkl\",\"rb\"))\n",
    "        valid_triplets = pickle.load(open(f\"{dir}/valid_triplets.pkl\",\"rb\"))\n",
    "        test_triplets = pickle.load(open(f\"{dir}/test_triplets.pkl\",\"rb\"))\n",
    "        train_triplets_filtered = gen.filter_train_triplets(train_triplets, y_train)\n",
    "        valid_triplets_filtered = gen.filter_mixed_triplets(valid_triplets, y_train, y_valid)\n",
    "        test_triplets_filtered = gen.filter_mixed_triplets(test_triplets, y_train, y_test)\n",
    "        pickle.dump(train_triplets_filtered, open(f\"{dir}/train_triplets_filtered.pkl\",\"wb\"))\n",
    "        pickle.dump(valid_triplets_filtered, open(f\"{dir}/valid_triplets_filtered.pkl\",\"wb\"))\n",
    "        pickle.dump(test_triplets_filtered, open(f\"{dir}/test_triplets_filtered.pkl\",\"wb\"))"
   ]
  },
  {
   "cell_type": "markdown",
   "metadata": {},
   "source": [
    "## yaml generation"
   ]
  },
  {
   "cell_type": "code",
   "execution_count": 20,
   "metadata": {},
   "outputs": [],
   "source": [
    "weights = [\n",
    "    [0,1,1,1],\n",
    "    [1,0,1,1],\n",
    "    [1,1,1,1],\n",
    "    [32,256,1,1],\n",
    "]\n",
    "aligns = [0.56, 0.84, 0.95, 0.99]\n",
    "data = \"wv_squarelin\"\n",
    "triplet_dir = data_dir + \"_triplets\"\n",
    "yaml_dir = f\"models/configs/{data}/triplets\""
   ]
  },
  {
   "cell_type": "code",
   "execution_count": 21,
   "metadata": {},
   "outputs": [],
   "source": [
    "dir = f\"{yaml_dir}/unfiltered/aligns\"\n",
    "for weight,align in zip(weights, aligns):\n",
    "    unfiltered_configs =  {\"wandb_project\": data + \"_aligns\",\n",
    "                                \"wandb_group\": f\"align={align}\",\n",
    "                                \"train_triplets\": f\"../{triplet_dir}/align={align}/train_triplets.pkl\",\n",
    "                                \"valid_triplets\": f\"../{triplet_dir}/align={align}/valid_triplets.pkl\",\n",
    "                                \"test_triplets\": f\"../{triplet_dir}/align={align}/test_triplets.pkl\",\n",
    "                                \"weights\": weight,\n",
    "                                \"powers\": [2,2],\n",
    "                                \"filtered\": False}\n",
    "    pathlib.Path(dir).mkdir(parents=True, exist_ok=True)\n",
    "    oc.save(unfiltered_configs, f\"{dir}/align={align}.yaml\")"
   ]
  },
  {
   "cell_type": "code",
   "execution_count": 22,
   "metadata": {},
   "outputs": [],
   "source": [
    "dir = f\"{yaml_dir}/filtered/aligns\"\n",
    "for weight,align in zip(weights, aligns):\n",
    "    filtered_configs =  {\"wandb_project\": data + \"_aligns\",\n",
    "                                \"wandb_group\": f\"align={align}_filtered\",\n",
    "                                \"train_triplets\": f\"../{triplet_dir}/align={align}/train_triplets_filtered.pkl\",\n",
    "                                \"valid_triplets\": f\"../{triplet_dir}/align={align}/valid_triplets_filtered.pkl\",\n",
    "                                \"test_triplets\": f\"../{triplet_dir}/align={align}/test_triplets_filtered.pkl\",\n",
    "                                \"weights\": weight,\n",
    "                                \"powers\": [2,2],\n",
    "                                \"filtered\": True}\n",
    "    pathlib.Path(dir).mkdir(parents=True, exist_ok=True)\n",
    "    oc.save(filtered_configs, f\"{dir}/align={align}.yaml\")"
   ]
  },
  {
   "cell_type": "markdown",
   "metadata": {},
   "source": [
    "### noise"
   ]
  },
  {
   "cell_type": "code",
   "execution_count": 32,
   "metadata": {},
   "outputs": [],
   "source": [
    "weights = [\n",
    "    [0,1,1,1],\n",
    "    [1,1,1,1],\n",
    "]\n",
    "aligns = [\"0.82\",\"0.92\"]\n",
    "\n",
    "data = \"wv_linear_sm\"\n",
    "triplet_dir = data + \"_triplets\"\n",
    "yaml_dir = f\"models/configs/{data}/triplets\""
   ]
  },
  {
   "cell_type": "code",
   "execution_count": 33,
   "metadata": {},
   "outputs": [],
   "source": [
    "for weight, align in zip(weights, aligns):\n",
    "    dir = f\"{yaml_dir}/unfiltered/noisy_{align}\" \n",
    "    pathlib.Path(dir).mkdir(parents=True, exist_ok=True)\n",
    "    for p in np.arange(1,9,1)/10:\n",
    "        unfiltered_configs =  {\"wandb_project\": data + \"_noisy\",\n",
    "                                    \"wandb_group\": f\"align={align}_p={p}\",\n",
    "                                    \"train_triplets\": f\"../datasets/{triplet_dir}/align={align}_noisy/{p}/train_triplets.pkl\",\n",
    "                                    \"valid_triplets\": f\"../datasets/{triplet_dir}/align={align}_noisy/{p}/valid_triplets.pkl\",\n",
    "                                    \"test_triplets\": f\"../datasets/{triplet_dir}/align={align}_noisy/{p}/test_triplets.pkl\",\n",
    "                                    \"weights\": weight,\n",
    "                                    \"powers\": [2,2],\n",
    "                                    \"filtered\": False}\n",
    "        oc.save(unfiltered_configs, f\"{dir}/p={p}.yaml\")"
   ]
  },
  {
   "cell_type": "code",
   "execution_count": 34,
   "metadata": {},
   "outputs": [],
   "source": [
    "for weight, align in zip(weights, aligns):\n",
    "    dir = f\"{yaml_dir}/filtered/noisy_{align}\" \n",
    "    pathlib.Path(dir).mkdir(parents=True, exist_ok=True)\n",
    "    for p in np.arange(1,9,1)/10:\n",
    "        filtered_configs =  {\"wandb_project\": data + \"_noisy\",\n",
    "                                    \"wandb_group\": f\"align={align}_p={p}_filtered\",\n",
    "                                    \"train_triplets\": f\"../datasets/{triplet_dir}/align={align}_noisy/{p}/train_triplets_filtered.pkl\",\n",
    "                                    \"valid_triplets\": f\"../datasets/{triplet_dir}/align={align}_noisy/{p}/valid_triplets_filtered.pkl\",\n",
    "                                    \"test_triplets\": f\"../datasets/{triplet_dir}/align={align}_noisy/{p}/test_triplets_filtered.pkl\",\n",
    "                                    \"weights\": weight,\n",
    "                                    \"powers\": [2,2],\n",
    "                                    \"filtered\": True}\n",
    "        oc.save(filtered_configs, f\"{dir}/p={p}.yaml\")"
   ]
  },
  {
   "cell_type": "markdown",
   "metadata": {},
   "source": [
    "### num"
   ]
  },
  {
   "cell_type": "code",
   "execution_count": 35,
   "metadata": {},
   "outputs": [],
   "source": [
    "weights = [\n",
    "    [0,1,1,1],\n",
    "    [1,1,1,1],\n",
    "]\n",
    "aligns = [\"0.82\",\"0.92\"]\n",
    "\n",
    "data = \"wv_linear_sm\"\n",
    "triplet_dir = data + \"_triplets\"\n",
    "yaml_dir = f\"models/configs/{data}/triplets\""
   ]
  },
  {
   "cell_type": "code",
   "execution_count": 36,
   "metadata": {},
   "outputs": [],
   "source": [
    "for weight, align in zip(weights, aligns):\n",
    "    dir = f\"{yaml_dir}/unfiltered/num_{align}\" \n",
    "    pathlib.Path(dir).mkdir(parents=True, exist_ok=True)\n",
    "    for p in [1/2, 1/128, 1/64, 1/32,1/16,1/8,1/4]:\n",
    "        unfiltered_configs =  {\"wandb_project\": data + \"_num\",\n",
    "                                    \"wandb_group\": f\"align={align}_p={p}\",\n",
    "                                    \"train_triplets\": f\"../datasets/{triplet_dir}/align={align}_num/{p}/train_triplets.pkl\",\n",
    "                                    \"valid_triplets\": f\"../datasets/{triplet_dir}/align={align}_num/{p}/valid_triplets.pkl\",\n",
    "                                    \"test_triplets\": f\"../datasets/{triplet_dir}/align={align}_num/{p}/test_triplets.pkl\",\n",
    "                                    \"weights\": weight,\n",
    "                                    \"powers\": [2,2],\n",
    "                                    \"filtered\": False,\n",
    "                                    \"model\": \"MTL_slow\"}\n",
    "        oc.save(unfiltered_configs, f\"{dir}/p={p}.yaml\")\n"
   ]
  },
  {
   "cell_type": "code",
   "execution_count": 37,
   "metadata": {},
   "outputs": [],
   "source": [
    "for weight, align in zip(weights, aligns):\n",
    "    dir = f\"{yaml_dir}/filtered/num_{align}\" \n",
    "    pathlib.Path(dir).mkdir(parents=True, exist_ok=True)\n",
    "    for p in [1/2, 1/128, 1/64, 1/32,1/16,1/8,1/4]:\n",
    "        filtered_configs =  {\"wandb_project\": data + \"_num\",\n",
    "                                    \"wandb_group\": f\"align={align}_p={p}_filtered\",\n",
    "                                    \"train_triplets\": f\"../datasets/{triplet_dir}/align={align}_num/{p}/train_triplets_filtered.pkl\",\n",
    "                                    \"valid_triplets\": f\"../datasets/{triplet_dir}/align={align}_num/{p}/valid_triplets_filtered.pkl\",\n",
    "                                    \"test_triplets\": f\"../datasets/{triplet_dir}/align={align}_num/{p}/test_triplets_filtered.pkl\",\n",
    "                                    \"weights\": weight,\n",
    "                                    \"powers\": [2,2],\n",
    "                                    \"filtered\": True,\n",
    "                                    \"model\": \"MTL_slow\"}\n",
    "        oc.save(filtered_configs, f\"{dir}/p={p}.yaml\")"
   ]
  },
  {
   "cell_type": "code",
   "execution_count": null,
   "metadata": {},
   "outputs": [],
   "source": []
  }
 ],
 "metadata": {
  "interpreter": {
   "hash": "2c73f886271c839d0ba877ba8b97f5003c6c6417a734903c0face75895daee34"
  },
  "kernelspec": {
   "display_name": "Python 3.7.11 ('han')",
   "language": "python",
   "name": "python3"
  },
  "language_info": {
   "codemirror_mode": {
    "name": "ipython",
    "version": 3
   },
   "file_extension": ".py",
   "mimetype": "text/x-python",
   "name": "python",
   "nbconvert_exporter": "python",
   "pygments_lexer": "ipython3",
   "version": "3.7.11"
  },
  "orig_nbformat": 4,
  "vscode": {
   "interpreter": {
    "hash": "2c73f886271c839d0ba877ba8b97f5003c6c6417a734903c0face75895daee34"
   }
  }
 },
 "nbformat": 4,
 "nbformat_minor": 2
}
