{
 "cells": [
  {
   "cell_type": "code",
   "execution_count": 1,
   "metadata": {},
   "outputs": [],
   "source": [
    "%load_ext autoreload\n",
    "%autoreload 2\n",
    "import os, pickle, csv, itertools, shutil, random\n",
    "import numpy as np\n",
    "import matplotlib.pyplot as plt\n",
    "import pandas as pd\n",
    "import torchvision, torch\n",
    "from torchvision import transforms\n",
    "from omegaconf import OmegaConf as oc\n",
    "\n",
    "%matplotlib inline\n",
    "%config InlineBackend.figure_format='retina'\n",
    "\n",
    "import utils.utils as utils\n",
    "import evals.embed_evals as evals\n",
    "import utils.plot_data as plot\n",
    "import utils.gen_triplets as gen\n",
    "import pathlib\n",
    "import warnings\n",
    "warnings.filterwarnings(\"ignore\")"
   ]
  },
  {
   "cell_type": "code",
   "execution_count": 2,
   "metadata": {},
   "outputs": [],
   "source": [
    "train_features = pickle.load(open(\"datasets/wv_3d_linear/train_features.pkl\",\"rb\"))\n",
    "valid_features = pickle.load(open(\"datasets/wv_3d_linear/valid_features.pkl\",\"rb\"))\n",
    "test_features = pickle.load(open(\"datasets/wv_3d_linear/test_features.pkl\",\"rb\"))\n",
    "y_train = np.array([x[1] for x in torchvision.datasets.ImageFolder(\"datasets/wv_3d_linear/train\")])\n",
    "y_valid = np.array([x[1] for x in torchvision.datasets.ImageFolder(\"datasets/wv_3d_linear/valid\")])\n",
    "y_test = np.array([x[1] for x in torchvision.datasets.ImageFolder(\"datasets/wv_3d_linear/test\")])"
   ]
  },
  {
   "cell_type": "markdown",
   "metadata": {},
   "source": [
    "#### aligns & filtered"
   ]
  },
  {
   "cell_type": "code",
   "execution_count": 4,
   "metadata": {},
   "outputs": [],
   "source": [
    "weights = [\n",
    "    [0,1,0,0],\n",
    "    [1,0,0,0],\n",
    "    [2048,1,0,0],\n",
    "    [1,2048,0,0],\n",
    "    [128,1,0,0],\n",
    "    [1,128,0,0],\n",
    "    [1,1,0,0]\n",
    "]\n",
    "aligns = [0.62,0.67,0.95,0.96,0.97,0.98,1]\n",
    "total = 30000\n",
    "triplet_dir = \"datasets/wv_3d_linear_triplets\""
   ]
  },
  {
   "cell_type": "code",
   "execution_count": 5,
   "metadata": {},
   "outputs": [
    {
     "name": "stdout",
     "output_type": "stream",
     "text": [
      "0.8228888888888889 0.8208333333333333 0.8268333333333333\n",
      "0.8257777777777778 0.833 0.8211666666666667\n",
      "0.8258333333333333 0.8235 0.8273333333333334\n",
      "0.827 0.8355 0.8208333333333333\n",
      "0.8333333333333334 0.8256666666666667 0.8263333333333334\n",
      "0.825 0.8298333333333333 0.8263333333333334\n",
      "0.8828888888888888 0.887 0.879\n"
     ]
    }
   ],
   "source": [
    "\n",
    "for weight,align in zip(weights, aligns):\n",
    "    train_triplets, valid_triplets, test_triplets, train_triplets_filtered, valid_triplets_filtered, test_triplets_filtered =\\\n",
    "        gen.get_alignment_filtered_triplets(train_features, valid_features, test_features, y_train, y_valid, y_test, weight, total)\n",
    "    print(len(train_triplets_filtered)/len(train_triplets), len(valid_triplets_filtered)/len(valid_triplets), len(test_triplets_filtered)/len(test_triplets))\n",
    "    align_dir = os.path.join(triplet_dir,f\"align={str(align)}\")\n",
    "    pathlib.Path(align_dir).mkdir(parents=True, exist_ok=True)\n",
    "    pickle.dump(train_triplets, open(f\"{align_dir}/train_triplets.pkl\", \"wb\"))\n",
    "    pickle.dump(valid_triplets, open(f\"{align_dir}/valid_triplets.pkl\", \"wb\"))\n",
    "    pickle.dump(test_triplets, open(f\"{align_dir}/test_triplets.pkl\", \"wb\"))\n",
    "    pickle.dump(train_triplets_filtered, open(f\"{align_dir}/train_triplets_filtered.pkl\",\"wb\"))\n",
    "    pickle.dump(valid_triplets_filtered, open(f\"{align_dir}/valid_triplets_filtered.pkl\",\"wb\"))\n",
    "    pickle.dump(test_triplets_filtered, open(f\"{align_dir}/test_triplets_filtered.pkl\",\"wb\"))"
   ]
  },
  {
   "cell_type": "markdown",
   "metadata": {},
   "source": [
    "### noisy"
   ]
  },
  {
   "cell_type": "code",
   "execution_count": 9,
   "metadata": {},
   "outputs": [],
   "source": [
    "aligns = [\"0.62\",\"0.97\"]\n",
    "triplet_dir = \"datasets/wv_3d_linear_triplets\""
   ]
  },
  {
   "cell_type": "code",
   "execution_count": 10,
   "metadata": {},
   "outputs": [],
   "source": [
    "for align in aligns:\n",
    "    train_triplets = pickle.load(open(f\"{triplet_dir}/align={align}/train_triplets.pkl\",\"rb\"))\n",
    "    valid_triplets = pickle.load(open(f\"{triplet_dir}/align={align}/valid_triplets.pkl\",\"rb\"))\n",
    "    test_triplets = pickle.load(open(f\"{triplet_dir}/align={align}/test_triplets.pkl\",\"rb\"))\n",
    "    for p in np.arange(1,9,1)/10:\n",
    "        dir = os.path.join(f\"{triplet_dir}/align={align}_noisy\",str(p))\n",
    "        pathlib.Path(dir).mkdir(parents=True, exist_ok=True)\n",
    "\n",
    "        train_noisy = gen.get_noisy_triplets(train_triplets, p)\n",
    "        valid_noisy = gen.get_noisy_triplets(valid_triplets, p)\n",
    "        test_noisy = gen.get_noisy_triplets(test_triplets, p)\n",
    "        pickle.dump(train_noisy, open(f\"{dir}/train_triplets.pkl\",\"wb\"))\n",
    "        pickle.dump(valid_noisy, open(f\"{dir}/valid_triplets.pkl\",\"wb\"))\n",
    "        pickle.dump(test_noisy, open(f\"{dir}/test_triplets.pkl\",\"wb\"))"
   ]
  },
  {
   "cell_type": "code",
   "execution_count": 11,
   "metadata": {},
   "outputs": [],
   "source": [
    "for align in aligns:    \n",
    "    for p in np.arange(1,9,1)/10:\n",
    "        dir = os.path.join(f\"{triplet_dir}/align={align}_noisy\",str(p))\n",
    "        train_triplets = pickle.load(open(f\"{dir}/train_triplets.pkl\",\"rb\"))\n",
    "        valid_triplets = pickle.load(open(f\"{dir}/valid_triplets.pkl\",\"rb\"))\n",
    "        test_triplets = pickle.load(open(f\"{dir}/test_triplets.pkl\",\"rb\"))\n",
    "        train_triplets_filtered = gen.filter_train_triplets(train_triplets, y_train)\n",
    "        valid_triplets_filtered = gen.filter_mixed_triplets(valid_triplets, y_train, y_valid)\n",
    "        test_triplets_filtered = gen.filter_mixed_triplets(test_triplets, y_train, y_test)\n",
    "        pickle.dump(train_triplets_filtered, open(f\"{dir}/train_triplets_filtered.pkl\",\"wb\"))\n",
    "        pickle.dump(valid_triplets_filtered, open(f\"{dir}/valid_triplets_filtered.pkl\",\"wb\"))\n",
    "        pickle.dump(test_triplets_filtered, open(f\"{dir}/test_triplets_filtered.pkl\",\"wb\"))"
   ]
  },
  {
   "cell_type": "markdown",
   "metadata": {},
   "source": [
    "### nums"
   ]
  },
  {
   "cell_type": "code",
   "execution_count": 12,
   "metadata": {},
   "outputs": [],
   "source": [
    "def dropout(triplets,p):\n",
    "    keepers = np.random.choice(np.arange(len(triplets)),int(len(triplets)*p),replace=False)\n",
    "    return np.array(triplets)[keepers]"
   ]
  },
  {
   "cell_type": "code",
   "execution_count": 13,
   "metadata": {},
   "outputs": [],
   "source": [
    "for align in aligns:\n",
    "    train_triplets = pickle.load(open(f\"{triplet_dir}/align={align}/train_triplets.pkl\",\"rb\"))\n",
    "    valid_triplets = pickle.load(open(f\"{triplet_dir}/align={align}/valid_triplets.pkl\",\"rb\"))\n",
    "    test_triplets = pickle.load(open(f\"{triplet_dir}/align={align}/test_triplets.pkl\",\"rb\"))\n",
    "    for p in [1/128,1/64,1/32,1/16,1/8,1/4,1/2]:\n",
    "        dir = os.path.join(f\"{triplet_dir}/align={align}_num\",str(p))\n",
    "        pathlib.Path(dir).mkdir(parents=True, exist_ok=True)\n",
    "\n",
    "        train_noisy = dropout(train_triplets, p)\n",
    "        valid_noisy = dropout(valid_triplets, p)\n",
    "        test_noisy = dropout(test_triplets, p)\n",
    "        pickle.dump(train_noisy, open(f\"{dir}/train_triplets.pkl\",\"wb\"))\n",
    "        pickle.dump(valid_noisy, open(f\"{dir}/valid_triplets.pkl\",\"wb\"))\n",
    "        pickle.dump(test_noisy, open(f\"{dir}/test_triplets.pkl\",\"wb\"))"
   ]
  },
  {
   "cell_type": "code",
   "execution_count": 14,
   "metadata": {},
   "outputs": [],
   "source": [
    "for align in aligns:\n",
    "    for p in [1/128,1/64,1/32,1/16,1/8,1/4,1/2]:\n",
    "        dir = os.path.join(f\"{triplet_dir}/align={align}_num\",str(p))\n",
    "        train_triplets = pickle.load(open(f\"{dir}/train_triplets.pkl\",\"rb\"))\n",
    "        valid_triplets = pickle.load(open(f\"{dir}/valid_triplets.pkl\",\"rb\"))\n",
    "        test_triplets = pickle.load(open(f\"{dir}/test_triplets.pkl\",\"rb\"))\n",
    "        train_triplets_filtered = gen.filter_train_triplets(train_triplets, y_train)\n",
    "        valid_triplets_filtered = gen.filter_mixed_triplets(valid_triplets, y_train, y_valid)\n",
    "        test_triplets_filtered = gen.filter_mixed_triplets(test_triplets, y_train, y_test)\n",
    "        pickle.dump(train_triplets_filtered, open(f\"{dir}/train_triplets_filtered.pkl\",\"wb\"))\n",
    "        pickle.dump(valid_triplets_filtered, open(f\"{dir}/valid_triplets_filtered.pkl\",\"wb\"))\n",
    "        pickle.dump(test_triplets_filtered, open(f\"{dir}/test_triplets_filtered.pkl\",\"wb\"))"
   ]
  },
  {
   "cell_type": "markdown",
   "metadata": {},
   "source": [
    "## yaml generation"
   ]
  },
  {
   "cell_type": "code",
   "execution_count": 35,
   "metadata": {},
   "outputs": [],
   "source": [
    "weights = [\n",
    "    [0,1,0,0],\n",
    "    [1,0,0,0],\n",
    "    [2048,1,0,0],\n",
    "    [1,2048,0,0],\n",
    "    [128,1,0,0],\n",
    "    [1,128,0,0],\n",
    "    [1,1,0,0]\n",
    "]\n",
    "aligns = [0.62,0.67,0.95,0.96,0.97,0.98,1]\n",
    "yaml_dir = \"models/configs/wv_3d_linear/triplets/aligns\"\n"
   ]
  },
  {
   "cell_type": "code",
   "execution_count": 36,
   "metadata": {},
   "outputs": [],
   "source": [
    "base_align = 0.62\n",
    "base = oc.load(f\"{yaml_dir}/align={base_align}.yaml\")\n",
    "for weight,align in zip(weights, aligns):\n",
    "    train_triplets = base.train_triplets.replace(str(base_align),str(align))\n",
    "    valid_triplets = base.valid_triplets.replace(str(base_align),str(align))\n",
    "    test_triplets = base.test_triplets.replace(str(base_align),str(align))\n",
    "    wandb_group = base.wandb_group.replace(str(base_align),str(align))\n",
    "    overwrite = {\"weights\":weight, \"train_triplets\":train_triplets,\"valid_triplets\":valid_triplets,\n",
    "    \"test_triplets\":test_triplets,\"wandb_group\":wandb_group}\n",
    "    oc.save(oc.merge(base,overwrite), f\"{yaml_dir}/align={align}.yaml\")"
   ]
  },
  {
   "cell_type": "code",
   "execution_count": 37,
   "metadata": {},
   "outputs": [],
   "source": [
    "base_align = 0.62\n",
    "base = oc.load(f\"{yaml_dir}/align={base_align}_filtered.yaml\")\n",
    "for weight,align in zip(weights, aligns):\n",
    "    train_triplets = base.train_triplets.replace(str(base_align),str(align))\n",
    "    valid_triplets = base.valid_triplets.replace(str(base_align),str(align))\n",
    "    test_triplets = base.test_triplets.replace(str(base_align),str(align))\n",
    "    wandb_group = base.wandb_group.replace(str(base_align),str(align))\n",
    "    overwrite = {\"weights\":weight, \"train_triplets\":train_triplets,\"valid_triplets\":valid_triplets,\n",
    "    \"test_triplets\":test_triplets,\"wandb_group\":wandb_group}\n",
    "    oc.save(oc.merge(base,overwrite), f\"{yaml_dir}/align={align}_filtered.yaml\")"
   ]
  },
  {
   "cell_type": "markdown",
   "metadata": {},
   "source": [
    "### noise"
   ]
  },
  {
   "cell_type": "code",
   "execution_count": 38,
   "metadata": {},
   "outputs": [],
   "source": [
    "aligns = [\"0.62\",\"0.97\"]\n",
    "base_p = 0.1\n",
    "yaml_dir = \"models/configs/wv_3d_linear/triplets\"\n",
    "for align in aligns:\n",
    "    dir = f\"{yaml_dir}/noisy_{align}\" \n",
    "    pathlib.Path(dir).mkdir(parents=True, exist_ok=True)\n",
    "    base_noisy = oc.load(f\"{dir}/p=0.1.yaml\")\n",
    "    for p in np.arange(1,9,1)/10:\n",
    "        train_triplets = base_noisy.train_triplets.replace(str(base_p),str(p))\n",
    "        valid_triplets = base_noisy.valid_triplets.replace(str(base_p),str(p))\n",
    "        test_triplets = base_noisy.test_triplets.replace(str(base_p),str(p))\n",
    "        wandb_group = base_noisy.wandb_group.replace(str(base_p),str(p))\n",
    "        overwrite = {\"train_triplets\":train_triplets,\"valid_triplets\":valid_triplets,\n",
    "        \"test_triplets\":test_triplets,\"wandb_group\":wandb_group}\n",
    "        oc.save(oc.merge(base_noisy,overwrite), f\"{dir}/p={p}.yaml\")"
   ]
  },
  {
   "cell_type": "code",
   "execution_count": 39,
   "metadata": {},
   "outputs": [],
   "source": [
    "aligns = [\"0.62\",\"0.97\"]\n",
    "base_p = 0.1\n",
    "for align in aligns:\n",
    "    dir = f\"{yaml_dir}/noisy_{align}\" \n",
    "    pathlib.Path(dir).mkdir(parents=True, exist_ok=True)\n",
    "    base_noisy = oc.load(f\"{dir}/p=0.1_filtered.yaml\")\n",
    "    for p in np.arange(1,9,1)/10:\n",
    "        train_triplets = base_noisy.train_triplets.replace(str(base_p),str(p))\n",
    "        valid_triplets = base_noisy.valid_triplets.replace(str(base_p),str(p))\n",
    "        test_triplets = base_noisy.test_triplets.replace(str(base_p),str(p))\n",
    "        wandb_group = base_noisy.wandb_group.replace(str(base_p),str(p))\n",
    "        overwrite = {\"train_triplets\":train_triplets,\"valid_triplets\":valid_triplets,\n",
    "        \"test_triplets\":test_triplets,\"wandb_group\":wandb_group}\n",
    "        oc.save(oc.merge(base_noisy,overwrite), f\"{dir}/p={p}_filtered.yaml\")"
   ]
  },
  {
   "cell_type": "markdown",
   "metadata": {},
   "source": [
    "### num"
   ]
  },
  {
   "cell_type": "code",
   "execution_count": 40,
   "metadata": {},
   "outputs": [],
   "source": [
    "aligns = [\"0.62\",\"0.97\"]\n",
    "base_p = 0.5\n",
    "yaml_dir = \"models/configs/wv_3d_linear/triplets\"\n",
    "for align in aligns:\n",
    "    dir = f\"{yaml_dir}/num_{align}\" \n",
    "    pathlib.Path(dir).mkdir(parents=True, exist_ok=True)\n",
    "    base_num = oc.load(f\"{dir}/p={base_p}.yaml\")\n",
    "    for p in [1/2, 1/128, 1/64, 1/32,1/16,1/8,1/4]:\n",
    "        train_triplets = base_num.train_triplets.replace(str(base_p),str(p))\n",
    "        valid_triplets = base_num.valid_triplets.replace(str(base_p),str(p))\n",
    "        test_triplets = base_num.test_triplets.replace(str(base_p),str(p))\n",
    "        wandb_group = base_num.wandb_group.replace(str(base_p),str(p))\n",
    "        overwrite = {\"train_triplets\":train_triplets,\"valid_triplets\":valid_triplets,\n",
    "        \"test_triplets\":test_triplets,\"wandb_group\":wandb_group}\n",
    "        oc.save(oc.merge(base_num,overwrite), f\"{dir}/p={p}.yaml\")"
   ]
  },
  {
   "cell_type": "code",
   "execution_count": 41,
   "metadata": {},
   "outputs": [],
   "source": [
    "aligns = [\"0.62\",\"0.97\"]\n",
    "base_p = 0.5\n",
    "yaml_dir = \"models/configs/wv_3d_linear/triplets\"\n",
    "for align in aligns:\n",
    "    dir = f\"{yaml_dir}/num_{align}\" \n",
    "    pathlib.Path(dir).mkdir(parents=True, exist_ok=True)\n",
    "    base_num = oc.load(f\"{dir}/p={base_p}_filtered.yaml\")\n",
    "    for p in [1/2, 1/128, 1/64, 1/32,1/16,1/8,1/4]:\n",
    "        train_triplets = base_num.train_triplets.replace(str(base_p),str(p))\n",
    "        valid_triplets = base_num.valid_triplets.replace(str(base_p),str(p))\n",
    "        test_triplets = base_num.test_triplets.replace(str(base_p),str(p))\n",
    "        wandb_group = base_num.wandb_group.replace(str(base_p),str(p))\n",
    "        overwrite = {\"train_triplets\":train_triplets,\"valid_triplets\":valid_triplets,\n",
    "        \"test_triplets\":test_triplets,\"wandb_group\":wandb_group}\n",
    "        oc.save(oc.merge(base_num,overwrite), f\"{dir}/p={p}_filtered.yaml\")"
   ]
  },
  {
   "cell_type": "code",
   "execution_count": null,
   "metadata": {},
   "outputs": [],
   "source": []
  }
 ],
 "metadata": {
  "interpreter": {
   "hash": "2c73f886271c839d0ba877ba8b97f5003c6c6417a734903c0face75895daee34"
  },
  "kernelspec": {
   "display_name": "Python 3.7.11 ('han')",
   "language": "python",
   "name": "python3"
  },
  "language_info": {
   "codemirror_mode": {
    "name": "ipython",
    "version": 3
   },
   "file_extension": ".py",
   "mimetype": "text/x-python",
   "name": "python",
   "nbconvert_exporter": "python",
   "pygments_lexer": "ipython3",
   "version": "3.7.11"
  },
  "orig_nbformat": 4,
  "vscode": {
   "interpreter": {
    "hash": "2c73f886271c839d0ba877ba8b97f5003c6c6417a734903c0face75895daee34"
   }
  }
 },
 "nbformat": 4,
 "nbformat_minor": 2
}
