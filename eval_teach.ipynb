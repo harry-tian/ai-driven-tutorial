{
 "cells": [
  {
   "cell_type": "code",
   "execution_count": 1,
   "metadata": {},
   "outputs": [],
   "source": [
    "import os, pickle\n",
    "# import pandas as pd\n",
    "import numpy as np\n",
    "# import matplotlib.pyplot as plt\n",
    "# import torchvision\n",
    "# import torch\n",
    "\n",
    "import warnings\n",
    "warnings.filterwarnings(\"ignore\")\n",
    "\n",
    "# import models.utils as utils\n",
    "# import csv\n",
    "# from torchvision import transforms, models\n",
    "import evals.teaching_evals as eval\n",
    "import pickle"
   ]
  },
  {
   "cell_type": "markdown",
   "metadata": {},
   "source": [
    "## clf model embeds"
   ]
  },
  {
   "cell_type": "code",
   "execution_count": 2,
   "metadata": {},
   "outputs": [],
   "source": [
    "train_path = \"/net/scratch/hanliu-shared/data/bm/embs/dwac_train_emb10.merged2.pkl\"\n",
    "valid_path = \"/net/scratch/hanliu-shared/data/bm/embs/dwac_valid_emb10.merged2.pkl\"\n",
    "\n",
    "_, _, y_train, x_train = pickle.load(open(train_path, \"rb\"))\n",
    "_, _, y_valid, x_valid = pickle.load(open(valid_path, \"rb\"))"
   ]
  },
  {
   "cell_type": "code",
   "execution_count": 8,
   "metadata": {},
   "outputs": [
    {
     "name": "stdout",
     "output_type": "stream",
     "text": [
      "full_knn_score: 0.9\n",
      "random_knn_scores: [0.87    0.858   0.88225 0.88075 0.87975 0.88475 0.8855  0.87875 0.888\n",
      " 0.887   0.88325 0.888   0.884   0.88875 0.889   0.882   0.88675 0.8915 ]\n",
      "global_prototype_knn_scores: [0.9, 0.9, 0.9, 0.9, 0.9, 0.925, 0.925, 0.925, 0.925, 0.925, 0.9, 0.9, 0.9, 0.9, 0.9, 0.9, 0.9, 0.9]\n",
      "local_prototype_knn_scores: [0.9, 0.9, 0.9, 0.9, 0.9, 0.925, 0.925, 0.925, 0.925, 0.925, 0.9, 0.9, 0.9, 0.9, 0.9, 0.9, 0.9, 0.9]\n"
     ]
    }
   ],
   "source": [
    "full_knn_score, (random_knn_scores, random_knn_ci), global_prototype_knn_scores, local_prototype_knn_scores = eval.get_all_knn_scores(x_train, y_train, x_valid, y_valid, m_range=np.arange(3,21), selection_alg=\"protodash\")"
   ]
  },
  {
   "cell_type": "code",
   "execution_count": 9,
   "metadata": {},
   "outputs": [],
   "source": [
    "x_train = pickle.load(open(\"embeds/resn_bm_train.pkl\",\"rb\"))\n",
    "x_valid = pickle.load(open(\"embeds/resn_bm_valid.pkl\",\"rb\"))"
   ]
  },
  {
   "cell_type": "code",
   "execution_count": 10,
   "metadata": {},
   "outputs": [
    {
     "name": "stdout",
     "output_type": "stream",
     "text": [
      "full_knn_score: 0.925\n",
      "random_knn_scores: [0.93375 0.9335  0.93025 0.9295  0.93175 0.929   0.93025 0.9305  0.932\n",
      " 0.93275 0.9325  0.92975 0.93    0.93375 0.9335  0.92775 0.93075 0.93125]\n",
      "global_prototype_knn_scores: [0.975, 0.975, 0.975, 0.975, 0.975, 0.975, 0.975, 0.925, 0.925, 0.925, 0.925, 0.925, 0.925, 0.925, 0.925, 0.925, 0.925, 0.925]\n",
      "local_prototype_knn_scores: [0.975, 0.975, 0.975, 0.975, 0.975, 0.975, 0.975, 0.925, 0.925, 0.925, 0.925, 0.925, 0.925, 0.925, 0.925, 0.925, 0.925, 0.925]\n"
     ]
    }
   ],
   "source": [
    "full_knn_score, (random_knn_scores, random_knn_ci), global_prototype_knn_scores, local_prototype_knn_scores = eval.get_all_knn_scores(x_train, y_train, x_valid, y_valid, m_range=np.arange(3,21), selection_alg=\"protodash\")"
   ]
  },
  {
   "cell_type": "markdown",
   "metadata": {},
   "source": [
    "## triplet net eval"
   ]
  },
  {
   "cell_type": "code",
   "execution_count": 11,
   "metadata": {},
   "outputs": [],
   "source": [
    "x_train = pickle.load(open(\"embeds/TN_bm_train.pkl\",\"rb\"))\n",
    "x_valid = pickle.load(open(\"embeds/TN_bm_valid.pkl\",\"rb\"))"
   ]
  },
  {
   "cell_type": "code",
   "execution_count": 12,
   "metadata": {},
   "outputs": [
    {
     "name": "stdout",
     "output_type": "stream",
     "text": [
      "full_knn_score: 0.75\n",
      "random_knn_scores: [0.58725 0.5895  0.55525 0.59325 0.59125 0.62325 0.6185  0.61825 0.61525\n",
      " 0.61775 0.64825 0.6555  0.65    0.633   0.65125 0.6585  0.65075 0.66575]\n",
      "global_prototype_knn_scores: [0.475, 0.5, 0.5, 0.5, 0.4, 0.575, 0.675, 0.675, 0.65, 0.65, 0.65, 0.65, 0.625, 0.625, 0.625, 0.6, 0.6, 0.6]\n",
      "local_prototype_knn_scores: [0.475, 0.5, 0.5, 0.5, 0.4, 0.575, 0.675, 0.675, 0.65, 0.65, 0.65, 0.65, 0.625, 0.625, 0.625, 0.6, 0.6, 0.6]\n"
     ]
    }
   ],
   "source": [
    "full_knn_score, (random_knn_scores, random_knn_ci), global_prototype_knn_scores, local_prototype_knn_scores = eval.get_all_knn_scores(x_train, y_train, x_valid, y_valid, m_range=np.arange(3,21), selection_alg=\"protodash\")"
   ]
  },
  {
   "cell_type": "markdown",
   "metadata": {},
   "source": [
    "## MTL eval"
   ]
  },
  {
   "cell_type": "code",
   "execution_count": 3,
   "metadata": {},
   "outputs": [],
   "source": [
    "x_train = pickle.load(open(\"embeds/MTL_BCETN_bm_train.pkl\",\"rb\"))\n",
    "x_valid = pickle.load(open(\"embeds/MTL_BCETN_bm_valid.pkl\",\"rb\"))"
   ]
  },
  {
   "cell_type": "code",
   "execution_count": 4,
   "metadata": {},
   "outputs": [
    {
     "name": "stdout",
     "output_type": "stream",
     "text": [
      "full_knn_score: 0.95\n",
      "random_knn_scores: [0.68475 0.69175 0.732   0.7695  0.76425 0.7815  0.79625 0.82425 0.84725\n",
      " 0.844   0.85175 0.87325 0.8655  0.8635  0.88425 0.88525 0.88925 0.896  ]\n",
      "global_prototype_knn_scores: [0.5, 0.5, 0.6, 0.6, 0.6, 0.6, 0.825, 0.725, 0.725, 0.8, 0.7, 0.725, 0.725, 0.725, 0.65, 0.65, 0.65, 0.65]\n"
     ]
    }
   ],
   "source": [
    "full_knn_score, (random_knn_scores, random_knn_ci), global_prototype_knn_scores, local_prototype_knn_scores = eval.get_all_knn_scores(x_train, y_train, x_valid, y_valid, m_range=np.arange(3,21), selection_alg=\"protodash\")"
   ]
  },
  {
   "cell_type": "markdown",
   "metadata": {},
   "source": [
    "## t-STE eval"
   ]
  },
  {
   "cell_type": "code",
   "execution_count": null,
   "metadata": {},
   "outputs": [],
   "source": [
    "# from models.tste import tste\n",
    "# train_triplets = \"data/bm_lpips_triplets/train_triplets.pkl\"\n",
    "# valid_triplets = \"data/bm_lpips_triplets/valid_triplets.pkl\"\n",
    "# train_triplets = pickle.load(open(train_triplets, \"rb\"))\n",
    "# valid_triplets = pickle.load(open(valid_triplets, \"rb\"))\n",
    "# train_embeds = tste(np.array(train_triplets), no_dims=2, verbose=True, max_iter=1000)\n",
    "# valid_embeds = tste(np.array(valid_triplets), no_dims=2, verbose=True, max_iter=1000)\n",
    "# pickle.dump(train_embeds, open(\"embeds/tste_bm_train.pkl\",\"wb\"))\n",
    "# pickle.dump(valid_embeds, open(\"embeds/tste_bm_valid.pkl\",\"wb\"))"
   ]
  },
  {
   "cell_type": "code",
   "execution_count": 5,
   "metadata": {},
   "outputs": [],
   "source": [
    "x_train = pickle.load(open(\"embeds/tste_bm_train.pkl\",\"rb\"))\n",
    "x_valid = pickle.load(open(\"embeds/tste_bm_valid.pkl\",\"rb\"))"
   ]
  },
  {
   "cell_type": "code",
   "execution_count": 6,
   "metadata": {},
   "outputs": [
    {
     "ename": "AttributeError",
     "evalue": "'NoneType' object has no attribute 'reshape'",
     "output_type": "error",
     "traceback": [
      "\u001b[0;31m---------------------------------------------------------------------------\u001b[0m",
      "\u001b[0;31mAttributeError\u001b[0m                            Traceback (most recent call last)",
      "\u001b[0;32m/tmp/ipykernel_1869422/328459851.py\u001b[0m in \u001b[0;36m<module>\u001b[0;34m\u001b[0m\n\u001b[0;32m----> 1\u001b[0;31m \u001b[0mfull_knn_score\u001b[0m\u001b[0;34m,\u001b[0m \u001b[0;34m(\u001b[0m\u001b[0mrandom_knn_scores\u001b[0m\u001b[0;34m,\u001b[0m \u001b[0mrandom_knn_ci\u001b[0m\u001b[0;34m)\u001b[0m\u001b[0;34m,\u001b[0m \u001b[0mglobal_prototype_knn_scores\u001b[0m\u001b[0;34m,\u001b[0m \u001b[0mlocal_prototype_knn_scores\u001b[0m \u001b[0;34m=\u001b[0m \u001b[0meval\u001b[0m\u001b[0;34m.\u001b[0m\u001b[0mget_all_knn_scores\u001b[0m\u001b[0;34m(\u001b[0m\u001b[0mx_train\u001b[0m\u001b[0;34m,\u001b[0m \u001b[0my_train\u001b[0m\u001b[0;34m,\u001b[0m \u001b[0mx_valid\u001b[0m\u001b[0;34m,\u001b[0m \u001b[0my_valid\u001b[0m\u001b[0;34m,\u001b[0m \u001b[0mm_range\u001b[0m\u001b[0;34m=\u001b[0m\u001b[0mnp\u001b[0m\u001b[0;34m.\u001b[0m\u001b[0marange\u001b[0m\u001b[0;34m(\u001b[0m\u001b[0;36m3\u001b[0m\u001b[0;34m,\u001b[0m\u001b[0;36m21\u001b[0m\u001b[0;34m)\u001b[0m\u001b[0;34m,\u001b[0m \u001b[0mselection_alg\u001b[0m\u001b[0;34m=\u001b[0m\u001b[0;34m\"protodash\"\u001b[0m\u001b[0;34m)\u001b[0m\u001b[0;34m\u001b[0m\u001b[0;34m\u001b[0m\u001b[0m\n\u001b[0m",
      "\u001b[0;32m/net/scratch/tianh/explain_teach/evals/teaching_evals.py\u001b[0m in \u001b[0;36mget_all_knn_scores\u001b[0;34m(x_train, y_train, x_valid, y_valid, k, m_range, selection_alg)\u001b[0m\n\u001b[1;32m     16\u001b[0m     \u001b[0mfull_knn_score\u001b[0m \u001b[0;34m=\u001b[0m \u001b[0mget_knn_score\u001b[0m\u001b[0;34m(\u001b[0m\u001b[0mx_train\u001b[0m\u001b[0;34m,\u001b[0m \u001b[0my_train\u001b[0m\u001b[0;34m,\u001b[0m \u001b[0mx_valid\u001b[0m\u001b[0;34m,\u001b[0m \u001b[0my_valid\u001b[0m\u001b[0;34m,\u001b[0m \u001b[0mk\u001b[0m\u001b[0;34m)\u001b[0m\u001b[0;34m\u001b[0m\u001b[0;34m\u001b[0m\u001b[0m\n\u001b[1;32m     17\u001b[0m     \u001b[0mrandom_knn_scores\u001b[0m\u001b[0;34m,\u001b[0m \u001b[0mrandom_knn_ci\u001b[0m \u001b[0;34m=\u001b[0m \u001b[0mget_random_knn_scores\u001b[0m\u001b[0;34m(\u001b[0m\u001b[0mx_train\u001b[0m\u001b[0;34m,\u001b[0m \u001b[0my_train\u001b[0m\u001b[0;34m,\u001b[0m \u001b[0mx_valid\u001b[0m\u001b[0;34m,\u001b[0m \u001b[0my_valid\u001b[0m\u001b[0;34m,\u001b[0m \u001b[0mk\u001b[0m\u001b[0;34m,\u001b[0m \u001b[0mm_range\u001b[0m\u001b[0;34m)\u001b[0m\u001b[0;34m\u001b[0m\u001b[0;34m\u001b[0m\u001b[0m\n\u001b[0;32m---> 18\u001b[0;31m     \u001b[0mglobal_prototype_knn_scores\u001b[0m \u001b[0;34m=\u001b[0m \u001b[0mget_global_prototype_knn_scores\u001b[0m\u001b[0;34m(\u001b[0m\u001b[0mx_train\u001b[0m\u001b[0;34m,\u001b[0m \u001b[0my_train\u001b[0m\u001b[0;34m,\u001b[0m \u001b[0mx_valid\u001b[0m\u001b[0;34m,\u001b[0m \u001b[0my_valid\u001b[0m\u001b[0;34m,\u001b[0m \u001b[0mk\u001b[0m\u001b[0;34m,\u001b[0m \u001b[0mm_range\u001b[0m\u001b[0;34m,\u001b[0m \u001b[0mselection_alg\u001b[0m\u001b[0;34m)\u001b[0m\u001b[0;34m\u001b[0m\u001b[0;34m\u001b[0m\u001b[0m\n\u001b[0m\u001b[1;32m     19\u001b[0m     \u001b[0;31m# local_prototype_knn_scores = get_local_prototype_knn_scores(x_train, y_train, x_valid, y_valid, k, m_range, selection_alg)\u001b[0m\u001b[0;34m\u001b[0m\u001b[0;34m\u001b[0m\u001b[0;34m\u001b[0m\u001b[0m\n\u001b[1;32m     20\u001b[0m     \u001b[0mlocal_prototype_knn_scores\u001b[0m \u001b[0;34m=\u001b[0m \u001b[0;36m0\u001b[0m\u001b[0;34m\u001b[0m\u001b[0;34m\u001b[0m\u001b[0m\n",
      "\u001b[0;32m/net/scratch/tianh/explain_teach/evals/teaching_evals.py\u001b[0m in \u001b[0;36mget_global_prototype_knn_scores\u001b[0;34m(x_train, y_train, x_valid, y_valid, k, m_range, selection_alg)\u001b[0m\n\u001b[1;32m     72\u001b[0m     \u001b[0mglobal_prototype_knn_scores\u001b[0m \u001b[0;34m=\u001b[0m \u001b[0;34m[\u001b[0m\u001b[0;34m]\u001b[0m\u001b[0;34m\u001b[0m\u001b[0;34m\u001b[0m\u001b[0m\n\u001b[1;32m     73\u001b[0m     \u001b[0;32mfor\u001b[0m \u001b[0mm\u001b[0m \u001b[0;32min\u001b[0m \u001b[0mm_range\u001b[0m\u001b[0;34m:\u001b[0m\u001b[0;34m\u001b[0m\u001b[0;34m\u001b[0m\u001b[0m\n\u001b[0;32m---> 74\u001b[0;31m         \u001b[0mprototype_idx\u001b[0m \u001b[0;34m=\u001b[0m \u001b[0mselection_alg\u001b[0m\u001b[0;34m(\u001b[0m\u001b[0mx_train\u001b[0m\u001b[0;34m,\u001b[0m \u001b[0mm\u001b[0m\u001b[0;34m)\u001b[0m\u001b[0;34m\u001b[0m\u001b[0;34m\u001b[0m\u001b[0m\n\u001b[0m\u001b[1;32m     75\u001b[0m         \u001b[0mknn_score\u001b[0m \u001b[0;34m=\u001b[0m \u001b[0mget_knn_score\u001b[0m\u001b[0;34m(\u001b[0m\u001b[0mx_train\u001b[0m\u001b[0;34m[\u001b[0m\u001b[0mprototype_idx\u001b[0m\u001b[0;34m]\u001b[0m\u001b[0;34m,\u001b[0m \u001b[0my_train\u001b[0m\u001b[0;34m[\u001b[0m\u001b[0mprototype_idx\u001b[0m\u001b[0;34m]\u001b[0m\u001b[0;34m,\u001b[0m \u001b[0mx_valid\u001b[0m\u001b[0;34m,\u001b[0m \u001b[0my_valid\u001b[0m\u001b[0;34m,\u001b[0m \u001b[0mk\u001b[0m\u001b[0;34m=\u001b[0m\u001b[0mk\u001b[0m\u001b[0;34m)\u001b[0m\u001b[0;34m\u001b[0m\u001b[0;34m\u001b[0m\u001b[0m\n\u001b[1;32m     76\u001b[0m         \u001b[0mglobal_prototype_knn_scores\u001b[0m\u001b[0;34m.\u001b[0m\u001b[0mappend\u001b[0m\u001b[0;34m(\u001b[0m\u001b[0mknn_score\u001b[0m\u001b[0;34m)\u001b[0m\u001b[0;34m\u001b[0m\u001b[0;34m\u001b[0m\u001b[0m\n",
      "\u001b[0;32m/net/scratch/tianh/explain_teach/evals/teaching_evals.py\u001b[0m in \u001b[0;36mprotodash\u001b[0;34m(x_train, m, kernelType)\u001b[0m\n\u001b[1;32m     80\u001b[0m \u001b[0;32mdef\u001b[0m \u001b[0mprotodash\u001b[0m\u001b[0;34m(\u001b[0m\u001b[0mx_train\u001b[0m\u001b[0;34m,\u001b[0m \u001b[0mm\u001b[0m\u001b[0;34m,\u001b[0m \u001b[0mkernelType\u001b[0m\u001b[0;34m=\u001b[0m\u001b[0;34m\"Linear\"\u001b[0m\u001b[0;34m)\u001b[0m\u001b[0;34m:\u001b[0m\u001b[0;34m\u001b[0m\u001b[0;34m\u001b[0m\u001b[0m\n\u001b[1;32m     81\u001b[0m     \u001b[0mprotodash\u001b[0m \u001b[0;34m=\u001b[0m \u001b[0mProtodashExplainer\u001b[0m\u001b[0;34m(\u001b[0m\u001b[0;34m)\u001b[0m\u001b[0;34m\u001b[0m\u001b[0;34m\u001b[0m\u001b[0m\n\u001b[0;32m---> 82\u001b[0;31m     \u001b[0m_\u001b[0m\u001b[0;34m,\u001b[0m \u001b[0mprototype_idx\u001b[0m\u001b[0;34m,\u001b[0m \u001b[0m_\u001b[0m \u001b[0;34m=\u001b[0m \u001b[0mprotodash\u001b[0m\u001b[0;34m.\u001b[0m\u001b[0mexplain\u001b[0m\u001b[0;34m(\u001b[0m\u001b[0mx_train\u001b[0m\u001b[0;34m,\u001b[0m \u001b[0mx_train\u001b[0m\u001b[0;34m,\u001b[0m \u001b[0mm\u001b[0m\u001b[0;34m=\u001b[0m\u001b[0mm\u001b[0m\u001b[0;34m,\u001b[0m \u001b[0mkernelType\u001b[0m\u001b[0;34m=\u001b[0m\u001b[0mkernelType\u001b[0m\u001b[0;34m)\u001b[0m\u001b[0;34m\u001b[0m\u001b[0;34m\u001b[0m\u001b[0m\n\u001b[0m\u001b[1;32m     83\u001b[0m     \u001b[0;32mreturn\u001b[0m \u001b[0mprototype_idx\u001b[0m\u001b[0;34m\u001b[0m\u001b[0;34m\u001b[0m\u001b[0m\n\u001b[1;32m     84\u001b[0m \u001b[0;34m\u001b[0m\u001b[0m\n",
      "\u001b[0;32m~/.conda/envs/han/lib/python3.7/site-packages/aix360/algorithms/protodash/PDASH.py\u001b[0m in \u001b[0;36mexplain\u001b[0;34m(self, X, Y, m, kernelType, sigma)\u001b[0m\n\u001b[1;32m     45\u001b[0m             \u001b[0mm\u001b[0m \u001b[0mselected\u001b[0m \u001b[0mprototypes\u001b[0m \u001b[0;32mfrom\u001b[0m \u001b[0mX\u001b[0m \u001b[0;32mand\u001b[0m \u001b[0mtheir\u001b[0m \u001b[0;34m(\u001b[0m\u001b[0munnormalized\u001b[0m\u001b[0;34m)\u001b[0m \u001b[0mimportance\u001b[0m \u001b[0mweights\u001b[0m\u001b[0;34m\u001b[0m\u001b[0;34m\u001b[0m\u001b[0m\n\u001b[1;32m     46\u001b[0m         \"\"\"\n\u001b[0;32m---> 47\u001b[0;31m         \u001b[0;32mreturn\u001b[0m\u001b[0;34m(\u001b[0m \u001b[0mHeuristicSetSelection\u001b[0m\u001b[0;34m(\u001b[0m\u001b[0mX\u001b[0m\u001b[0;34m,\u001b[0m \u001b[0mY\u001b[0m\u001b[0;34m,\u001b[0m \u001b[0mm\u001b[0m\u001b[0;34m,\u001b[0m \u001b[0mkernelType\u001b[0m\u001b[0;34m,\u001b[0m \u001b[0msigma\u001b[0m\u001b[0;34m)\u001b[0m \u001b[0;34m)\u001b[0m\u001b[0;34m\u001b[0m\u001b[0;34m\u001b[0m\u001b[0m\n\u001b[0m",
      "\u001b[0;32m~/.conda/envs/han/lib/python3.7/site-packages/aix360/algorithms/protodash/PDASH_utils.py\u001b[0m in \u001b[0;36mHeuristicSetSelection\u001b[0;34m(X, Y, m, kernelType, sigma)\u001b[0m\n\u001b[1;32m    219\u001b[0m                 \u001b[0mnewCurrSetValue\u001b[0m \u001b[0;34m=\u001b[0m \u001b[0mcurrSetValue\u001b[0m\u001b[0;34m\u001b[0m\u001b[0;34m\u001b[0m\u001b[0m\n\u001b[1;32m    220\u001b[0m             \u001b[0;32melse\u001b[0m\u001b[0;34m:\u001b[0m\u001b[0;34m\u001b[0m\u001b[0;34m\u001b[0m\u001b[0m\n\u001b[0;32m--> 221\u001b[0;31m                 \u001b[0;34m[\u001b[0m\u001b[0mnewCurrOptw\u001b[0m\u001b[0;34m,\u001b[0m \u001b[0mvalue\u001b[0m\u001b[0;34m]\u001b[0m \u001b[0;34m=\u001b[0m \u001b[0mrunOptimiser\u001b[0m\u001b[0;34m(\u001b[0m\u001b[0mcurrK\u001b[0m\u001b[0;34m,\u001b[0m \u001b[0mcurru\u001b[0m\u001b[0;34m,\u001b[0m \u001b[0mcurrOptw\u001b[0m\u001b[0;34m,\u001b[0m \u001b[0mmaxGradient\u001b[0m\u001b[0;34m)\u001b[0m\u001b[0;34m\u001b[0m\u001b[0;34m\u001b[0m\u001b[0m\n\u001b[0m\u001b[1;32m    222\u001b[0m                 \u001b[0mnewCurrSetValue\u001b[0m \u001b[0;34m=\u001b[0m \u001b[0;34m-\u001b[0m\u001b[0mvalue\u001b[0m\u001b[0;34m\u001b[0m\u001b[0;34m\u001b[0m\u001b[0m\n\u001b[1;32m    223\u001b[0m \u001b[0;34m\u001b[0m\u001b[0m\n",
      "\u001b[0;32m~/.conda/envs/han/lib/python3.7/site-packages/aix360/algorithms/protodash/PDASH_utils.py\u001b[0m in \u001b[0;36mrunOptimiser\u001b[0;34m(K, u, preOptw, initialValue, maxWeight)\u001b[0m\n\u001b[1;32m     38\u001b[0m \u001b[0;34m\u001b[0m\u001b[0m\n\u001b[1;32m     39\u001b[0m     \u001b[0;31m# compute objective function value\u001b[0m\u001b[0;34m\u001b[0m\u001b[0;34m\u001b[0m\u001b[0;34m\u001b[0m\u001b[0m\n\u001b[0;32m---> 40\u001b[0;31m     \u001b[0mx\u001b[0m \u001b[0;34m=\u001b[0m \u001b[0msol\u001b[0m\u001b[0;34m.\u001b[0m\u001b[0mreshape\u001b[0m\u001b[0;34m(\u001b[0m\u001b[0msol\u001b[0m\u001b[0;34m.\u001b[0m\u001b[0mshape\u001b[0m\u001b[0;34m[\u001b[0m\u001b[0;36m0\u001b[0m\u001b[0;34m]\u001b[0m\u001b[0;34m,\u001b[0m \u001b[0;36m1\u001b[0m\u001b[0;34m)\u001b[0m\u001b[0;34m\u001b[0m\u001b[0;34m\u001b[0m\u001b[0m\n\u001b[0m\u001b[1;32m     41\u001b[0m     \u001b[0mP\u001b[0m \u001b[0;34m=\u001b[0m \u001b[0mK\u001b[0m\u001b[0;34m\u001b[0m\u001b[0;34m\u001b[0m\u001b[0m\n\u001b[1;32m     42\u001b[0m     \u001b[0mq\u001b[0m \u001b[0;34m=\u001b[0m \u001b[0;34m-\u001b[0m \u001b[0mu\u001b[0m\u001b[0;34m.\u001b[0m\u001b[0mreshape\u001b[0m\u001b[0;34m(\u001b[0m\u001b[0mu\u001b[0m\u001b[0;34m.\u001b[0m\u001b[0mshape\u001b[0m\u001b[0;34m[\u001b[0m\u001b[0;36m0\u001b[0m\u001b[0;34m]\u001b[0m\u001b[0;34m,\u001b[0m \u001b[0;36m1\u001b[0m\u001b[0;34m)\u001b[0m\u001b[0;34m\u001b[0m\u001b[0;34m\u001b[0m\u001b[0m\n",
      "\u001b[0;31mAttributeError\u001b[0m: 'NoneType' object has no attribute 'reshape'"
     ]
    }
   ],
   "source": [
    "full_knn_score, (random_knn_scores, random_knn_ci), global_prototype_knn_scores, local_prototype_knn_scores = eval.get_all_knn_scores(x_train, y_train, x_valid, y_valid, m_range=np.arange(3,21), selection_alg=\"protodash\")"
   ]
  }
 ],
 "metadata": {
  "interpreter": {
   "hash": "6cc16f6c2e0c4a76d01357cefbbe61554f489b2ed194d62da059a4313aaf88b2"
  },
  "kernelspec": {
   "display_name": "Python 3.6.13 64-bit ('aix360': conda)",
   "name": "python3"
  },
  "language_info": {
   "codemirror_mode": {
    "name": "ipython",
    "version": 3
   },
   "file_extension": ".py",
   "mimetype": "text/x-python",
   "name": "python",
   "nbconvert_exporter": "python",
   "pygments_lexer": "ipython3",
   "version": "3.7.11"
  },
  "orig_nbformat": 4
 },
 "nbformat": 4,
 "nbformat_minor": 2
}
