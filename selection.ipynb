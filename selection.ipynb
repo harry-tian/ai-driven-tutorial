{
 "cells": [
  {
   "cell_type": "code",
   "execution_count": 1,
   "metadata": {},
   "outputs": [],
   "source": [
    "import os, pickle\n",
    "import numpy as np\n",
    "import torch"
   ]
  },
  {
   "cell_type": "code",
   "execution_count": 2,
   "metadata": {},
   "outputs": [],
   "source": [
    "triplets = np.array(pickle.load(open(\"data/bm_triplets/3c2_unique=182/train_triplets.pkl\", \"rb\")))\n",
    "embeds = pickle.load(open(\"embeds/bm/human/MTL.BCETN_train_emb10.pkl\", \"rb\"))\n",
    "labels = pickle.load(open(\"/net/scratch/hanliu-shared/data/bm/embs/dwac_train_emb10.merged10.pkl\", \"rb\"))[2]"
   ]
  },
  {
   "cell_type": "code",
   "execution_count": 3,
   "metadata": {},
   "outputs": [],
   "source": [
    "skey = lambda k: tuple(sorted(k))\n",
    "\n",
    "def get_topk(scores, visits, topk, type=\"count\", confidence=0.01, verbose=False):\n",
    "    import heapq\n",
    "    topk = np.min([len(scores), topk])\n",
    "    if type == \"count\":\n",
    "        keys = heapq.nlargest(topk, scores, key=scores.__getitem__)\n",
    "        weights = [scores[k] for k in keys]\n",
    "    if type == \"acc\":\n",
    "        acc = {b: scores[b] / (visits[b] + 1e-10) for b in scores}\n",
    "        keys = heapq.nlargest(topk, acc, key=acc.__getitem__)\n",
    "        weights = [acc[k] for k in keys]\n",
    "    if type == \"lcb\":\n",
    "        t = sum(visits.values())\n",
    "        acc = {b: scores[b] / (visits[b] + 1e-10) for b in scores}\n",
    "        lcb = {b: acc[b] - confidence * np.sqrt(t / visits[b] if visits[b] > 0 else 0) for b in scores}\n",
    "        if verbose: \n",
    "            print({b: lcb[b] for b in heapq.nlargest(3, lcb, key=lcb.__getitem__)})\n",
    "        keys = heapq.nlargest(topk, lcb, key=lcb.__getitem__)\n",
    "        weights = [lcb[k] for k in keys] \n",
    "    if type == \"ucb\":\n",
    "        t = sum(visits.values())\n",
    "        acc = {b: scores[b] / (visits[b] + 1e-10) for b in scores}\n",
    "        ucb = {b: acc[b] + confidence * np.sqrt(t / visits[b] if visits[b] > 0 else 0) for b in scores}\n",
    "        if verbose: \n",
    "            print({b: ucb[b] for b in heapq.nlargest(3, ucb, key=ucb.__getitem__)})\n",
    "        keys = heapq.nlargest(topk, ucb, key=ucb.__getitem__)\n",
    "        weights = [ucb[k] for k in keys] \n",
    "    if verbose: \n",
    "        print(keys[0], weights[0], topk)\n",
    "    return keys, weights\n",
    "\n",
    "def get_candidates_with_label(scores, visits, labels):\n",
    "    pos = np.where(labels > 0)[0]\n",
    "    neg = np.where(labels == 0)[0]\n",
    "    candidates = [skey([p, n]) for p in pos for n in neg]\n",
    "    candidate_scores = {c: scores[c] for c in candidates}\n",
    "    candidate_visits = {c: visits[c] for c in candidates}\n",
    "    return candidate_scores, candidate_visits\n",
    "\n",
    "def select(embeds, m, triplets, labels=None, topk=10, verbose=False):\n",
    "    if m < 3: \n",
    "        raise Exception(\"Cannot select less than 2 examples!\")\n",
    "    \n",
    "    import torch\n",
    "    z = torch.tensor(embeds)\n",
    "    dist = torch.cdist(z, z).numpy()\n",
    "    uni = np.unique(triplets)\n",
    "    n = len(uni)\n",
    "\n",
    "    from collections import defaultdict\n",
    "    from copy import deepcopy\n",
    "    scores = defaultdict(lambda: 0)\n",
    "    visits = defaultdict(lambda: 0)\n",
    "\n",
    "    for t in triplets:\n",
    "        a, p, n = t\n",
    "        key = skey([p, n])\n",
    "        if dist[a, p] <= dist[a, n]:      \n",
    "            scores[key] += 1\n",
    "        visits[key] += 1\n",
    "\n",
    "    curr_scores = deepcopy(scores)\n",
    "    curr_visits = deepcopy(visits)\n",
    "    if labels is not None:\n",
    "        cand_scores, cand_visits = get_candidates_with_label(scores, visits, labels)\n",
    "        beam, w = get_topk(cand_scores, cand_visits, topk, type=\"count\", verbose=verbose)\n",
    "    else:\n",
    "        beam, w = get_topk(curr_scores, curr_visits, topk, type=\"count\", verbose=verbose)\n",
    "    for _ in range(3, m+1):\n",
    "        new_scores = defaultdict(lambda: 0)\n",
    "        new_visits = deepcopy(new_scores)\n",
    "        for b in beam:\n",
    "            for k in uni:\n",
    "                if k not in b:\n",
    "                    key = skey(b + (k,))\n",
    "                    base_score = new_scores[key]\n",
    "                    base_visit = new_visits[key]\n",
    "                    if base_score == 0 and curr_scores[b] > 0:\n",
    "                        new_scores[key] += curr_scores[b]\n",
    "                    if base_visit == 0 and curr_visits[b] > 0:\n",
    "                        new_visits[key] += curr_visits[b]\n",
    "                    for j in b:\n",
    "                        new_scores[key] += scores[skey([j, k])]\n",
    "                        new_visits[key] += visits[skey([j, k])]\n",
    "        curr_scores = new_scores\n",
    "        curr_visits = new_visits\n",
    "        beam, w = get_topk(curr_scores, curr_visits, topk, type=\"count\", verbose=verbose)\n",
    "    return beam[0], w[0]"
   ]
  },
  {
   "cell_type": "code",
   "execution_count": 4,
   "metadata": {},
   "outputs": [
    {
     "data": {
      "text/plain": [
       "((3, 11, 17, 25, 26, 34, 56, 62, 95, 103), 41)"
      ]
     },
     "execution_count": 4,
     "metadata": {},
     "output_type": "execute_result"
    }
   ],
   "source": [
    "select(embeds, 10, triplets, labels=labels, topk=10, verbose=False)"
   ]
  },
  {
   "cell_type": "code",
   "execution_count": null,
   "metadata": {},
   "outputs": [],
   "source": []
  },
  {
   "cell_type": "markdown",
   "metadata": {},
   "source": [
    "Debugging"
   ]
  },
  {
   "cell_type": "code",
   "execution_count": 5,
   "metadata": {},
   "outputs": [],
   "source": [
    "z = torch.tensor(embeds)\n",
    "dist = torch.cdist(z, z).numpy()\n",
    "uni = np.unique(triplets)\n",
    "n = len(uni)"
   ]
  },
  {
   "cell_type": "code",
   "execution_count": 6,
   "metadata": {},
   "outputs": [],
   "source": [
    "from collections import defaultdict\n",
    "from copy import deepcopy\n",
    "scores = defaultdict(lambda: 0)\n",
    "visits = defaultdict(lambda: 0)"
   ]
  },
  {
   "cell_type": "code",
   "execution_count": 7,
   "metadata": {},
   "outputs": [],
   "source": [
    "for t in triplets:\n",
    "    a, p, n = t\n",
    "    key = skey([p, n])\n",
    "    if dist[a, p] <= dist[a, n]:      \n",
    "        scores[key] += 1\n",
    "    visits[key] += 1"
   ]
  },
  {
   "cell_type": "code",
   "execution_count": 8,
   "metadata": {},
   "outputs": [
    {
     "name": "stdout",
     "output_type": "stream",
     "text": [
      "(56, 95) 2 10\n",
      "(56, 95, 103) 8 10\n",
      "(3, 56, 95, 103) 17 10\n",
      "(3, 34, 56, 95, 103) 21 10\n",
      "(3, 11, 34, 56, 95, 103) 24 10\n",
      "(3, 17, 25, 34, 56, 95, 103) 30 10\n",
      "(3, 11, 17, 25, 34, 56, 95, 103) 35 10\n",
      "(3, 11, 13, 17, 25, 34, 56, 95, 103) 37 10\n",
      "(3, 11, 17, 25, 26, 34, 56, 62, 95, 103) 41 10\n"
     ]
    }
   ],
   "source": [
    "m = 10\n",
    "topk = 10\n",
    "curr_scores = deepcopy(scores)\n",
    "curr_visits = deepcopy(visits)\n",
    "if labels is not None:\n",
    "    cand_scores, cand_visits = get_candidates_with_label(scores, visits, labels)\n",
    "    beam, w = get_topk(cand_scores, cand_visits, topk, type=\"count\", verbose=True)\n",
    "else:\n",
    "    beam, w = get_topk(curr_scores, curr_visits, topk, type=\"count\", verbose=True)\n",
    "for i in range(3, m+1):\n",
    "    new_scores = defaultdict(lambda: 0)\n",
    "    new_visits = deepcopy(new_scores)\n",
    "    for b in beam:\n",
    "        for k in uni:\n",
    "            if k not in b:\n",
    "                key = skey(b + (k,))\n",
    "                base_score = new_scores[key]\n",
    "                base_visit = new_visits[key]\n",
    "                if base_score == 0 and curr_scores[b] > 0:\n",
    "                    new_scores[key] += curr_scores[b]\n",
    "                if base_visit == 0 and curr_visits[b] > 0:\n",
    "                    new_visits[key] += curr_visits[b]\n",
    "                for j in b:\n",
    "                    new_scores[key] += scores[skey([j, k])]\n",
    "                    new_visits[key] += visits[skey([j, k])]\n",
    "    curr_scores = new_scores\n",
    "    curr_visits = new_visits\n",
    "    beam, w = get_topk(curr_scores, curr_visits, topk, type=\"count\", verbose=True)"
   ]
  },
  {
   "cell_type": "code",
   "execution_count": null,
   "metadata": {},
   "outputs": [],
   "source": []
  }
 ],
 "metadata": {
  "interpreter": {
   "hash": "63211ff5f667d2462bf3cbef4ab188efe8fd5838e9505b6620d21c1e36f41af8"
  },
  "kernelspec": {
   "display_name": "Python 3.8.5 ('base')",
   "language": "python",
   "name": "python3"
  },
  "language_info": {
   "codemirror_mode": {
    "name": "ipython",
    "version": 3
   },
   "file_extension": ".py",
   "mimetype": "text/x-python",
   "name": "python",
   "nbconvert_exporter": "python",
   "pygments_lexer": "ipython3",
   "version": "3.8.5"
  },
  "orig_nbformat": 4
 },
 "nbformat": 4,
 "nbformat_minor": 2
}
