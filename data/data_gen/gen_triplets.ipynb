{
 "cells": [
  {
   "cell_type": "code",
   "execution_count": 1,
   "metadata": {},
   "outputs": [],
   "source": [
    "%load_ext autoreload\n",
    "%autoreload 2\n",
    "import os, pickle, csv, itertools, shutil, random, sys\n",
    "import numpy as np\n",
    "import matplotlib.pyplot as plt\n",
    "import pandas as pd\n",
    "import torchvision, torch\n",
    "from torchvision import transforms\n",
    "from omegaconf import OmegaConf as oc\n",
    "import pathlib\n",
    "import warnings\n",
    "warnings.filterwarnings(\"ignore\")\n",
    "\n",
    "%matplotlib inline\n",
    "%config InlineBackend.figure_format='retina'\n",
    "\n",
    "sys.path.insert(0, '/net/scratch/tianh/explain_teach')\n",
    "import utils.utils as utils\n",
    "import utils.plot_data as plot\n",
    "import evals.embed_evals as evals\n",
    "import utils.gen_triplets as gen"
   ]
  },
  {
   "cell_type": "code",
   "execution_count": 3,
   "metadata": {},
   "outputs": [],
   "source": [
    "data_dir = \"/net/scratch/tianh/explain_teach/data/datasets/wv_linear_sm_0\""
   ]
  },
  {
   "cell_type": "code",
   "execution_count": 4,
   "metadata": {},
   "outputs": [],
   "source": [
    "train_features = pickle.load(open(f\"{data_dir}/train_features.pkl\",\"rb\"))\n",
    "valid_features = pickle.load(open(f\"{data_dir}/valid_features.pkl\",\"rb\"))\n",
    "test_features = pickle.load(open(f\"{data_dir}/test_features.pkl\",\"rb\"))\n",
    "y_train = np.array([x[1] for x in torchvision.datasets.ImageFolder(f\"{data_dir}/train\")])\n",
    "y_valid = np.array([x[1] for x in torchvision.datasets.ImageFolder(f\"{data_dir}/valid\")])\n",
    "y_test = np.array([x[1] for x in torchvision.datasets.ImageFolder(f\"{data_dir}/test\")])"
   ]
  },
  {
   "cell_type": "markdown",
   "metadata": {},
   "source": [
    "## search alignment"
   ]
  },
  {
   "cell_type": "code",
   "execution_count": 11,
   "metadata": {},
   "outputs": [],
   "source": [
    "total_weights = np.array(list(itertools.product([0]+[2**i for i in range(8)],repeat=2)))\n",
    "# total_weights = np.hstack([total_weights,np.zeros_like(total_weights)])\n",
    "total_weights = np.hstack([total_weights,np.ones_like(total_weights)])"
   ]
  },
  {
   "cell_type": "code",
   "execution_count": 12,
   "metadata": {},
   "outputs": [],
   "source": [
    "aligns = np.array([evals.distorted_1nn(train_features, y_train, test_features, y_test, weights) for weights in total_weights])"
   ]
  },
  {
   "cell_type": "code",
   "execution_count": 13,
   "metadata": {},
   "outputs": [
    {
     "data": {
      "text/plain": [
       "Text(0.5, 0, 'Align (%)')"
      ]
     },
     "execution_count": 13,
     "metadata": {},
     "output_type": "execute_result"
    },
    {
     "data": {
      "image/png": "[encoded data removed]",
      "text/plain": [
       "<Figure size 432x288 with 1 Axes>"
      ]
     },
     "metadata": {
      "image/png": {
       "height": 272,
       "width": 368
      },
      "needs_background": "light"
     },
     "output_type": "display_data"
    }
   ],
   "source": [
    "plt.hist(aligns)\n",
    "plt.xlabel(\"Align (%)\")\n",
    "# plt.xticks([f\"{x}%\" for x in np.arange(5,11)*10])\n",
    "# plt.x"
   ]
  },
  {
   "cell_type": "code",
   "execution_count": 23,
   "metadata": {},
   "outputs": [
    {
     "data": {
      "text/plain": [
       "array([[ 32, 128,   1,   1]])"
      ]
     },
     "execution_count": 23,
     "metadata": {},
     "output_type": "execute_result"
    }
   ],
   "source": [
    "align = 0.9375\n",
    "total_weights[np.where(aligns==align)[0]]"
   ]
  },
  {
   "cell_type": "code",
   "execution_count": 14,
   "metadata": {},
   "outputs": [
    {
     "data": {
      "text/plain": [
       "array([0.5125, 0.755 , 0.7625, 0.7675, 0.77  , 0.775 , 0.7775, 0.8475,\n",
       "       0.85  , 0.855 , 0.8575, 0.86  , 0.865 , 0.9075, 0.91  , 0.9125,\n",
       "       0.915 , 0.9175, 0.92  , 0.9225, 0.925 , 0.9275, 0.93  , 0.9325,\n",
       "       0.935 , 0.9375])"
      ]
     },
     "execution_count": 14,
     "metadata": {},
     "output_type": "execute_result"
    }
   ],
   "source": [
    "np.unique(aligns)"
   ]
  },
  {
   "cell_type": "code",
   "execution_count": 21,
   "metadata": {},
   "outputs": [
    {
     "data": {
      "text/plain": [
       "0.92"
      ]
     },
     "execution_count": 21,
     "metadata": {},
     "output_type": "execute_result"
    }
   ],
   "source": [
    "evals.distorted_1nn(train_features, y_train, test_features, y_test, [1,1,1,1])"
   ]
  },
  {
   "cell_type": "markdown",
   "metadata": {},
   "source": [
    "## testing"
   ]
  },
  {
   "cell_type": "code",
   "execution_count": 24,
   "metadata": {},
   "outputs": [
    {
     "name": "stdout",
     "output_type": "stream",
     "text": [
      "0.77\n",
      "0.85\n",
      "0.92\n",
      "0.9375\n"
     ]
    }
   ],
   "source": [
    "weights = [\n",
    "    [0,1,1,1],\n",
    "    [1,0,1,1],\n",
    "    [1,1,1,1],\n",
    "    [32,128,1,1],\n",
    "]\n",
    "aligns = [0.77,0.84,0.92,0.94]\n",
    "for weight in weights:\n",
    "    print(evals.distorted_1nn(train_features, y_train, test_features, y_test, weight))"
   ]
  },
  {
   "cell_type": "markdown",
   "metadata": {},
   "source": [
    "#### aligns & filtered"
   ]
  },
  {
   "cell_type": "code",
   "execution_count": 25,
   "metadata": {},
   "outputs": [],
   "source": [
    "weights = [\n",
    "    [0,1,1,1],\n",
    "    [1,0,1,1],\n",
    "    [1,1,1,1],\n",
    "    [32,128,1,1],\n",
    "]\n",
    "aligns = [0.77,0.84,0.92,0.94]\n",
    "assert(len(weights)==len(aligns))\n",
    "total = 40000\n",
    "triplet_dir = f\"{data_dir}/triplets\""
   ]
  },
  {
   "cell_type": "code",
   "execution_count": 27,
   "metadata": {},
   "outputs": [],
   "source": [
    "for weight,align in zip(weights, aligns):\n",
    "    train_triplets, valid_triplets, test_triplets = gen.get_triplets(train_features, valid_features, test_features, y_train, y_valid, y_test, weight, total)\n",
    "    align_dir = os.path.join(triplet_dir,f\"align={str(align)}\")\n",
    "    pathlib.Path(align_dir).mkdir(parents=True, exist_ok=True)\n",
    "    pickle.dump(train_triplets, open(f\"{align_dir}/train_triplets.pkl\", \"wb\"))\n",
    "    pickle.dump(valid_triplets, open(f\"{align_dir}/valid_triplets.pkl\", \"wb\"))\n",
    "    pickle.dump(test_triplets, open(f\"{align_dir}/test_triplets.pkl\", \"wb\"))"
   ]
  },
  {
   "cell_type": "markdown",
   "metadata": {},
   "source": [
    "### noisy"
   ]
  },
  {
   "cell_type": "code",
   "execution_count": 6,
   "metadata": {},
   "outputs": [],
   "source": [
    "aligns = [\"0.84\",\"0.95\"]\n",
    "triplet_dir = data_dir + \"_triplets\""
   ]
  },
  {
   "cell_type": "code",
   "execution_count": 7,
   "metadata": {},
   "outputs": [],
   "source": [
    "for align in aligns:\n",
    "    train_triplets = pickle.load(open(f\"{triplet_dir}/align={align}/train_triplets.pkl\",\"rb\"))\n",
    "    valid_triplets = pickle.load(open(f\"{triplet_dir}/align={align}/valid_triplets.pkl\",\"rb\"))\n",
    "    test_triplets = pickle.load(open(f\"{triplet_dir}/align={align}/test_triplets.pkl\",\"rb\"))\n",
    "    for p in np.arange(1,9,1)/10:\n",
    "        dir = os.path.join(f\"{triplet_dir}/align={align}_noisy\",str(p))\n",
    "        pathlib.Path(dir).mkdir(parents=True, exist_ok=True)\n",
    "\n",
    "        train_noisy = gen.get_noisy_triplets(train_triplets, p)\n",
    "        valid_noisy = gen.get_noisy_triplets(valid_triplets, p)\n",
    "        test_noisy = gen.get_noisy_triplets(test_triplets, p)\n",
    "        pickle.dump(train_noisy, open(f\"{dir}/train_triplets.pkl\",\"wb\"))\n",
    "        pickle.dump(valid_noisy, open(f\"{dir}/valid_triplets.pkl\",\"wb\"))\n",
    "        pickle.dump(test_noisy, open(f\"{dir}/test_triplets.pkl\",\"wb\"))"
   ]
  },
  {
   "cell_type": "code",
   "execution_count": 8,
   "metadata": {},
   "outputs": [],
   "source": [
    "for align in aligns:    \n",
    "    for p in np.arange(1,9,1)/10:\n",
    "        dir = os.path.join(f\"{triplet_dir}/align={align}_noisy\",str(p))\n",
    "        train_triplets = pickle.load(open(f\"{dir}/train_triplets.pkl\",\"rb\"))\n",
    "        valid_triplets = pickle.load(open(f\"{dir}/valid_triplets.pkl\",\"rb\"))\n",
    "        test_triplets = pickle.load(open(f\"{dir}/test_triplets.pkl\",\"rb\"))\n",
    "        train_triplets_filtered = gen.filter_train_triplets(train_triplets, y_train)\n",
    "        valid_triplets_filtered = gen.filter_mixed_triplets(valid_triplets, y_train, y_valid)\n",
    "        test_triplets_filtered = gen.filter_mixed_triplets(test_triplets, y_train, y_test)\n",
    "        pickle.dump(train_triplets_filtered, open(f\"{dir}/train_triplets_filtered.pkl\",\"wb\"))\n",
    "        pickle.dump(valid_triplets_filtered, open(f\"{dir}/valid_triplets_filtered.pkl\",\"wb\"))\n",
    "        pickle.dump(test_triplets_filtered, open(f\"{dir}/test_triplets_filtered.pkl\",\"wb\"))"
   ]
  },
  {
   "cell_type": "markdown",
   "metadata": {},
   "source": [
    "### nums"
   ]
  },
  {
   "cell_type": "code",
   "execution_count": 9,
   "metadata": {},
   "outputs": [],
   "source": [
    "aligns = [\"0.84\",\"0.95\"]\n",
    "triplet_dir = data_dir + \"_triplets\"\n",
    "def dropout(triplets,p):\n",
    "    keepers = np.random.choice(np.arange(len(triplets)),int(len(triplets)*p),replace=False)\n",
    "    return np.array(triplets)[keepers]"
   ]
  },
  {
   "cell_type": "code",
   "execution_count": 10,
   "metadata": {},
   "outputs": [],
   "source": [
    "for align in aligns:\n",
    "    train_triplets = pickle.load(open(f\"{triplet_dir}/align={align}/train_triplets.pkl\",\"rb\"))\n",
    "    valid_triplets = pickle.load(open(f\"{triplet_dir}/align={align}/valid_triplets.pkl\",\"rb\"))\n",
    "    test_triplets = pickle.load(open(f\"{triplet_dir}/align={align}/test_triplets.pkl\",\"rb\"))\n",
    "    for p in [1/128,1/64,1/32,1/16,1/8,1/4,1/2]:\n",
    "        dir = os.path.join(f\"{triplet_dir}/align={align}_num\",str(p))\n",
    "        pathlib.Path(dir).mkdir(parents=True, exist_ok=True)\n",
    "\n",
    "        train_noisy = dropout(train_triplets, p)\n",
    "        valid_noisy = dropout(valid_triplets, p)\n",
    "        test_noisy = dropout(test_triplets, p)\n",
    "        pickle.dump(train_noisy, open(f\"{dir}/train_triplets.pkl\",\"wb\"))\n",
    "        pickle.dump(valid_noisy, open(f\"{dir}/valid_triplets.pkl\",\"wb\"))\n",
    "        pickle.dump(test_noisy, open(f\"{dir}/test_triplets.pkl\",\"wb\"))"
   ]
  },
  {
   "cell_type": "code",
   "execution_count": 11,
   "metadata": {},
   "outputs": [],
   "source": [
    "for align in aligns:\n",
    "    for p in [1/128,1/64,1/32,1/16,1/8,1/4,1/2]:\n",
    "        dir = os.path.join(f\"{triplet_dir}/align={align}_num\",str(p))\n",
    "        train_triplets = pickle.load(open(f\"{dir}/train_triplets.pkl\",\"rb\"))\n",
    "        valid_triplets = pickle.load(open(f\"{dir}/valid_triplets.pkl\",\"rb\"))\n",
    "        test_triplets = pickle.load(open(f\"{dir}/test_triplets.pkl\",\"rb\"))\n",
    "        train_triplets_filtered = gen.filter_train_triplets(train_triplets, y_train)\n",
    "        valid_triplets_filtered = gen.filter_mixed_triplets(valid_triplets, y_train, y_valid)\n",
    "        test_triplets_filtered = gen.filter_mixed_triplets(test_triplets, y_train, y_test)\n",
    "        pickle.dump(train_triplets_filtered, open(f\"{dir}/train_triplets_filtered.pkl\",\"wb\"))\n",
    "        pickle.dump(valid_triplets_filtered, open(f\"{dir}/valid_triplets_filtered.pkl\",\"wb\"))\n",
    "        pickle.dump(test_triplets_filtered, open(f\"{dir}/test_triplets_filtered.pkl\",\"wb\"))"
   ]
  },
  {
   "cell_type": "markdown",
   "metadata": {},
   "source": [
    "## yaml generation"
   ]
  },
  {
   "cell_type": "code",
   "execution_count": 28,
   "metadata": {},
   "outputs": [],
   "source": [
    "weights = [\n",
    "    [0,1,1,1],\n",
    "    [1,0,1,1],\n",
    "    [1,1,1,1],\n",
    "    [32,128,1,1],\n",
    "]\n",
    "aligns = [0.77,0.84,0.92,0.94]\n",
    "data = \"wv_linear_sm_0\"\n",
    "triplet_dir = f\"{data_dir}/triplets\"\n",
    "yaml_dir = f\"/net/scratch/tianh/explain_teach/models/configs/{data}/triplets\""
   ]
  },
  {
   "cell_type": "code",
   "execution_count": 30,
   "metadata": {},
   "outputs": [],
   "source": [
    "dir = f\"{yaml_dir}/aligns\"\n",
    "for weight,align in zip(weights, aligns):\n",
    "    unfiltered_configs =  {\"wandb_project\": data + \"_aligns\",\n",
    "                                \"wandb_group\": f\"align={align}\",\n",
    "                                \"train_triplets\": f\"{triplet_dir}/align={align}/train_triplets.pkl\",\n",
    "                                \"valid_triplets\": f\"{triplet_dir}/align={align}/valid_triplets.pkl\",\n",
    "                                \"test_triplets\": f\"{triplet_dir}/align={align}/test_triplets.pkl\",\n",
    "                                \"weights\": weight,\n",
    "                                \"powers\": [2,2]}\n",
    "    pathlib.Path(dir).mkdir(parents=True, exist_ok=True)\n",
    "    oc.save(unfiltered_configs, f\"{dir}/align={align}.yaml\")"
   ]
  },
  {
   "cell_type": "markdown",
   "metadata": {},
   "source": [
    "### noise"
   ]
  },
  {
   "cell_type": "code",
   "execution_count": 15,
   "metadata": {},
   "outputs": [],
   "source": [
    "weights = [\n",
    "    [1,0,1,1],\n",
    "    [1,1,1,1],\n",
    "]\n",
    "aligns = [\"0.84\",\"0.95\"]\n",
    "\n",
    "data = \"wv_squarelin\"\n",
    "triplet_dir = data + \"_triplets\"\n",
    "yaml_dir = f\"models/configs/{data}/triplets\""
   ]
  },
  {
   "cell_type": "code",
   "execution_count": 16,
   "metadata": {},
   "outputs": [],
   "source": [
    "for weight, align in zip(weights, aligns):\n",
    "    dir = f\"{yaml_dir}/unfiltered/noisy_{align}\" \n",
    "    pathlib.Path(dir).mkdir(parents=True, exist_ok=True)\n",
    "    for p in np.arange(1,9,1)/10:\n",
    "        unfiltered_configs =  {\"wandb_project\": data + \"_noisy\",\n",
    "                                    \"wandb_group\": f\"align={align}_p={p}\",\n",
    "                                    \"train_triplets\": f\"../datasets/{triplet_dir}/align={align}_noisy/{p}/train_triplets.pkl\",\n",
    "                                    \"valid_triplets\": f\"../datasets/{triplet_dir}/align={align}_noisy/{p}/valid_triplets.pkl\",\n",
    "                                    \"test_triplets\": f\"../datasets/{triplet_dir}/align={align}_noisy/{p}/test_triplets.pkl\",\n",
    "                                    \"weights\": weight,\n",
    "                                    \"powers\": [2,2],\n",
    "                                    \"filtered\": False}\n",
    "        oc.save(unfiltered_configs, f\"{dir}/p={p}.yaml\")"
   ]
  },
  {
   "cell_type": "code",
   "execution_count": 17,
   "metadata": {},
   "outputs": [],
   "source": [
    "for weight, align in zip(weights, aligns):\n",
    "    dir = f\"{yaml_dir}/filtered/noisy_{align}\" \n",
    "    pathlib.Path(dir).mkdir(parents=True, exist_ok=True)\n",
    "    for p in np.arange(1,9,1)/10:\n",
    "        filtered_configs =  {\"wandb_project\": data + \"_noisy\",\n",
    "                                    \"wandb_group\": f\"align={align}_p={p}_filtered\",\n",
    "                                    \"train_triplets\": f\"../datasets/{triplet_dir}/align={align}_noisy/{p}/train_triplets_filtered.pkl\",\n",
    "                                    \"valid_triplets\": f\"../datasets/{triplet_dir}/align={align}_noisy/{p}/valid_triplets_filtered.pkl\",\n",
    "                                    \"test_triplets\": f\"../datasets/{triplet_dir}/align={align}_noisy/{p}/test_triplets_filtered.pkl\",\n",
    "                                    \"weights\": weight,\n",
    "                                    \"powers\": [2,2],\n",
    "                                    \"filtered\": True}\n",
    "        oc.save(filtered_configs, f\"{dir}/p={p}.yaml\")"
   ]
  },
  {
   "cell_type": "markdown",
   "metadata": {},
   "source": [
    "### num"
   ]
  },
  {
   "cell_type": "code",
   "execution_count": 18,
   "metadata": {},
   "outputs": [],
   "source": [
    "weights = [\n",
    "    [1,0,1,1],\n",
    "    [1,1,1,1],\n",
    "]\n",
    "aligns = [\"0.84\",\"0.95\"]\n",
    "\n",
    "data = \"wv_squarelin\"\n",
    "triplet_dir = data + \"_triplets\"\n",
    "yaml_dir = f\"models/configs/{data}/triplets\""
   ]
  },
  {
   "cell_type": "code",
   "execution_count": 19,
   "metadata": {},
   "outputs": [],
   "source": [
    "for weight, align in zip(weights, aligns):\n",
    "    dir = f\"{yaml_dir}/unfiltered/num_{align}\" \n",
    "    pathlib.Path(dir).mkdir(parents=True, exist_ok=True)\n",
    "    for p in [1/2, 1/128, 1/64, 1/32,1/16,1/8,1/4]:\n",
    "        unfiltered_configs =  {\"wandb_project\": data + \"_num\",\n",
    "                                    \"wandb_group\": f\"align={align}_p={p}\",\n",
    "                                    \"train_triplets\": f\"../datasets/{triplet_dir}/align={align}_num/{p}/train_triplets.pkl\",\n",
    "                                    \"valid_triplets\": f\"../datasets/{triplet_dir}/align={align}_num/{p}/valid_triplets.pkl\",\n",
    "                                    \"test_triplets\": f\"../datasets/{triplet_dir}/align={align}_num/{p}/test_triplets.pkl\",\n",
    "                                    \"weights\": weight,\n",
    "                                    \"powers\": [2,2],\n",
    "                                    \"filtered\": False,\n",
    "                                    \"model\": \"MTL_slow\"}\n",
    "        oc.save(unfiltered_configs, f\"{dir}/p={p}.yaml\")\n"
   ]
  },
  {
   "cell_type": "code",
   "execution_count": 20,
   "metadata": {},
   "outputs": [],
   "source": [
    "for weight, align in zip(weights, aligns):\n",
    "    dir = f\"{yaml_dir}/filtered/num_{align}\" \n",
    "    pathlib.Path(dir).mkdir(parents=True, exist_ok=True)\n",
    "    for p in [1/2, 1/128, 1/64, 1/32,1/16,1/8,1/4]:\n",
    "        filtered_configs =  {\"wandb_project\": data + \"_num\",\n",
    "                                    \"wandb_group\": f\"align={align}_p={p}_filtered\",\n",
    "                                    \"train_triplets\": f\"../datasets/{triplet_dir}/align={align}_num/{p}/train_triplets_filtered.pkl\",\n",
    "                                    \"valid_triplets\": f\"../datasets/{triplet_dir}/align={align}_num/{p}/valid_triplets_filtered.pkl\",\n",
    "                                    \"test_triplets\": f\"../datasets/{triplet_dir}/align={align}_num/{p}/test_triplets_filtered.pkl\",\n",
    "                                    \"weights\": weight,\n",
    "                                    \"powers\": [2,2],\n",
    "                                    \"filtered\": True,\n",
    "                                    \"model\": \"MTL_slow\"}\n",
    "        oc.save(filtered_configs, f\"{dir}/p={p}.yaml\")"
   ]
  },
  {
   "cell_type": "code",
   "execution_count": null,
   "metadata": {},
   "outputs": [],
   "source": []
  }
 ],
 "metadata": {
  "interpreter": {
   "hash": "2c73f886271c839d0ba877ba8b97f5003c6c6417a734903c0face75895daee34"
  },
  "kernelspec": {
   "display_name": "Python 3.7.11 ('han')",
   "language": "python",
   "name": "python3"
  },
  "language_info": {
   "codemirror_mode": {
    "name": "ipython",
    "version": 3
   },
   "file_extension": ".py",
   "mimetype": "text/x-python",
   "name": "python",
   "nbconvert_exporter": "python",
   "pygments_lexer": "ipython3",
   "version": "3.7.11"
  },
  "orig_nbformat": 4,
  "vscode": {
   "interpreter": {
    "hash": "2c73f886271c839d0ba877ba8b97f5003c6c6417a734903c0face75895daee34"
   }
  }
 },
 "nbformat": 4,
 "nbformat_minor": 2
}
