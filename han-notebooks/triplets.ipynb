{
 "cells": [
  {
   "cell_type": "code",
   "execution_count": 14,
   "metadata": {},
   "outputs": [],
   "source": [
    "import os, pickle\n",
    "import pandas as pd\n",
    "import numpy as np\n",
    "from sklearn.metrics.pairwise import euclidean_distances\n",
    "%matplotlib inline\n",
    "%config InlineBackend.figure_format='retina'\n",
    "\n",
    "import warnings\n",
    "warnings.filterwarnings(\"ignore\")\n",
    "def euc_dist(x, y): return euclidean_distances([x],[y])[0][0]"
   ]
  },
  {
   "cell_type": "code",
   "execution_count": 37,
   "metadata": {},
   "outputs": [],
   "source": [
    "dataset_path = {\n",
    "    'prostatex': '/net/scratch/hanliu/radiology/prostatex/tbakd3_npy/5folds/4/embs',\n",
    "    # 'prostatex': '/net/scratch/hanliu-shared/tbakd3_npy/5folds/4/embs',\n",
    "    'bm': '/net/scratch/hanliu/radiology/explain_teach/data/bm/embs',\n",
    "}\n",
    "dataset = 'bm'\n",
    "model = 'resnt'\n",
    "name = 'emb10'\n",
    "train_path = '{}/{}_train_{}.pkl'.format(dataset_path[dataset], model, name)\n",
    "valid_path = '{}/{}_valid_{}.pkl'.format(dataset_path[dataset], model, name)\n",
    "f_train, _, y_train, X_train = pickle.load(open(train_path, \"rb\"))\n",
    "f_valid, _, y_valid, X_valid = pickle.load(open(valid_path, \"rb\"))\n",
    "resnt_train = X_train\n",
    "# dwac_train = X_train\n",
    "# dwac10_train = X_train"
   ]
  },
  {
   "cell_type": "code",
   "execution_count": 38,
   "metadata": {},
   "outputs": [],
   "source": [
    "rt_res = []\n",
    "d2_res = []\n",
    "d10_res = []"
   ]
  },
  {
   "cell_type": "code",
   "execution_count": 40,
   "metadata": {},
   "outputs": [],
   "source": [
    "dist = pickle.load(open(\"embeds/lpips.bm.train.pkl\", \"rb\"))"
   ]
  },
  {
   "cell_type": "code",
   "execution_count": 41,
   "metadata": {},
   "outputs": [],
   "source": [
    "np.random.seed(42)\n",
    "for i in range(10000):\n",
    "    a, p, n = np.random.choice(len(dist), 3, replace=False)\n",
    "    ap = dist[a, p] < dist[a, n]\n",
    "    rd = euc_dist(resnt_train[a], resnt_train[p]) < euc_dist(resnt_train[a], resnt_train[n])\n",
    "    d2d = euc_dist(dwac_train[a], dwac_train[p]) < euc_dist(dwac_train[a], dwac_train[n])\n",
    "    d10d = euc_dist(dwac10_train[a], dwac10_train[p]) < euc_dist(dwac10_train[a], dwac10_train[n])\n",
    "    rt_res.append(ap == rd)\n",
    "    d2_res.append(ap == d2d)\n",
    "    d10_res.append(ap == d10d)\n"
   ]
  },
  {
   "cell_type": "code",
   "execution_count": 42,
   "metadata": {},
   "outputs": [
    {
     "data": {
      "text/plain": [
       "(0.7016, 0.5334, 0.5366)"
      ]
     },
     "execution_count": 42,
     "metadata": {},
     "output_type": "execute_result"
    }
   ],
   "source": [
    "np.mean(rt_res), np.mean(d2_res), np.mean(d10_res)"
   ]
  },
  {
   "cell_type": "code",
   "execution_count": 43,
   "metadata": {},
   "outputs": [],
   "source": [
    "from scipy import stats\n",
    "def get_ci(samples, confidence=0.95):\n",
    "    return 2 * stats.sem(samples) * stats.t.ppf((1 + confidence) / 2., len(samples)-1)"
   ]
  },
  {
   "cell_type": "code",
   "execution_count": 44,
   "metadata": {},
   "outputs": [
    {
     "data": {
      "text/plain": [
       "(0.017938931680176674, 0.019559207281043055, 0.019550403499102146)"
      ]
     },
     "execution_count": 44,
     "metadata": {},
     "output_type": "execute_result"
    }
   ],
   "source": [
    "get_ci(rt_res), get_ci(d2_res), get_ci(d10_res)"
   ]
  },
  {
   "cell_type": "code",
   "execution_count": 12,
   "metadata": {},
   "outputs": [],
   "source": [
    "a,p,n = np.random.choice(len(dist), 3, replace=False)"
   ]
  },
  {
   "cell_type": "code",
   "execution_count": 17,
   "metadata": {},
   "outputs": [],
   "source": [
    "def euc_dist(x, y): return np.sqrt(np.dot(x, x) - 2 * np.dot(x, y) + np.dot(y, y))"
   ]
  },
  {
   "cell_type": "code",
   "execution_count": null,
   "metadata": {},
   "outputs": [],
   "source": []
  }
 ],
 "metadata": {
  "interpreter": {
   "hash": "63211ff5f667d2462bf3cbef4ab188efe8fd5838e9505b6620d21c1e36f41af8"
  },
  "kernelspec": {
   "display_name": "Python 3.8.5 64-bit ('base': conda)",
   "language": "python",
   "name": "python3"
  },
  "language_info": {
   "codemirror_mode": {
    "name": "ipython",
    "version": 3
   },
   "file_extension": ".py",
   "mimetype": "text/x-python",
   "name": "python",
   "nbconvert_exporter": "python",
   "pygments_lexer": "ipython3",
   "version": "3.8.5"
  },
  "orig_nbformat": 4
 },
 "nbformat": 4,
 "nbformat_minor": 2
}
