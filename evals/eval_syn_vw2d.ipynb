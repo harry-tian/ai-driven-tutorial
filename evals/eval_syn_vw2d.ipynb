{
 "cells": [
  {
   "cell_type": "code",
   "execution_count": null,
   "metadata": {},
   "outputs": [],
   "source": [
    "%load_ext autoreload\n",
    "%autoreload 2"
   ]
  },
  {
   "cell_type": "code",
   "execution_count": 62,
   "metadata": {},
   "outputs": [],
   "source": [
    "import pickle\n",
    "import pandas as pd\n",
    "import numpy as np\n",
    "import matplotlib.pyplot as plt\n",
    "from eval_ds import *\n",
    "from embed_evals import get_knn_score"
   ]
  },
  {
   "cell_type": "code",
   "execution_count": 5,
   "metadata": {},
   "outputs": [],
   "source": [
    "df = pd.read_csv('../datasets/weevil_vespula/vw2d.relabelled.csv', index_col=0)\n",
    "selected_features = [\"bodyheadszratio\", \"bodyheadcolordiff\"]\n",
    "x, y = df[selected_features].values, df['pseudo_label'].values"
   ]
  },
  {
   "cell_type": "code",
   "execution_count": 6,
   "metadata": {},
   "outputs": [],
   "source": [
    "from collections import OrderedDict\n",
    "p2i_train = pickle.load(open('../datasets/weevil_vespula/p2i.pkl', 'rb'))\n",
    "p2i_valid = pickle.load(open('../datasets/weevil_vespula/p2i_valid.pkl', 'rb'))\n",
    "p2i_test = pickle.load(open('../datasets/weevil_vespula/p2i_test.pkl', 'rb'))\n",
    "i2p_train = OrderedDict({v:int(k) for k, v in p2i_train.items()})\n",
    "i2p_valid = OrderedDict({v:int(k) for k, v in p2i_valid.items()})\n",
    "i2p_test = OrderedDict({v:int(k) for k, v in p2i_test.items()})\n",
    "assert list(i2p_train.keys()) == list(range(len(i2p_train)))\n",
    "assert list(i2p_valid.keys()) == list(range(len(i2p_valid)))\n",
    "assert list(i2p_test.keys()) == list(range(len(i2p_test)))"
   ]
  },
  {
   "cell_type": "code",
   "execution_count": 24,
   "metadata": {},
   "outputs": [],
   "source": [
    "x_train, y_train = x[list(i2p_train.values())], y[list(i2p_train.values())]\n",
    "x_valid, y_valid = x[list(i2p_valid.values())], y[list(i2p_valid.values())]\n",
    "x_test, y_test = x[list(i2p_test.values())], y[list(i2p_test.values())]\n",
    "xdst = euc_dist(x_test, x_train)\n",
    "xds = get_ds(xdst, y_test, y_train)"
   ]
  },
  {
   "cell_type": "code",
   "execution_count": 25,
   "metadata": {},
   "outputs": [
    {
     "data": {
      "text/plain": [
       "0.7"
      ]
     },
     "execution_count": 25,
     "metadata": {},
     "output_type": "execute_result"
    }
   ],
   "source": [
    "w = [1, 0]\n",
    "h = trans(x, w)\n",
    "h_train = trans(x_train, w)\n",
    "h_valid = trans(x_valid, w)\n",
    "h_test = trans(x_test, w)\n",
    "hdst = euc_dist(h_test, h_train)\n",
    "nino = get_ds(hdst, y_test, y_train)\n",
    "choice = get_ds_choice(hdst, nino)\n",
    "chosen = get_ds_chosen(choice, nino)\n",
    "eval_ds_choice(choice, nino, y_test, y_train).mean()"
   ]
  },
  {
   "cell_type": "code",
   "execution_count": 23,
   "metadata": {},
   "outputs": [],
   "source": [
    "emb, models, folds = {}, ['RESN'], ['train', 'valid', 'test']\n",
    "for model in models:\n",
    "    for fold in folds:\n",
    "        if model not in emb:\n",
    "            emb[model] = {}\n",
    "        emb[model][fold] = pickle.load(open(f'../embeds/wv_2d/pretrained/{model}_{fold}_emb50.pkl', 'rb'))"
   ]
  },
  {
   "cell_type": "code",
   "execution_count": 52,
   "metadata": {},
   "outputs": [],
   "source": [
    "r_test, r_train = emb['RESN']['test'], emb['RESN']['train']\n",
    "rdst = euc_dist(r_test, r_train)\n",
    "rds = get_ds(rdst, y_test, y_train)"
   ]
  },
  {
   "cell_type": "code",
   "execution_count": 59,
   "metadata": {},
   "outputs": [
    {
     "data": {
      "text/plain": [
       "[1.0, 0.925, 0.9]"
      ]
     },
     "execution_count": 59,
     "metadata": {},
     "output_type": "execute_result"
    }
   ],
   "source": [
    "[\n",
    "    eval_ds(xdst, xds, y_test, y_train).mean(),\n",
    "    eval_ds(rdst, rds, y_test, y_train).mean(),\n",
    "    eval_ds(rdst, xds, y_test, y_train).mean(),\n",
    "]\n"
   ]
  },
  {
   "cell_type": "code",
   "execution_count": 60,
   "metadata": {},
   "outputs": [
    {
     "data": {
      "text/plain": [
       "[1.0, 0.925]"
      ]
     },
     "execution_count": 60,
     "metadata": {},
     "output_type": "execute_result"
    }
   ],
   "source": [
    "[\n",
    "    get_knn_score(x_train, y_train, x_test, y_test),\n",
    "    get_knn_score(r_train, y_train, r_test, y_test),\n",
    "]\n"
   ]
  },
  {
   "cell_type": "code",
   "execution_count": null,
   "metadata": {},
   "outputs": [],
   "source": [
    "def get_ds_nifo(dist, y_test, y_train):\n",
    "    mask_train = np.tile(y_train, (len(y_test), 1))\n",
    "    apply_mask = lambda x, m: x + (-(m - 1) * x.max())\n",
    "    ds = np.arange(len(y_test)).reshape(-1, 1)\n",
    "    ni = np.arange(len(y_test)).reshape(-1, 1)\n",
    "    fo = np.arange(len(y_test)).reshape(-1, 1)\n",
    "    for label in np.unique(y_train):\n",
    "        mask_in = label == mask_train\n",
    "        mask_out = label == mask_train\n",
    "        ni = np.argmin(apply_mask(dist, mask_in), 1)\n",
    "        fo = np.argmax(apply_mask(dist, mask_out), 1)\n",
    "        ni = np.hstack([ni, ni.reshape(-1, 1)])\n",
    "        fo = np.hstack([fo, fo.reshape(-1, 1)])\n",
    "    ds = ni\n",
    "    return ds"
   ]
  },
  {
   "cell_type": "code",
   "execution_count": 63,
   "metadata": {},
   "outputs": [],
   "source": [
    "mask_train = np.tile(y_train, (len(y_test), 1))"
   ]
  },
  {
   "cell_type": "code",
   "execution_count": null,
   "metadata": {},
   "outputs": [],
   "source": []
  }
 ],
 "metadata": {
  "interpreter": {
   "hash": "5a254db8081bfac4759a9f21cc394f2718353617189cf88b2be07437bbf82b23"
  },
  "kernelspec": {
   "display_name": "Python 3.8.13",
   "language": "python",
   "name": "python3"
  },
  "language_info": {
   "codemirror_mode": {
    "name": "ipython",
    "version": 3
   },
   "file_extension": ".py",
   "mimetype": "text/x-python",
   "name": "python",
   "nbconvert_exporter": "python",
   "pygments_lexer": "ipython3",
   "version": "3.8.13"
  },
  "orig_nbformat": 4
 },
 "nbformat": 4,
 "nbformat_minor": 2
}
