{
 "cells": [
  {
   "cell_type": "code",
   "execution_count": 1,
   "metadata": {},
   "outputs": [
    {
     "name": "stderr",
     "output_type": "stream",
     "text": [
      "/data/anaconda3/envs/hanliu-tutorial/lib/python3.8/site-packages/tqdm/auto.py:22: TqdmWarning: IProgress not found. Please update jupyter and ipywidgets. See https://ipywidgets.readthedocs.io/en/stable/user_install.html\n",
      "  from .autonotebook import tqdm as notebook_tqdm\n"
     ]
    }
   ],
   "source": [
    "import os, pickle\n",
    "import pandas as pd\n",
    "import numpy as np\n",
    "from torchvision.datasets import ImageFolder\n",
    "import matplotlib.pyplot as plt"
   ]
  },
  {
   "cell_type": "code",
   "execution_count": 2,
   "metadata": {},
   "outputs": [],
   "source": [
    "# train_ds = ImageFolder('../data/weevil_vespula/train')\n",
    "# valid_ds = ImageFolder('../data/weevil_vespula/valid')\n",
    "# test_ds = ImageFolder('../data/weevil_vespula/test')\n",
    "# y_train = np.array([y for _, y in train_ds])\n",
    "# y_valid = np.array([y for _, y in valid_ds])\n",
    "# y_test = np.array([y for _, y in test_ds])\n",
    "# ytvs = y_train, y_valid, y_test"
   ]
  },
  {
   "cell_type": "code",
   "execution_count": 5,
   "metadata": {},
   "outputs": [],
   "source": [
    "df = pd.read_csv('../data/weevil_vespula/vw2d.relabelled.csv', index_col=0)\n",
    "selected_features = [\"bodyheadszratio\", \"bodyheadcolordiff\"]\n",
    "x, y = df[selected_features].values, df['pseudo_label'].values"
   ]
  },
  {
   "cell_type": "code",
   "execution_count": 6,
   "metadata": {},
   "outputs": [],
   "source": [
    "p2i_train = pickle.load(open('../data/weevil_vespula/p2i.pkl', 'rb'))\n",
    "p2i_valid = pickle.load(open('../data/weevil_vespula/p2i_valid.pkl', 'rb'))\n",
    "p2i_test = pickle.load(open('../data/weevil_vespula/p2i_test.pkl', 'rb'))\n",
    "i2p_train = {v:int(k) for k, v in p2i_train.items()}\n",
    "i2p_valid = {v:int(k) for k, v in p2i_valid.items()}\n",
    "i2p_test = {v:int(k) for k, v in p2i_test.items()}"
   ]
  },
  {
   "cell_type": "code",
   "execution_count": 67,
   "metadata": {},
   "outputs": [],
   "source": [
    "x_train, y_train = x[sorted(i2p_train.values())], y[sorted(i2p_train.values())]\n",
    "x_valid, y_valid = x[sorted(i2p_valid.values())], y[sorted(i2p_valid.values())]\n",
    "x_test, y_test = x[sorted(i2p_test.values())], y[sorted(i2p_test.values())]"
   ]
  },
  {
   "cell_type": "code",
   "execution_count": 68,
   "metadata": {},
   "outputs": [],
   "source": [
    "def trans(x, w):\n",
    "    return np.diag(w).dot(x.T).T\n",
    "\n",
    "def plot(x, xt, figsize=(13, 6), xlim=[-0.2, 1], ylim=[-0.2, 1]):\n",
    "    fig, ax = plt.subplots(1,2,figsize=figsize)\n",
    "    ax[0].set_title('feature'); ax[1].set_title('human')\n",
    "    ax[0].scatter(x[:,0][y==0], x[:,1][y==0])\n",
    "    ax[0].scatter(x[:,0][y==1], x[:,1][y==1])\n",
    "    ax[1].scatter(xt[:,0][y==0], xt[:,1][y==0])\n",
    "    ax[1].scatter(xt[:,0][y==1], xt[:,1][y==1])\n",
    "    ax[0].set_xlim(xlim); ax[1].set_xlim(xlim)\n",
    "    ax[0].set_ylim(ylim); ax[1].set_ylim(ylim)\n",
    "    return fig, ax"
   ]
  },
  {
   "cell_type": "code",
   "execution_count": 89,
   "metadata": {},
   "outputs": [
    {
     "data": {
      "image/png": "[encoded data removed]",
      "text/plain": [
       "<Figure size 936x432 with 2 Axes>"
      ]
     },
     "metadata": {
      "needs_background": "light"
     },
     "output_type": "display_data"
    }
   ],
   "source": [
    "w = [1, 0]\n",
    "xt = trans(x, w)\n",
    "_ = plot(x, xt)"
   ]
  },
  {
   "cell_type": "code",
   "execution_count": 71,
   "metadata": {},
   "outputs": [],
   "source": [
    "from sklearn.metrics.pairwise import euclidean_distances as euc_dist\n",
    "def ord_dist(a, b, order=2):\n",
    "    order = np.array(order) if type(order) != int else order\n",
    "    root = 2 if type(order) != int and len(order) > 1 else order\n",
    "    diff = a[:,np.newaxis].repeat(len(b),1) - b\n",
    "    return (np.abs(diff)**order).sum(-1)**(1/root)"
   ]
  },
  {
   "cell_type": "code",
   "execution_count": 167,
   "metadata": {},
   "outputs": [
    {
     "data": {
      "text/plain": [
       "0.725"
      ]
     },
     "execution_count": 167,
     "metadata": {},
     "output_type": "execute_result"
    }
   ],
   "source": [
    "w = [5, 0]\n",
    "xt = trans(x, w)\n",
    "# _ = plot(x, xt)\n",
    "h_train = trans(x_train, w)\n",
    "h_valid = trans(x_valid, w)\n",
    "h_test = trans(x_test, w)\n",
    "h_dst = euc_dist(h_test, h_train)\n",
    "nino = get_nn_mat(h_dst, y_test, y_train)\n",
    "import embed_evals as evals\n",
    "evals.get_knn_score(h_train, y_train, h_test, y_test)\n"
   ]
  },
  {
   "cell_type": "code",
   "execution_count": 157,
   "metadata": {},
   "outputs": [
    {
     "data": {
      "text/plain": [
       "0.725"
      ]
     },
     "execution_count": 157,
     "metadata": {},
     "output_type": "execute_result"
    }
   ],
   "source": [
    "import embed_evals as evals\n",
    "evals.get_knn_score(h_train, y_train, h_test, y_test)\n"
   ]
  },
  {
   "cell_type": "code",
   "execution_count": 137,
   "metadata": {},
   "outputs": [],
   "source": [
    "def get_nn_mat(dist, y_test, y_train):\n",
    "    mask_train = np.tile(y_train, (len(y_test), 1))\n",
    "    apply_mask = lambda x, m: x + (-(m - 1) * x.max())\n",
    "    nn_mat = np.arange(len(y_test)).reshape(-1, 1)\n",
    "    for label in np.sort(np.unique(y_train)):\n",
    "        mask_in = label == mask_train\n",
    "        in1nn = np.argmin(apply_mask(dist, mask_in), 1)\n",
    "        nn_mat = np.hstack([nn_mat, in1nn.reshape(-1, 1)])\n",
    "    return nn_mat\n",
    "\n",
    "def eval_nn_mat(dist, nn_mat, y_test, y_train):\n",
    "    dst = dist.take(nn_mat[:,0], 0)\n",
    "    dnn = np.vstack([np.take_along_axis(\n",
    "        dst, nn_mat[:,1+c].reshape(-1,1), 1).ravel() for c in np.unique(y_train)])\n",
    "    y_true = y_test.take(nn_mat[:,0])\n",
    "    return dnn.argmin(0) == y_true\n",
    "\n",
    "def get_nn_choice(dist, nn_mat):\n",
    "    dst = dist.take(nn_mat[:,0], 0)\n",
    "    dnn = np.vstack([np.take_along_axis(\n",
    "        dst, nn_mat[:,1+c].reshape(-1,1), 1).ravel() for c in np.unique(y_train)])\n",
    "    return dnn.argmin(0)\n",
    "\n",
    "def get_nn_chosen(choice, nn_mat):\n",
    "    chosen = np.take_along_axis(nn_mat[:,1:], choice.reshape(-1, 1), 1)\n",
    "    return chosen.ravel()\n",
    "\n",
    "def eval_nn_choice(choice, nn_mat, y_test, y_train):\n",
    "    chosen = np.take_along_axis(nn_mat[:,1:], choice.reshape(-1, 1), 1)\n",
    "    y_pred = y_train.take(chosen)\n",
    "    y_true = y_test.take(nn_mat[:,0])\n",
    "    return y_pred == y_true\n"
   ]
  },
  {
   "cell_type": "code",
   "execution_count": 138,
   "metadata": {},
   "outputs": [
    {
     "data": {
      "text/plain": [
       "array([ 43,  36,  27,  43, 105,  34,  43,  10, 101,  70, 105, 101,  23,\n",
       "        14,  49,  15,  34,   5,   5, 101, 119,  32,  39,  81,  59,  33,\n",
       "        89,  66,  79,  17,  69,  27,  59,  98,  12,  81, 101,  18,  59,\n",
       "        39])"
      ]
     },
     "execution_count": 138,
     "metadata": {},
     "output_type": "execute_result"
    }
   ],
   "source": [
    "choice = get_nn_choice(h_dst, nino)\n",
    "chosen = get_nn_chosen(choice, nino)\n",
    "chosen"
   ]
  },
  {
   "cell_type": "code",
   "execution_count": 140,
   "metadata": {},
   "outputs": [
    {
     "data": {
      "text/plain": [
       "array([0, 0, 0, 0, 0, 0, 0, 0, 1, 1, 0, 1, 0, 1, 0, 0, 0, 0, 0, 1, 1, 0,\n",
       "       1, 1, 1, 0, 1, 1, 1, 0, 1, 0, 1, 1, 0, 1, 1, 1, 1, 1])"
      ]
     },
     "execution_count": 140,
     "metadata": {},
     "output_type": "execute_result"
    }
   ],
   "source": [
    "y_train.take(chosen)"
   ]
  },
  {
   "cell_type": "code",
   "execution_count": 142,
   "metadata": {},
   "outputs": [],
   "source": [
    "def eval_knn(x_train, y_train, x_valid, y_valid, \n",
    "                k=1, metric=\"acc\", weights=\"uniform\"):\n",
    "    ''' Return K=1NN accuracy. '''\n",
    "    from sklearn.neighbors import KNeighborsClassifier\n",
    "    knc = KNeighborsClassifier(n_neighbors=k, weights=weights)\n",
    "    knc.fit(x_train, y_train)\n",
    "    pred = knc.predict(x_valid)\n",
    "    return pred\n",
    "    # return pred == y_valid"
   ]
  },
  {
   "cell_type": "code",
   "execution_count": 148,
   "metadata": {},
   "outputs": [],
   "source": [
    "from sklearn.neighbors import KNeighborsClassifier\n",
    "knc = KNeighborsClassifier(n_neighbors=1).fit(h_train, y_train)"
   ]
  },
  {
   "cell_type": "code",
   "execution_count": 153,
   "metadata": {},
   "outputs": [
    {
     "data": {
      "text/plain": [
       "array([105,  36,  60,  55, 105,  62, 105,  10, 101,  70, 105, 101,  41,\n",
       "        73, 107,  15,  24,   5,   5, 101, 119,  72,  75,  81,  93,  13,\n",
       "        89,  74,  79,  17,  69,  60,  93,  98,  12,  81, 101,  18,  93,\n",
       "        75])"
      ]
     },
     "execution_count": 153,
     "metadata": {},
     "output_type": "execute_result"
    }
   ],
   "source": [
    "knc.kneighbors(h_test, return_distance=False).ravel()\n"
   ]
  },
  {
   "cell_type": "code",
   "execution_count": 154,
   "metadata": {},
   "outputs": [
    {
     "data": {
      "text/plain": [
       "array([ 43,  36,  27,  43, 105,  34,  43,  10, 101,  70, 105, 101,  23,\n",
       "        14,  49,  15,  34,   5,   5, 101, 119,  32,  39,  81,  59,  33,\n",
       "        89,  66,  79,  17,  69,  27,  59,  98,  12,  81, 101,  18,  59,\n",
       "        39])"
      ]
     },
     "execution_count": 154,
     "metadata": {},
     "output_type": "execute_result"
    }
   ],
   "source": [
    "chosen"
   ]
  },
  {
   "cell_type": "code",
   "execution_count": 146,
   "metadata": {},
   "outputs": [
    {
     "data": {
      "text/plain": [
       "(array([14, 21, 25]),)"
      ]
     },
     "execution_count": 146,
     "metadata": {},
     "output_type": "execute_result"
    }
   ],
   "source": [
    "np.where(y_train.take(chosen) != eval_knn(h_train, y_train, h_test, y_test))"
   ]
  },
  {
   "cell_type": "code",
   "execution_count": null,
   "metadata": {},
   "outputs": [],
   "source": []
  },
  {
   "cell_type": "code",
   "execution_count": 156,
   "metadata": {},
   "outputs": [
    {
     "data": {
      "text/plain": [
       "0.725"
      ]
     },
     "execution_count": 156,
     "metadata": {},
     "output_type": "execute_result"
    }
   ],
   "source": [
    "import embed_evals as evals\n",
    "evals.get_knn_score(h_train, y_train, h_test, y_test)\n"
   ]
  },
  {
   "cell_type": "code",
   "execution_count": null,
   "metadata": {},
   "outputs": [],
   "source": []
  }
 ],
 "metadata": {
  "interpreter": {
   "hash": "5a254db8081bfac4759a9f21cc394f2718353617189cf88b2be07437bbf82b23"
  },
  "kernelspec": {
   "display_name": "Python 3.8.13",
   "language": "python",
   "name": "python3"
  },
  "language_info": {
   "codemirror_mode": {
    "name": "ipython",
    "version": 3
   },
   "file_extension": ".py",
   "mimetype": "text/x-python",
   "name": "python",
   "nbconvert_exporter": "python",
   "pygments_lexer": "ipython3",
   "version": "3.8.13"
  },
  "orig_nbformat": 4
 },
 "nbformat": 4,
 "nbformat_minor": 2
}
