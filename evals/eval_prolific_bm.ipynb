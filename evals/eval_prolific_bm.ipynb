{
 "cells": [
  {
   "cell_type": "code",
   "execution_count": 1,
   "metadata": {},
   "outputs": [
    {
     "name": "stderr",
     "output_type": "stream",
     "text": [
      "/data/anaconda3/envs/hanliu-tutorial/lib/python3.8/site-packages/tqdm/auto.py:22: TqdmWarning: IProgress not found. Please update jupyter and ipywidgets. See https://ipywidgets.readthedocs.io/en/stable/user_install.html\n",
      "  from .autonotebook import tqdm as notebook_tqdm\n"
     ]
    }
   ],
   "source": [
    "import os, pickle\n",
    "import pandas as pd\n",
    "import numpy as np\n",
    "from torchvision.datasets import ImageFolder\n",
    "import matplotlib.pyplot as plt\n",
    "from sklearn.metrics.pairwise import euclidean_distances as euc_dist"
   ]
  },
  {
   "cell_type": "code",
   "execution_count": 2,
   "metadata": {},
   "outputs": [],
   "source": [
    "train_ds = ImageFolder('../data/bm/train')\n",
    "valid_ds = ImageFolder('../data/bm/valid')\n",
    "test_ds = ImageFolder('../data/bm/test')"
   ]
  },
  {
   "cell_type": "code",
   "execution_count": 3,
   "metadata": {},
   "outputs": [],
   "source": [
    "y_train = np.array([y for _, y in train_ds])\n",
    "y_valid = np.array([y for _, y in valid_ds])\n",
    "y_test = np.array([y for _, y in test_ds])\n",
    "ytvs = y_train, y_valid, y_test"
   ]
  },
  {
   "cell_type": "code",
   "execution_count": 4,
   "metadata": {},
   "outputs": [],
   "source": [
    "p2i_train = pickle.load(open('../data/img2idx/bm_train.pkl', 'rb'))\n",
    "p2i_valid = pickle.load(open('../data/img2idx/bm_valid.pkl', 'rb'))\n",
    "p2i_test = pickle.load(open('../data/img2idx/bm_test.pkl', 'rb'))\n",
    "i2p_train = {v:k for k, v in p2i_train.items()}\n",
    "i2p_valid = {v:k for k, v in p2i_valid.items()}\n",
    "i2p_test = {v:k for k, v in p2i_test.items()}"
   ]
  },
  {
   "cell_type": "code",
   "execution_count": 5,
   "metadata": {},
   "outputs": [],
   "source": [
    "df = pd.read_csv('../data/bm_triplets/ab1-3.results.csv', index_col=0).reset_index(drop=True)\n",
    "df['ttt'] = df['trips_train'].apply(eval).apply(lambda row: np.array([list(map(lambda i: p2i_train[i], trip)) for trip in row]))\n",
    "df['vtt'] = df['trips_validtt'].apply(eval).apply(lambda row: np.array([[p2i_valid[trip[0]], p2i_train[trip[1]], p2i_train[trip[2]]] for trip in row]))\n",
    "df['stt'] = df['trips_testtt'].apply(eval).apply(lambda row: np.array([[p2i_test[trip[0]], p2i_train[trip[1]], p2i_train[trip[2]]] for trip in row]))"
   ]
  },
  {
   "cell_type": "code",
   "execution_count": 6,
   "metadata": {},
   "outputs": [],
   "source": [
    "def get_apn(trips, ytvs, fold):\n",
    "    yt, yv, ys = ytvs\n",
    "    ya = yv if fold == 'validtt' or fold == 'vtt' else ys if fold == 'testtt' or fold == 'stt' else yt\n",
    "    yp, yn = yt, yt\n",
    "    a = np.take(ya, trips[:,0])\n",
    "    p = np.take(yp, trips[:,1])\n",
    "    n = np.take(yn, trips[:,2])\n",
    "    return a, p, n\n",
    "\n",
    "def get_ds_acc(a, p, n):\n",
    "    apn = (a == p) & (a == n)\n",
    "    ap_n = (a == p) & (a != n)\n",
    "    an_p = (a == n) & (a != p)\n",
    "    a_pn = (a != p) & (p == n)\n",
    "    # return ap_n.sum() / (ap_n | an_p).sum(), (ap_n | an_p).sum()\n",
    "    return ap_n.sum() / (ap_n | an_p).sum()\n",
    "\n",
    "def get_ds(a, p, n):\n",
    "    apn = (a == p) & (a == n)\n",
    "    ap_n = (a == p) & (a != n)\n",
    "    an_p = (a == n) & (a != p)\n",
    "    a_pn = (a != p) & (p == n)\n",
    "    return ap_n, (ap_n | an_p)"
   ]
  },
  {
   "cell_type": "code",
   "execution_count": 8,
   "metadata": {},
   "outputs": [
    {
     "data": {
      "text/plain": [
       "0.6961666193820799"
      ]
     },
     "execution_count": 8,
     "metadata": {},
     "output_type": "execute_result"
    },
    {
     "data": {
      "image/png": "[encoded data removed]",
      "text/plain": [
       "<Figure size 432x288 with 1 Axes>"
      ]
     },
     "metadata": {
      "needs_background": "light"
     },
     "output_type": "display_data"
    }
   ],
   "source": [
    "df['tapn'] = df['ttt'].apply(lambda x: get_apn(x, ytvs, fold='ttt'))\n",
    "df['tapn'].apply(lambda r: get_ds_acc(*r)).hist()\n",
    "df['tapn'].apply(lambda r: get_ds_acc(*r)).mean()"
   ]
  },
  {
   "cell_type": "code",
   "execution_count": 26,
   "metadata": {},
   "outputs": [],
   "source": [
    "from itertools import chain\n",
    "ttt = np.vstack(list(chain(df['ttt'])))\n",
    "vtt = np.vstack(list(chain(df['vtt'])))\n",
    "stt = np.vstack(list(chain(df['stt'])))"
   ]
  },
  {
   "cell_type": "code",
   "execution_count": 11,
   "metadata": {},
   "outputs": [],
   "source": [
    "emb = {}\n",
    "for model in ['RESN', 'TN']:\n",
    "    for fold in ['train', 'valid', 'test']:\n",
    "        if model not in emb:\n",
    "            emb[model] = {}\n",
    "        emb[model][fold] = pickle.load(open(f'../embeds/bm/prolific/{model}_{fold}_emb512.pkl', 'rb'))"
   ]
  },
  {
   "cell_type": "code",
   "execution_count": 12,
   "metadata": {},
   "outputs": [],
   "source": [
    "drst = euc_dist(emb['RESN']['test'], emb['RESN']['train'])\n",
    "# dmst = euc_dist(emb['MTL']['test'], emb['MTL']['train'])\n",
    "dtst = euc_dist(emb['TN']['test'], emb['TN']['train'])"
   ]
  },
  {
   "cell_type": "code",
   "execution_count": 13,
   "metadata": {},
   "outputs": [],
   "source": [
    "def get_nn_tup(dist, y_test, y_train):\n",
    "    mask_test = np.tile(y_test, (len(y_train), 1)).T\n",
    "    mask_train = np.tile(y_train, (len(y_test), 1))\n",
    "    mask_in = mask_test == mask_train\n",
    "    mask_out = mask_test != mask_train\n",
    "    apply_mask = lambda x, m: x + (-(m - 1) * x.max())\n",
    "    in1nn = np.argmin(apply_mask(dist, mask_in), 1)\n",
    "    out1nn = np.argmin(apply_mask(dist, mask_out), 1)\n",
    "    nn_tup = np.vstack([np.arange(len(y_test)), in1nn, out1nn])\n",
    "    return nn_tup.T\n",
    "\n",
    "def eval_nn_tup(dist, nn_tup, y_test, y_train):\n",
    "    dst = dist.take(nn_tup[:,0], 0)\n",
    "    dap = np.take_along_axis(dst, nn_tup[:,1].reshape(-1,1), 1).ravel()\n",
    "    dan = np.take_along_axis(dst, nn_tup[:,2].reshape(-1,1), 1).ravel()\n",
    "    pp = y_train.take(nn_tup[:,1]).ravel()\n",
    "    pn = y_train.take(nn_tup[:,2]).ravel()\n",
    "    pa = np.zeros((len(nn_tup)))\n",
    "    pa[dap < dan] = pp[dap < dan]\n",
    "    pa[dap >= dan] = pn[dap >= dan]\n",
    "    y_true = y_test.take(nn_tup[:,0])\n",
    "    return pa == y_true"
   ]
  },
  {
   "cell_type": "code",
   "execution_count": 11,
   "metadata": {},
   "outputs": [
    {
     "data": {
      "text/plain": [
       "(0.875, 0.675, 0.65)"
      ]
     },
     "execution_count": 11,
     "metadata": {},
     "output_type": "execute_result"
    }
   ],
   "source": [
    "rstt1nn = get_nn_tup(drst, y_test, y_train)\n",
    "rcorr = eval_nn_tup(drst, rstt1nn, y_test, y_train)\n",
    "mcorr = eval_nn_tup(dmst, rstt1nn, y_test, y_train)\n",
    "tcorr = eval_nn_tup(dtst, rstt1nn, y_test, y_train)\n",
    "rcorr.mean(), mcorr.mean(), tcorr.mean()"
   ]
  },
  {
   "cell_type": "code",
   "execution_count": 12,
   "metadata": {},
   "outputs": [],
   "source": [
    "rnn1c = pickle.load(open('../examples/nn_1class/bm_RESN.pkl', 'rb'))\n",
    "mnn1c = pickle.load(open('../examples/nn_1class/bm_MTL.pkl', 'rb'))"
   ]
  },
  {
   "cell_type": "code",
   "execution_count": 13,
   "metadata": {},
   "outputs": [],
   "source": [
    "def get_path(nn_mat, i2p_test, i2p_train):\n",
    "    path_mat = np.zeros_like(nn_mat).astype(str)\n",
    "    path_mat[:,0] = np.vectorize(i2p_test.get)(nn_mat[:,0])\n",
    "    path_mat[:,1:] = np.vectorize(i2p_train.get)(nn_mat[:,1:])\n",
    "    return path_mat"
   ]
  },
  {
   "cell_type": "code",
   "execution_count": 16,
   "metadata": {},
   "outputs": [],
   "source": [
    "mat = np.vstack([np.arange(len(y_test)), rnn1c, mnn1c]).T\n",
    "# mat = get_path(mat, i2p_test, i2p_train)\n",
    "# pickle.dump(mat, open('../examples/nn_1class/bm_RESN_MTL.pkl', 'wb'))"
   ]
  },
  {
   "cell_type": "code",
   "execution_count": 32,
   "metadata": {},
   "outputs": [
    {
     "data": {
      "text/plain": [
       "array(['197.jpg', '183.jpg', '173.jpg'], dtype='<U21')"
      ]
     },
     "execution_count": 32,
     "metadata": {},
     "output_type": "execute_result"
    }
   ],
   "source": [
    "get_path(mat, i2p_test, i2p_train)[37]"
   ]
  },
  {
   "cell_type": "code",
   "execution_count": 28,
   "metadata": {},
   "outputs": [],
   "source": [
    "def get_nn_mat(dist, y_test, y_train):\n",
    "    mask_train = np.tile(y_train, (len(y_test), 1))\n",
    "    apply_mask = lambda x, m: x + (-(m - 1) * x.max())\n",
    "    nn_mat = np.arange(len(y_test)).reshape(-1, 1)\n",
    "    for label in np.sort(np.unique(y_train)):\n",
    "        mask_in = label == mask_train\n",
    "        in1nn = np.argmin(apply_mask(dist, mask_in), 1)\n",
    "        nn_mat = np.hstack([nn_mat, in1nn.reshape(-1, 1)])\n",
    "    return nn_mat\n",
    "\n",
    "def eval_nn_mat(dist, nn_mat, y_test, y_train):\n",
    "    dst = dist.take(nn_mat[:,0], 0)\n",
    "    dnn = np.vstack([np.take_along_axis(dst, nn_mat[:,1+c].reshape(-1,1), 1).ravel() for c in np.sort(np.unique(y_train))])\n",
    "    y_true = y_test.take(nn_mat[:,0])\n",
    "    return dnn.argmin(0) == y_true\n",
    "\n",
    "def choose_nn_mat(dist, nn_mat):\n",
    "    dst = dist.take(nn_mat[:,0], 0)\n",
    "    dnn = np.vstack([np.take_along_axis(dst, nn_mat[:,1+c].reshape(-1,1), 1).ravel() for c in np.sort(np.unique(y_train))])\n",
    "    return dnn.argmin(0)"
   ]
  },
  {
   "cell_type": "code",
   "execution_count": 32,
   "metadata": {},
   "outputs": [
    {
     "data": {
      "text/plain": [
       "0.495"
      ]
     },
     "execution_count": 32,
     "metadata": {},
     "output_type": "execute_result"
    }
   ],
   "source": [
    "eval_nn_mat(, stt, y_test, y_train).mean()"
   ]
  },
  {
   "cell_type": "code",
   "execution_count": 22,
   "metadata": {},
   "outputs": [],
   "source": [
    "diff = mat[:,1] != mat[:,2]"
   ]
  },
  {
   "cell_type": "code",
   "execution_count": 23,
   "metadata": {},
   "outputs": [
    {
     "data": {
      "text/plain": [
       "0.0"
      ]
     },
     "execution_count": 23,
     "metadata": {},
     "output_type": "execute_result"
    }
   ],
   "source": [
    "choose_nn_mat(drst, mat)[diff].mean()"
   ]
  },
  {
   "cell_type": "code",
   "execution_count": 28,
   "metadata": {},
   "outputs": [
    {
     "data": {
      "text/plain": [
       "1.0"
      ]
     },
     "execution_count": 28,
     "metadata": {},
     "output_type": "execute_result"
    }
   ],
   "source": [
    "choose_nn_mat(dmst, mat)[diff].mean()"
   ]
  },
  {
   "cell_type": "code",
   "execution_count": 29,
   "metadata": {},
   "outputs": [
    {
     "data": {
      "text/plain": [
       "0.5555555555555556"
      ]
     },
     "execution_count": 29,
     "metadata": {},
     "output_type": "execute_result"
    }
   ],
   "source": [
    "choose_nn_mat(dtst, mat)[diff].mean()"
   ]
  },
  {
   "cell_type": "code",
   "execution_count": 33,
   "metadata": {},
   "outputs": [],
   "source": [
    "import embed_evals as evals"
   ]
  },
  {
   "cell_type": "code",
   "execution_count": 36,
   "metadata": {},
   "outputs": [
    {
     "data": {
      "text/plain": [
       "0.75"
      ]
     },
     "execution_count": 36,
     "metadata": {},
     "output_type": "execute_result"
    }
   ],
   "source": [
    "evals.get_knn_score(emb['TN']['train'], y_train, emb['TN']['test'], y_valid)"
   ]
  },
  {
   "cell_type": "code",
   "execution_count": 15,
   "metadata": {},
   "outputs": [
    {
     "data": {
      "text/plain": [
       "(0.875, 0.675, 0.65)"
      ]
     },
     "execution_count": 15,
     "metadata": {},
     "output_type": "execute_result"
    }
   ],
   "source": [
    "rstt1nn_mat = get_nn_mat(drst, y_test, y_train)\n",
    "rcorr = eval_nn_mat(drst, rstt1nn_mat, y_test, y_train)\n",
    "mcorr = eval_nn_mat(dmst, rstt1nn_mat, y_test, y_train)\n",
    "tcorr = eval_nn_mat(dtst, rstt1nn_mat, y_test, y_train)\n",
    "rcorr.mean(), mcorr.mean(), tcorr.mean()"
   ]
  },
  {
   "cell_type": "code",
   "execution_count": 16,
   "metadata": {},
   "outputs": [
    {
     "data": {
      "text/plain": [
       "(0.825, 0.675, 0.625)"
      ]
     },
     "execution_count": 16,
     "metadata": {},
     "output_type": "execute_result"
    }
   ],
   "source": [
    "mstt1nn_mat = get_nn_mat(dmst, y_test, y_train)\n",
    "rcorr = eval_nn_mat(drst, mstt1nn_mat, y_test, y_train)\n",
    "mcorr = eval_nn_mat(dmst, mstt1nn_mat, y_test, y_train)\n",
    "tcorr = eval_nn_mat(dtst, mstt1nn_mat, y_test, y_train)\n",
    "rcorr.mean(), mcorr.mean(), tcorr.mean()"
   ]
  },
  {
   "cell_type": "code",
   "execution_count": 17,
   "metadata": {},
   "outputs": [
    {
     "data": {
      "text/plain": [
       "(0.85, 0.7, 0.75)"
      ]
     },
     "execution_count": 17,
     "metadata": {},
     "output_type": "execute_result"
    }
   ],
   "source": [
    "tstt1nn_mat = get_nn_mat(dtst, y_test, y_train)\n",
    "rcorr = eval_nn_mat(drst, tstt1nn_mat, y_test, y_train)\n",
    "mcorr = eval_nn_mat(dmst, tstt1nn_mat, y_test, y_train)\n",
    "tcorr = eval_nn_mat(dtst, tstt1nn_mat, y_test, y_train)\n",
    "rcorr.mean(), mcorr.mean(), tcorr.mean()"
   ]
  },
  {
   "cell_type": "code",
   "execution_count": 19,
   "metadata": {},
   "outputs": [
    {
     "data": {
      "text/plain": [
       "(0.825, 0.675, 0.625)"
      ]
     },
     "execution_count": 19,
     "metadata": {},
     "output_type": "execute_result"
    }
   ],
   "source": [
    "mstt1nn = get_nn_tup(dmst, y_test, y_train)\n",
    "rcorr = eval_nn_tup(drst, mstt1nn, y_test, y_train)\n",
    "mcorr = eval_nn_tup(dmst, mstt1nn, y_test, y_train)\n",
    "tcorr = eval_nn_tup(dtst, mstt1nn, y_test, y_train)\n",
    "rcorr.mean(), mcorr.mean(), tcorr.mean()"
   ]
  },
  {
   "cell_type": "code",
   "execution_count": null,
   "metadata": {},
   "outputs": [],
   "source": [
    "mat = mstt1nn[~mcorr].T\n",
    "fig, ax = plt.subplots(3, mat.shape[1], figsize=(mat.shape[1]*10, 3*10))\n",
    "from itertools import product\n",
    "for i, j in product(range(mat.shape[0]), range(mat.shape[1])):\n",
    "    img = test_ds[mat[i, j]][0] if i == 0 else train_ds[mat[i, j]][0]\n",
    "    ax[i, j].imshow(img)\n",
    "    ax[i, j].set_xticks([])\n",
    "    ax[i, j].set_yticks([])"
   ]
  },
  {
   "cell_type": "code",
   "execution_count": 20,
   "metadata": {},
   "outputs": [
    {
     "data": {
      "text/plain": [
       "(0.85, 0.7, 0.75)"
      ]
     },
     "execution_count": 20,
     "metadata": {},
     "output_type": "execute_result"
    }
   ],
   "source": [
    "tstt1nn = get_nn_tup(dtst, y_test, y_train)\n",
    "rcorr = eval_nn_tup(drst, tstt1nn, y_test, y_train)\n",
    "mcorr = eval_nn_tup(dmst, tstt1nn, y_test, y_train)\n",
    "tcorr = eval_nn_tup(dtst, tstt1nn, y_test, y_train)\n",
    "rcorr.mean(), mcorr.mean(), tcorr.mean()"
   ]
  },
  {
   "cell_type": "code",
   "execution_count": null,
   "metadata": {},
   "outputs": [],
   "source": [
    "mat = tstt1nn[~tcorr].T\n",
    "fig, ax = plt.subplots(3, mat.shape[1], figsize=(mat.shape[1]*10, 3*10))\n",
    "from itertools import product\n",
    "for i, j in product(range(mat.shape[0]), range(mat.shape[1])):\n",
    "    img = test_ds[mat[i, j]][0] if i == 0 else train_ds[mat[i, j]][0]\n",
    "    ax[i, j].imshow(img)\n",
    "    ax[i, j].set_xticks([])\n",
    "    ax[i, j].set_yticks([])"
   ]
  },
  {
   "cell_type": "code",
   "execution_count": null,
   "metadata": {},
   "outputs": [],
   "source": [
    "mat = rstt1nn.T\n",
    "mat[2] = mstt1nn.T[1]\n",
    "fig, ax = plt.subplots(3, mat.shape[1], figsize=(mat.shape[1]*10, 3*10))\n",
    "from itertools import product\n",
    "for i, j in product(range(mat.shape[0]), range(mat.shape[1])):\n",
    "    img = test_ds[mat[i, j]][0] if i == 0 else train_ds[mat[i, j]][0]\n",
    "    ax[i, j].imshow(img)\n",
    "    ax[i, j].set_xticks([])\n",
    "    ax[i, j].set_yticks([])"
   ]
  },
  {
   "cell_type": "code",
   "execution_count": null,
   "metadata": {},
   "outputs": [],
   "source": []
  }
 ],
 "metadata": {
  "interpreter": {
   "hash": "5a254db8081bfac4759a9f21cc394f2718353617189cf88b2be07437bbf82b23"
  },
  "kernelspec": {
   "display_name": "Python 3.8.13",
   "language": "python",
   "name": "python3"
  },
  "language_info": {
   "codemirror_mode": {
    "name": "ipython",
    "version": 3
   },
   "file_extension": ".py",
   "mimetype": "text/x-python",
   "name": "python",
   "nbconvert_exporter": "python",
   "pygments_lexer": "ipython3",
   "version": "3.8.13"
  },
  "orig_nbformat": 4
 },
 "nbformat": 4,
 "nbformat_minor": 2
}
