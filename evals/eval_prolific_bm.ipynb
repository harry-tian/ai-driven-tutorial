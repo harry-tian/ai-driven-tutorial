{
 "cells": [
  {
   "cell_type": "code",
   "execution_count": 2,
   "metadata": {},
   "outputs": [],
   "source": [
    "%load_ext autoreload\n",
    "%autoreload 2"
   ]
  },
  {
   "cell_type": "code",
   "execution_count": 155,
   "metadata": {},
   "outputs": [],
   "source": [
    "import pickle\n",
    "import pandas as pd\n",
    "import numpy as np\n",
    "import matplotlib.pyplot as plt\n",
    "import seaborn as sns\n",
    "sns.color_palette()\n",
    "from sklearn.metrics.pairwise import euclidean_distances as euc_dist\n",
    "from eval_ds import *\n",
    "from embed_evals import syn_evals, get_NI\n",
    "%config InlineBackend.figure_format='retina'"
   ]
  },
  {
   "cell_type": "code",
   "execution_count": 4,
   "metadata": {},
   "outputs": [],
   "source": [
    "from torchvision.datasets import ImageFolder\n",
    "train_ds = ImageFolder('../datasets/bm/train')\n",
    "valid_ds = ImageFolder('../datasets/bm/valid')\n",
    "test_ds = ImageFolder('../datasets/bm/test')\n",
    "y_train = np.array([y for _, y in train_ds])\n",
    "y_valid = np.array([y for _, y in valid_ds])\n",
    "y_test = np.array([y for _, y in test_ds])\n",
    "ytvs = y_train, y_valid, y_test"
   ]
  },
  {
   "cell_type": "code",
   "execution_count": 5,
   "metadata": {},
   "outputs": [],
   "source": [
    "p2i_train = pickle.load(open('../datasets/img2idx/bm_train.pkl', 'rb'))\n",
    "p2i_valid = pickle.load(open('../datasets/img2idx/bm_valid.pkl', 'rb'))\n",
    "p2i_test = pickle.load(open('../datasets/img2idx/bm_test.pkl', 'rb'))\n",
    "i2p_train = {v:k for k, v in p2i_train.items()}\n",
    "i2p_valid = {v:k for k, v in p2i_valid.items()}\n",
    "i2p_test = {v:k for k, v in p2i_test.items()}"
   ]
  },
  {
   "cell_type": "code",
   "execution_count": 6,
   "metadata": {},
   "outputs": [],
   "source": [
    "df = pd.read_csv('../datasets/bm_prolific_triplets/ab1-3.results.csv', index_col=0).reset_index(drop=True)\n",
    "df['ttt'] = df['trips_train'].apply(eval).apply(lambda row: np.array([list(map(lambda i: p2i_train[i], trip)) for trip in row]))\n",
    "df['vtt'] = df['trips_validtt'].apply(eval).apply(lambda row: np.array([[p2i_valid[trip[0]], p2i_train[trip[1]], p2i_train[trip[2]]] for trip in row]))\n",
    "df['stt'] = df['trips_testtt'].apply(eval).apply(lambda row: np.array([[p2i_test[trip[0]], p2i_train[trip[1]], p2i_train[trip[2]]] for trip in row]))"
   ]
  },
  {
   "cell_type": "code",
   "execution_count": 7,
   "metadata": {},
   "outputs": [],
   "source": [
    "def get_apn(trips, ytvs, fold):\n",
    "    yt, yv, ys = ytvs\n",
    "    ya = yv if fold == 'validtt' or fold == 'vtt' else ys if fold == 'testtt' or fold == 'stt' else yt\n",
    "    yp, yn = yt, yt\n",
    "    a = np.take(ya, trips[:,0])\n",
    "    p = np.take(yp, trips[:,1])\n",
    "    n = np.take(yn, trips[:,2])\n",
    "    return a, p, n\n",
    "\n",
    "def get_apn_acc(a, p, n):\n",
    "    apn = (a == p) & (a == n)\n",
    "    ap_n = (a == p) & (a != n)\n",
    "    an_p = (a == n) & (a != p)\n",
    "    a_pn = (a != p) & (p == n)\n",
    "    # return ap_n.sum() / (ap_n | an_p).sum(), (ap_n | an_p).sum()\n",
    "    return ap_n.sum() / (ap_n | an_p).sum()\n",
    "\n",
    "def get_clf_apn(a, p, n):\n",
    "    apn = (a == p) & (a == n)\n",
    "    ap_n = (a == p) & (a != n)\n",
    "    an_p = (a == n) & (a != p)\n",
    "    a_pn = (a != p) & (p == n)\n",
    "    return ap_n, (ap_n | an_p)"
   ]
  },
  {
   "cell_type": "code",
   "execution_count": 8,
   "metadata": {},
   "outputs": [
    {
     "data": {
      "text/plain": [
       "0.6961666193820799"
      ]
     },
     "execution_count": 8,
     "metadata": {},
     "output_type": "execute_result"
    },
    {
     "data": {
      "image/png": "[encoded data removed]",
      "text/plain": [
       "<Figure size 432x288 with 1 Axes>"
      ]
     },
     "metadata": {
      "image/png": {
       "height": 248,
       "width": 369
      },
      "needs_background": "light"
     },
     "output_type": "display_data"
    }
   ],
   "source": [
    "df['tapn'] = df['ttt'].apply(lambda x: get_apn(x, ytvs, fold='ttt'))\n",
    "df['tapn'].apply(lambda r: get_apn_acc(*r)).hist()\n",
    "df['tapn'].apply(lambda r: get_apn_acc(*r)).mean()"
   ]
  },
  {
   "cell_type": "code",
   "execution_count": 9,
   "metadata": {},
   "outputs": [],
   "source": [
    "from itertools import chain\n",
    "ttt = np.vstack(list(chain(df['ttt'])))\n",
    "vtt = np.vstack(list(chain(df['vtt'])))\n",
    "stt = np.vstack(list(chain(df['stt'])))"
   ]
  },
  {
   "cell_type": "code",
   "execution_count": 10,
   "metadata": {},
   "outputs": [],
   "source": [
    "def load_all_embs(path, models, dim, arch=None, seeds=None):\n",
    "    emb, folds = {}, ['train', 'valid', 'test']\n",
    "    for model in models:\n",
    "        if model not in emb: emb[model] = {}\n",
    "        model_path = '/'.join([path, model, arch]) if arch else '/'.join([path, model])\n",
    "        if seeds is not None:\n",
    "            for seed in seeds:\n",
    "                if model not in emb[model]: emb[model][seed] = {}\n",
    "                for fold in folds:\n",
    "                    if fold not in emb[model][seed]: emb[model][seed][fold] = {}\n",
    "                    emb[model][seed][fold] = pickle.load(\n",
    "                        open(f'{model_path}_{fold}_emb{dim}_s{seed}.pkl', 'rb'))\n",
    "        else:\n",
    "            for fold in folds:\n",
    "                if fold not in emb[model]: emb[model][fold] = {}\n",
    "                emb[model][fold] = pickle.load(\n",
    "                    open(f'{model_path}_{fold}_emb{dim}.pkl', 'rb'))\n",
    "    return emb"
   ]
  },
  {
   "cell_type": "code",
   "execution_count": 11,
   "metadata": {},
   "outputs": [],
   "source": [
    "def get_dst_from_embs(embs):\n",
    "    train, test = embs['train'], embs['test']\n",
    "    return euc_dist(test, train)\n",
    "\n",
    "def get_dss_from_embs(embs):\n",
    "    train, test = embs['test'], embs['test']\n",
    "    return euc_dist(test, train)"
   ]
  },
  {
   "cell_type": "code",
   "execution_count": null,
   "metadata": {},
   "outputs": [],
   "source": [
    "df = pd.read_csv('../bm_prolific_d50_e50_pre_no_aug_0.csv')\n",
    "df['model'] = df['Name'].map(lambda x: x.split('s')[0])\n",
    "df['perf'] = df['test_clf_acc'] + df['test_triplet_acc']\n",
    "df = df.loc[df.groupby('model')['perf'].idxmax()][['model', 'Name', 'perf', 'test_clf_acc', 'test_triplet_acc']]\n",
    "best = {k:int(v) for k, v in df.Name.str.split('s')}\n",
    "agent = 's'.join(['MTL0', str(best['MTL0'])])"
   ]
  },
  {
   "cell_type": "code",
   "execution_count": 140,
   "metadata": {},
   "outputs": [],
   "source": [
    "path = '../embeds/bm/prolific/bm_prolific_d512_e50/pre_no_aug_0'\n",
    "models = [f'MTL{l}' for l in [0, 0.2, 0.5, 0.8, 1]]\n",
    "seeds = list(range(5))\n",
    "embs = load_all_embs(path, models, 512, 'MTL_han', seeds)\n",
    "dsts = {}\n",
    "for model in models:\n",
    "    for seed in seeds:\n",
    "        name = 's'.join([model, str(seed)])\n",
    "        dsts[name] = get_dst_from_embs(embs[model][seed])\n",
    "b_embs = {m: embs[m][best[m]] for m in embs}"
   ]
  },
  {
   "cell_type": "code",
   "execution_count": 157,
   "metadata": {},
   "outputs": [
    {
     "data": {
      "text/plain": [
       "(dict_keys(['MTL0s0', 'MTL0s1', 'MTL0s2', 'MTL0s3', 'MTL0s4', 'lpips.alex', 'lpips.vgg']),\n",
       " 7)"
      ]
     },
     "execution_count": 157,
     "metadata": {},
     "output_type": "execute_result"
    }
   ],
   "source": [
    "syns = {k: v for k, v in dsts.items() if 'MTL0s' in k}\n",
    "syns['lpips.alex'] = pickle.load(open('../embeds/lpips/bm/lpips.alex.dstt.pkl', 'rb'))\n",
    "syns['lpips.vgg'] = pickle.load(open('../embeds/lpips/bm/lpips.vgg.dstt.pkl', 'rb'))\n",
    "b_syns = {s: syns[s] for s in [agent, 'lpips.alex', 'lpips.vgg']}\n",
    "syns.keys(), len(syns)"
   ]
  },
  {
   "cell_type": "code",
   "execution_count": 162,
   "metadata": {},
   "outputs": [],
   "source": [
    "model, seed = 'MTL1', best[model]\n",
    "z_train, z_test = embs[model][seed]['train'], embs[model][seed]['test']\n",
    "resn_nis = get_NI(z_train, y_train, z_test, y_test)"
   ]
  },
  {
   "cell_type": "code",
   "execution_count": 164,
   "metadata": {},
   "outputs": [],
   "source": [
    "id_columns = ['agent', 'model', 'seed']\n",
    "ds_columns = ['NINO_ds_acc', 'NIFO_ds_acc', 'rNINO_ds_acc']\n",
    "er_columns = ['NINO_ds_err', 'NIFO_ds_err', 'rNINO_ds_err']\n",
    "ni_columns = ['NIs', 'NI_acc']\n",
    "results = pd.DataFrame(columns=id_columns + ds_columns + er_columns + ni_columns)\n",
    "for syn in syns:\n",
    "    syn_dist = syns[syn]\n",
    "    for model in models:\n",
    "        for seed in seeds:\n",
    "            z_train, z_test = embs[model][seed]['train'], embs[model][seed]['test']\n",
    "            evals = syn_evals(z_train, y_train, z_test, y_test, None, None, None, None, dist=syn_dist)\n",
    "            nn_mat = np.vstack([np.arange(len(y_test)), evals['NIs'], resn_nis]).T\n",
    "            NI_acc = (get_ds_choice(syn_dist, nn_mat) == 0).mean()\n",
    "            evals['NI_acc'] = NI_acc\n",
    "            results.loc[len(results)] = [syn, model, seed] \\\n",
    "                + [evals[k] for k in ds_columns] \\\n",
    "                + [evals[k] for k in er_columns] \\\n",
    "                + [evals[k] for k in ni_columns]"
   ]
  },
  {
   "cell_type": "code",
   "execution_count": 207,
   "metadata": {},
   "outputs": [],
   "source": [
    "df = results.copy()\n",
    "df = df.drop(df[df.agent.str.contains(\"MTL\") & ~df.agent.str.contains(\"s4\")].index)\n",
    "for k, v in best.items():\n",
    "    df = df.drop(df[(df['model']==k) & ~(df['seed'] == v)].index)\n",
    "df = df.drop(df[(df['agent']=='MTL0') & ~(df['seed'] == best['MTL0'])].index)\n",
    "df_best = df.copy()\n",
    "df_agent = results[results['agent'] == agent].copy()\n",
    "df_agent_best = df_agent.loc[[\n",
    "    i for i in df_best.index if i in df_agent.index]].copy()"
   ]
  },
  {
   "cell_type": "code",
   "execution_count": 167,
   "metadata": {},
   "outputs": [
    {
     "data": {
      "text/html": [
       "<div>\n",
       "<style scoped>\n",
       "    .dataframe tbody tr th:only-of-type {\n",
       "        vertical-align: middle;\n",
       "    }\n",
       "\n",
       "    .dataframe tbody tr th {\n",
       "        vertical-align: top;\n",
       "    }\n",
       "\n",
       "    .dataframe thead th {\n",
       "        text-align: right;\n",
       "    }\n",
       "</style>\n",
       "<table border=\"1\" class=\"dataframe\">\n",
       "  <thead>\n",
       "    <tr style=\"text-align: right;\">\n",
       "      <th></th>\n",
       "      <th>agent</th>\n",
       "      <th>model</th>\n",
       "      <th>NINO_ds_acc</th>\n",
       "      <th>NIFO_ds_acc</th>\n",
       "      <th>rNINO_ds_acc</th>\n",
       "    </tr>\n",
       "  </thead>\n",
       "  <tbody>\n",
       "    <tr>\n",
       "      <th>0</th>\n",
       "      <td>MTL0s0</td>\n",
       "      <td>MTL0</td>\n",
       "      <td>0.770 ± 0.119</td>\n",
       "      <td>1.000 ± 0.000</td>\n",
       "      <td>0.815 ± 0.239</td>\n",
       "    </tr>\n",
       "    <tr>\n",
       "      <th>1</th>\n",
       "      <td>MTL0s0</td>\n",
       "      <td>MTL0.2</td>\n",
       "      <td>0.795 ± 0.142</td>\n",
       "      <td>1.000 ± 0.000</td>\n",
       "      <td>0.825 ± 0.124</td>\n",
       "    </tr>\n",
       "    <tr>\n",
       "      <th>2</th>\n",
       "      <td>MTL0s0</td>\n",
       "      <td>MTL0.5</td>\n",
       "      <td>0.775 ± 0.076</td>\n",
       "      <td>1.000 ± 0.000</td>\n",
       "      <td>0.785 ± 0.083</td>\n",
       "    </tr>\n",
       "    <tr>\n",
       "      <th>3</th>\n",
       "      <td>MTL0s0</td>\n",
       "      <td>MTL0.8</td>\n",
       "      <td>0.810 ± 0.094</td>\n",
       "      <td>1.000 ± 0.000</td>\n",
       "      <td>0.805 ± 0.081</td>\n",
       "    </tr>\n",
       "    <tr>\n",
       "      <th>4</th>\n",
       "      <td>MTL0s0</td>\n",
       "      <td>MTL1</td>\n",
       "      <td>0.855 ± 0.135</td>\n",
       "      <td>0.860 ± 0.235</td>\n",
       "      <td>0.850 ± 0.088</td>\n",
       "    </tr>\n",
       "  </tbody>\n",
       "</table>\n",
       "</div>"
      ],
      "text/plain": [
       "    agent   model    NINO_ds_acc    NIFO_ds_acc   rNINO_ds_acc\n",
       "0  MTL0s0    MTL0  0.770 ± 0.119  1.000 ± 0.000  0.815 ± 0.239\n",
       "1  MTL0s0  MTL0.2  0.795 ± 0.142  1.000 ± 0.000  0.825 ± 0.124\n",
       "2  MTL0s0  MTL0.5  0.775 ± 0.076  1.000 ± 0.000  0.785 ± 0.083\n",
       "3  MTL0s0  MTL0.8  0.810 ± 0.094  1.000 ± 0.000  0.805 ± 0.081\n",
       "4  MTL0s0    MTL1  0.855 ± 0.135  0.860 ± 0.235  0.850 ± 0.088"
      ]
     },
     "execution_count": 167,
     "metadata": {},
     "output_type": "execute_result"
    }
   ],
   "source": [
    "def get_ci(samples, confidence=0.95):\n",
    "    from scipy import stats\n",
    "    return 2 * stats.sem(samples) * stats.t.ppf((1 + confidence) / 2., len(samples)-1)\n",
    "df_mean = results.groupby(['agent', 'model']).agg(\n",
    "    {c: 'mean' for c in ds_columns}).reset_index()\n",
    "df_sems = results.groupby(['agent', 'model']).agg(\n",
    "    {c: get_ci for c in ds_columns}).reset_index()\n",
    "def get_df_mean_sems(df_mean, df_sems, agent=None):\n",
    "    if agent is not None:\n",
    "        df_mean = df_mean[df_mean['agent'] == agent]\n",
    "        df_sems = df_sems[df_sems['agent'] == agent]\n",
    "    columns = ['NINO_ds_acc', 'NIFO_ds_acc', 'rNINO_ds_acc']\n",
    "    df_mean_sems = df_mean.copy()\n",
    "    df_mean_sems[columns] = df_mean[columns].applymap(\"{:.3f} ± \".format)\n",
    "    df_mean_sems[columns] += df_sems[columns].applymap(\"{:.3f}\".format)\n",
    "    return df_mean_sems\n",
    "get_df_mean_sems(df_mean, df_sems).head()"
   ]
  },
  {
   "cell_type": "code",
   "execution_count": 168,
   "metadata": {},
   "outputs": [
    {
     "data": {
      "image/png": "[encoded data removed]",
      "text/plain": [
       "<Figure size 720x288 with 1 Axes>"
      ]
     },
     "metadata": {
      "image/png": {
       "height": 265,
       "width": 609
      },
      "needs_background": "light"
     },
     "output_type": "display_data"
    },
    {
     "data": {
      "image/png": "[encoded data removed]",
      "text/plain": [
       "<Figure size 720x288 with 1 Axes>"
      ]
     },
     "metadata": {
      "image/png": {
       "height": 265,
       "width": 609
      },
      "needs_background": "light"
     },
     "output_type": "display_data"
    },
    {
     "data": {
      "image/png": "[encoded data removed]",
      "text/plain": [
       "<Figure size 720x288 with 1 Axes>"
      ]
     },
     "metadata": {
      "image/png": {
       "height": 265,
       "width": 609
      },
      "needs_background": "light"
     },
     "output_type": "display_data"
    }
   ],
   "source": [
    "for ds in ds_columns:\n",
    "    fig, ax = plt.subplots(1, 1, figsize=(10, 4))\n",
    "    df = results[id_columns + [ds]].copy()\n",
    "    df['agent'] = df['agent'].apply(lambda x: x.split('s')[0] if 'MTL0' in x else x)\n",
    "    sns.barplot(ax=ax, x='agent', y=ds, hue='model', data=df)\n",
    "    ax.set_ylim((0.5, 1))"
   ]
  },
  {
   "cell_type": "code",
   "execution_count": 169,
   "metadata": {},
   "outputs": [
    {
     "data": {
      "text/plain": [
       "<matplotlib.legend.Legend at 0x7f5badaeee50>"
      ]
     },
     "execution_count": 169,
     "metadata": {},
     "output_type": "execute_result"
    },
    {
     "data": {
      "image/png": "[encoded data removed]",
      "text/plain": [
       "<Figure size 576x432 with 1 Axes>"
      ]
     },
     "metadata": {
      "image/png": {
       "height": 374,
       "width": 574
      },
      "needs_background": "light"
     },
     "output_type": "display_data"
    }
   ],
   "source": [
    "df = df_best.copy()\n",
    "df = df[df['agent'] == agent]\n",
    "df_melt = pd.melt(df, id_columns, ds_columns, var_name='ds', value_name='acc')\n",
    "fig, ax = plt.subplots(1, 1, figsize=(8,6))\n",
    "sns.barplot(ax=ax, x='ds', y='acc', hue='model', data=df_melt)\n",
    "ax.set_ylim((0.5, 1)); ax.legend(bbox_to_anchor=(1,1))"
   ]
  },
  {
   "cell_type": "code",
   "execution_count": 150,
   "metadata": {},
   "outputs": [],
   "source": [
    "def eval_stt(dist, stt):\n",
    "    dist = dist[stt[:, 0]]\n",
    "    ap = np.take_along_axis(dist, stt[:, 1:2], 1)\n",
    "    an = np.take_along_axis(dist, stt[:, 2:], 1)\n",
    "    return (ap < an).mean()\n"
   ]
  },
  {
   "cell_type": "code",
   "execution_count": 152,
   "metadata": {},
   "outputs": [
    {
     "data": {
      "text/html": [
       "<div>\n",
       "<style scoped>\n",
       "    .dataframe tbody tr th:only-of-type {\n",
       "        vertical-align: middle;\n",
       "    }\n",
       "\n",
       "    .dataframe tbody tr th {\n",
       "        vertical-align: top;\n",
       "    }\n",
       "\n",
       "    .dataframe thead th {\n",
       "        text-align: right;\n",
       "    }\n",
       "</style>\n",
       "<table border=\"1\" class=\"dataframe\">\n",
       "  <thead>\n",
       "    <tr style=\"text-align: right;\">\n",
       "      <th></th>\n",
       "      <th>agent</th>\n",
       "      <th>test_triplet_acc</th>\n",
       "    </tr>\n",
       "  </thead>\n",
       "  <tbody>\n",
       "    <tr>\n",
       "      <th>0</th>\n",
       "      <td>MTL0</td>\n",
       "      <td>0.72125</td>\n",
       "    </tr>\n",
       "    <tr>\n",
       "      <th>1</th>\n",
       "      <td>MTL0</td>\n",
       "      <td>0.71000</td>\n",
       "    </tr>\n",
       "    <tr>\n",
       "      <th>2</th>\n",
       "      <td>MTL0</td>\n",
       "      <td>0.72125</td>\n",
       "    </tr>\n",
       "    <tr>\n",
       "      <th>3</th>\n",
       "      <td>MTL0</td>\n",
       "      <td>0.74625</td>\n",
       "    </tr>\n",
       "    <tr>\n",
       "      <th>4</th>\n",
       "      <td>MTL0</td>\n",
       "      <td>0.74750</td>\n",
       "    </tr>\n",
       "    <tr>\n",
       "      <th>5</th>\n",
       "      <td>lpips.alex</td>\n",
       "      <td>0.54500</td>\n",
       "    </tr>\n",
       "    <tr>\n",
       "      <th>6</th>\n",
       "      <td>lpips.vgg</td>\n",
       "      <td>0.55000</td>\n",
       "    </tr>\n",
       "  </tbody>\n",
       "</table>\n",
       "</div>"
      ],
      "text/plain": [
       "        agent  test_triplet_acc\n",
       "0        MTL0           0.72125\n",
       "1        MTL0           0.71000\n",
       "2        MTL0           0.72125\n",
       "3        MTL0           0.74625\n",
       "4        MTL0           0.74750\n",
       "5  lpips.alex           0.54500\n",
       "6   lpips.vgg           0.55000"
      ]
     },
     "execution_count": 152,
     "metadata": {},
     "output_type": "execute_result"
    },
    {
     "data": {
      "image/png": "[encoded data removed]",
      "text/plain": [
       "<Figure size 432x288 with 1 Axes>"
      ]
     },
     "metadata": {
      "image/png": {
       "height": 265,
       "width": 386
      },
      "needs_background": "light"
     },
     "output_type": "display_data"
    }
   ],
   "source": [
    "df = pd.DataFrame(columns=[\"agent\", \"test_triplet_acc\"])\n",
    "for syn in syns:\n",
    "    df.loc[len(df)] = [syn, eval_stt(syns[syn], stt)]\n",
    "df['agent'] = df['agent'].apply(lambda x: x.split('s')[0] if 'MTL0' in x else x)\n",
    "ax = sns.barplot(data=df, x='agent', y='test_triplet_acc')\n",
    "ax.set_ylim((0.5, 1))\n",
    "df"
   ]
  },
  {
   "cell_type": "code",
   "execution_count": 148,
   "metadata": {},
   "outputs": [
    {
     "name": "stdout",
     "output_type": "stream",
     "text": [
      "MTL0 1.0\n",
      "MTL0.2 0.875\n",
      "MTL0.5 0.5\n",
      "MTL0.8 0.675\n",
      "MTL1 1.0\n"
     ]
    }
   ],
   "source": [
    "b_dists = {m: get_dst_from_embs(b_embs[m]) for m in b_embs}\n",
    "b_nis = df_best.groupby('model').agg({'NIs': 'first'}).to_dict()['NIs']\n",
    "for k in b_nis:\n",
    "    nn_mat = np.vstack([np.arange(len(y_test)), b_nis[k], b_nis['MTL1']]).T\n",
    "    NI_acc = (get_ds_choice(syns[agent], nn_mat) == 0).mean()\n",
    "    print(k, NI_acc)"
   ]
  },
  {
   "cell_type": "code",
   "execution_count": 202,
   "metadata": {},
   "outputs": [
    {
     "data": {
      "text/plain": [
       "(0.5, 1.0)"
      ]
     },
     "execution_count": 202,
     "metadata": {},
     "output_type": "execute_result"
    },
    {
     "data": {
      "image/png": "[encoded data removed]",
      "text/plain": [
       "<Figure size 432x288 with 1 Axes>"
      ]
     },
     "metadata": {
      "image/png": {
       "height": 265,
       "width": 385
      },
      "needs_background": "light"
     },
     "output_type": "display_data"
    }
   ],
   "source": [
    "df = df_agent[id_columns + ['NI_acc']]\n",
    "ax = sns.barplot(data=df, x='model', y='NI_acc')\n",
    "ax.set_ylim((0.5, 1))"
   ]
  },
  {
   "cell_type": "code",
   "execution_count": 212,
   "metadata": {},
   "outputs": [
    {
     "data": {
      "text/html": [
       "<div>\n",
       "<style scoped>\n",
       "    .dataframe tbody tr th:only-of-type {\n",
       "        vertical-align: middle;\n",
       "    }\n",
       "\n",
       "    .dataframe tbody tr th {\n",
       "        vertical-align: top;\n",
       "    }\n",
       "\n",
       "    .dataframe thead th {\n",
       "        text-align: right;\n",
       "    }\n",
       "</style>\n",
       "<table border=\"1\" class=\"dataframe\">\n",
       "  <thead>\n",
       "    <tr style=\"text-align: right;\">\n",
       "      <th></th>\n",
       "      <th>agent</th>\n",
       "      <th>model</th>\n",
       "      <th>seed</th>\n",
       "      <th>NI_acc</th>\n",
       "    </tr>\n",
       "  </thead>\n",
       "  <tbody>\n",
       "    <tr>\n",
       "      <th>104</th>\n",
       "      <td>MTL0s4</td>\n",
       "      <td>MTL0</td>\n",
       "      <td>4</td>\n",
       "      <td>1.000</td>\n",
       "    </tr>\n",
       "    <tr>\n",
       "      <th>109</th>\n",
       "      <td>MTL0s4</td>\n",
       "      <td>MTL0.2</td>\n",
       "      <td>4</td>\n",
       "      <td>0.875</td>\n",
       "    </tr>\n",
       "    <tr>\n",
       "      <th>110</th>\n",
       "      <td>MTL0s4</td>\n",
       "      <td>MTL0.5</td>\n",
       "      <td>0</td>\n",
       "      <td>0.500</td>\n",
       "    </tr>\n",
       "    <tr>\n",
       "      <th>119</th>\n",
       "      <td>MTL0s4</td>\n",
       "      <td>MTL0.8</td>\n",
       "      <td>4</td>\n",
       "      <td>0.675</td>\n",
       "    </tr>\n",
       "    <tr>\n",
       "      <th>124</th>\n",
       "      <td>MTL0s4</td>\n",
       "      <td>MTL1</td>\n",
       "      <td>4</td>\n",
       "      <td>1.000</td>\n",
       "    </tr>\n",
       "  </tbody>\n",
       "</table>\n",
       "</div>"
      ],
      "text/plain": [
       "      agent   model  seed  NI_acc\n",
       "104  MTL0s4    MTL0     4   1.000\n",
       "109  MTL0s4  MTL0.2     4   0.875\n",
       "110  MTL0s4  MTL0.5     0   0.500\n",
       "119  MTL0s4  MTL0.8     4   0.675\n",
       "124  MTL0s4    MTL1     4   1.000"
      ]
     },
     "execution_count": 212,
     "metadata": {},
     "output_type": "execute_result"
    }
   ],
   "source": [
    "df = df_agent_best[id_columns + ['NI_acc']]\n",
    "df[id_columns + ['NI_acc']]"
   ]
  },
  {
   "cell_type": "code",
   "execution_count": 201,
   "metadata": {},
   "outputs": [
    {
     "data": {
      "text/html": [
       "<div>\n",
       "<style scoped>\n",
       "    .dataframe tbody tr th:only-of-type {\n",
       "        vertical-align: middle;\n",
       "    }\n",
       "\n",
       "    .dataframe tbody tr th {\n",
       "        vertical-align: top;\n",
       "    }\n",
       "\n",
       "    .dataframe thead th {\n",
       "        text-align: right;\n",
       "    }\n",
       "</style>\n",
       "<table border=\"1\" class=\"dataframe\">\n",
       "  <thead>\n",
       "    <tr style=\"text-align: right;\">\n",
       "      <th></th>\n",
       "      <th>agent</th>\n",
       "      <th>model</th>\n",
       "      <th>seed</th>\n",
       "      <th>NI_acc</th>\n",
       "    </tr>\n",
       "  </thead>\n",
       "  <tbody>\n",
       "    <tr>\n",
       "      <th>100</th>\n",
       "      <td>MTL0s4</td>\n",
       "      <td>MTL0</td>\n",
       "      <td>0</td>\n",
       "      <td>0.625</td>\n",
       "    </tr>\n",
       "    <tr>\n",
       "      <th>101</th>\n",
       "      <td>MTL0s4</td>\n",
       "      <td>MTL0</td>\n",
       "      <td>1</td>\n",
       "      <td>0.575</td>\n",
       "    </tr>\n",
       "    <tr>\n",
       "      <th>102</th>\n",
       "      <td>MTL0s4</td>\n",
       "      <td>MTL0</td>\n",
       "      <td>2</td>\n",
       "      <td>0.600</td>\n",
       "    </tr>\n",
       "    <tr>\n",
       "      <th>103</th>\n",
       "      <td>MTL0s4</td>\n",
       "      <td>MTL0</td>\n",
       "      <td>3</td>\n",
       "      <td>0.425</td>\n",
       "    </tr>\n",
       "    <tr>\n",
       "      <th>104</th>\n",
       "      <td>MTL0s4</td>\n",
       "      <td>MTL0</td>\n",
       "      <td>4</td>\n",
       "      <td>1.000</td>\n",
       "    </tr>\n",
       "    <tr>\n",
       "      <th>105</th>\n",
       "      <td>MTL0s4</td>\n",
       "      <td>MTL0.2</td>\n",
       "      <td>0</td>\n",
       "      <td>0.550</td>\n",
       "    </tr>\n",
       "    <tr>\n",
       "      <th>106</th>\n",
       "      <td>MTL0s4</td>\n",
       "      <td>MTL0.2</td>\n",
       "      <td>1</td>\n",
       "      <td>0.550</td>\n",
       "    </tr>\n",
       "    <tr>\n",
       "      <th>107</th>\n",
       "      <td>MTL0s4</td>\n",
       "      <td>MTL0.2</td>\n",
       "      <td>2</td>\n",
       "      <td>0.450</td>\n",
       "    </tr>\n",
       "    <tr>\n",
       "      <th>108</th>\n",
       "      <td>MTL0s4</td>\n",
       "      <td>MTL0.2</td>\n",
       "      <td>3</td>\n",
       "      <td>0.450</td>\n",
       "    </tr>\n",
       "    <tr>\n",
       "      <th>109</th>\n",
       "      <td>MTL0s4</td>\n",
       "      <td>MTL0.2</td>\n",
       "      <td>4</td>\n",
       "      <td>0.875</td>\n",
       "    </tr>\n",
       "    <tr>\n",
       "      <th>110</th>\n",
       "      <td>MTL0s4</td>\n",
       "      <td>MTL0.5</td>\n",
       "      <td>0</td>\n",
       "      <td>0.500</td>\n",
       "    </tr>\n",
       "    <tr>\n",
       "      <th>111</th>\n",
       "      <td>MTL0s4</td>\n",
       "      <td>MTL0.5</td>\n",
       "      <td>1</td>\n",
       "      <td>0.475</td>\n",
       "    </tr>\n",
       "    <tr>\n",
       "      <th>112</th>\n",
       "      <td>MTL0s4</td>\n",
       "      <td>MTL0.5</td>\n",
       "      <td>2</td>\n",
       "      <td>0.525</td>\n",
       "    </tr>\n",
       "    <tr>\n",
       "      <th>113</th>\n",
       "      <td>MTL0s4</td>\n",
       "      <td>MTL0.5</td>\n",
       "      <td>3</td>\n",
       "      <td>0.400</td>\n",
       "    </tr>\n",
       "    <tr>\n",
       "      <th>114</th>\n",
       "      <td>MTL0s4</td>\n",
       "      <td>MTL0.5</td>\n",
       "      <td>4</td>\n",
       "      <td>0.750</td>\n",
       "    </tr>\n",
       "    <tr>\n",
       "      <th>115</th>\n",
       "      <td>MTL0s4</td>\n",
       "      <td>MTL0.8</td>\n",
       "      <td>0</td>\n",
       "      <td>0.575</td>\n",
       "    </tr>\n",
       "    <tr>\n",
       "      <th>116</th>\n",
       "      <td>MTL0s4</td>\n",
       "      <td>MTL0.8</td>\n",
       "      <td>1</td>\n",
       "      <td>0.525</td>\n",
       "    </tr>\n",
       "    <tr>\n",
       "      <th>117</th>\n",
       "      <td>MTL0s4</td>\n",
       "      <td>MTL0.8</td>\n",
       "      <td>2</td>\n",
       "      <td>0.525</td>\n",
       "    </tr>\n",
       "    <tr>\n",
       "      <th>118</th>\n",
       "      <td>MTL0s4</td>\n",
       "      <td>MTL0.8</td>\n",
       "      <td>3</td>\n",
       "      <td>0.400</td>\n",
       "    </tr>\n",
       "    <tr>\n",
       "      <th>119</th>\n",
       "      <td>MTL0s4</td>\n",
       "      <td>MTL0.8</td>\n",
       "      <td>4</td>\n",
       "      <td>0.675</td>\n",
       "    </tr>\n",
       "    <tr>\n",
       "      <th>120</th>\n",
       "      <td>MTL0s4</td>\n",
       "      <td>MTL1</td>\n",
       "      <td>0</td>\n",
       "      <td>0.375</td>\n",
       "    </tr>\n",
       "    <tr>\n",
       "      <th>121</th>\n",
       "      <td>MTL0s4</td>\n",
       "      <td>MTL1</td>\n",
       "      <td>1</td>\n",
       "      <td>0.450</td>\n",
       "    </tr>\n",
       "    <tr>\n",
       "      <th>122</th>\n",
       "      <td>MTL0s4</td>\n",
       "      <td>MTL1</td>\n",
       "      <td>2</td>\n",
       "      <td>0.300</td>\n",
       "    </tr>\n",
       "    <tr>\n",
       "      <th>123</th>\n",
       "      <td>MTL0s4</td>\n",
       "      <td>MTL1</td>\n",
       "      <td>3</td>\n",
       "      <td>0.250</td>\n",
       "    </tr>\n",
       "    <tr>\n",
       "      <th>124</th>\n",
       "      <td>MTL0s4</td>\n",
       "      <td>MTL1</td>\n",
       "      <td>4</td>\n",
       "      <td>1.000</td>\n",
       "    </tr>\n",
       "  </tbody>\n",
       "</table>\n",
       "</div>"
      ],
      "text/plain": [
       "      agent   model  seed  NI_acc\n",
       "100  MTL0s4    MTL0     0   0.625\n",
       "101  MTL0s4    MTL0     1   0.575\n",
       "102  MTL0s4    MTL0     2   0.600\n",
       "103  MTL0s4    MTL0     3   0.425\n",
       "104  MTL0s4    MTL0     4   1.000\n",
       "105  MTL0s4  MTL0.2     0   0.550\n",
       "106  MTL0s4  MTL0.2     1   0.550\n",
       "107  MTL0s4  MTL0.2     2   0.450\n",
       "108  MTL0s4  MTL0.2     3   0.450\n",
       "109  MTL0s4  MTL0.2     4   0.875\n",
       "110  MTL0s4  MTL0.5     0   0.500\n",
       "111  MTL0s4  MTL0.5     1   0.475\n",
       "112  MTL0s4  MTL0.5     2   0.525\n",
       "113  MTL0s4  MTL0.5     3   0.400\n",
       "114  MTL0s4  MTL0.5     4   0.750\n",
       "115  MTL0s4  MTL0.8     0   0.575\n",
       "116  MTL0s4  MTL0.8     1   0.525\n",
       "117  MTL0s4  MTL0.8     2   0.525\n",
       "118  MTL0s4  MTL0.8     3   0.400\n",
       "119  MTL0s4  MTL0.8     4   0.675\n",
       "120  MTL0s4    MTL1     0   0.375\n",
       "121  MTL0s4    MTL1     1   0.450\n",
       "122  MTL0s4    MTL1     2   0.300\n",
       "123  MTL0s4    MTL1     3   0.250\n",
       "124  MTL0s4    MTL1     4   1.000"
      ]
     },
     "execution_count": 201,
     "metadata": {},
     "output_type": "execute_result"
    }
   ],
   "source": [
    "df_agent[id_columns + ['NI_acc']]"
   ]
  },
  {
   "cell_type": "code",
   "execution_count": null,
   "metadata": {},
   "outputs": [],
   "source": []
  }
 ],
 "metadata": {
  "interpreter": {
   "hash": "5a254db8081bfac4759a9f21cc394f2718353617189cf88b2be07437bbf82b23"
  },
  "kernelspec": {
   "display_name": "Python 3.8.13",
   "language": "python",
   "name": "python3"
  },
  "language_info": {
   "codemirror_mode": {
    "name": "ipython",
    "version": 3
   },
   "file_extension": ".py",
   "mimetype": "text/x-python",
   "name": "python",
   "nbconvert_exporter": "python",
   "pygments_lexer": "ipython3",
   "version": "3.8.13"
  },
  "orig_nbformat": 4
 },
 "nbformat": 4,
 "nbformat_minor": 2
}
