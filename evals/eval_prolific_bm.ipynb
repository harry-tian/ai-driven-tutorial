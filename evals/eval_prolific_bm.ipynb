{
 "cells": [
  {
   "cell_type": "code",
   "execution_count": 2,
   "metadata": {},
   "outputs": [],
   "source": [
    "%load_ext autoreload\n",
    "%autoreload 2"
   ]
  },
  {
   "cell_type": "code",
   "execution_count": 69,
   "metadata": {},
   "outputs": [],
   "source": [
    "import pickle\n",
    "import pandas as pd\n",
    "import numpy as np\n",
    "import matplotlib.pyplot as plt\n",
    "from sklearn.metrics.pairwise import euclidean_distances as euc_dist\n",
    "from eval_ds import *\n",
    "from embed_evals import get_knn_score, get_triplet_acc, get_val2train_triplet_acc"
   ]
  },
  {
   "cell_type": "code",
   "execution_count": 1,
   "metadata": {},
   "outputs": [
    {
     "name": "stderr",
     "output_type": "stream",
     "text": [
      "/data/anaconda3/envs/hanliu-tutorial/lib/python3.8/site-packages/tqdm/auto.py:22: TqdmWarning: IProgress not found. Please update jupyter and ipywidgets. See https://ipywidgets.readthedocs.io/en/stable/user_install.html\n",
      "  from .autonotebook import tqdm as notebook_tqdm\n"
     ]
    }
   ],
   "source": [
    "from torchvision.datasets import ImageFolder\n",
    "train_ds = ImageFolder('../datasets/bm/train')\n",
    "valid_ds = ImageFolder('../datasets/bm/valid')\n",
    "test_ds = ImageFolder('../datasets/bm/test')\n",
    "y_train = np.array([y for _, y in train_ds])\n",
    "y_valid = np.array([y for _, y in valid_ds])\n",
    "y_test = np.array([y for _, y in test_ds])\n",
    "ytvs = y_train, y_valid, y_test"
   ]
  },
  {
   "cell_type": "code",
   "execution_count": 5,
   "metadata": {},
   "outputs": [],
   "source": [
    "p2i_train = pickle.load(open('../datasets/img2idx/bm_train.pkl', 'rb'))\n",
    "p2i_valid = pickle.load(open('../datasets/img2idx/bm_valid.pkl', 'rb'))\n",
    "p2i_test = pickle.load(open('../datasets/img2idx/bm_test.pkl', 'rb'))\n",
    "i2p_train = {v:k for k, v in p2i_train.items()}\n",
    "i2p_valid = {v:k for k, v in p2i_valid.items()}\n",
    "i2p_test = {v:k for k, v in p2i_test.items()}"
   ]
  },
  {
   "cell_type": "code",
   "execution_count": 6,
   "metadata": {},
   "outputs": [],
   "source": [
    "df = pd.read_csv('../datasets/bm_prolific_triplets/ab1-3.results.csv', index_col=0).reset_index(drop=True)\n",
    "df['ttt'] = df['trips_train'].apply(eval).apply(lambda row: np.array([list(map(lambda i: p2i_train[i], trip)) for trip in row]))\n",
    "df['vtt'] = df['trips_validtt'].apply(eval).apply(lambda row: np.array([[p2i_valid[trip[0]], p2i_train[trip[1]], p2i_train[trip[2]]] for trip in row]))\n",
    "df['stt'] = df['trips_testtt'].apply(eval).apply(lambda row: np.array([[p2i_test[trip[0]], p2i_train[trip[1]], p2i_train[trip[2]]] for trip in row]))"
   ]
  },
  {
   "cell_type": "code",
   "execution_count": 67,
   "metadata": {},
   "outputs": [],
   "source": [
    "def get_apn(trips, ytvs, fold):\n",
    "    yt, yv, ys = ytvs\n",
    "    ya = yv if fold == 'validtt' or fold == 'vtt' else ys if fold == 'testtt' or fold == 'stt' else yt\n",
    "    yp, yn = yt, yt\n",
    "    a = np.take(ya, trips[:,0])\n",
    "    p = np.take(yp, trips[:,1])\n",
    "    n = np.take(yn, trips[:,2])\n",
    "    return a, p, n\n",
    "\n",
    "def get_apn_acc(a, p, n):\n",
    "    apn = (a == p) & (a == n)\n",
    "    ap_n = (a == p) & (a != n)\n",
    "    an_p = (a == n) & (a != p)\n",
    "    a_pn = (a != p) & (p == n)\n",
    "    # return ap_n.sum() / (ap_n | an_p).sum(), (ap_n | an_p).sum()\n",
    "    return ap_n.sum() / (ap_n | an_p).sum()\n",
    "\n",
    "def get_clf_apn(a, p, n):\n",
    "    apn = (a == p) & (a == n)\n",
    "    ap_n = (a == p) & (a != n)\n",
    "    an_p = (a == n) & (a != p)\n",
    "    a_pn = (a != p) & (p == n)\n",
    "    return ap_n, (ap_n | an_p)"
   ]
  },
  {
   "cell_type": "code",
   "execution_count": 68,
   "metadata": {},
   "outputs": [
    {
     "data": {
      "text/plain": [
       "0.6961666193820799"
      ]
     },
     "execution_count": 68,
     "metadata": {},
     "output_type": "execute_result"
    },
    {
     "data": {
      "image/png": "[encoded data removed]",
      "text/plain": [
       "<Figure size 432x288 with 1 Axes>"
      ]
     },
     "metadata": {
      "needs_background": "light"
     },
     "output_type": "display_data"
    }
   ],
   "source": [
    "df['tapn'] = df['ttt'].apply(lambda x: get_apn(x, ytvs, fold='ttt'))\n",
    "df['tapn'].apply(lambda r: get_apn_acc(*r)).hist()\n",
    "df['tapn'].apply(lambda r: get_apn_acc(*r)).mean()"
   ]
  },
  {
   "cell_type": "code",
   "execution_count": 11,
   "metadata": {},
   "outputs": [],
   "source": [
    "from itertools import chain\n",
    "ttt = np.vstack(list(chain(df['ttt'])))\n",
    "vtt = np.vstack(list(chain(df['vtt'])))\n",
    "stt = np.vstack(list(chain(df['stt'])))"
   ]
  },
  {
   "cell_type": "code",
   "execution_count": 22,
   "metadata": {},
   "outputs": [],
   "source": [
    "emb, models, folds, dim = {}, ['RESN', 'TN'], ['train', 'valid', 'test'], 512\n",
    "for model in models:\n",
    "    for fold in folds:\n",
    "        if model not in emb:\n",
    "            emb[model] = {}\n",
    "        emb[model][fold] = pickle.load(open(f'../embeds/bm/prolific/{model}_{fold}_emb{dim}.pkl', 'rb'))"
   ]
  },
  {
   "cell_type": "code",
   "execution_count": 42,
   "metadata": {},
   "outputs": [],
   "source": [
    "r_train, r_test = emb['RESN']['train'], emb['RESN']['test']\n",
    "t_train, t_test = emb['TN']['train'], emb['TN']['test']\n",
    "rdst = euc_dist(r_test, r_train)\n",
    "tdst = euc_dist(t_test, t_train)"
   ]
  },
  {
   "cell_type": "code",
   "execution_count": 26,
   "metadata": {},
   "outputs": [],
   "source": [
    "rnn1c = pickle.load(open('../examples/nn_1class/bm_RESN.pkl', 'rb'))\n",
    "mnn1c = pickle.load(open('../examples/nn_1class/bm_MTL.pkl', 'rb'))"
   ]
  },
  {
   "cell_type": "code",
   "execution_count": 27,
   "metadata": {},
   "outputs": [],
   "source": [
    "def get_path(nn_mat, i2p_test, i2p_train):\n",
    "    path_mat = np.zeros_like(nn_mat).astype(str)\n",
    "    path_mat[:,0] = np.vectorize(i2p_test.get)(nn_mat[:,0])\n",
    "    path_mat[:,1:] = np.vectorize(i2p_train.get)(nn_mat[:,1:])\n",
    "    return path_mat"
   ]
  },
  {
   "cell_type": "code",
   "execution_count": 28,
   "metadata": {},
   "outputs": [],
   "source": [
    "mat = np.vstack([np.arange(len(y_test)), rnn1c, mnn1c]).T\n",
    "# mat = get_path(mat, i2p_test, i2p_train)\n",
    "# pickle.dump(mat, open('../examples/nn_1class/bm_RESN_MTL.pkl', 'wb'))"
   ]
  },
  {
   "cell_type": "code",
   "execution_count": 65,
   "metadata": {},
   "outputs": [
    {
     "data": {
      "text/plain": [
       "(0.6025, 0.6025)"
      ]
     },
     "execution_count": 65,
     "metadata": {},
     "output_type": "execute_result"
    }
   ],
   "source": [
    "(get_ds_choice(rdst, stt) == 0).mean(), get_val2train_triplet_acc(r_train, r_test, stt)"
   ]
  },
  {
   "cell_type": "code",
   "execution_count": 66,
   "metadata": {},
   "outputs": [
    {
     "data": {
      "text/plain": [
       "(0.6775, 0.6775)"
      ]
     },
     "execution_count": 66,
     "metadata": {},
     "output_type": "execute_result"
    }
   ],
   "source": [
    "(get_ds_choice(tdst, stt) == 0).mean(), get_val2train_triplet_acc(t_train, t_test, stt)"
   ]
  },
  {
   "cell_type": "code",
   "execution_count": 74,
   "metadata": {},
   "outputs": [
    {
     "data": {
      "text/plain": [
       "(0.875, 0.875)"
      ]
     },
     "execution_count": 74,
     "metadata": {},
     "output_type": "execute_result"
    }
   ],
   "source": [
    "rds = get_ds(rdst, y_test, y_train)\n",
    "rchoice = get_ds_choice(rdst, rds)\n",
    "r1nnacc = eval_ds_choice(rchoice, rds, y_test, y_train).mean()\n",
    "r1nnacc, get_knn_score(r_train, y_train, r_test, y_valid)"
   ]
  },
  {
   "cell_type": "code",
   "execution_count": 75,
   "metadata": {},
   "outputs": [
    {
     "data": {
      "text/plain": [
       "(0.75, 0.75)"
      ]
     },
     "execution_count": 75,
     "metadata": {},
     "output_type": "execute_result"
    }
   ],
   "source": [
    "tds = get_ds(tdst, y_test, y_train)\n",
    "tchoice = get_ds_choice(tdst, tds)\n",
    "t1nnacc = eval_ds_choice(tchoice, tds, y_test, y_train).mean()\n",
    "t1nnacc, get_knn_score(t_train, y_train, t_test, y_valid)"
   ]
  },
  {
   "cell_type": "code",
   "execution_count": null,
   "metadata": {},
   "outputs": [],
   "source": []
  }
 ],
 "metadata": {
  "interpreter": {
   "hash": "5a254db8081bfac4759a9f21cc394f2718353617189cf88b2be07437bbf82b23"
  },
  "kernelspec": {
   "display_name": "Python 3.8.13",
   "language": "python",
   "name": "python3"
  },
  "language_info": {
   "codemirror_mode": {
    "name": "ipython",
    "version": 3
   },
   "file_extension": ".py",
   "mimetype": "text/x-python",
   "name": "python",
   "nbconvert_exporter": "python",
   "pygments_lexer": "ipython3",
   "version": "3.8.13"
  },
  "orig_nbformat": 4
 },
 "nbformat": 4,
 "nbformat_minor": 2
}
