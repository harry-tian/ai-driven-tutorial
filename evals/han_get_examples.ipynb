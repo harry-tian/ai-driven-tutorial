{
 "cells": [
  {
   "cell_type": "code",
   "execution_count": 5,
   "metadata": {},
   "outputs": [],
   "source": [
    "import pickle\n",
    "import pandas as pd\n",
    "import numpy as np\n",
    "from embed_evals import get_NI, get_NINO, get_NIFO\n",
    "from sklearn.metrics.pairwise import euclidean_distances as euc_dist"
   ]
  },
  {
   "cell_type": "code",
   "execution_count": null,
   "metadata": {},
   "outputs": [],
   "source": [
    "y_train, y_valid, y_test = pickle.load(open('../datasets/bm/labels.pkl', 'rb'))\n",
    "p2i_train, p2i_valid, p2i_test = pickle.load(open('../datasets/bm/img2idx.pkl', 'rb'))"
   ]
  },
  {
   "cell_type": "code",
   "execution_count": 6,
   "metadata": {},
   "outputs": [],
   "source": [
    "m_seed = 4\n",
    "m_path = '../embeds/bm/prolific/bm_prolific_d50_e50/pre_no_aug_0/MTL0.8/'\n",
    "m_train = pickle.load(open(m_path + f'MTL_han_train_emb50_s{m_seed}.pkl', 'rb'))\n",
    "m_test = pickle.load(open(m_path + f'MTL_han_test_emb50_s{m_seed}.pkl', 'rb'))"
   ]
  },
  {
   "cell_type": "code",
   "execution_count": 16,
   "metadata": {},
   "outputs": [],
   "source": [
    "m_dst = euc_dist(m_test, m_train)\n",
    "NINO = get_NINO(m_dst, y_train, y_test).reshape(len(y_test), 2)\n",
    "NIFO = get_NIFO(m_dst, y_train, y_test).reshape(len(y_test), 2)\n",
    "NI = get_NI(m_dst, y_train, y_test)\n",
    "# pickle.dump((NINO, NIFO, NI), open('../examples/bm/bm_prolific_d50_e50-pre_no_aug_0-MTL0.8s4-NINO_NIFO_NI.pkl', 'wb'))"
   ]
  },
  {
   "cell_type": "code",
   "execution_count": 22,
   "metadata": {},
   "outputs": [],
   "source": [
    "r_seed = 4\n",
    "r_path = '../embeds/bm/prolific/bm_prolific_d512_e50/pre_no_aug_0/MTL1/'\n",
    "r_train = pickle.load(open(r_path + f'MTL_han_train_emb512_s{r_seed}.pkl', 'rb'))\n",
    "r_test = pickle.load(open(r_path + f'MTL_han_test_emb512_s{r_seed}.pkl', 'rb'))\n",
    "\n",
    "# r_seed = 2\n",
    "# r_path = '../embeds/bm/prolific/bm_prolific_d50_e50/pre_no_aug_0/MTL1/'\n",
    "# r_train = pickle.load(open(r_path + f'MTL_han_train_emb50_s{r_seed}.pkl', 'rb'))\n",
    "# r_test = pickle.load(open(r_path + f'MTL_han_test_emb50_s{r_seed}.pkl', 'rb'))"
   ]
  },
  {
   "cell_type": "code",
   "execution_count": 26,
   "metadata": {},
   "outputs": [],
   "source": [
    "r_dst = euc_dist(r_test, r_train)\n",
    "NINO = get_NINO(r_dst, y_train, y_test).reshape(len(y_test), 2)\n",
    "NIFO = get_NIFO(r_dst, y_train, y_test).reshape(len(y_test), 2)\n",
    "NI = get_NI(r_dst, y_train, y_test)\n",
    "# pickle.dump((NINO, NIFO, NI), open('../examples/bm/bm_prolific_d512_e50-pre_no_aug_0-MTL1s4-NINO_NIFO_NI.pkl', 'wb'))"
   ]
  },
  {
   "cell_type": "code",
   "execution_count": null,
   "metadata": {},
   "outputs": [],
   "source": []
  }
 ],
 "metadata": {
  "interpreter": {
   "hash": "5a254db8081bfac4759a9f21cc394f2718353617189cf88b2be07437bbf82b23"
  },
  "kernelspec": {
   "display_name": "Python 3.8.13",
   "language": "python",
   "name": "python3"
  },
  "language_info": {
   "codemirror_mode": {
    "name": "ipython",
    "version": 3
   },
   "file_extension": ".py",
   "mimetype": "text/x-python",
   "name": "python",
   "nbconvert_exporter": "python",
   "pygments_lexer": "ipython3",
   "version": "3.8.13"
  },
  "orig_nbformat": 4
 },
 "nbformat": 4,
 "nbformat_minor": 2
}
