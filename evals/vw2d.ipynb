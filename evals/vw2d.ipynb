{
 "cells": [
  {
   "cell_type": "code",
   "execution_count": 1,
   "metadata": {},
   "outputs": [],
   "source": [
    "import os, pickle\n",
    "import pandas as pd\n",
    "import numpy as np\n",
    "import matplotlib.pyplot as plt\n",
    "from sklearn.metrics.pairwise import euclidean_distances as euc_dist"
   ]
  },
  {
   "cell_type": "code",
   "execution_count": 2,
   "metadata": {},
   "outputs": [],
   "source": [
    "def get_wv_df():\n",
    "    wee_ves_dir = '/net/scratch/hanliu-shared/data/image-data/output/one-class_syn2_size-color-diff-2D'\n",
    "    tsv_file = os.path.join(wee_ves_dir,'images-config.tsv')\n",
    "    df = pd.read_table(tsv_file,delim_whitespace=True,header=None)\n",
    "    df = df.rename(columns={0: \"label\", \n",
    "                    1: \"name\",\n",
    "                    2: \"index\",\n",
    "                    4: \"bodyheadszratio\",\n",
    "                    5: \"bodyheadcolordiff\",\n",
    "                    6: \"bodysz\",\n",
    "                    7: \"bodycolor\",\n",
    "                    8: \"bodycolorlighter\"\n",
    "                    })\n",
    "    features =  [\"bodyheadszratio\",\n",
    "                \"bodyheadcolordiff\",\n",
    "                \"bodysz\",\n",
    "                \"bodycolor\",\n",
    "                \"bodycolorlighter\"]\n",
    "    def extract_feature(x):\n",
    "        x_new= x.split('=')[1]\n",
    "        return x_new\n",
    "        \n",
    "    for feature in features:\n",
    "        df[feature] = df.apply(lambda row : extract_feature(row[feature]), axis = 1)\n",
    "    for fea in features:\n",
    "        df[fea] = df[fea].astype('float')\n",
    "\n",
    "    return df"
   ]
  },
  {
   "cell_type": "code",
   "execution_count": 3,
   "metadata": {},
   "outputs": [],
   "source": [
    "df = get_wv_df()\n",
    "selected_features = [\"bodyheadszratio\", \"bodyheadcolordiff\"]\n",
    "def return_label(w,b,x,y):\n",
    "    return 1 if y > w*x+b else 0\n",
    "w = -0.73027025\n",
    "b = 0.68565111\n",
    "df['pseudo_label'] = df.apply(lambda row : return_label(w,b,row[selected_features[0]],row[selected_features[1]]), axis = 1)\n",
    "x, y = df[selected_features].values, df['pseudo_label'].values"
   ]
  },
  {
   "cell_type": "code",
   "execution_count": 4,
   "metadata": {},
   "outputs": [],
   "source": [
    "def trans(x, y, w1=1, w2=1, theta=0, s1=0, s2=0, center=True):\n",
    "    u = x.mean(0); x = x - u if center else x\n",
    "    u0, u1 = x[y==0].mean(0), x[y==1].mean(0); u01 = u1 - u0\n",
    "    theta = 0.5 * np.pi - np.arctan(u01[1] / u01[0]) if theta == 'hard' else theta\n",
    "    theta = 0 - np.arctan(u01[1] / u01[0]) if theta == 'easy' else theta\n",
    "    apply = lambda t, x: t.dot(x.T).T\n",
    "    rot = np.array([[np.cos(theta), -np.sin(theta)], [np.sin(theta), np.cos(theta)]])\n",
    "    stretch = np.array([[w1, s1], [s2, w2]])\n",
    "    # trans = lambda x: apply(apply(stretch, rot), x) # rotate first\n",
    "    trans = lambda x: apply(stretch, apply(rot, x)) # stretch first\n",
    "    return trans(x) + u if center else trans(x)\n",
    "\n",
    "def plot(x, xt, figsize=(13, 6), xlim=[-0.2, 1], ylim=[-0.2, 1]):\n",
    "    fig, ax = plt.subplots(1,2,figsize=figsize)\n",
    "    ax[0].set_title('feature'); ax[1].set_title('human')\n",
    "    ax[0].scatter(x[:,0][y==0], x[:,1][y==0])\n",
    "    ax[0].scatter(x[:,0][y==1], x[:,1][y==1])\n",
    "    ax[1].scatter(xt[:,0][y==0], xt[:,1][y==0])\n",
    "    ax[1].scatter(xt[:,0][y==1], xt[:,1][y==1])\n",
    "    ax[0].set_xlim(xlim); ax[1].set_xlim(xlim)\n",
    "    ax[0].set_ylim(ylim); ax[1].set_ylim(ylim)\n",
    "    return fig, ax"
   ]
  },
  {
   "cell_type": "code",
   "execution_count": 5,
   "metadata": {},
   "outputs": [],
   "source": [
    "remb_train = pickle.load(open('../embeds/wv_old/RESN_train_emb10.pkl', 'rb'))\n",
    "remb_valid = pickle.load(open('../embeds/wv_old/RESN_valid_emb10.pkl', 'rb'))\n",
    "remb_test = pickle.load(open('../embeds/wv_old/RESN_test_emb10.pkl', 'rb'))"
   ]
  },
  {
   "cell_type": "code",
   "execution_count": 6,
   "metadata": {},
   "outputs": [],
   "source": [
    "p2i_train = pickle.load(open('../data/weevil_vespula/p2i.pkl', 'rb'))\n",
    "p2i_valid = pickle.load(open('../data/weevil_vespula/p2i_valid.pkl', 'rb'))\n",
    "p2i_test = pickle.load(open('../data/weevil_vespula/p2i_test.pkl', 'rb'))"
   ]
  },
  {
   "cell_type": "code",
   "execution_count": 7,
   "metadata": {},
   "outputs": [],
   "source": [
    "i2p_train = {v:int(k) for k, v in p2i_train.items()}\n",
    "i2p_valid = {v:int(k) for k, v in p2i_valid.items()}\n",
    "i2p_test = {v:int(k) for k, v in p2i_test.items()}"
   ]
  },
  {
   "cell_type": "code",
   "execution_count": 8,
   "metadata": {},
   "outputs": [],
   "source": [
    "def get_nn(dist):\n",
    "    nn_ids = np.argsort(dist, 1)\n",
    "    find_first = lambda ids, pool: [i for i in ids if i in pool][0]\n",
    "    train_neg_ids = [i for i in i2p_train.keys() if y[i2p_train[i]] == 0]\n",
    "    train_pos_ids = [i for i in i2p_train.keys() if y[i2p_train[i]] == 1]\n",
    "    nn_i = np.array([[i, \n",
    "        find_first(nn_ids[i], train_neg_ids if y[i2p_test[i]] == 0 else train_pos_ids), # in-class \n",
    "        find_first(nn_ids[i], train_neg_ids if y[i2p_test[i]] == 1 else train_pos_ids)] # out-of-class\n",
    "        for i in range(len(remb_test))])\n",
    "    nn_p = np.array([[i2p_test[a], i2p_train[p], i2p_train[n]] for a, p, n in nn_i])\n",
    "    return nn_i, nn_p\n",
    "\n",
    "def eval(human, emb_nn_p):\n",
    "    emb_nn_p = np.array(emb_nn_p) if type(emb_nn_p) == type([]) else emb_nn_p\n",
    "    a, p, n = human[emb_nn_p[:, 0]], human[emb_nn_p[:, 1]], human[emb_nn_p[:, 2]]\n",
    "    return np.diag(euc_dist(a, p)) < np.diag(euc_dist(a, n))\n",
    "\n",
    "def eval_1nn(dist):\n",
    "    nn1 = y[[i2p_train[i] for i in np.argsort(dist, 1)[:,0]]]\n",
    "    y_test = y[[i2p_test[i] for i in range(len(i2p_test))]]\n",
    "    return nn1 == y_test"
   ]
  },
  {
   "cell_type": "code",
   "execution_count": 14,
   "metadata": {},
   "outputs": [
    {
     "data": {
      "image/png": "[encoded data removed]",
      "text/plain": [
       "<Figure size 936x432 with 2 Axes>"
      ]
     },
     "metadata": {
      "needs_background": "light"
     },
     "output_type": "display_data"
    }
   ],
   "source": [
    "w11 = 2.7303\n",
    "w12 = 10000\n",
    "# xt = trans(x, y, w12, 1, 0, center=False)\n",
    "# _ = plot(x, xt, [18, 6], [0, 1.4], [0, 0.7])\n",
    "xt = trans(x, y, 1, 0, 'hard')\n",
    "_ = plot(x, xt)"
   ]
  },
  {
   "cell_type": "code",
   "execution_count": 15,
   "metadata": {},
   "outputs": [],
   "source": [
    "def ord_dist(a, b, order=2):\n",
    "    order = np.array(order) if len(order) > 1 else order\n",
    "    root = 2 if len(order) > 1 else order\n",
    "    diff = a[:,np.newaxis].repeat(len(b),1) - b\n",
    "    return (np.abs(diff)**order).sum(-1)**(1/root)"
   ]
  },
  {
   "cell_type": "code",
   "execution_count": 16,
   "metadata": {},
   "outputs": [
    {
     "data": {
      "text/plain": [
       "0.55"
      ]
     },
     "execution_count": 16,
     "metadata": {},
     "output_type": "execute_result"
    }
   ],
   "source": [
    "remb_dist = euc_dist(remb_test, remb_train)\n",
    "remb_nn_i, remb_nn_p = get_nn(remb_dist)\n",
    "eval(xt, remb_nn_p).mean()"
   ]
  },
  {
   "cell_type": "code",
   "execution_count": 17,
   "metadata": {},
   "outputs": [
    {
     "data": {
      "text/plain": [
       "0.425"
      ]
     },
     "execution_count": 17,
     "metadata": {},
     "output_type": "execute_result"
    }
   ],
   "source": [
    "human_test = xt[list(i2p_test.values())]\n",
    "human_train = xt[list(i2p_train.values())]\n",
    "human_dist = euc_dist(human_test, human_train)\n",
    "human_nn_i, human_nn_p = get_nn(human_dist)\n",
    "eval(xt, human_nn_p).mean()"
   ]
  },
  {
   "cell_type": "code",
   "execution_count": 18,
   "metadata": {},
   "outputs": [
    {
     "data": {
      "text/plain": [
       "(0.975, 0.425)"
      ]
     },
     "execution_count": 18,
     "metadata": {},
     "output_type": "execute_result"
    }
   ],
   "source": [
    "eval_1nn(remb_dist).mean(), eval_1nn(human_dist).mean()"
   ]
  },
  {
   "cell_type": "code",
   "execution_count": null,
   "metadata": {},
   "outputs": [],
   "source": []
  }
 ],
 "metadata": {
  "interpreter": {
   "hash": "9970ff74ed76cb07acf66b4e701d1e447c50fc95eb13cbe6fcfbfdef8c3dd446"
  },
  "kernelspec": {
   "display_name": "Python 3.8.13",
   "language": "python",
   "name": "python3"
  },
  "language_info": {
   "codemirror_mode": {
    "name": "ipython",
    "version": 3
   },
   "file_extension": ".py",
   "mimetype": "text/x-python",
   "name": "python",
   "nbconvert_exporter": "python",
   "pygments_lexer": "ipython3",
   "version": "3.8.13"
  },
  "orig_nbformat": 4
 },
 "nbformat": 4,
 "nbformat_minor": 2
}
