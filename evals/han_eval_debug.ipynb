{
 "cells": [
  {
   "cell_type": "code",
   "execution_count": 1,
   "metadata": {},
   "outputs": [
    {
     "name": "stderr",
     "output_type": "stream",
     "text": [
      "/data/anaconda3/envs/hanliu-tutorial/lib/python3.8/site-packages/tqdm/auto.py:22: TqdmWarning: IProgress not found. Please update jupyter and ipywidgets. See https://ipywidgets.readthedocs.io/en/stable/user_install.html\n",
      "  from .autonotebook import tqdm as notebook_tqdm\n"
     ]
    }
   ],
   "source": [
    "import pickle\n",
    "import pandas as pd\n",
    "import numpy as np\n",
    "import matplotlib.pyplot as plt\n",
    "import seaborn as sns\n",
    "sns.color_palette()\n",
    "from sklearn.metrics.pairwise import euclidean_distances as euc_dist\n",
    "from eval_ds import *\n",
    "from embed_evals import syn_evals, get_NI"
   ]
  },
  {
   "cell_type": "code",
   "execution_count": 8,
   "metadata": {},
   "outputs": [],
   "source": [
    "from torchvision.datasets import ImageFolder\n",
    "train_ds = ImageFolder('../datasets/bm/train')\n",
    "valid_ds = ImageFolder('../datasets/bm/valid')\n",
    "test_ds = ImageFolder('../datasets/bm/test')\n",
    "y_train = np.array([y for _, y in train_ds])\n",
    "y_valid = np.array([y for _, y in valid_ds])\n",
    "y_test = np.array([y for _, y in test_ds])\n",
    "ytvs = y_train, y_valid, y_test"
   ]
  },
  {
   "cell_type": "code",
   "execution_count": 5,
   "metadata": {},
   "outputs": [],
   "source": [
    "m_seed = 4\n",
    "m_path = '../embeds/bm/prolific/bm_prolific_d50_e50/pre_no_aug_0/MTL0.8/'\n",
    "m_train = pickle.load(open(m_path + f'MTL_han_train_emb50_s{m_seed}.pkl', 'rb'))\n",
    "m_test = pickle.load(open(m_path + f'MTL_han_test_emb50_s{m_seed}.pkl', 'rb'))"
   ]
  },
  {
   "cell_type": "code",
   "execution_count": 22,
   "metadata": {},
   "outputs": [],
   "source": [
    "r_seed = 4\n",
    "r_path = '../embeds/bm/prolific/bm_prolific_d512_e50/pre_no_aug_0/MTL1/'\n",
    "r_train = pickle.load(open(r_path + f'MTL_han_train_emb512_s{r_seed}.pkl', 'rb'))\n",
    "r_test = pickle.load(open(r_path + f'MTL_han_test_emb512_s{r_seed}.pkl', 'rb'))\n",
    "\n",
    "# r_seed = 2\n",
    "# r_path = '../embeds/bm/prolific/bm_prolific_d50_e50/pre_no_aug_0/MTL1/'\n",
    "# r_train = pickle.load(open(r_path + f'MTL_han_train_emb50_s{r_seed}.pkl', 'rb'))\n",
    "# r_test = pickle.load(open(r_path + f'MTL_han_test_emb50_s{r_seed}.pkl', 'rb'))"
   ]
  },
  {
   "cell_type": "code",
   "execution_count": 25,
   "metadata": {},
   "outputs": [],
   "source": [
    "t_seed = 4\n",
    "t_path = '../embeds/bm/prolific/bm_prolific_d512_e50/pre_no_aug_0/MTL0/'\n",
    "t_train = pickle.load(open(t_path + f'MTL_han_train_emb512_s{t_seed}.pkl', 'rb'))\n",
    "t_test = pickle.load(open(t_path + f'MTL_han_test_emb512_s{t_seed}.pkl', 'rb'))\n",
    "\n",
    "# t_seed = 0\n",
    "# t_path = '../embeds/bm/prolific/bm_prolific_d50_e50/pre_no_aug_0/MTL0/'\n",
    "# t_train = pickle.load(open(t_path + f'MTL_han_train_emb50_s{t_seed}.pkl', 'rb'))\n",
    "# t_test = pickle.load(open(t_path + f'MTL_han_test_emb50_s{t_seed}.pkl', 'rb'))"
   ]
  },
  {
   "cell_type": "code",
   "execution_count": 26,
   "metadata": {},
   "outputs": [
    {
     "data": {
      "text/plain": [
       "(28.0, 0.5625)"
      ]
     },
     "execution_count": 26,
     "metadata": {},
     "output_type": "execute_result"
    }
   ],
   "source": [
    "syn = euc_dist(t_test, t_train)\n",
    "m_nis = get_NI(m_train, y_train, m_test, y_test)\n",
    "r_nis = get_NI(r_train, y_train, r_test, y_test)\n",
    "nn_mat = np.hstack([np.arange(len(y_test)).reshape(-1, 1), m_nis, r_nis])\n",
    "sames = np.where(nn_mat[:, 1] == nn_mat[:, 2])[0]\n",
    "corr = (get_ds_choice(syn, nn_mat) == 0).astype(float)\n",
    "corr[sames] = 0.5\n",
    "sames.mean(), corr.mean()"
   ]
  },
  {
   "cell_type": "code",
   "execution_count": null,
   "metadata": {},
   "outputs": [],
   "source": [
    "9125, 8375\n",
    "5625, 5625"
   ]
  }
 ],
 "metadata": {
  "interpreter": {
   "hash": "5a254db8081bfac4759a9f21cc394f2718353617189cf88b2be07437bbf82b23"
  },
  "kernelspec": {
   "display_name": "Python 3.8.13",
   "language": "python",
   "name": "python3"
  },
  "language_info": {
   "codemirror_mode": {
    "name": "ipython",
    "version": 3
   },
   "file_extension": ".py",
   "mimetype": "text/x-python",
   "name": "python",
   "nbconvert_exporter": "python",
   "pygments_lexer": "ipython3",
   "version": "3.8.13"
  },
  "orig_nbformat": 4
 },
 "nbformat": 4,
 "nbformat_minor": 2
}
