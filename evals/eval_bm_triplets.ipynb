{
 "cells": [
  {
   "cell_type": "code",
   "execution_count": 1,
   "metadata": {},
   "outputs": [],
   "source": [
    "%load_ext autoreload\n",
    "%autoreload 2"
   ]
  },
  {
   "cell_type": "code",
   "execution_count": 2,
   "metadata": {},
   "outputs": [],
   "source": [
    "import pickle\n",
    "import pandas as pd\n",
    "import numpy as np\n",
    "import matplotlib.pyplot as plt\n",
    "import seaborn as sns\n",
    "sns.color_palette()\n",
    "%config InlineBackend.figure_format='retina'"
   ]
  },
  {
   "cell_type": "code",
   "execution_count": 3,
   "metadata": {},
   "outputs": [],
   "source": [
    "y_train, y_valid, y_test = pickle.load(open('../datasets/bm/labels.pkl', 'rb'))\n",
    "ytvs = y_train, y_valid, y_test\n",
    "p2i_train, p2i_valid, p2i_test = pickle.load(open('../datasets/bm/img2idx.pkl', 'rb'))\n",
    "i2p_train = {v:k for k, v in p2i_train.items()}\n",
    "i2p_valid = {v:k for k, v in p2i_valid.items()}\n",
    "i2p_test = {v:k for k, v in p2i_test.items()}"
   ]
  },
  {
   "cell_type": "code",
   "execution_count": 4,
   "metadata": {},
   "outputs": [],
   "source": [
    "df = pd.read_csv('../datasets/bm_prolific_triplets/ab1-3.results.csv', index_col=0).reset_index(drop=True)\n",
    "df['ttt'] = df['trips_train'].apply(eval).apply(lambda row: np.array([list(map(lambda i: p2i_train[i], trip)) for trip in row]))\n",
    "df['vtt'] = df['trips_validtt'].apply(eval).apply(lambda row: np.array([[p2i_valid[trip[0]], p2i_train[trip[1]], p2i_train[trip[2]]] for trip in row]))\n",
    "df['stt'] = df['trips_testtt'].apply(eval).apply(lambda row: np.array([[p2i_test[trip[0]], p2i_train[trip[1]], p2i_train[trip[2]]] for trip in row]))"
   ]
  },
  {
   "cell_type": "code",
   "execution_count": 5,
   "metadata": {},
   "outputs": [],
   "source": [
    "def get_apn(trips, ytvs, fold):\n",
    "    yt, yv, ys = ytvs\n",
    "    ya = yv if fold == 'validtt' or fold == 'vtt' else ys if fold == 'testtt' or fold == 'stt' else yt\n",
    "    yp, yn = yt, yt\n",
    "    a = np.take(ya, trips[:,0])\n",
    "    p = np.take(yp, trips[:,1])\n",
    "    n = np.take(yn, trips[:,2])\n",
    "    return a, p, n\n",
    "\n",
    "def get_apn_detailed(a, p, n):\n",
    "    apn = (a == p) & (a == n)\n",
    "    ap_n = (a == p) & (a != n)\n",
    "    an_p = (a == n) & (a != p)\n",
    "    a_pn = (a != p) & (p == n)\n",
    "    results = {\n",
    "        'correct': ap_n,\n",
    "        'correct_ratio': ap_n.sum() / len(a),\n",
    "        'clf': (ap_n | an_p),\n",
    "        'clf_acc': ap_n.sum() / (ap_n | an_p).sum(),\n",
    "        'clf_ratio': (ap_n | an_p).sum() / len(a),\n",
    "        'filtered': (apn | ap_n | a_pn),\n",
    "        'filtered_ratio': (apn | ap_n | a_pn).sum() / len(a),\n",
    "    }\n",
    "    return results"
   ]
  },
  {
   "cell_type": "code",
   "execution_count": 6,
   "metadata": {},
   "outputs": [],
   "source": [
    "df['tapn'] = df['ttt'].apply(lambda x: get_apn(x, ytvs, fold='ttt'))\n",
    "df['vapn'] = df['vtt'].apply(lambda x: get_apn(x, ytvs, fold='vtt'))\n",
    "df['sapn'] = df['stt'].apply(lambda x: get_apn(x, ytvs, fold='stt'))"
   ]
  },
  {
   "cell_type": "code",
   "execution_count": 7,
   "metadata": {},
   "outputs": [],
   "source": [
    "results_keys = list(get_apn_detailed(*df['tapn'].loc[0]).keys())\n",
    "for key in results_keys:\n",
    "    df['tapn_' + key] = df['tapn'].apply(lambda r: get_apn_detailed(*r)[key])\n",
    "    df['vapn_' + key] = df['vapn'].apply(lambda r: get_apn_detailed(*r)[key])\n",
    "    df['sapn_' + key] = df['sapn'].apply(lambda r: get_apn_detailed(*r)[key])"
   ]
  },
  {
   "cell_type": "code",
   "execution_count": 8,
   "metadata": {},
   "outputs": [
    {
     "data": {
      "text/plain": [
       "(RangeIndex(start=0, stop=80, step=1),\n",
       " Index(['username', 'study_name', 'total_study_time', 'total_prediction_time',\n",
       "        'median_prediction_time', 'prediction_time', 'attention_answers',\n",
       "        'answers', 'question_images', 'trips_train', 'trips_validtt',\n",
       "        'trips_testtt', 'ttt', 'vtt', 'stt', 'tapn', 'vapn', 'sapn',\n",
       "        'tapn_correct', 'vapn_correct', 'sapn_correct', 'tapn_correct_ratio',\n",
       "        'vapn_correct_ratio', 'sapn_correct_ratio', 'tapn_clf', 'vapn_clf',\n",
       "        'sapn_clf', 'tapn_clf_acc', 'vapn_clf_acc', 'sapn_clf_acc',\n",
       "        'tapn_clf_ratio', 'vapn_clf_ratio', 'sapn_clf_ratio', 'tapn_filtered',\n",
       "        'vapn_filtered', 'sapn_filtered', 'tapn_filtered_ratio',\n",
       "        'vapn_filtered_ratio', 'sapn_filtered_ratio'],\n",
       "       dtype='object'))"
      ]
     },
     "execution_count": 8,
     "metadata": {},
     "output_type": "execute_result"
    }
   ],
   "source": [
    "df.to_csv('bm_triplets.csv', index=False)\n",
    "df.index, df.columns"
   ]
  },
  {
   "cell_type": "code",
   "execution_count": 9,
   "metadata": {},
   "outputs": [],
   "source": [
    "from itertools import chain\n",
    "ttt = np.vstack(list(chain(df['ttt'])))\n",
    "vtt = np.vstack(list(chain(df['vtt'])))\n",
    "stt = np.vstack(list(chain(df['stt'])))"
   ]
  },
  {
   "cell_type": "code",
   "execution_count": 10,
   "metadata": {},
   "outputs": [],
   "source": [
    "ttt_filter_msk = np.vstack((list(chain(df['tapn'].apply(\n",
    "    lambda r: get_apn_detailed(*r)['filtered']))))).ravel()\n",
    "vtt_filter_msk = np.vstack((list(chain(df['vapn'].apply(\n",
    "    lambda r: get_apn_detailed(*r)['filtered']))))).ravel()\n",
    "stt_filter_msk = np.vstack((list(chain(df['sapn'].apply(\n",
    "    lambda r: get_apn_detailed(*r)['filtered']))))).ravel()"
   ]
  },
  {
   "cell_type": "code",
   "execution_count": 11,
   "metadata": {},
   "outputs": [
    {
     "data": {
      "text/plain": [
       "((2037, 3), (659, 3), (662, 3))"
      ]
     },
     "execution_count": 11,
     "metadata": {},
     "output_type": "execute_result"
    }
   ],
   "source": [
    "ttt_filtered, vtt_filtered, stt_filtered = ttt[ttt_filter_msk], vtt[vtt_filter_msk], stt[stt_filter_msk]\n",
    "ttt_filtered.shape, vtt_filtered.shape, stt_filtered.shape"
   ]
  },
  {
   "cell_type": "code",
   "execution_count": 12,
   "metadata": {},
   "outputs": [],
   "source": [
    "# pickle.dump(filtered.tolist(),\n",
    "#     open('../datasets/bm_prolific_triplets/train_triplets_filtered.pkl', 'wb'))\n",
    "# pickle.dump(vtt_filtered.tolist(),\n",
    "#     open('../datasets/bm_prolific_triplets/valid_triplets_filtered.pkl', 'wb'))\n",
    "# pickle.dump(stt_filtered.tolist(),\n",
    "#     open('../datasets/bm_prolific_triplets/test_triplets_filtered.pkl', 'wb'))"
   ]
  },
  {
   "cell_type": "code",
   "execution_count": 13,
   "metadata": {},
   "outputs": [],
   "source": [
    "ttt_filter_msk = np.vstack((list(chain(df['tapn'].apply(\n",
    "    lambda r: get_apn_detailed(*r)['correct']))))).ravel()\n",
    "vtt_filter_msk = np.vstack((list(chain(df['vapn'].apply(\n",
    "    lambda r: get_apn_detailed(*r)['correct']))))).ravel()\n",
    "stt_filter_msk = np.vstack((list(chain(df['sapn'].apply(\n",
    "    lambda r: get_apn_detailed(*r)['correct']))))).ravel()"
   ]
  },
  {
   "cell_type": "code",
   "execution_count": 14,
   "metadata": {},
   "outputs": [
    {
     "data": {
      "text/plain": [
       "((845, 3), (275, 3), (278, 3))"
      ]
     },
     "execution_count": 14,
     "metadata": {},
     "output_type": "execute_result"
    }
   ],
   "source": [
    "ttt_filtered, vtt_filtered, stt_filtered = ttt[ttt_filter_msk], vtt[vtt_filter_msk], stt[stt_filter_msk]\n",
    "ttt_filtered.shape, vtt_filtered.shape, stt_filtered.shape"
   ]
  },
  {
   "cell_type": "code",
   "execution_count": 15,
   "metadata": {},
   "outputs": [],
   "source": [
    "ttt_filter_msk = np.vstack((list(chain(df['tapn'].apply(\n",
    "    lambda r: get_apn_detailed(*r)['clf']))))).ravel()\n",
    "vtt_filter_msk = np.vstack((list(chain(df['vapn'].apply(\n",
    "    lambda r: get_apn_detailed(*r)['clf']))))).ravel()\n",
    "stt_filter_msk = np.vstack((list(chain(df['sapn'].apply(\n",
    "    lambda r: get_apn_detailed(*r)['clf']))))).ravel()"
   ]
  },
  {
   "cell_type": "code",
   "execution_count": 16,
   "metadata": {},
   "outputs": [
    {
     "data": {
      "text/plain": [
       "((1208, 3), (416, 3), (416, 3))"
      ]
     },
     "execution_count": 16,
     "metadata": {},
     "output_type": "execute_result"
    }
   ],
   "source": [
    "ttt_filtered, vtt_filtered, stt_filtered = ttt[ttt_filter_msk], vtt[vtt_filter_msk], stt[stt_filter_msk]\n",
    "ttt_filtered.shape, vtt_filtered.shape, stt_filtered.shape"
   ]
  },
  {
   "cell_type": "code",
   "execution_count": null,
   "metadata": {},
   "outputs": [],
   "source": []
  }
 ],
 "metadata": {
  "interpreter": {
   "hash": "5a254db8081bfac4759a9f21cc394f2718353617189cf88b2be07437bbf82b23"
  },
  "kernelspec": {
   "display_name": "Python 3.8.13",
   "language": "python",
   "name": "python3"
  },
  "language_info": {
   "codemirror_mode": {
    "name": "ipython",
    "version": 3
   },
   "file_extension": ".py",
   "mimetype": "text/x-python",
   "name": "python",
   "nbconvert_exporter": "python",
   "pygments_lexer": "ipython3",
   "version": "3.8.13"
  },
  "orig_nbformat": 4
 },
 "nbformat": 4,
 "nbformat_minor": 2
}
