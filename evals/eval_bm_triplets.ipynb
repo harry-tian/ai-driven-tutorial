{
 "cells": [
  {
   "cell_type": "code",
   "execution_count": 1,
   "metadata": {},
   "outputs": [],
   "source": [
    "%load_ext autoreload\n",
    "%autoreload 2"
   ]
  },
  {
   "cell_type": "code",
   "execution_count": 2,
   "metadata": {},
   "outputs": [],
   "source": [
    "import pickle\n",
    "import pandas as pd\n",
    "import numpy as np\n",
    "import matplotlib.pyplot as plt\n",
    "import seaborn as sns\n",
    "sns.color_palette()\n",
    "%config InlineBackend.figure_format='retina'"
   ]
  },
  {
   "cell_type": "code",
   "execution_count": 3,
   "metadata": {},
   "outputs": [],
   "source": [
    "y_train, y_valid, y_test = pickle.load(open('../datasets/bm/labels.pkl', 'rb'))\n",
    "ytvs = y_train, y_valid, y_test\n",
    "p2i_train, p2i_valid, p2i_test = pickle.load(open('../datasets/bm/img2idx.pkl', 'rb'))\n",
    "i2p_train = {v:k for k, v in p2i_train.items()}\n",
    "i2p_valid = {v:k for k, v in p2i_valid.items()}\n",
    "i2p_test = {v:k for k, v in p2i_test.items()}"
   ]
  },
  {
   "cell_type": "code",
   "execution_count": 5,
   "metadata": {},
   "outputs": [],
   "source": [
    "df = pd.read_csv('../datasets/bm_prolific_triplets/ab1-3.results.csv', index_col=0).reset_index(drop=True)\n",
    "df['ttt'] = df['trips_train'].apply(eval).apply(lambda row: np.array([list(map(lambda i: p2i_train[i], trip)) for trip in row]))\n",
    "df['vtt'] = df['trips_validtt'].apply(eval).apply(lambda row: np.array([[p2i_valid[trip[0]], p2i_train[trip[1]], p2i_train[trip[2]]] for trip in row]))\n",
    "df['stt'] = df['trips_testtt'].apply(eval).apply(lambda row: np.array([[p2i_test[trip[0]], p2i_train[trip[1]], p2i_train[trip[2]]] for trip in row]))"
   ]
  },
  {
   "cell_type": "code",
   "execution_count": 36,
   "metadata": {},
   "outputs": [],
   "source": [
    "def get_apn(trips, ytvs, fold):\n",
    "    yt, yv, ys = ytvs\n",
    "    ya = yv if fold == 'validtt' or fold == 'vtt' else ys if fold == 'testtt' or fold == 'stt' else yt\n",
    "    yp, yn = yt, yt\n",
    "    a = np.take(ya, trips[:,0])\n",
    "    p = np.take(yp, trips[:,1])\n",
    "    n = np.take(yn, trips[:,2])\n",
    "    return a, p, n\n",
    "\n",
    "def get_apn_acc(a, p, n):\n",
    "    apn = (a == p) & (a == n)\n",
    "    ap_n = (a == p) & (a != n)\n",
    "    an_p = (a == n) & (a != p)\n",
    "    a_pn = (a != p) & (p == n)\n",
    "    # return ap_n.sum() / (ap_n | an_p).sum(), (ap_n | an_p).sum()\n",
    "    return ap_n.sum() / (ap_n | an_p).sum()\n",
    "\n",
    "def get_clf_apn(a, p, n):\n",
    "    apn = (a == p) & (a == n)\n",
    "    ap_n = (a == p) & (a != n)\n",
    "    an_p = (a == n) & (a != p)\n",
    "    a_pn = (a != p) & (p == n)\n",
    "    return ap_n, (ap_n | an_p)\n",
    "\n",
    "def get_correct_over_total(a, p, n):\n",
    "    apn = (a == p) & (a == n)\n",
    "    ap_n = (a == p) & (a != n)\n",
    "    an_p = (a == n) & (a != p)\n",
    "    a_pn = (a != p) & (p == n)\n",
    "    return ap_n.sum() / len(a)\n",
    "\n",
    "def get_filtered_apn(a, p, n):\n",
    "    apn = (a == p) & (a == n)\n",
    "    ap_n = (a == p) & (a != n)\n",
    "    an_p = (a == n) & (a != p)\n",
    "    a_pn = (a != p) & (p == n)\n",
    "    return (apn | ap_n | a_pn).sum() / len(a)"
   ]
  },
  {
   "cell_type": "code",
   "execution_count": 10,
   "metadata": {},
   "outputs": [
    {
     "data": {
      "text/plain": [
       "0.6961666193820799"
      ]
     },
     "execution_count": 10,
     "metadata": {},
     "output_type": "execute_result"
    },
    {
     "data": {
      "image/png": "[encoded data removed]",
      "text/plain": [
       "<Figure size 432x288 with 1 Axes>"
      ]
     },
     "metadata": {
      "image/png": {
       "height": 248,
       "width": 369
      },
      "needs_background": "light"
     },
     "output_type": "display_data"
    }
   ],
   "source": [
    "df['tapn'] = df['ttt'].apply(lambda x: get_apn(x, ytvs, fold='ttt'))\n",
    "df['vapn'] = df['vtt'].apply(lambda x: get_apn(x, ytvs, fold='vtt'))\n",
    "df['sapn'] = df['stt'].apply(lambda x: get_apn(x, ytvs, fold='stt'))\n",
    "df['tapn'].apply(lambda r: get_apn_acc(*r)).hist()\n",
    "df['tapn'].apply(lambda r: get_apn_acc(*r)).mean()"
   ]
  },
  {
   "cell_type": "code",
   "execution_count": 37,
   "metadata": {},
   "outputs": [
    {
     "data": {
      "text/plain": [
       "(0.8487500000000001, 0.8500000000000001)"
      ]
     },
     "execution_count": 37,
     "metadata": {},
     "output_type": "execute_result"
    },
    {
     "data": {
      "image/png": "[encoded data removed]",
      "text/plain": [
       "<Figure size 432x288 with 1 Axes>"
      ]
     },
     "metadata": {
      "image/png": {
       "height": 248,
       "width": 369
      },
      "needs_background": "light"
     },
     "output_type": "display_data"
    }
   ],
   "source": [
    "df['tapn'].apply(lambda r: get_filtered_apn(*r)).hist()\n",
    "df['tapn'].apply(lambda r: get_filtered_apn(*r)).mean(), df['tapn'].apply(lambda r: get_filtered_apn(*r)).median()"
   ]
  },
  {
   "cell_type": "code",
   "execution_count": 8,
   "metadata": {},
   "outputs": [],
   "source": [
    "from itertools import chain\n",
    "ttt = np.vstack(list(chain(df['ttt'])))\n",
    "vtt = np.vstack(list(chain(df['vtt'])))\n",
    "stt = np.vstack(list(chain(df['stt'])))"
   ]
  },
  {
   "cell_type": "code",
   "execution_count": 9,
   "metadata": {},
   "outputs": [],
   "source": [
    "filter_msk = np.where(~(\n",
    "    (y_train[ttt[:,0]] == y_train[ttt[:,2]]) \\\n",
    "        & (y_train[ttt[:,0]] != y_train[ttt[:,1]])))[0]"
   ]
  },
  {
   "cell_type": "code",
   "execution_count": 10,
   "metadata": {},
   "outputs": [
    {
     "data": {
      "text/plain": [
       "2037"
      ]
     },
     "execution_count": 10,
     "metadata": {},
     "output_type": "execute_result"
    }
   ],
   "source": [
    "filtered = ttt[filter_msk]\n",
    "len(filtered)"
   ]
  },
  {
   "cell_type": "code",
   "execution_count": 11,
   "metadata": {},
   "outputs": [
    {
     "data": {
      "text/plain": [
       "2037"
      ]
     },
     "execution_count": 11,
     "metadata": {},
     "output_type": "execute_result"
    }
   ],
   "source": [
    "np.vstack((list(chain(df['tapn'].apply(\n",
    "    lambda r: get_filtered_apn(*r)))))).sum()"
   ]
  },
  {
   "cell_type": "code",
   "execution_count": 36,
   "metadata": {},
   "outputs": [],
   "source": [
    "vtt_filter_msk = np.vstack((list(chain(df['vapn'].apply(\n",
    "    lambda r: get_filtered_apn(*r)))))).ravel()\n",
    "stt_filter_msk = np.vstack((list(chain(df['sapn'].apply(\n",
    "    lambda r: get_filtered_apn(*r)))))).ravel()"
   ]
  },
  {
   "cell_type": "code",
   "execution_count": 48,
   "metadata": {},
   "outputs": [
    {
     "data": {
      "text/plain": [
       "((659, 3), (662, 3))"
      ]
     },
     "execution_count": 48,
     "metadata": {},
     "output_type": "execute_result"
    }
   ],
   "source": [
    "vtt_filtered, stt_filtered = vtt[vtt_filter_msk], stt[stt_filter_msk]\n",
    "vtt_filtered.shape, stt_filtered.shape"
   ]
  },
  {
   "cell_type": "code",
   "execution_count": 46,
   "metadata": {},
   "outputs": [
    {
     "data": {
      "text/plain": [
       "((659, 3), (662, 3))"
      ]
     },
     "execution_count": 46,
     "metadata": {},
     "output_type": "execute_result"
    }
   ],
   "source": [
    "vtt[np.where(~(\n",
    "    (y_valid[vtt[:,0]] == y_train[vtt[:,2]]) \\\n",
    "        & (y_valid[vtt[:,0]] != y_train[vtt[:,1]])))[0]].shape, stt[np.where(~(\n",
    "    (y_test[stt[:,0]] == y_train[stt[:,2]]) \\\n",
    "        & (y_test[stt[:,0]] != y_train[stt[:,1]])))[0]].shape"
   ]
  },
  {
   "cell_type": "code",
   "execution_count": 49,
   "metadata": {},
   "outputs": [],
   "source": [
    "# pickle.dump(filtered.tolist(),\n",
    "#     open('../datasets/bm_prolific_triplets/train_triplets_filtered.pkl', 'wb'))\n",
    "# pickle.dump(vtt_filtered.tolist(),\n",
    "#     open('../datasets/bm_prolific_triplets/valid_triplets_filtered.pkl', 'wb'))\n",
    "# pickle.dump(stt_filtered.tolist(),\n",
    "#     open('../datasets/bm_prolific_triplets/test_triplets_filtered.pkl', 'wb'))"
   ]
  },
  {
   "cell_type": "code",
   "execution_count": 23,
   "metadata": {},
   "outputs": [],
   "source": [
    "ttt_filter_msk = np.vstack((list(chain(df['tapn'].apply(\n",
    "    lambda r: get_clf_apn(*r)[1]))))).ravel()\n",
    "vtt_filter_msk = np.vstack((list(chain(df['vapn'].apply(\n",
    "    lambda r: get_clf_apn(*r)[1]))))).ravel()\n",
    "stt_filter_msk = np.vstack((list(chain(df['sapn'].apply(\n",
    "    lambda r: get_clf_apn(*r)[1]))))).ravel()"
   ]
  },
  {
   "cell_type": "code",
   "execution_count": 24,
   "metadata": {},
   "outputs": [
    {
     "data": {
      "text/plain": [
       "((1208, 3), (416, 3), (416, 3))"
      ]
     },
     "execution_count": 24,
     "metadata": {},
     "output_type": "execute_result"
    }
   ],
   "source": [
    "ttt_filtered, vtt_filtered, stt_filtered = ttt[ttt_filter_msk], vtt[vtt_filter_msk], stt[stt_filter_msk]\n",
    "ttt_filtered.shape, vtt_filtered.shape, stt_filtered.shape"
   ]
  },
  {
   "cell_type": "code",
   "execution_count": 38,
   "metadata": {},
   "outputs": [],
   "source": [
    "ttt_filter_msk = np.vstack((list(chain(df['tapn'].apply(\n",
    "    lambda r: get_clf_apn(*r)[0]))))).ravel()\n",
    "vtt_filter_msk = np.vstack((list(chain(df['vapn'].apply(\n",
    "    lambda r: get_clf_apn(*r)[0]))))).ravel()\n",
    "stt_filter_msk = np.vstack((list(chain(df['sapn'].apply(\n",
    "    lambda r: get_clf_apn(*r)[0]))))).ravel()"
   ]
  },
  {
   "cell_type": "code",
   "execution_count": 39,
   "metadata": {},
   "outputs": [
    {
     "data": {
      "text/plain": [
       "((845, 3), (275, 3), (278, 3))"
      ]
     },
     "execution_count": 39,
     "metadata": {},
     "output_type": "execute_result"
    }
   ],
   "source": [
    "ttt_filtered, vtt_filtered, stt_filtered = ttt[ttt_filter_msk], vtt[vtt_filter_msk], stt[stt_filter_msk]\n",
    "ttt_filtered.shape, vtt_filtered.shape, stt_filtered.shape"
   ]
  },
  {
   "cell_type": "code",
   "execution_count": null,
   "metadata": {},
   "outputs": [],
   "source": []
  }
 ],
 "metadata": {
  "interpreter": {
   "hash": "5a254db8081bfac4759a9f21cc394f2718353617189cf88b2be07437bbf82b23"
  },
  "kernelspec": {
   "display_name": "Python 3.8.13",
   "language": "python",
   "name": "python3"
  },
  "language_info": {
   "codemirror_mode": {
    "name": "ipython",
    "version": 3
   },
   "file_extension": ".py",
   "mimetype": "text/x-python",
   "name": "python",
   "nbconvert_exporter": "python",
   "pygments_lexer": "ipython3",
   "version": "3.8.13"
  },
  "orig_nbformat": 4
 },
 "nbformat": 4,
 "nbformat_minor": 2
}
