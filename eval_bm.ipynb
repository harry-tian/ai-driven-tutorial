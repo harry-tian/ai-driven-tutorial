{
 "cells": [
  {
   "cell_type": "code",
   "execution_count": 1,
   "metadata": {},
   "outputs": [],
   "source": [
    "import os, pickle\n",
    "import pandas as pd\n",
    "import numpy as np\n",
    "import matplotlib.pyplot as plt\n",
    "import torchvision\n",
    "import torch\n",
    "\n",
    "import warnings\n",
    "warnings.filterwarnings(\"ignore\")\n",
    "\n",
    "import models.utils as utils\n",
    "import csv\n",
    "from torchvision import transforms, models\n",
    "import evals.embed_evals as evals\n",
    "import pickle"
   ]
  },
  {
   "cell_type": "markdown",
   "metadata": {},
   "source": [
    "## clf model embeds"
   ]
  },
  {
   "cell_type": "code",
   "execution_count": 2,
   "metadata": {},
   "outputs": [],
   "source": [
    "train_path = \"/net/scratch/hanliu-shared/data/bm/embs/dwac_train_emb10.merged2.pkl\"\n",
    "valid_path = \"/net/scratch/hanliu-shared/data/bm/embs/dwac_valid_emb10.merged2.pkl\"\n",
    "\n",
    "train_embeds = pickle.load(open(train_path, \"rb\"))[3]\n",
    "valid_embeds = pickle.load(open(valid_path, \"rb\"))[3]"
   ]
  },
  {
   "cell_type": "code",
   "execution_count": 3,
   "metadata": {},
   "outputs": [
    {
     "name": "stderr",
     "output_type": "stream",
     "text": [
      "100%|██████████| 669920/669920 [00:17<00:00, 38270.75it/s]\n",
      "100%|██████████| 9880/9880 [00:00<00:00, 41365.64it/s]\n",
      "100%|██████████| 508800/508800 [00:13<00:00, 38438.36it/s]"
     ]
    },
    {
     "name": "stdout",
     "output_type": "stream",
     "text": [
      "train_triplet_acc: 0.5198008717458801\n",
      "valid_triplet_acc: 0.5875506072874493\n",
      "val2train_triplet_acc: 0.5404520440251572\n",
      "knn_acc: 0.9\n",
      "knn_auc: 0.9\n"
     ]
    },
    {
     "name": "stderr",
     "output_type": "stream",
     "text": [
      "\n"
     ]
    },
    {
     "data": {
      "text/plain": [
       "(0.5198008717458801, 0.5875506072874493, 0.5404520440251572, 0.9, 0.9)"
      ]
     },
     "execution_count": 3,
     "metadata": {},
     "output_type": "execute_result"
    }
   ],
   "source": [
    "acc = evals.bm_eval(train_embeds, valid_embeds)"
   ]
  },
  {
   "cell_type": "code",
   "execution_count": 2,
   "metadata": {},
   "outputs": [],
   "source": [
    "train_embeds = pickle.load(open(\"embeds/resn_bm_train.pkl\",\"rb\"))\n",
    "valid_embeds = pickle.load(open(\"embeds/resn_bm_valid.pkl\",\"rb\"))"
   ]
  },
  {
   "cell_type": "code",
   "execution_count": 3,
   "metadata": {},
   "outputs": [
    {
     "name": "stderr",
     "output_type": "stream",
     "text": [
      "100%|██████████| 669920/669920 [00:17<00:00, 38369.89it/s]\n",
      "100%|██████████| 9880/9880 [00:00<00:00, 41363.24it/s]\n",
      "100%|██████████| 508800/508800 [00:13<00:00, 38151.89it/s]\n"
     ]
    },
    {
     "name": "stdout",
     "output_type": "stream",
     "text": [
      "train_triplet_acc: 0.5566784093623119\n",
      "valid_triplet_acc: 0.5470647773279352\n",
      "val2train_triplet_acc: 0.5612323113207547\n",
      "knn_acc: 0.925\n",
      "knn_auc: 0.9249999999999999\n"
     ]
    }
   ],
   "source": [
    "acc = evals.bm_eval(train_embeds, valid_embeds)"
   ]
  },
  {
   "cell_type": "markdown",
   "metadata": {},
   "source": [
    "## triplet net eval"
   ]
  },
  {
   "cell_type": "code",
   "execution_count": 4,
   "metadata": {},
   "outputs": [],
   "source": [
    "train_embeds = pickle.load(open(\"embeds/TN_bm_train.pkl\",\"rb\"))\n",
    "valid_embeds = pickle.load(open(\"embeds/TN_bm_valid.pkl\",\"rb\"))"
   ]
  },
  {
   "cell_type": "code",
   "execution_count": 5,
   "metadata": {},
   "outputs": [
    {
     "name": "stderr",
     "output_type": "stream",
     "text": [
      "100%|██████████| 669920/669920 [00:30<00:00, 22281.28it/s]\n",
      "100%|██████████| 9880/9880 [00:00<00:00, 23465.17it/s]\n",
      "100%|██████████| 508800/508800 [00:21<00:00, 23368.38it/s]"
     ]
    },
    {
     "name": "stdout",
     "output_type": "stream",
     "text": [
      "train_triplet_acc: 0.8902451038930022\n",
      "valid_triplet_acc: 0.8486842105263158\n",
      "val2train_triplet_acc: 0.8758490566037735\n",
      "knn_acc: 0.75\n",
      "knn_auc: 0.75\n"
     ]
    },
    {
     "name": "stderr",
     "output_type": "stream",
     "text": [
      "\n"
     ]
    },
    {
     "data": {
      "text/plain": [
       "(0.8902451038930022, 0.8486842105263158, 0.8758490566037735, 0.75, 0.75)"
      ]
     },
     "execution_count": 5,
     "metadata": {},
     "output_type": "execute_result"
    }
   ],
   "source": [
    "acc = evals.bm_eval(train_embeds, valid_embeds)"
   ]
  },
  {
   "cell_type": "markdown",
   "metadata": {},
   "source": [
    "## MTL eval"
   ]
  },
  {
   "cell_type": "code",
   "execution_count": 8,
   "metadata": {},
   "outputs": [],
   "source": [
    "train_embeds = pickle.load(open(\"embeds/MTL_BCETN_bm_train.pkl\",\"rb\"))\n",
    "valid_embeds = pickle.load(open(\"embeds/MTL_BCETN_bm_valid.pkl\",\"rb\"))"
   ]
  },
  {
   "cell_type": "code",
   "execution_count": 9,
   "metadata": {},
   "outputs": [
    {
     "name": "stderr",
     "output_type": "stream",
     "text": [
      "100%|██████████| 669920/669920 [00:17<00:00, 37483.73it/s]\n",
      "100%|██████████| 9880/9880 [00:00<00:00, 40763.38it/s]\n",
      "100%|██████████| 508800/508800 [00:12<00:00, 40453.13it/s]"
     ]
    },
    {
     "name": "stdout",
     "output_type": "stream",
     "text": [
      "train_triplet_acc: 0.8828352639121089\n",
      "valid_triplet_acc: 0.8282388663967611\n",
      "val2train_triplet_acc: 0.8595833333333334\n",
      "knn_acc: 0.95\n",
      "knn_auc: 0.95\n"
     ]
    },
    {
     "name": "stderr",
     "output_type": "stream",
     "text": [
      "\n"
     ]
    },
    {
     "data": {
      "text/plain": [
       "(0.8828352639121089, 0.8282388663967611, 0.8595833333333334, 0.95, 0.95)"
      ]
     },
     "execution_count": 9,
     "metadata": {},
     "output_type": "execute_result"
    }
   ],
   "source": [
    "acc = evals.bm_eval(train_embeds, valid_embeds)"
   ]
  },
  {
   "cell_type": "markdown",
   "metadata": {},
   "source": [
    "## t-STE eval"
   ]
  },
  {
   "cell_type": "code",
   "execution_count": null,
   "metadata": {},
   "outputs": [],
   "source": [
    "# from models.tste import tste\n",
    "# train_triplets = \"data/bm_lpips_triplets/train_triplets.pkl\"\n",
    "# valid_triplets = \"data/bm_lpips_triplets/valid_triplets.pkl\"\n",
    "# train_triplets = pickle.load(open(train_triplets, \"rb\"))\n",
    "# valid_triplets = pickle.load(open(valid_triplets, \"rb\"))\n",
    "# train_embeds = tste(np.array(train_triplets), no_dims=2, verbose=True, max_iter=1000)\n",
    "# valid_embeds = tste(np.array(valid_triplets), no_dims=2, verbose=True, max_iter=1000)\n",
    "# pickle.dump(train_embeds, open(\"embeds/tste_bm_train.pkl\",\"wb\"))\n",
    "# pickle.dump(valid_embeds, open(\"embeds/tste_bm_valid.pkl\",\"wb\"))"
   ]
  },
  {
   "cell_type": "code",
   "execution_count": 2,
   "metadata": {},
   "outputs": [],
   "source": [
    "train_embeds = pickle.load(open(\"embeds/tste_bm_train.pkl\",\"rb\"))\n",
    "valid_embeds = pickle.load(open(\"embeds/tste_bm_valid.pkl\",\"rb\"))"
   ]
  },
  {
   "cell_type": "code",
   "execution_count": 3,
   "metadata": {},
   "outputs": [
    {
     "name": "stderr",
     "output_type": "stream",
     "text": [
      "100%|██████████| 669920/669920 [00:08<00:00, 75786.97it/s]\n",
      "100%|██████████| 9880/9880 [00:00<00:00, 68798.01it/s]\n",
      "100%|██████████| 508800/508800 [00:06<00:00, 82956.45it/s]\n"
     ]
    },
    {
     "name": "stdout",
     "output_type": "stream",
     "text": [
      "train_triplet_acc: 0.8418691784093623\n",
      "valid_triplet_acc: 0.8506072874493927\n",
      "val2train_triplet_acc: 0.45837264150943396\n",
      "knn_acc: 0.35\n",
      "knn_auc: 0.35\n"
     ]
    },
    {
     "data": {
      "text/plain": [
       "(0.8418691784093623, 0.8506072874493927, 0.45837264150943396, 0.35, 0.35)"
      ]
     },
     "execution_count": 3,
     "metadata": {},
     "output_type": "execute_result"
    }
   ],
   "source": [
    "acc = evals.bm_eval(train_embeds, valid_embeds)"
   ]
  }
 ],
 "metadata": {
  "interpreter": {
   "hash": "6cc16f6c2e0c4a76d01357cefbbe61554f489b2ed194d62da059a4313aaf88b2"
  },
  "kernelspec": {
   "display_name": "Python 3.6.13 64-bit ('aix360': conda)",
   "name": "python3"
  },
  "language_info": {
   "codemirror_mode": {
    "name": "ipython",
    "version": 3
   },
   "file_extension": ".py",
   "mimetype": "text/x-python",
   "name": "python",
   "nbconvert_exporter": "python",
   "pygments_lexer": "ipython3",
   "version": "3.7.11"
  },
  "orig_nbformat": 4
 },
 "nbformat": 4,
 "nbformat_minor": 2
}
