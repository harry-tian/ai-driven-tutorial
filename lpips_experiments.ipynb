{
 "cells": [
  {
   "cell_type": "code",
   "execution_count": 32,
   "metadata": {},
   "outputs": [
    {
     "name": "stdout",
     "output_type": "stream",
     "text": [
      "The autoreload extension is already loaded. To reload it, use:\n",
      "  %reload_ext autoreload\n"
     ]
    }
   ],
   "source": [
    "%load_ext autoreload\n",
    "%autoreload 2\n",
    "import os, pickle, csv, itertools, shutil, random\n",
    "import numpy as np\n",
    "import matplotlib.pyplot as plt\n",
    "import pandas as pd\n",
    "import torchvision, torch\n",
    "# from torchvision import transforms\n",
    "from omegaconf import OmegaConf as oc\n",
    "\n",
    "%matplotlib inline\n",
    "%config InlineBackend.figure_format='retina'\n",
    "\n",
    "import utils.utils as utils\n",
    "import evals.embed_evals as evals\n",
    "import utils.plot_data as plot\n",
    "import utils.gen_triplets as gen\n",
    "import models.transforms as transforms\n",
    "import algorithms.teaching_algs as algs\n",
    "\n",
    "import warnings\n",
    "warnings.filterwarnings(\"ignore\")"
   ]
  },
  {
   "cell_type": "code",
   "execution_count": 152,
   "metadata": {},
   "outputs": [
    {
     "data": {
      "text/plain": [
       "array([ 0,  1,  2, 23,  3,  4,  5,  6,  7,  8])"
      ]
     },
     "execution_count": 152,
     "metadata": {},
     "output_type": "execute_result"
    }
   ],
   "source": [
    "algs.protogreedy(X, 10)"
   ]
  },
  {
   "cell_type": "code",
   "execution_count": 165,
   "metadata": {},
   "outputs": [
    {
     "data": {
      "text/plain": [
       "array([23, 17,  9,  5, 60, 75, 77,  0,  1,  2])"
      ]
     },
     "execution_count": 165,
     "metadata": {},
     "output_type": "execute_result"
    }
   ],
   "source": [
    "dataset = torchvision.datasets.ImageFolder(f\"data/datasets/bm/train\", transform=transforms.shrink(63))\n",
    "X = np.array([x[0].numpy().flatten() for x in dataset])\n",
    "algs.protodash(X, 10)"
   ]
  },
  {
   "cell_type": "code",
   "execution_count": null,
   "metadata": {},
   "outputs": [],
   "source": []
  }
 ],
 "metadata": {
  "interpreter": {
   "hash": "2c73f886271c839d0ba877ba8b97f5003c6c6417a734903c0face75895daee34"
  },
  "kernelspec": {
   "display_name": "Python 3.7.11 ('han')",
   "language": "python",
   "name": "python3"
  },
  "language_info": {
   "codemirror_mode": {
    "name": "ipython",
    "version": 3
   },
   "file_extension": ".py",
   "mimetype": "text/x-python",
   "name": "python",
   "nbconvert_exporter": "python",
   "pygments_lexer": "ipython3",
   "version": "3.7.11"
  },
  "orig_nbformat": 4,
  "vscode": {
   "interpreter": {
    "hash": "2c73f886271c839d0ba877ba8b97f5003c6c6417a734903c0face75895daee34"
   }
  }
 },
 "nbformat": 4,
 "nbformat_minor": 2
}
