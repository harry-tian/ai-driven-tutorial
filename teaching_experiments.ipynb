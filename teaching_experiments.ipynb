{
 "cells": [
  {
   "cell_type": "code",
   "execution_count": 1,
   "metadata": {},
   "outputs": [],
   "source": [
    "%load_ext autoreload\n",
    "%autoreload 2\n",
    "import os, pickle, csv, itertools, shutil, random\n",
    "import numpy as np\n",
    "import matplotlib.pyplot as plt\n",
    "import pandas as pd\n",
    "import torchvision, torch\n",
    "from scipy import stats\n",
    "\n",
    "%matplotlib inline\n",
    "%config InlineBackend.figure_format='retina'\n",
    "\n",
    "import utils.plot_data as plot\n",
    "import models.transforms as transforms\n",
    "import algorithms.teaching_algs as algs\n",
    "import evals.teaching_evals as evals\n",
    "\n",
    "def get_ci(samples, confidence=0.95):  return 2 * stats.sem(samples) * stats.t.ppf((1 + confidence) / 2., len(samples)-1)\n",
    "import warnings\n",
    "warnings.filterwarnings(\"ignore\")"
   ]
  },
  {
   "cell_type": "code",
   "execution_count": 8,
   "metadata": {},
   "outputs": [],
   "source": [
    "dataset = \"bm\"\n",
    "transform = transforms.shrink(63)\n",
    "# transform = transforms.no_transform()"
   ]
  },
  {
   "cell_type": "code",
   "execution_count": 9,
   "metadata": {},
   "outputs": [],
   "source": [
    "train = torchvision.datasets.ImageFolder(f\"data/datasets/{dataset}/train\", transform=transform)\n",
    "test = torchvision.datasets.ImageFolder(f\"data/datasets/{dataset}/test\", transform=transform)\n",
    "x_train = np.array([x[0].numpy() for x in train])\n",
    "x_test = np.array([x[0].numpy() for x in test])\n",
    "y_train = np.array([x[1] for x in train])\n",
    "y_test = np.array([x[1] for x in test])"
   ]
  },
  {
   "cell_type": "code",
   "execution_count": 10,
   "metadata": {},
   "outputs": [],
   "source": [
    "lpips_path = f\"data/dist/lpips/{dataset}\"\n",
    "lpips_alex = pickle.load(open(f\"{lpips_path}/lpips.alex.test.pkl\",\"rb\"))\n",
    "lpips_vgg = pickle.load(open(f\"{lpips_path}/lpips.vgg.test.pkl\",\"rb\"))\n",
    "lpips_squeeze = pickle.load(open(f\"{lpips_path}/lpips.squeeze.test.pkl\",\"rb\"))"
   ]
  },
  {
   "cell_type": "code",
   "execution_count": 12,
   "metadata": {},
   "outputs": [],
   "source": [
    "X = np.array([x.flatten() for x in x_train])"
   ]
  },
  {
   "cell_type": "markdown",
   "metadata": {},
   "source": [
    "### random examples"
   ]
  },
  {
   "cell_type": "code",
   "execution_count": 13,
   "metadata": {},
   "outputs": [
    {
     "data": {
      "text/plain": [
       "(0.6464249999999999, 0.013150072225918009)"
      ]
     },
     "execution_count": 13,
     "metadata": {},
     "output_type": "execute_result"
    }
   ],
   "source": [
    "n_trials = 1000\n",
    "\n",
    "random_scores = np.array([evals.get_knn_score_lpips(lpips_alex, algs.random(X, 10), y_train, y_test) for _ in range(n_trials)])\n",
    "random_ci = get_ci(random_scores)\n",
    "random_scores = random_scores.mean()\n",
    "random_scores, random_ci"
   ]
  },
  {
   "cell_type": "code",
   "execution_count": 14,
   "metadata": {},
   "outputs": [
    {
     "data": {
      "text/plain": [
       "(0.6539749999999999, 0.01291163869049983)"
      ]
     },
     "execution_count": 14,
     "metadata": {},
     "output_type": "execute_result"
    }
   ],
   "source": [
    "n_trials = 1000\n",
    "\n",
    "random_scores = np.array([evals.get_knn_score_lpips(lpips_vgg, algs.random(X, 10), y_train, y_test) for _ in range(n_trials)])\n",
    "random_ci = get_ci(random_scores)\n",
    "random_scores = random_scores.mean()\n",
    "random_scores, random_ci"
   ]
  },
  {
   "cell_type": "markdown",
   "metadata": {},
   "source": [
    "### protodash"
   ]
  },
  {
   "cell_type": "code",
   "execution_count": 15,
   "metadata": {},
   "outputs": [
    {
     "data": {
      "text/plain": [
       "(0.825, 0.725, 0.8)"
      ]
     },
     "execution_count": 15,
     "metadata": {},
     "output_type": "execute_result"
    }
   ],
   "source": [
    "teaching_idx = algs.protodash(X, 10)\n",
    "evals.get_knn_score_lpips(lpips_alex, teaching_idx, y_train, y_test, k=1), \\\n",
    "evals.get_knn_score_lpips(lpips_vgg, teaching_idx, y_train, y_test, k=1), \\\n",
    "evals.get_knn_score_lpips(lpips_squeeze, teaching_idx, y_train, y_test, k=1), \\"
   ]
  },
  {
   "cell_type": "markdown",
   "metadata": {},
   "source": [
    "### k-medoids"
   ]
  },
  {
   "cell_type": "code",
   "execution_count": 16,
   "metadata": {},
   "outputs": [
    {
     "data": {
      "text/plain": [
       "(0.775, 0.775, 0.75)"
      ]
     },
     "execution_count": 16,
     "metadata": {},
     "output_type": "execute_result"
    }
   ],
   "source": [
    "teaching_idx = algs.k_medoids(X, 10)\n",
    "evals.get_knn_score_lpips(lpips_alex, teaching_idx, y_train, y_test, k=1), \\\n",
    "evals.get_knn_score_lpips(lpips_vgg, teaching_idx, y_train, y_test, k=1), \\\n",
    "evals.get_knn_score_lpips(lpips_squeeze, teaching_idx, y_train, y_test, k=1), \\"
   ]
  }
 ],
 "metadata": {
  "kernelspec": {
   "display_name": "Python 3.7.11 ('han')",
   "language": "python",
   "name": "python3"
  },
  "language_info": {
   "codemirror_mode": {
    "name": "ipython",
    "version": 3
   },
   "file_extension": ".py",
   "mimetype": "text/x-python",
   "name": "python",
   "nbconvert_exporter": "python",
   "pygments_lexer": "ipython3",
   "version": "3.7.11"
  },
  "orig_nbformat": 4,
  "vscode": {
   "interpreter": {
    "hash": "2c73f886271c839d0ba877ba8b97f5003c6c6417a734903c0face75895daee34"
   }
  }
 },
 "nbformat": 4,
 "nbformat_minor": 2
}
