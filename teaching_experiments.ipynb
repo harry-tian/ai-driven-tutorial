{
 "cells": [
  {
   "cell_type": "code",
   "execution_count": 1,
   "metadata": {},
   "outputs": [],
   "source": [
    "%load_ext autoreload\n",
    "%autoreload 2\n",
    "import os, pickle, csv, itertools, shutil, random\n",
    "import numpy as np\n",
    "import matplotlib.pyplot as plt\n",
    "import pandas as pd\n",
    "import torchvision, torch\n",
    "from scipy import stats\n",
    "import seaborn as sns\n",
    "\n",
    "import warnings\n",
    "warnings.filterwarnings(\"ignore\")\n",
    "\n",
    "%matplotlib inline\n",
    "%config InlineBackend.figure_format='retina'\n",
    "\n",
    "import utils.plot_data as plot\n",
    "import models.transforms as transforms\n",
    "import algorithms.teaching_algs as algs\n",
    "import evals.teaching_evals as evals\n",
    "import utils.gen_triplets as gen\n",
    "\n",
    "def get_ci(samples, confidence=0.95):  return stats.sem(samples) * stats.t.ppf((1 + confidence) / 2., len(samples)-1)\n",
    "def get_random_score(dist_m, m, X, y_train, y_test, n_trials=1000):\n",
    "    random_scores = np.array([evals.get_knn_score_lpips(dist_m, algs.random(X, m), y_train, y_test) for _ in range(n_trials)])\n",
    "    random_ci = get_ci(random_scores)\n",
    "    random_score = random_scores.mean()\n",
    "    return random_score, random_ci"
   ]
  },
  {
   "cell_type": "code",
   "execution_count": 2,
   "metadata": {},
   "outputs": [],
   "source": [
    "dataset = \"bm\"\n",
    "# transform = transforms.shrink((64,64))\n",
    "transform = transforms.bird_transform()"
   ]
  },
  {
   "cell_type": "code",
   "execution_count": 3,
   "metadata": {},
   "outputs": [],
   "source": [
    "train = torchvision.datasets.ImageFolder(f\"data/datasets/{dataset}/train\", transform=transform)\n",
    "test = torchvision.datasets.ImageFolder(f\"data/datasets/{dataset}/test\", transform=transform)\n",
    "x_train = np.array([x[0].numpy() for x in train])\n",
    "x_test = np.array([x[0].numpy() for x in test])\n",
    "y_train = np.array([x[1] for x in train])\n",
    "y_test = np.array([x[1] for x in test])\n",
    "\n",
    "lpips_path = f\"data/dist/lpips/{dataset}\"\n",
    "lpips_train = pickle.load(open(f\"{lpips_path}/lpips.alex.train.pkl\",\"rb\"))\n",
    "lpips_valid = pickle.load(open(f\"{lpips_path}/lpips.alex.valid.pkl\",\"rb\"))\n",
    "lpips_test = pickle.load(open(f\"{lpips_path}/lpips.alex.train.pkl\",\"rb\"))"
   ]
  },
  {
   "cell_type": "code",
   "execution_count": 4,
   "metadata": {},
   "outputs": [],
   "source": [
    "lpips_valid = pickle.load(open(f\"{lpips_path}/lpips.alex.train_valid.pkl\",\"rb\"))\n",
    "lpips_test = pickle.load(open(f\"{lpips_path}/lpips.alex.train_test.pkl\",\"rb\"))"
   ]
  },
  {
   "cell_type": "code",
   "execution_count": 5,
   "metadata": {},
   "outputs": [],
   "source": [
    "valid = gen.sample_mixed_triplets_distM(lpips_valid, 100)\n",
    "test = gen.sample_mixed_triplets_distM(lpips_test, 1000)"
   ]
  },
  {
   "cell_type": "code",
   "execution_count": 6,
   "metadata": {},
   "outputs": [],
   "source": [
    "pickle.dump(valid, open(\"data/triplets/bm/lpips/bm_lpips.train_valid\",\"wb\"))\n",
    "pickle.dump(test, open(\"data/triplets/bm/lpips/bm_lpips.train_test\",\"wb\"))"
   ]
  },
  {
   "cell_type": "code",
   "execution_count": 43,
   "metadata": {},
   "outputs": [],
   "source": [
    "def normalize(data):return (data-np.min(data)) / (np.max(data)-np.min(data))\n",
    "x = 1/lpips_test"
   ]
  },
  {
   "cell_type": "code",
   "execution_count": 45,
   "metadata": {},
   "outputs": [
    {
     "data": {
      "text/plain": [
       "118714280.0"
      ]
     },
     "execution_count": 45,
     "metadata": {},
     "output_type": "execute_result"
    }
   ],
   "source": [
    "x.max()"
   ]
  },
  {
   "cell_type": "code",
   "execution_count": 7,
   "metadata": {},
   "outputs": [],
   "source": [
    "train_triplets = gen.sample_triplets_distM(lpips_train, 20000)"
   ]
  },
  {
   "cell_type": "code",
   "execution_count": 8,
   "metadata": {},
   "outputs": [],
   "source": [
    "pickle.dump(train_triplets, open(\"data/triplets/bm/lpips/bm_lpips.train\",\"wb\"))"
   ]
  },
  {
   "cell_type": "code",
   "execution_count": 8,
   "metadata": {},
   "outputs": [],
   "source": [
    "X = lpips_alex\n",
    "m = 10"
   ]
  },
  {
   "cell_type": "code",
   "execution_count": 9,
   "metadata": {},
   "outputs": [
    {
     "ename": "IndexError",
     "evalue": "index 40 is out of bounds for axis 0 with size 40",
     "output_type": "error",
     "traceback": [
      "\u001b[0;31m---------------------------------------------------------------------------\u001b[0m",
      "\u001b[0;31mIndexError\u001b[0m                                Traceback (most recent call last)",
      "\u001b[0;32m/tmp/ipykernel_893597/665214738.py\u001b[0m in \u001b[0;36m<module>\u001b[0;34m\u001b[0m\n\u001b[0;32m----> 1\u001b[0;31m \u001b[0mS1\u001b[0m\u001b[0;34m,\u001b[0m \u001b[0mS2\u001b[0m \u001b[0;34m=\u001b[0m \u001b[0malgs\u001b[0m\u001b[0;34m.\u001b[0m\u001b[0mkmedoids_contrastive\u001b[0m\u001b[0;34m(\u001b[0m\u001b[0mX\u001b[0m\u001b[0;34m,\u001b[0m \u001b[0my_train\u001b[0m\u001b[0;34m,\u001b[0m \u001b[0mm\u001b[0m\u001b[0;34m)\u001b[0m\u001b[0;34m\u001b[0m\u001b[0;34m\u001b[0m\u001b[0m\n\u001b[0m\u001b[1;32m      2\u001b[0m \u001b[0mpairs\u001b[0m \u001b[0;34m=\u001b[0m \u001b[0malgs\u001b[0m\u001b[0;34m.\u001b[0m\u001b[0mgroup_max\u001b[0m\u001b[0;34m(\u001b[0m\u001b[0mX\u001b[0m\u001b[0;34m,\u001b[0m \u001b[0mS1\u001b[0m\u001b[0;34m,\u001b[0m\u001b[0mS2\u001b[0m\u001b[0;34m)\u001b[0m\u001b[0;34m\u001b[0m\u001b[0;34m\u001b[0m\u001b[0m\n\u001b[1;32m      3\u001b[0m \u001b[0mevals\u001b[0m\u001b[0;34m.\u001b[0m\u001b[0mget_CV_score\u001b[0m\u001b[0;34m(\u001b[0m\u001b[0mlpips_alex\u001b[0m\u001b[0;34m,\u001b[0m \u001b[0mpairs\u001b[0m\u001b[0;34m,\u001b[0m \u001b[0my_train\u001b[0m\u001b[0;34m,\u001b[0m \u001b[0my_test\u001b[0m\u001b[0;34m)\u001b[0m\u001b[0;34m\u001b[0m\u001b[0;34m\u001b[0m\u001b[0m\n",
      "\u001b[0;32m/net/scratch/tianh/ai-driven-tutorial/algorithms/teaching_algs.py\u001b[0m in \u001b[0;36mkmedoids_contrastive\u001b[0;34m(X, Y, m)\u001b[0m\n\u001b[1;32m     36\u001b[0m \u001b[0;34m\u001b[0m\u001b[0m\n\u001b[1;32m     37\u001b[0m \u001b[0;32mdef\u001b[0m \u001b[0mkmedoids_contrastive\u001b[0m\u001b[0;34m(\u001b[0m\u001b[0mX\u001b[0m\u001b[0;34m,\u001b[0m \u001b[0mY\u001b[0m\u001b[0;34m,\u001b[0m \u001b[0mm\u001b[0m\u001b[0;34m)\u001b[0m\u001b[0;34m:\u001b[0m\u001b[0;34m\u001b[0m\u001b[0;34m\u001b[0m\u001b[0m\n\u001b[0;32m---> 38\u001b[0;31m     \u001b[0;32mreturn\u001b[0m \u001b[0mselect_contrastive\u001b[0m\u001b[0;34m(\u001b[0m\u001b[0mX\u001b[0m\u001b[0;34m,\u001b[0m \u001b[0mY\u001b[0m\u001b[0;34m,\u001b[0m \u001b[0mm\u001b[0m\u001b[0;34m,\u001b[0m \u001b[0mk_medoids\u001b[0m\u001b[0;34m)\u001b[0m\u001b[0;34m\u001b[0m\u001b[0;34m\u001b[0m\u001b[0m\n\u001b[0m\u001b[1;32m     39\u001b[0m \u001b[0;34m\u001b[0m\u001b[0m\n\u001b[1;32m     40\u001b[0m \u001b[0;32mdef\u001b[0m \u001b[0mrandom_contrastive\u001b[0m\u001b[0;34m(\u001b[0m\u001b[0mX\u001b[0m\u001b[0;34m,\u001b[0m \u001b[0mY\u001b[0m\u001b[0;34m,\u001b[0m \u001b[0mm\u001b[0m\u001b[0;34m)\u001b[0m\u001b[0;34m:\u001b[0m\u001b[0;34m\u001b[0m\u001b[0;34m\u001b[0m\u001b[0m\n",
      "\u001b[0;32m/net/scratch/tianh/ai-driven-tutorial/algorithms/teaching_algs.py\u001b[0m in \u001b[0;36mselect_contrastive\u001b[0;34m(X, Y, m, alg)\u001b[0m\n\u001b[1;32m     47\u001b[0m     \u001b[0mc1\u001b[0m \u001b[0;34m=\u001b[0m \u001b[0mnp\u001b[0m\u001b[0;34m.\u001b[0m\u001b[0mwhere\u001b[0m\u001b[0;34m(\u001b[0m\u001b[0mY\u001b[0m\u001b[0;34m==\u001b[0m\u001b[0mclasses\u001b[0m\u001b[0;34m[\u001b[0m\u001b[0;36m1\u001b[0m\u001b[0;34m]\u001b[0m\u001b[0;34m)\u001b[0m\u001b[0;34m[\u001b[0m\u001b[0;36m0\u001b[0m\u001b[0;34m]\u001b[0m\u001b[0;34m\u001b[0m\u001b[0;34m\u001b[0m\u001b[0m\n\u001b[1;32m     48\u001b[0m \u001b[0;34m\u001b[0m\u001b[0m\n\u001b[0;32m---> 49\u001b[0;31m     \u001b[0;32mreturn\u001b[0m \u001b[0mc0\u001b[0m\u001b[0;34m[\u001b[0m\u001b[0malg\u001b[0m\u001b[0;34m(\u001b[0m\u001b[0mX\u001b[0m\u001b[0;34m[\u001b[0m\u001b[0mc0\u001b[0m\u001b[0;34m]\u001b[0m\u001b[0;34m,\u001b[0m \u001b[0mm\u001b[0m\u001b[0;34m//\u001b[0m\u001b[0;36m2\u001b[0m\u001b[0;34m)\u001b[0m\u001b[0;34m]\u001b[0m\u001b[0;34m,\u001b[0m \u001b[0mc1\u001b[0m\u001b[0;34m[\u001b[0m\u001b[0malg\u001b[0m\u001b[0;34m(\u001b[0m\u001b[0mX\u001b[0m\u001b[0;34m[\u001b[0m\u001b[0mc1\u001b[0m\u001b[0;34m]\u001b[0m\u001b[0;34m,\u001b[0m \u001b[0mm\u001b[0m\u001b[0;34m//\u001b[0m\u001b[0;36m2\u001b[0m\u001b[0;34m)\u001b[0m\u001b[0;34m]\u001b[0m\u001b[0;34m\u001b[0m\u001b[0;34m\u001b[0m\u001b[0m\n\u001b[0m\u001b[1;32m     50\u001b[0m \u001b[0;34m\u001b[0m\u001b[0m\n\u001b[1;32m     51\u001b[0m \u001b[0;34m\u001b[0m\u001b[0m\n",
      "\u001b[0;31mIndexError\u001b[0m: index 40 is out of bounds for axis 0 with size 40"
     ]
    }
   ],
   "source": [
    "S1, S2 = algs.kmedoids_contrastive(X, y_train, m)\n",
    "pairs = algs.group_max(X, S1,S2)\n",
    "evals.get_CV_score(lpips_alex, pairs, y_train, y_test)"
   ]
  },
  {
   "cell_type": "code",
   "execution_count": null,
   "metadata": {},
   "outputs": [],
   "source": [
    "evals.get_knn_score_lpips(lpips_alex, np.array(pairs).flatten(), y_train, y_test)"
   ]
  },
  {
   "cell_type": "code",
   "execution_count": null,
   "metadata": {},
   "outputs": [],
   "source": [
    "x_pixel = np.array([x.flatten() for x in x_train])\n",
    "x_50 = pickle.load(open(f\"/net/scratch/tianh/ai-driven-tutorial/data/embeds/resn/{dataset}/{dataset}_train_emb50.pkl\",\"rb\"))\n",
    "x_512 = pickle.load(open(f\"/net/scratch/tianh/ai-driven-tutorial/data/embeds/resn/{dataset}/{dataset}_train_emb512.pkl\",\"rb\"))"
   ]
  },
  {
   "cell_type": "code",
   "execution_count": null,
   "metadata": {},
   "outputs": [],
   "source": [
    "m_range = np.arange(3,21)\n",
    "lw = 4"
   ]
  },
  {
   "cell_type": "code",
   "execution_count": null,
   "metadata": {},
   "outputs": [],
   "source": [
    "def get_full_random(m_range, lpips, X, y_train, y_test):\n",
    "    full_score = evals.get_knn_score_lpips(lpips, np.arange(len(y_train)), y_train, y_test, k=1)\n",
    "    random_scores = []\n",
    "    random_cis = []\n",
    "    for m in m_range:\n",
    "        random_score, random_ci = get_random_score(lpips, m, X, y_train, y_test)\n",
    "        random_scores.append(random_score)\n",
    "        random_cis.append(random_ci)\n",
    "    random_scores = np.array(random_scores)\n",
    "    random_cis = np.array(random_cis)\n",
    "    return full_score, random_scores\n",
    "    \n",
    "def get_pdash_scores(m_range, lpips, X, y_train, y_test):\n",
    "    return np.array([evals.get_knn_score_lpips(lpips, algs.protodash(X, m), y_train, y_test, k=1) for m in m_range])\n",
    "\n",
    "def get_k_medoids_scores(m_range, lpips, X, y_train, y_test):\n",
    "    return np.array([evals.get_knn_score_lpips(lpips, algs.k_medoids(X, m), y_train, y_test, k=1) for m in m_range])"
   ]
  },
  {
   "cell_type": "code",
   "execution_count": null,
   "metadata": {},
   "outputs": [],
   "source": [
    "def get_df(X):\n",
    "    agent_df = {}\n",
    "    for i, (lpips, title) in enumerate([(lpips_alex, \"lpips_alex\")]):#, (lpips_vgg, \"lpips_vgg\"), (lpips_squeeze,\"lpips_squeeze\")]):\n",
    "        full_score, random_scores = get_full_random(m_range, lpips, X, y_train, y_test)\n",
    "        k_medoids_scores = get_k_medoids_scores(m_range, lpips, X, y_train, y_test)\n",
    "        pdash_scores = get_pdash_scores(m_range, lpips, X, y_train, y_test)\n",
    "\n",
    "        data = {\"full_score\": [full_score]*len(m_range), \n",
    "                \"random_score\": random_scores,\n",
    "                \"k_medoids_scores\": k_medoids_scores,\n",
    "                \"pdash_scores\": pdash_scores}\n",
    "        df = pd.DataFrame(data)\n",
    "        df = df.set_index(m_range)\n",
    "        agent_df[title] = df\n",
    "        return df\n",
    "        \n",
    "    return agent_df"
   ]
  },
  {
   "cell_type": "code",
   "execution_count": null,
   "metadata": {},
   "outputs": [],
   "source": [
    "titles = [\"image pixel\", \"resn_d=512\", \"resn_d=50\"]\n",
    "df_pixel = get_df(x_pixel)\n",
    "df_512 = get_df(x_512)\n",
    "df_50 = get_df(x_50)"
   ]
  },
  {
   "cell_type": "code",
   "execution_count": null,
   "metadata": {},
   "outputs": [],
   "source": [
    "sns.set_theme()\n",
    "plt.rc('legend', fontsize=15)    # legend fontsize\n",
    "\n",
    "fig, ax = plt.subplots(1,3 , figsize=(8*3, 6), sharey=True, sharex=True)\n",
    "for i, (df, title) in enumerate(zip([df_pixel, df_512, df_50], titles)):\n",
    "    sns.lineplot(data=df, lw=4, ax=ax[i], legend=None)\n",
    "    ax[i].set_xlabel(\"num_examples\")\n",
    "    ax[i].set_title(title, fontsize=20)\n",
    "plt.xticks(m_range)\n",
    "plt.ylim([0.2, 1])\n",
    "ax[2].legend([\"full\", \"random\", \"k_medoids\", \"pdash\"])\n",
    "fig.suptitle(f\"lpips_knn: {dataset}\", y=1)"
   ]
  },
  {
   "cell_type": "code",
   "execution_count": null,
   "metadata": {},
   "outputs": [],
   "source": []
  },
  {
   "cell_type": "code",
   "execution_count": null,
   "metadata": {},
   "outputs": [],
   "source": []
  }
 ],
 "metadata": {
  "kernelspec": {
   "display_name": "Python 3.7.11 ('han')",
   "language": "python",
   "name": "python3"
  },
  "language_info": {
   "codemirror_mode": {
    "name": "ipython",
    "version": 3
   },
   "file_extension": ".py",
   "mimetype": "text/x-python",
   "name": "python",
   "nbconvert_exporter": "python",
   "pygments_lexer": "ipython3",
   "version": "3.7.11"
  },
  "orig_nbformat": 4,
  "vscode": {
   "interpreter": {
    "hash": "2c73f886271c839d0ba877ba8b97f5003c6c6417a734903c0face75895daee34"
   }
  }
 },
 "nbformat": 4,
 "nbformat_minor": 2
}
