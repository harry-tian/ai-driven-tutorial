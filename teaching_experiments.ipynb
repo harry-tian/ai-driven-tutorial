{
 "cells": [
  {
   "cell_type": "code",
   "execution_count": 1,
   "metadata": {},
   "outputs": [],
   "source": [
    "%load_ext autoreload\n",
    "%autoreload 2\n",
    "import os, pickle, csv, itertools, shutil, random\n",
    "import numpy as np\n",
    "import matplotlib.pyplot as plt\n",
    "import pandas as pd\n",
    "import torchvision, torch\n",
    "from scipy import stats\n",
    "import seaborn as sns\n",
    "\n",
    "import warnings\n",
    "warnings.filterwarnings(\"ignore\")\n",
    "\n",
    "%matplotlib inline\n",
    "%config InlineBackend.figure_format='retina'\n",
    "\n",
    "import utils.plot_data as plot\n",
    "import models.transforms as transforms\n",
    "import algorithms.teaching_algs as algs\n",
    "import evals.teaching_evals as evals\n",
    "import utils.gen_triplets as gen\n",
    "from utils.tste import tste as tste\n",
    "\n",
    "def get_ci(samples, confidence=0.95):  return stats.sem(samples) * stats.t.ppf((1 + confidence) / 2., len(samples)-1)\n",
    "def get_random_score(dist_m, m, X, y_train, y_test, n_trials=1000):\n",
    "    random_scores = np.array([evals.get_knn_score_lpips(dist_m, algs.random(X, m), y_train, y_test) for _ in range(n_trials)])\n",
    "    random_ci = get_ci(random_scores)\n",
    "    random_score = random_scores.mean()\n",
    "    return random_score, random_ci\n",
    "def concat_embeds(embeds, labels):\n",
    "    classes = np.unique(labels)\n",
    "    idx_by_class = {c: np.where(labels==c)[0] for c in classes}\n",
    "    concat_embeds = []\n",
    "    idx = []\n",
    "    for i in idx_by_class[0]:\n",
    "        for j in idx_by_class[1]:\n",
    "            concat_embeds.append(np.hstack([embeds[i],embeds[j]]))\n",
    "            idx.append([i,j])\n",
    "    idx = np.array(idx)\n",
    "    concat_embeds = np.array(concat_embeds)\n",
    "    return concat_embeds, idx"
   ]
  },
  {
   "cell_type": "code",
   "execution_count": 2,
   "metadata": {},
   "outputs": [],
   "source": [
    "dataset = \"bm\"\n",
    "transform = transforms.bird_transform()"
   ]
  },
  {
   "cell_type": "code",
   "execution_count": 3,
   "metadata": {},
   "outputs": [],
   "source": [
    "train = torchvision.datasets.ImageFolder(f\"data/datasets/{dataset}/train\", transform=transform)\n",
    "test = torchvision.datasets.ImageFolder(f\"data/datasets/{dataset}/test\", transform=transform)\n",
    "x_train = np.array([x[0].numpy() for x in train])\n",
    "x_test = np.array([x[0].numpy() for x in test])\n",
    "y_train = np.array([x[1] for x in train])\n",
    "y_test = np.array([x[1] for x in test])\n",
    "\n",
    "lpips_path = f\"data/dist/lpips/{dataset}\"\n",
    "lpips_train = pickle.load(open(f\"{lpips_path}/lpips.alex.train.pkl\",\"rb\"))\n",
    "lpips_valid = pickle.load(open(f\"{lpips_path}/lpips.alex.train_valid.pkl\",\"rb\"))\n",
    "lpips_test = pickle.load(open(f\"{lpips_path}/lpips.alex.train_test.pkl\",\"rb\"))"
   ]
  },
  {
   "cell_type": "code",
   "execution_count": 4,
   "metadata": {},
   "outputs": [],
   "source": [
    "train_triplets = pickle.load(open(\"data/triplets/bm/lpips/train_triplets.pkl\",\"rb\"))\n",
    "train_triplets = train_triplets[:10000]"
   ]
  },
  {
   "cell_type": "code",
   "execution_count": 7,
   "metadata": {},
   "outputs": [],
   "source": [
    "import evals.embed_evals as evals\n",
    "z = tste(train_triplets, no_dims=5000, max_iter=1000)\n",
    "evals.get_triplet_acc(z, train_triplets)"
   ]
  },
  {
   "cell_type": "code",
   "execution_count": null,
   "metadata": {},
   "outputs": [],
   "source": [
    "s = algs.protogreedy(concat_z,20)\n",
    "pairs = idx[s]"
   ]
  },
  {
   "cell_type": "code",
   "execution_count": null,
   "metadata": {},
   "outputs": [],
   "source": [
    "evals.get_CV_score(lpips_test, pairs, y_train, y_test)"
   ]
  },
  {
   "cell_type": "code",
   "execution_count": null,
   "metadata": {},
   "outputs": [],
   "source": [
    "evals.get_CV_EMB(lpips_test, pairs, y_train, y_test)"
   ]
  },
  {
   "cell_type": "code",
   "execution_count": null,
   "metadata": {},
   "outputs": [],
   "source": [
    "evals.get_knn_score_lpips(lpips_test, pairs.flatten(), y_train, y_test)\n"
   ]
  },
  {
   "cell_type": "code",
   "execution_count": null,
   "metadata": {},
   "outputs": [],
   "source": [
    "s = algs.protogreedy(z,10)\n",
    "evals.get_knn_score_lpips(lpips_test, s, y_train, y_test)"
   ]
  },
  {
   "cell_type": "code",
   "execution_count": null,
   "metadata": {},
   "outputs": [],
   "source": [
    "evals.get_EBM(lpips_test, s, y_train, y_test)\n"
   ]
  },
  {
   "cell_type": "code",
   "execution_count": null,
   "metadata": {},
   "outputs": [],
   "source": [
    "def normalize(data):return (data-np.min(data)) / (np.max(data)-np.min(data))\n",
    "x = 1/lpips_test"
   ]
  },
  {
   "cell_type": "code",
   "execution_count": null,
   "metadata": {},
   "outputs": [],
   "source": [
    "import evals.embed_evals as evals\n",
    "z = tste(train_triplets, no_dims=50, max_iter=1000)\n",
    "evals.get_triplet_acc(z, train_triplets)"
   ]
  },
  {
   "cell_type": "code",
   "execution_count": null,
   "metadata": {},
   "outputs": [],
   "source": [
    "S1, S2 = algs.kmedoids_contrastive(X, y_train, m)\n",
    "pairs = algs.group_max(X, S1,S2)\n",
    "evals.get_CV_score(lpips_alex, pairs, y_train, y_test)"
   ]
  },
  {
   "cell_type": "code",
   "execution_count": null,
   "metadata": {},
   "outputs": [],
   "source": [
    "evals.get_knn_score_lpips(lpips_alex, np.array(pairs).flatten(), y_train, y_test)"
   ]
  },
  {
   "cell_type": "code",
   "execution_count": null,
   "metadata": {},
   "outputs": [],
   "source": [
    "x_pixel = np.array([x.flatten() for x in x_train])\n",
    "x_50 = pickle.load(open(f\"/net/scratch/tianh/ai-driven-tutorial/data/embeds/resn/{dataset}/{dataset}_train_emb50.pkl\",\"rb\"))\n",
    "x_512 = pickle.load(open(f\"/net/scratch/tianh/ai-driven-tutorial/data/embeds/resn/{dataset}/{dataset}_train_emb512.pkl\",\"rb\"))"
   ]
  },
  {
   "cell_type": "code",
   "execution_count": null,
   "metadata": {},
   "outputs": [],
   "source": [
    "m_range = np.arange(3,21)\n",
    "lw = 4"
   ]
  },
  {
   "cell_type": "code",
   "execution_count": null,
   "metadata": {},
   "outputs": [],
   "source": [
    "def get_full_random(m_range, lpips, X, y_train, y_test):\n",
    "    full_score = evals.get_knn_score_lpips(lpips, np.arange(len(y_train)), y_train, y_test, k=1)\n",
    "    random_scores = []\n",
    "    random_cis = []\n",
    "    for m in m_range:\n",
    "        random_score, random_ci = get_random_score(lpips, m, X, y_train, y_test)\n",
    "        random_scores.append(random_score)\n",
    "        random_cis.append(random_ci)\n",
    "    random_scores = np.array(random_scores)\n",
    "    random_cis = np.array(random_cis)\n",
    "    return full_score, random_scores\n",
    "    \n",
    "def get_pdash_scores(m_range, lpips, X, y_train, y_test):\n",
    "    return np.array([evals.get_knn_score_lpips(lpips, algs.protodash(X, m), y_train, y_test, k=1) for m in m_range])\n",
    "\n",
    "def get_k_medoids_scores(m_range, lpips, X, y_train, y_test):\n",
    "    return np.array([evals.get_knn_score_lpips(lpips, algs.k_medoids(X, m), y_train, y_test, k=1) for m in m_range])"
   ]
  },
  {
   "cell_type": "code",
   "execution_count": null,
   "metadata": {},
   "outputs": [],
   "source": [
    "def get_df(X):\n",
    "    agent_df = {}\n",
    "    for i, (lpips, title) in enumerate([(lpips_alex, \"lpips_alex\")]):#, (lpips_vgg, \"lpips_vgg\"), (lpips_squeeze,\"lpips_squeeze\")]):\n",
    "        full_score, random_scores = get_full_random(m_range, lpips, X, y_train, y_test)\n",
    "        k_medoids_scores = get_k_medoids_scores(m_range, lpips, X, y_train, y_test)\n",
    "        pdash_scores = get_pdash_scores(m_range, lpips, X, y_train, y_test)\n",
    "\n",
    "        data = {\"full_score\": [full_score]*len(m_range), \n",
    "                \"random_score\": random_scores,\n",
    "                \"k_medoids_scores\": k_medoids_scores,\n",
    "                \"pdash_scores\": pdash_scores}\n",
    "        df = pd.DataFrame(data)\n",
    "        df = df.set_index(m_range)\n",
    "        agent_df[title] = df\n",
    "        return df\n",
    "        \n",
    "    return agent_df"
   ]
  },
  {
   "cell_type": "code",
   "execution_count": null,
   "metadata": {},
   "outputs": [],
   "source": [
    "titles = [\"image pixel\", \"resn_d=512\", \"resn_d=50\"]\n",
    "df_pixel = get_df(x_pixel)\n",
    "df_512 = get_df(x_512)\n",
    "df_50 = get_df(x_50)"
   ]
  },
  {
   "cell_type": "code",
   "execution_count": null,
   "metadata": {},
   "outputs": [],
   "source": [
    "sns.set_theme()\n",
    "plt.rc('legend', fontsize=15)    # legend fontsize\n",
    "\n",
    "fig, ax = plt.subplots(1,3 , figsize=(8*3, 6), sharey=True, sharex=True)\n",
    "for i, (df, title) in enumerate(zip([df_pixel, df_512, df_50], titles)):\n",
    "    sns.lineplot(data=df, lw=4, ax=ax[i], legend=None)\n",
    "    ax[i].set_xlabel(\"num_examples\")\n",
    "    ax[i].set_title(title, fontsize=20)\n",
    "plt.xticks(m_range)\n",
    "plt.ylim([0.2, 1])\n",
    "ax[2].legend([\"full\", \"random\", \"k_medoids\", \"pdash\"])\n",
    "fig.suptitle(f\"lpips_knn: {dataset}\", y=1)"
   ]
  },
  {
   "cell_type": "code",
   "execution_count": null,
   "metadata": {},
   "outputs": [],
   "source": []
  },
  {
   "cell_type": "code",
   "execution_count": null,
   "metadata": {},
   "outputs": [],
   "source": []
  }
 ],
 "metadata": {
  "kernelspec": {
   "display_name": "Python 3.7.11 ('han')",
   "language": "python",
   "name": "python3"
  },
  "language_info": {
   "codemirror_mode": {
    "name": "ipython",
    "version": 3
   },
   "file_extension": ".py",
   "mimetype": "text/x-python",
   "name": "python",
   "nbconvert_exporter": "python",
   "pygments_lexer": "ipython3",
   "version": "3.7.11"
  },
  "orig_nbformat": 4,
  "vscode": {
   "interpreter": {
    "hash": "2c73f886271c839d0ba877ba8b97f5003c6c6417a734903c0face75895daee34"
   }
  }
 },
 "nbformat": 4,
 "nbformat_minor": 2
}
