{
 "cells": [
  {
   "cell_type": "code",
   "execution_count": 39,
   "metadata": {},
   "outputs": [
    {
     "name": "stdout",
     "output_type": "stream",
     "text": [
      "The autoreload extension is already loaded. To reload it, use:\n",
      "  %reload_ext autoreload\n"
     ]
    }
   ],
   "source": [
    "%load_ext autoreload\n",
    "%autoreload 2\n",
    "import os, pickle, csv, itertools, shutil, random\n",
    "import numpy as np\n",
    "import matplotlib.pyplot as plt\n",
    "import pandas as pd\n",
    "import torchvision, torch\n",
    "from scipy import stats\n",
    "\n",
    "%matplotlib inline\n",
    "%config InlineBackend.figure_format='retina'\n",
    "\n",
    "import utils.plot_data as plot\n",
    "import models.transforms as transforms\n",
    "import algorithms.teaching_algs as algs\n",
    "import evals.teaching_evals as evals\n",
    "\n",
    "def get_ci(samples, confidence=0.95):  return 2 * stats.sem(samples) * stats.t.ppf((1 + confidence) / 2., len(samples)-1)\n",
    "import warnings\n",
    "warnings.filterwarnings(\"ignore\")"
   ]
  },
  {
   "cell_type": "code",
   "execution_count": 12,
   "metadata": {},
   "outputs": [],
   "source": [
    "train = torchvision.datasets.ImageFolder(f\"data/datasets/bm/train\", transform=transforms.shrink(63))\n",
    "test = torchvision.datasets.ImageFolder(f\"data/datasets/bm/test\", transform=transforms.shrink(63))\n",
    "x_train = np.array([x[0].numpy() for x in train])\n",
    "x_test = np.array([x[0].numpy() for x in test])\n",
    "y_train = np.array([x[1] for x in train])\n",
    "y_test = np.array([x[1] for x in test])"
   ]
  },
  {
   "cell_type": "code",
   "execution_count": 9,
   "metadata": {},
   "outputs": [],
   "source": [
    "lpips_path = \"data/dist/lpips/bm\"\n",
    "# lpips_train = pickle.load(open(f\"{lpips_path}/lpips.alex.train.pkl\",\"rb\"))\n",
    "lpips_test = pickle.load(open(f\"{lpips_path}/lpips.alex.test.pkl\",\"rb\"))"
   ]
  },
  {
   "cell_type": "markdown",
   "metadata": {},
   "source": [
    "### random examples"
   ]
  },
  {
   "cell_type": "code",
   "execution_count": 44,
   "metadata": {},
   "outputs": [
    {
     "data": {
      "text/plain": [
       "(0.6456000000000001, 0.013490983347214778)"
      ]
     },
     "execution_count": 44,
     "metadata": {},
     "output_type": "execute_result"
    }
   ],
   "source": [
    "n_trials = 1000\n",
    "\n",
    "random_scores = np.array([evals.get_knn_score_lpips(lpips_test, algs.random(X, 10), y_train, y_test) for _ in range(n_trials)])\n",
    "random_ci = get_ci(random_scores)\n",
    "random_scores = random_scores.mean()\n",
    "random_scores, random_ci"
   ]
  },
  {
   "cell_type": "markdown",
   "metadata": {},
   "source": [
    "### protodash"
   ]
  },
  {
   "cell_type": "code",
   "execution_count": 45,
   "metadata": {},
   "outputs": [
    {
     "data": {
      "text/plain": [
       "0.825"
      ]
     },
     "execution_count": 45,
     "metadata": {},
     "output_type": "execute_result"
    }
   ],
   "source": [
    "X = np.array([x.flatten() for x in x_train])\n",
    "teaching_idx = algs.protodash(X, 10)\n",
    "evals.get_knn_score_lpips(lpips_test, teaching_idx, y_train, y_test, k=1)"
   ]
  },
  {
   "cell_type": "markdown",
   "metadata": {},
   "source": [
    "### ?"
   ]
  },
  {
   "cell_type": "code",
   "execution_count": null,
   "metadata": {},
   "outputs": [],
   "source": []
  }
 ],
 "metadata": {
  "kernelspec": {
   "display_name": "Python 3.7.11 ('han')",
   "language": "python",
   "name": "python3"
  },
  "language_info": {
   "codemirror_mode": {
    "name": "ipython",
    "version": 3
   },
   "file_extension": ".py",
   "mimetype": "text/x-python",
   "name": "python",
   "nbconvert_exporter": "python",
   "pygments_lexer": "ipython3",
   "version": "3.7.11"
  },
  "orig_nbformat": 4,
  "vscode": {
   "interpreter": {
    "hash": "2c73f886271c839d0ba877ba8b97f5003c6c6417a734903c0face75895daee34"
   }
  }
 },
 "nbformat": 4,
 "nbformat_minor": 2
}
