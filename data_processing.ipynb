{
 "cells": [
  {
   "cell_type": "code",
   "execution_count": 1,
   "metadata": {},
   "outputs": [],
   "source": [
    "%load_ext autoreload\n",
    "%autoreload 2\n",
    "import os, pickle, csv, itertools, shutil, random\n",
    "import numpy as np\n",
    "import matplotlib.pyplot as plt\n",
    "import pandas as pd\n",
    "import torchvision, torch\n",
    "from torchvision import transforms\n",
    "from omegaconf import OmegaConf as oc\n",
    "\n",
    "%matplotlib inline\n",
    "%config InlineBackend.figure_format='retina'\n",
    "\n",
    "import models.utils as utils\n",
    "import evals.embed_evals as evals\n",
    "import utils.plot_data as plot\n",
    "import utils.gen_triplets as gen\n",
    "import warnings\n",
    "warnings.filterwarnings(\"ignore\")"
   ]
  },
  {
   "cell_type": "markdown",
   "metadata": {},
   "source": [
    "## synthetic features.pkl"
   ]
  },
  {
   "cell_type": "code",
   "execution_count": 143,
   "metadata": {},
   "outputs": [],
   "source": [
    "df = pd.read_csv(\"datasets/wv_3d/df.csv\")\n",
    "features = [\"head size\",\"body size\",\"tail size\",\"texture\"]"
   ]
  },
  {
   "cell_type": "code",
   "execution_count": 158,
   "metadata": {},
   "outputs": [],
   "source": [
    "files = utils.dataset_filenames(\"datasets/wv_3d/train\")\n",
    "files = [x.split(\"/\")[-1] for x in files[:,0]]\n",
    "train_features = np.array([list(df[df[\"img_id\"]==f][features].iloc[0]) for f in files])"
   ]
  },
  {
   "cell_type": "code",
   "execution_count": 160,
   "metadata": {},
   "outputs": [],
   "source": [
    "files = utils.dataset_filenames(\"datasets/wv_3d/test\")\n",
    "files = [x.split(\"/\")[-1] for x in files[:,0]]\n",
    "test_features = np.array([list(df[df[\"img_id\"]==f][features].iloc[0]) for f in files])"
   ]
  },
  {
   "cell_type": "markdown",
   "metadata": {},
   "source": [
    "## generated alignments"
   ]
  },
  {
   "cell_type": "code",
   "execution_count": 26,
   "metadata": {},
   "outputs": [
    {
     "data": {
      "text/plain": [
       "[<matplotlib.lines.Line2D at 0x7ff6fefe5310>]"
      ]
     },
     "execution_count": 26,
     "metadata": {},
     "output_type": "execute_result"
    },
    {
     "data": {
      "image/png": "[encoded data removed]",
      "text/plain": [
       "<Figure size 432x288 with 1 Axes>"
      ]
     },
     "metadata": {
      "image/png": {
       "height": 260,
       "width": 378
      },
      "needs_background": "light"
     },
     "output_type": "display_data"
    }
   ],
   "source": [
    "df = pd.read_csv(\"data_gen/search.csv\")\n",
    "plt.plot(df[\"weights\"],df[\"aligns\"])"
   ]
  },
  {
   "cell_type": "code",
   "execution_count": 31,
   "metadata": {},
   "outputs": [
    {
     "data": {
      "text/plain": [
       "3.93939393939394e-07"
      ]
     },
     "execution_count": 31,
     "metadata": {},
     "output_type": "execute_result"
    }
   ],
   "source": [
    "df.iloc[13][\"weights\"]"
   ]
  },
  {
   "cell_type": "code",
   "execution_count": 30,
   "metadata": {},
   "outputs": [
    {
     "data": {
      "text/plain": [
       "(array([ 9, 12, 13]),)"
      ]
     },
     "execution_count": 30,
     "metadata": {},
     "output_type": "execute_result"
    }
   ],
   "source": [
    "np.where(df[\"aligns\"]==0.5)"
   ]
  },
  {
   "cell_type": "code",
   "execution_count": 12,
   "metadata": {},
   "outputs": [],
   "source": [
    "train_embeds = pickle.load(open(\"datasets/wv_3d/train_features.pkl\",\"rb\"))\n",
    "test_embeds = pickle.load(open(\"datasets/wv_3d/test_features.pkl\",\"rb\"))\n",
    "y_train = np.array([x[1] for x in torchvision.datasets.ImageFolder(\"datasets/wv_3d/train\")])\n",
    "y_test = np.array([x[1] for x in torchvision.datasets.ImageFolder(\"datasets/wv_3d/test\")])"
   ]
  },
  {
   "cell_type": "code",
   "execution_count": 32,
   "metadata": {},
   "outputs": [
    {
     "data": {
      "text/plain": [
       "0.5"
      ]
     },
     "execution_count": 32,
     "metadata": {},
     "output_type": "execute_result"
    }
   ],
   "source": [
    "evals.distorted_1nn(train_embeds, y_train, test_embeds, y_test, [3.93939393939394e-07,0,1,1])"
   ]
  },
  {
   "cell_type": "code",
   "execution_count": 41,
   "metadata": {},
   "outputs": [
    {
     "data": {
      "text/plain": [
       "0.00269"
      ]
     },
     "execution_count": 41,
     "metadata": {},
     "output_type": "execute_result"
    }
   ],
   "source": [
    "2.69e-03"
   ]
  },
  {
   "cell_type": "code",
   "execution_count": 43,
   "metadata": {},
   "outputs": [
    {
     "data": {
      "text/plain": [
       "[0.475, 0.5, 0.55, 0.6, 0.65, 0.7, 0.75]"
      ]
     },
     "execution_count": 43,
     "metadata": {},
     "output_type": "execute_result"
    }
   ],
   "source": [
    "aligns=[]\n",
    "w1s = [0, 3.94e-07, 2.64e-06,9.61e-06,2.56e-05,4.8e-05,1.28e-03]\n",
    "aligns = [0.475,0.5,0.55,0.6,0.65,0.7,0.75]\n",
    "for w1 in w1s:\n",
    "    weights = [w1,0,1,1]\n",
    "    aligns.append(evals.distorted_1nn(train_embeds, y_train, test_embeds, y_test, weights))\n",
    "aligns"
   ]
  },
  {
   "cell_type": "markdown",
   "metadata": {},
   "source": [
    "### triplet gen"
   ]
  },
  {
   "cell_type": "code",
   "execution_count": 2,
   "metadata": {},
   "outputs": [],
   "source": [
    "train_features = pickle.load(open(\"datasets/wv_3d/train_features.pkl\",\"rb\"))\n",
    "valid_features = pickle.load(open(\"datasets/wv_3d/valid_features.pkl\",\"rb\"))\n",
    "test_features = pickle.load(open(\"datasets/wv_3d/test_features.pkl\",\"rb\"))\n",
    "y_train = np.array([x[1] for x in torchvision.datasets.ImageFolder(\"datasets/wv_3d/train\")])\n",
    "y_valid = np.array([x[1] for x in torchvision.datasets.ImageFolder(\"datasets/wv_3d/valid\")])\n",
    "y_test = np.array([x[1] for x in torchvision.datasets.ImageFolder(\"datasets/wv_3d/test\")])"
   ]
  },
  {
   "cell_type": "code",
   "execution_count": 8,
   "metadata": {},
   "outputs": [
    {
     "name": "stdout",
     "output_type": "stream",
     "text": [
      "0.7647083333333333 0.77 0.771\n",
      "0.7625833333333333 0.772 0.7685\n",
      "0.7645833333333333 0.766 0.7741666666666667\n",
      "0.7639166666666667 0.775 0.7708333333333334\n",
      "0.7710833333333333 0.7821666666666667 0.7741666666666667\n"
     ]
    }
   ],
   "source": [
    "w2s = [0,0.00075,0.002693,0.011,1]\n",
    "aligns = [0.8,0.85,0.9,0.95,1]\n",
    "total = 30000\n",
    "\n",
    "triplet_dir = \"datasets/wv_3d_triplets\"\n",
    "for w2,align in zip(w2s, aligns):\n",
    "    weights = [1,w2,1,1] \n",
    "    train_triplets, valid_triplets, test_triplets, train_triplets_filtered, valid_triplets_filtered, test_triplets_filtered =\\\n",
    "        gen.get_alignment_filtered_triplets(train_features, valid_features, test_features, y_train, y_valid, y_test, weights, total)\n",
    "    print(len(train_triplets_filtered)/len(train_triplets), len(valid_triplets_filtered)/len(valid_triplets), len(test_triplets_filtered)/len(test_triplets))\n",
    "    # break\n",
    "    align_dir = os.path.join(triplet_dir,f\"align={str(align)}\")\n",
    "    if not os.path.isdir(align_dir): os.mkdir(align_dir)\n",
    "    pickle.dump(train_triplets, open(f\"{align_dir}/train_triplets.pkl\", \"wb\"))\n",
    "    pickle.dump(valid_triplets, open(f\"{align_dir}/valid_triplets.pkl\", \"wb\"))\n",
    "    pickle.dump(test_triplets, open(f\"{align_dir}/test_triplets.pkl\", \"wb\"))\n",
    "    pickle.dump(train_triplets_filtered, open(f\"{align_dir}/train_triplets_filtered.pkl\",\"wb\"))\n",
    "    pickle.dump(valid_triplets_filtered, open(f\"{align_dir}/valid_triplets_filtered.pkl\",\"wb\"))\n",
    "    pickle.dump(test_triplets_filtered, open(f\"{align_dir}/test_triplets_filtered.pkl\",\"wb\"))"
   ]
  },
  {
   "cell_type": "code",
   "execution_count": 9,
   "metadata": {},
   "outputs": [],
   "source": [
    "train_triplets = pickle.load(open(\"datasets/wv_3d_triplets/align=0.8/train_triplets.pkl\",\"rb\"))\n",
    "valid_triplets = pickle.load(open(\"datasets/wv_3d_triplets/align=0.8/valid_triplets.pkl\",\"rb\"))\n",
    "test_triplets = pickle.load(open(\"datasets/wv_3d_triplets/align=0.8/test_triplets.pkl\",\"rb\"))\n",
    "for p in [0.05,0.1, 0.2, 0.3, 0.4, 0.5]:\n",
    "    dir = os.path.join(\"datasets/wv_3d_triplets/align=0.8_noisy\",str(p))\n",
    "    if not os.path.isdir(dir): os.mkdir(dir)\n",
    "    train_noisy = gen.get_noisy_triplets(train_triplets, p)\n",
    "    valid_noisy = gen.get_noisy_triplets(valid_triplets, p)\n",
    "    test_noisy = gen.get_noisy_triplets(test_triplets, p)\n",
    "    pickle.dump(train_noisy, open(f\"{dir}/train_triplets.pkl\",\"wb\"))\n",
    "    pickle.dump(valid_noisy, open(f\"{dir}/valid_triplets.pkl\",\"wb\"))\n",
    "    pickle.dump(test_noisy, open(f\"{dir}/test_triplets.pkl\",\"wb\"))"
   ]
  },
  {
   "cell_type": "code",
   "execution_count": 44,
   "metadata": {},
   "outputs": [
    {
     "name": "stdout",
     "output_type": "stream",
     "text": [
      "0.7497916666666666 0.7491666666666666 0.7588333333333334\n",
      "0.7552083333333334 0.7543333333333333 0.7468333333333333\n",
      "0.7483333333333333 0.7445 0.7496666666666667\n",
      "0.7500416666666667 0.7451666666666666 0.737\n",
      "0.748781199216634 0.7516666666666667 0.7411666666666666\n"
     ]
    }
   ],
   "source": [
    "w1s = [0, 3.94e-07, 2.64e-06,9.61e-06,2.56e-05,4.8e-05,1.28e-03]\n",
    "aligns = [0.475,0.5,0.55,0.6,0.65,0.7,0.75]\n",
    "\n",
    "total = 30000\n",
    "triplet_dir = \"datasets/wv_3d_triplets\"\n",
    "for w2,align in zip(w2s, aligns):\n",
    "    weights = [w1,0,1,1] \n",
    "    train_triplets, valid_triplets, test_triplets, train_triplets_filtered, valid_triplets_filtered, test_triplets_filtered =\\\n",
    "        gen.get_alignment_filtered_triplets(train_features, valid_features, test_features, y_train, y_valid, y_test, weights, total)\n",
    "    print(len(train_triplets_filtered)/len(train_triplets), len(valid_triplets_filtered)/len(valid_triplets), len(test_triplets_filtered)/len(test_triplets))\n",
    "    # break\n",
    "    align_dir = os.path.join(triplet_dir,f\"align={str(align)}\")\n",
    "    if not os.path.isdir(align_dir): os.mkdir(align_dir)\n",
    "    pickle.dump(train_triplets, open(f\"{align_dir}/train_triplets.pkl\", \"wb\"))\n",
    "    pickle.dump(valid_triplets, open(f\"{align_dir}/valid_triplets.pkl\", \"wb\"))\n",
    "    pickle.dump(test_triplets, open(f\"{align_dir}/test_triplets.pkl\", \"wb\"))\n",
    "    pickle.dump(train_triplets_filtered, open(f\"{align_dir}/train_triplets_filtered.pkl\",\"wb\"))\n",
    "    pickle.dump(valid_triplets_filtered, open(f\"{align_dir}/valid_triplets_filtered.pkl\",\"wb\"))\n",
    "    pickle.dump(test_triplets_filtered, open(f\"{align_dir}/test_triplets_filtered.pkl\",\"wb\"))"
   ]
  },
  {
   "cell_type": "markdown",
   "metadata": {},
   "source": [
    "## yaml generation"
   ]
  },
  {
   "cell_type": "code",
   "execution_count": 47,
   "metadata": {},
   "outputs": [],
   "source": [
    "yaml_dir = \"models/configs/wv_3d/align_triplets\"\n",
    "base = oc.load(f\"{yaml_dir}/align=0.8.yaml\")\n",
    "w1s = [0, 3.94e-07, 2.64e-06,9.61e-06,2.56e-05,4.8e-05,1.28e-03] + [1]*4\n",
    "w2s = [0]*7 + [0,0.0008,0.003,0.0123,1]\n",
    "aligns = [0.475,0.5,0.55,0.6,0.65,0.7,0.75] + [0.8,0.85,0.9,0.95,1] "
   ]
  },
  {
   "cell_type": "code",
   "execution_count": 48,
   "metadata": {},
   "outputs": [],
   "source": [
    "for w1, w2, align in zip(w1s, w2s, aligns):\n",
    "    weights = [w1,w2,1,1] \n",
    "    train_triplets = base.train_triplets.replace(\"0.8\",str(align))\n",
    "    valid_triplets = base.valid_triplets.replace(\"0.8\",str(align))\n",
    "    test_triplets = base.test_triplets.replace(\"0.8\",str(align))\n",
    "    wandb_group = base.wandb_group.replace(\"0.8\",str(align))\n",
    "    overwrite = {\"weights\":weights, \"train_triplets\":train_triplets,\"valid_triplets\":valid_triplets,\n",
    "    \"test_triplets\":test_triplets,\"wandb_group\":wandb_group}\n",
    "    oc.save(oc.merge(base,overwrite), f\"models/configs/wv_3d/align_triplets/align={align}.yaml\")"
   ]
  },
  {
   "cell_type": "code",
   "execution_count": 49,
   "metadata": {},
   "outputs": [],
   "source": [
    "yaml_dir = \"models/configs/wv_3d/filtered_triplets\"\n",
    "base_filtered = oc.load(f\"{yaml_dir}/align=0.8_filtered.yaml\")"
   ]
  },
  {
   "cell_type": "code",
   "execution_count": 50,
   "metadata": {},
   "outputs": [],
   "source": [
    "for w1, w2, align in zip(w1s, w2s, aligns):\n",
    "    weights = [w1,w2,1,1] \n",
    "    train_triplets = base_filtered.train_triplets.replace(\"0.8\",str(align))\n",
    "    valid_triplets = base_filtered.valid_triplets.replace(\"0.8\",str(align))\n",
    "    test_triplets = base_filtered.test_triplets.replace(\"0.8\",str(align))\n",
    "    wandb_group = base_filtered.wandb_group.replace(\"0.8\",str(align))\n",
    "    overwrite = {\"weights\":weights, \"train_triplets\":train_triplets,\"valid_triplets\":valid_triplets,\n",
    "    \"test_triplets\":test_triplets,\"wandb_group\":wandb_group}\n",
    "    oc.save(oc.merge(base_filtered,overwrite), f\"models/configs/wv_3d/filtered_triplets/align={align}_filtered.yaml\")"
   ]
  },
  {
   "cell_type": "code",
   "execution_count": 98,
   "metadata": {},
   "outputs": [],
   "source": [
    "yaml_dir = \"models/configs/wv_3d/noisy_triplets\"\n",
    "base_noisy = oc.load(f\"{yaml_dir}/noise=0.1.yaml\")"
   ]
  },
  {
   "cell_type": "code",
   "execution_count": 99,
   "metadata": {},
   "outputs": [],
   "source": [
    "for p in [0.1, 0.05,0.2, 0.3, 0.4, 0.5]:\n",
    "    train_triplets = base_noisy.train_triplets.replace(\"0.1\",str(p))\n",
    "    valid_triplets = base_noisy.valid_triplets.replace(\"0.1\",str(p))\n",
    "    test_triplets = base_noisy.test_triplets.replace(\"0.1\",str(p))\n",
    "    wandb_group = base_noisy.wandb_group.replace(\"0.1\",str(p))\n",
    "    overwrite = {\"train_triplets\":train_triplets,\"valid_triplets\":valid_triplets,\n",
    "    \"test_triplets\":test_triplets,\"wandb_group\":wandb_group}\n",
    "    oc.save(oc.merge(base_noisy,overwrite), f\"models/configs/wv_3d/noisy_triplets/noise={p}.yaml\")"
   ]
  },
  {
   "cell_type": "code",
   "execution_count": null,
   "metadata": {},
   "outputs": [],
   "source": []
  }
 ],
 "metadata": {
  "interpreter": {
   "hash": "2c73f886271c839d0ba877ba8b97f5003c6c6417a734903c0face75895daee34"
  },
  "kernelspec": {
   "display_name": "Python 3.7.11 ('han')",
   "language": "python",
   "name": "python3"
  },
  "language_info": {
   "codemirror_mode": {
    "name": "ipython",
    "version": 3
   },
   "file_extension": ".py",
   "mimetype": "text/x-python",
   "name": "python",
   "nbconvert_exporter": "python",
   "pygments_lexer": "ipython3",
   "version": "3.7.11"
  },
  "orig_nbformat": 4,
  "vscode": {
   "interpreter": {
    "hash": "2c73f886271c839d0ba877ba8b97f5003c6c6417a734903c0face75895daee34"
   }
  }
 },
 "nbformat": 4,
 "nbformat_minor": 2
}
