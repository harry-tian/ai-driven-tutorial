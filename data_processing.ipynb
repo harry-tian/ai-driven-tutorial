{
 "cells": [
  {
   "cell_type": "code",
   "execution_count": 68,
   "metadata": {},
   "outputs": [
    {
     "name": "stdout",
     "output_type": "stream",
     "text": [
      "The autoreload extension is already loaded. To reload it, use:\n",
      "  %reload_ext autoreload\n"
     ]
    }
   ],
   "source": [
    "%load_ext autoreload\n",
    "%autoreload 2\n",
    "import os, pickle, csv, itertools, shutil, random\n",
    "import numpy as np\n",
    "import matplotlib.pyplot as plt\n",
    "import pandas as pd\n",
    "import torchvision, torch\n",
    "from torchvision import transforms\n",
    "from omegaconf import OmegaConf as oc\n",
    "\n",
    "%matplotlib inline\n",
    "%config InlineBackend.figure_format='retina'\n",
    "\n",
    "import models.utils as utils\n",
    "import evals.embed_evals as evals\n",
    "import utils.plot_data as plot\n",
    "import utils.gen_triplets as gen\n",
    "import warnings\n",
    "warnings.filterwarnings(\"ignore\")"
   ]
  },
  {
   "cell_type": "markdown",
   "metadata": {},
   "source": [
    "## generated alignments"
   ]
  },
  {
   "cell_type": "code",
   "execution_count": 114,
   "metadata": {},
   "outputs": [
    {
     "data": {
      "text/plain": [
       "[<matplotlib.lines.Line2D at 0x7f4f36b8d110>]"
      ]
     },
     "execution_count": 114,
     "metadata": {},
     "output_type": "execute_result"
    },
    {
     "data": {
      "image/png": "[encoded data removed]",
      "text/plain": [
       "<Figure size 432x288 with 1 Axes>"
      ]
     },
     "metadata": {
      "image/png": {
       "height": 248,
       "width": 378
      },
      "needs_background": "light"
     },
     "output_type": "display_data"
    }
   ],
   "source": [
    "df = pd.read_csv(\"data_gen/search.csv\")\n",
    "plt.plot(df[\"weights\"],df[\"aligns\"])"
   ]
  },
  {
   "cell_type": "code",
   "execution_count": 121,
   "metadata": {},
   "outputs": [
    {
     "data": {
      "text/plain": [
       "Unnamed: 0    269.000000\n",
       "weights         0.002693\n",
       "aligns          0.900000\n",
       "Name: 269, dtype: float64"
      ]
     },
     "execution_count": 121,
     "metadata": {},
     "output_type": "execute_result"
    }
   ],
   "source": [
    "df.iloc[269]"
   ]
  },
  {
   "cell_type": "code",
   "execution_count": 122,
   "metadata": {},
   "outputs": [
    {
     "data": {
      "text/plain": [
       "(array([], dtype=int64),)"
      ]
     },
     "execution_count": 122,
     "metadata": {},
     "output_type": "execute_result"
    }
   ],
   "source": [
    "np.where(df[\"aligns\"]==0.95)"
   ]
  },
  {
   "cell_type": "code",
   "execution_count": 118,
   "metadata": {},
   "outputs": [],
   "source": [
    "train_embeds = pickle.load(open(\"datasets/wv_3d/train_features.pkl\",\"rb\"))\n",
    "test_embeds = pickle.load(open(\"datasets/wv_3d/test_features.pkl\",\"rb\"))\n",
    "y_train = np.array([x[1] for x in torchvision.datasets.ImageFolder(\"datasets/wv_3d/train\")])\n",
    "y_test = np.array([x[1] for x in torchvision.datasets.ImageFolder(\"datasets/wv_3d/test\")])"
   ]
  },
  {
   "cell_type": "code",
   "execution_count": 124,
   "metadata": {},
   "outputs": [
    {
     "data": {
      "text/plain": [
       "0.95"
      ]
     },
     "execution_count": 124,
     "metadata": {},
     "output_type": "execute_result"
    }
   ],
   "source": [
    "evals.distorted_1nn(train_embeds, y_train, test_embeds, y_test, [1,0.011,1,1])"
   ]
  },
  {
   "cell_type": "code",
   "execution_count": 126,
   "metadata": {},
   "outputs": [
    {
     "data": {
      "text/plain": [
       "[0.7975, 0.85, 0.9, 0.95, 1.0]"
      ]
     },
     "execution_count": 126,
     "metadata": {},
     "output_type": "execute_result"
    }
   ],
   "source": [
    "aligns=[]\n",
    "w2s = [0,0.00075,0.002693,0.011,1]\n",
    "for w2 in w2s:\n",
    "    weights = [1,w2,1,1]\n",
    "    aligns.append(evals.distorted_1nn(train_embeds, y_train, test_embeds, y_test, weights))\n",
    "aligns"
   ]
  },
  {
   "cell_type": "code",
   "execution_count": 100,
   "metadata": {},
   "outputs": [],
   "source": [
    "a = np.array([1,1])\n",
    "b = np.array([1,2])"
   ]
  },
  {
   "cell_type": "code",
   "execution_count": 103,
   "metadata": {},
   "outputs": [
    {
     "data": {
      "text/plain": [
       "array([[ True]])"
      ]
     },
     "execution_count": 103,
     "metadata": {},
     "output_type": "execute_result"
    }
   ],
   "source": [
    "evals.weightedPdist(a,b,[1,1]) < 2"
   ]
  },
  {
   "cell_type": "markdown",
   "metadata": {},
   "source": [
    "## direct NI comparison"
   ]
  },
  {
   "cell_type": "code",
   "execution_count": 104,
   "metadata": {},
   "outputs": [],
   "source": [
    "## filter out correct NIs\n",
    "NIs = pd.read_csv(\"noise_NIs.csv\")\n",
    "RESN_NIs = pickle.load(open(\"embeds/wv_2d/RESN_d=50/RESN_NIs.pkl\",\"rb\"))\n",
    "y_train = np.array([x[1] for x in torchvision.datasets.ImageFolder(\"datasets/weevil_vespula/train\")])\n",
    "y_test = np.array([x[1] for x in torchvision.datasets.ImageFolder(\"datasets/weevil_vespula/test\")])\n",
    "syn_x_train = pickle.load(open(\"/net/scratch/tianh/explain_teach/embeds/wv_2d/train.pkl\",\"rb\"))\n",
    "syn_x_test = pickle.load(open(\"/net/scratch/tianh/explain_teach/embeds/wv_2d/test.pkl\",\"rb\"))\n",
    "def str2list(S): return [int(x) for x in S.replace(\"]\",\" \").replace(\"[\",\" \").replace(\",\",\"\").strip().split(\" \")]"
   ]
  },
  {
   "cell_type": "code",
   "execution_count": 112,
   "metadata": {},
   "outputs": [],
   "source": [
    "weights = [1,0]\n",
    "nn_comparison = []\n",
    "for NI in NIs[\"NI\"]:\n",
    "    NI = str2list(NI)\n",
    "    NI = np.array(NI).reshape(-1,1)\n",
    "    wins, errs, ties = evals.nn_comparison(syn_x_train, syn_x_test, NI, RESN_NIs[0].reshape(-1,1), weights)\n",
    "    nn_comparison.append((wins + ties*0.5)/40)"
   ]
  },
  {
   "cell_type": "code",
   "execution_count": 20,
   "metadata": {},
   "outputs": [],
   "source": [
    "NIs.to_csv(\"noise_NIs.csv\",index=False)"
   ]
  },
  {
   "cell_type": "code",
   "execution_count": 68,
   "metadata": {},
   "outputs": [],
   "source": [
    "count = 0\n",
    "NIs = []\n",
    "NI = []\n",
    "a = open(\"temp/wv_NI.txt\",\"r\")\n",
    "for line in a:\n",
    "    line = line.replace(\"]\",\" \").replace(\"[\",\" \").strip().split(\" \")\n",
    "    # print(line)\n",
    "    for x in line:\n",
    "        if len(NI)==40:\n",
    "            NIs.append(NI)\n",
    "            NI=[]\n",
    "        if x.isdigit():\n",
    "            NI.append(int(x))\n",
    "            count += 1"
   ]
  },
  {
   "cell_type": "markdown",
   "metadata": {},
   "source": [
    "## resn eval"
   ]
  },
  {
   "cell_type": "code",
   "execution_count": 61,
   "metadata": {},
   "outputs": [],
   "source": [
    "resn_dir = \"embeds/wv_2d/RESN_d=50\"\n",
    "train_embeds = [pickle.load(open(f\"{resn_dir}/MTL_han_train_seed{seed}.pkl\",\"rb\")) for seed in range(10)]\n",
    "test_embeds = [pickle.load(open(f\"{resn_dir}/MTL_han_test_seed{seed}.pkl\",\"rb\")) for seed in range(10)]\n",
    "y_train = np.array([x[1] for x in torchvision.datasets.ImageFolder(\"datasets/weevil_vespula/train\")])\n",
    "y_test = np.array([x[1] for x in torchvision.datasets.ImageFolder(\"datasets/weevil_vespula/test\")])\n",
    "syn_x_train = pickle.load(open(\"/net/scratch/tianh/explain_teach/embeds/wv_2d/train.pkl\",\"rb\"))\n",
    "syn_x_test = pickle.load(open(\"/net/scratch/tianh/explain_teach/embeds/wv_2d/test.pkl\",\"rb\"))"
   ]
  },
  {
   "cell_type": "code",
   "execution_count": 77,
   "metadata": {},
   "outputs": [],
   "source": [
    "powers = [2,2]\n",
    "w2s = [0,0.0001,0.001,0.0025,0.005,0.05,1]\n",
    "aligns = [0.7,0.775,0.8,0.85,0.9,0.95,1]\n",
    "metric = [\"NINO_ds_acc\",\"rNINO_ds_acc\",\"NIFO_ds_acc\"]\n",
    "align_results = pd.DataFrame()\n",
    "NIs = []\n",
    "for w2,align in zip(w2s,aligns):\n",
    "    weights = [1,w2]\n",
    "    results = []\n",
    "    for z_train,z_test in zip(train_embeds,test_embeds):\n",
    "        data = evals.syn_evals(z_train, y_train, z_test, y_test, syn_x_train, syn_x_test, weights, powers, k=3)\n",
    "        NI = data[\"NIs\"]\n",
    "        data = {m: [data[m]] for m in metric}\n",
    "        results.append(pd.DataFrame(data=data))\n",
    "    NIs.append(NI)\n",
    "    results = pd.concat(results)\n",
    "    results.insert(0, \"align\", [align]*10)\n",
    "    align_results = pd.concat([align_results, results])"
   ]
  },
  {
   "cell_type": "code",
   "execution_count": 8,
   "metadata": {},
   "outputs": [],
   "source": [
    "pickle.dump(np.array(NIs),open(\"embeds/wv_2d/RESN_d=50/RESN_NIs.pkl\",\"wb\"))"
   ]
  },
  {
   "cell_type": "code",
   "execution_count": 78,
   "metadata": {},
   "outputs": [
    {
     "data": {
      "text/html": [
       "<div>\n",
       "<style scoped>\n",
       "    .dataframe tbody tr th:only-of-type {\n",
       "        vertical-align: middle;\n",
       "    }\n",
       "\n",
       "    .dataframe tbody tr th {\n",
       "        vertical-align: top;\n",
       "    }\n",
       "\n",
       "    .dataframe thead th {\n",
       "        text-align: right;\n",
       "    }\n",
       "</style>\n",
       "<table border=\"1\" class=\"dataframe\">\n",
       "  <thead>\n",
       "    <tr style=\"text-align: right;\">\n",
       "      <th></th>\n",
       "      <th>align</th>\n",
       "      <th>NINO_ds_acc</th>\n",
       "      <th>rNINO_ds_acc</th>\n",
       "      <th>NIFO_ds_acc</th>\n",
       "    </tr>\n",
       "  </thead>\n",
       "  <tbody>\n",
       "    <tr>\n",
       "      <th>0</th>\n",
       "      <td>0.7</td>\n",
       "      <td>0.775</td>\n",
       "      <td>0.775</td>\n",
       "      <td>0.800</td>\n",
       "    </tr>\n",
       "    <tr>\n",
       "      <th>0</th>\n",
       "      <td>0.7</td>\n",
       "      <td>0.725</td>\n",
       "      <td>0.725</td>\n",
       "      <td>0.700</td>\n",
       "    </tr>\n",
       "    <tr>\n",
       "      <th>0</th>\n",
       "      <td>0.7</td>\n",
       "      <td>0.675</td>\n",
       "      <td>0.650</td>\n",
       "      <td>0.700</td>\n",
       "    </tr>\n",
       "    <tr>\n",
       "      <th>0</th>\n",
       "      <td>0.7</td>\n",
       "      <td>0.625</td>\n",
       "      <td>0.625</td>\n",
       "      <td>0.525</td>\n",
       "    </tr>\n",
       "    <tr>\n",
       "      <th>0</th>\n",
       "      <td>0.7</td>\n",
       "      <td>0.775</td>\n",
       "      <td>0.775</td>\n",
       "      <td>0.750</td>\n",
       "    </tr>\n",
       "    <tr>\n",
       "      <th>...</th>\n",
       "      <td>...</td>\n",
       "      <td>...</td>\n",
       "      <td>...</td>\n",
       "      <td>...</td>\n",
       "    </tr>\n",
       "    <tr>\n",
       "      <th>0</th>\n",
       "      <td>1.0</td>\n",
       "      <td>0.900</td>\n",
       "      <td>0.875</td>\n",
       "      <td>0.725</td>\n",
       "    </tr>\n",
       "    <tr>\n",
       "      <th>0</th>\n",
       "      <td>1.0</td>\n",
       "      <td>0.925</td>\n",
       "      <td>0.900</td>\n",
       "      <td>0.950</td>\n",
       "    </tr>\n",
       "    <tr>\n",
       "      <th>0</th>\n",
       "      <td>1.0</td>\n",
       "      <td>0.950</td>\n",
       "      <td>0.950</td>\n",
       "      <td>0.800</td>\n",
       "    </tr>\n",
       "    <tr>\n",
       "      <th>0</th>\n",
       "      <td>1.0</td>\n",
       "      <td>0.950</td>\n",
       "      <td>0.900</td>\n",
       "      <td>0.850</td>\n",
       "    </tr>\n",
       "    <tr>\n",
       "      <th>0</th>\n",
       "      <td>1.0</td>\n",
       "      <td>0.950</td>\n",
       "      <td>0.900</td>\n",
       "      <td>0.950</td>\n",
       "    </tr>\n",
       "  </tbody>\n",
       "</table>\n",
       "<p>70 rows × 4 columns</p>\n",
       "</div>"
      ],
      "text/plain": [
       "    align  NINO_ds_acc  rNINO_ds_acc  NIFO_ds_acc\n",
       "0     0.7        0.775         0.775        0.800\n",
       "0     0.7        0.725         0.725        0.700\n",
       "0     0.7        0.675         0.650        0.700\n",
       "0     0.7        0.625         0.625        0.525\n",
       "0     0.7        0.775         0.775        0.750\n",
       "..    ...          ...           ...          ...\n",
       "0     1.0        0.900         0.875        0.725\n",
       "0     1.0        0.925         0.900        0.950\n",
       "0     1.0        0.950         0.950        0.800\n",
       "0     1.0        0.950         0.900        0.850\n",
       "0     1.0        0.950         0.900        0.950\n",
       "\n",
       "[70 rows x 4 columns]"
      ]
     },
     "execution_count": 78,
     "metadata": {},
     "output_type": "execute_result"
    }
   ],
   "source": [
    "align_results"
   ]
  },
  {
   "cell_type": "markdown",
   "metadata": {},
   "source": [
    "### triplet gen"
   ]
  },
  {
   "cell_type": "code",
   "execution_count": 125,
   "metadata": {},
   "outputs": [],
   "source": [
    "train_features = pickle.load(open(\"datasets/wv_3d/train_features.pkl\",\"rb\"))\n",
    "valid_features = pickle.load(open(\"datasets/wv_3d/valid_features.pkl\",\"rb\"))\n",
    "test_features = pickle.load(open(\"datasets/wv_3d/test_features.pkl\",\"rb\"))\n",
    "y_train = np.array([x[1] for x in torchvision.datasets.ImageFolder(\"datasets/wv_3d/train\")])\n",
    "y_valid = np.array([x[1] for x in torchvision.datasets.ImageFolder(\"datasets/wv_3d/valid\")])\n",
    "y_test = np.array([x[1] for x in torchvision.datasets.ImageFolder(\"datasets/wv_3d/test\")])"
   ]
  },
  {
   "cell_type": "code",
   "execution_count": 127,
   "metadata": {},
   "outputs": [
    {
     "name": "stdout",
     "output_type": "stream",
     "text": [
      "0.766875 0.757 0.7649\n",
      "0.765 0.764 0.7678\n",
      "0.76375 0.7625 0.773\n",
      "0.759875 0.746 0.763\n",
      "0.76775 0.7715 0.7798\n"
     ]
    }
   ],
   "source": [
    "w2s = [0,0.00075,0.002693,0.011,1]\n",
    "aligns = [0.8,0.85,0.9,0.95,1]\n",
    "total = 10000\n",
    "\n",
    "triplet_dir = \"datasets/wv_3d_triplets\"\n",
    "for w2,align in zip(w2s, aligns):\n",
    "    weights = [1,w2,1,1] \n",
    "    train_triplets, valid_triplets, test_triplets, train_triplets_filtered, valid_triplets_filtered, test_triplets_filtered =\\\n",
    "        gen.get_alignment_filtered_triplets(train_features, valid_features, test_features, y_train, y_valid, y_test, weights, total)\n",
    "    print(len(train_triplets_filtered)/len(train_triplets), len(valid_triplets_filtered)/len(valid_triplets), len(test_triplets_filtered)/len(test_triplets))\n",
    "    # break\n",
    "    align_dir = os.path.join(triplet_dir,f\"align={str(align)}\")\n",
    "    if not os.path.isdir(align_dir): os.mkdir(align_dir)\n",
    "    pickle.dump(train_triplets, open(f\"{align_dir}/train_triplets.pkl\", \"wb\"))\n",
    "    pickle.dump(valid_triplets, open(f\"{align_dir}/valid_triplets.pkl\", \"wb\"))\n",
    "    pickle.dump(test_triplets, open(f\"{align_dir}/test_triplets.pkl\", \"wb\"))\n",
    "    pickle.dump(train_triplets_filtered, open(f\"{align_dir}/train_triplets_filtered.pkl\",\"wb\"))\n",
    "    pickle.dump(valid_triplets_filtered, open(f\"{align_dir}/valid_triplets_filtered.pkl\",\"wb\"))\n",
    "    pickle.dump(test_triplets_filtered, open(f\"{align_dir}/test_triplets_filtered.pkl\",\"wb\"))"
   ]
  },
  {
   "cell_type": "code",
   "execution_count": 128,
   "metadata": {},
   "outputs": [],
   "source": [
    "train_triplets = pickle.load(open(\"datasets/wv_3d_triplets/align=0.8/train_triplets.pkl\",\"rb\"))\n",
    "valid_triplets = pickle.load(open(\"datasets/wv_3d_triplets/align=0.8/valid_triplets.pkl\",\"rb\"))\n",
    "test_triplets = pickle.load(open(\"datasets/wv_3d_triplets/align=0.8/test_triplets.pkl\",\"rb\"))\n",
    "for p in [0.05,0.1, 0.2, 0.3, 0.4, 0.5]:\n",
    "    dir = os.path.join(\"datasets/wv_3d_triplets/align=0.8_noisy\",str(p))\n",
    "    if not os.path.isdir(dir): os.mkdir(dir)\n",
    "    train_noisy = gen.get_noisy_triplets(train_triplets, p)\n",
    "    valid_noisy = gen.get_noisy_triplets(valid_triplets, p)\n",
    "    test_noisy = gen.get_noisy_triplets(test_triplets, p)\n",
    "    pickle.dump(train_noisy, open(f\"{dir}/train_triplets.pkl\",\"wb\"))\n",
    "    pickle.dump(valid_noisy, open(f\"{dir}/valid_triplets.pkl\",\"wb\"))\n",
    "    pickle.dump(test_noisy, open(f\"{dir}/test_triplets.pkl\",\"wb\"))"
   ]
  },
  {
   "cell_type": "markdown",
   "metadata": {},
   "source": [
    "## yaml generation"
   ]
  },
  {
   "cell_type": "code",
   "execution_count": 83,
   "metadata": {},
   "outputs": [],
   "source": [
    "yaml_dir = \"models/configs/wv_3d/align_triplets\"\n",
    "base = oc.load(f\"{yaml_dir}/align=0.8.yaml\")\n",
    "w2s = [0,0.0008,0.003,0.0123,1]\n",
    "aligns = [0.8,0.85,0.9,0.95,1]"
   ]
  },
  {
   "cell_type": "code",
   "execution_count": 57,
   "metadata": {},
   "outputs": [],
   "source": [
    "for w2,align in zip(w2s, aligns):\n",
    "    weights = [1,w2,1,1] \n",
    "    train_triplets = base.train_triplets.replace(\"0.8\",str(align))\n",
    "    valid_triplets = base.valid_triplets.replace(\"0.8\",str(align))\n",
    "    test_triplets = base.test_triplets.replace(\"0.8\",str(align))\n",
    "    wandb_group = base.wandb_group.replace(\"0.8\",str(align))\n",
    "    overwrite = {\"weights\":weights, \"train_triplets\":train_triplets,\"valid_triplets\":valid_triplets,\n",
    "    \"test_triplets\":test_triplets,\"wandb_group\":wandb_group}\n",
    "    oc.save(oc.merge(base,overwrite), f\"models/configs/wv_3d/align_triplets/align={align}.yaml\")"
   ]
  },
  {
   "cell_type": "code",
   "execution_count": 86,
   "metadata": {},
   "outputs": [],
   "source": [
    "yaml_dir = \"models/configs/wv_3d/filtered_triplets\"\n",
    "base_filtered = oc.load(f\"{yaml_dir}/align=0.8_filtered.yaml\")"
   ]
  },
  {
   "cell_type": "code",
   "execution_count": 87,
   "metadata": {},
   "outputs": [],
   "source": [
    "for w2,align in zip(w2s, aligns):\n",
    "    weights = [1,w2,1,1] \n",
    "    train_triplets = base_filtered.train_triplets.replace(\"0.8\",str(align))\n",
    "    valid_triplets = base_filtered.valid_triplets.replace(\"0.8\",str(align))\n",
    "    test_triplets = base_filtered.test_triplets.replace(\"0.8\",str(align))\n",
    "    wandb_group = base_filtered.wandb_group.replace(\"0.8\",str(align))\n",
    "    overwrite = {\"weights\":weights, \"train_triplets\":train_triplets,\"valid_triplets\":valid_triplets,\n",
    "    \"test_triplets\":test_triplets,\"wandb_group\":wandb_group}\n",
    "    oc.save(oc.merge(base_filtered,overwrite), f\"models/configs/wv_3d/filtered_triplets/align={align}_filtered.yaml\")"
   ]
  },
  {
   "cell_type": "code",
   "execution_count": 98,
   "metadata": {},
   "outputs": [],
   "source": [
    "yaml_dir = \"models/configs/wv_3d/noisy_triplets\"\n",
    "base_noisy = oc.load(f\"{yaml_dir}/noise=0.1.yaml\")"
   ]
  },
  {
   "cell_type": "code",
   "execution_count": 99,
   "metadata": {},
   "outputs": [],
   "source": [
    "for p in [0.1, 0.05,0.2, 0.3, 0.4, 0.5]:\n",
    "    train_triplets = base_noisy.train_triplets.replace(\"0.1\",str(p))\n",
    "    valid_triplets = base_noisy.valid_triplets.replace(\"0.1\",str(p))\n",
    "    test_triplets = base_noisy.test_triplets.replace(\"0.1\",str(p))\n",
    "    wandb_group = base_noisy.wandb_group.replace(\"0.1\",str(p))\n",
    "    overwrite = {\"train_triplets\":train_triplets,\"valid_triplets\":valid_triplets,\n",
    "    \"test_triplets\":test_triplets,\"wandb_group\":wandb_group}\n",
    "    oc.save(oc.merge(base_noisy,overwrite), f\"models/configs/wv_3d/noisy_triplets/noise={p}.yaml\")"
   ]
  },
  {
   "cell_type": "markdown",
   "metadata": {},
   "source": [
    "## cross validation"
   ]
  },
  {
   "cell_type": "code",
   "execution_count": null,
   "metadata": {},
   "outputs": [],
   "source": [
    "c1, c2, c3, c4 = np.arange(1583), np.arange(1583,3166), np.arange(600,900), np.arange(900,1200)\n",
    "splits = utils.cross_val_multiclass([c1,c2], 10)"
   ]
  },
  {
   "cell_type": "code",
   "execution_count": null,
   "metadata": {},
   "outputs": [],
   "source": [
    "c1 = np.arange(1583)\n",
    "valid_test = np.random.choice(c1, 300,replace=False)\n",
    "c1_valid = np.random.choice(valid_test, 150, replace=False)\n",
    "c1_test = np.setdiff1d(valid_test, c1_valid)\n",
    "c1_train = np.setdiff1d(c1, valid_test)"
   ]
  },
  {
   "cell_type": "code",
   "execution_count": null,
   "metadata": {},
   "outputs": [],
   "source": [
    "c2 = np.arange(1583,5856)\n",
    "valid_test = np.random.choice(c2, 300,replace=False)\n",
    "c2_valid = np.random.choice(valid_test, 150, replace=False)\n",
    "c2_test = np.setdiff1d(valid_test, c2_valid)\n",
    "c2_train = np.setdiff1d(c2, valid_test)"
   ]
  },
  {
   "cell_type": "code",
   "execution_count": null,
   "metadata": {},
   "outputs": [],
   "source": [
    "pickle.dump(splits,open(\"models/pneumonia_splits_imb.pkl\",\"wb\"))"
   ]
  },
  {
   "cell_type": "code",
   "execution_count": null,
   "metadata": {},
   "outputs": [],
   "source": [
    "src_dir = \"/net/scratch/tianh-shared/warblers/inat/4class\"\n",
    "dst_dir = \"/net/scratch/tianh-shared/warblers/data\"\n",
    "split5 = pickle.load(open(\"models/bird_splits.pkl\",\"rb\"))[5]"
   ]
  },
  {
   "cell_type": "code",
   "execution_count": null,
   "metadata": {},
   "outputs": [],
   "source": [
    "train, val, test = split5\n",
    "instances = utils.dataset_filenames(src_dir)"
   ]
  },
  {
   "cell_type": "code",
   "execution_count": null,
   "metadata": {},
   "outputs": [],
   "source": [
    "labels = [v[1] for v in instances[train]]\n",
    "unique = set(labels)\n",
    "counts = [labels.count(c) for c in unique]\n",
    "counts"
   ]
  },
  {
   "cell_type": "code",
   "execution_count": null,
   "metadata": {},
   "outputs": [],
   "source": [
    "lambdas = np.arange(0.1, 1, 0.1)\n",
    "clf = [0.875, 0.925, 0.95, 0.975, 0.975, 0.975, 1, 1, 0.975]\n",
    "triplet = [0.897,0.913,0.913,0.855,0.841,0.826,0.841,0.841,0.841]"
   ]
  },
  {
   "cell_type": "code",
   "execution_count": null,
   "metadata": {},
   "outputs": [],
   "source": [
    "lw=4\n",
    "plt.rc('legend', fontsize=15)\n",
    "plt.figure(figsize=(10,6))\n",
    "plt.axhline(1, c='black',linewidth=lw, label=\"ResNET clf acc\")\n",
    "plt.plot(lambdas, clf,linewidth=lw, label=\"MTL clf acc\")\n",
    "plt.plot(lambdas, triplet,linewidth=lw, label=\"MTL triplet acc\")\n",
    "plt.axhline(0.841, c='green',linewidth=lw, label=\"TN triplet acc\")\n",
    "plt.xlabel('lambda')\n",
    "# plt.title(\"MTL trained on human triplets\")\n",
    "plt.legend(loc='upper right', bbox_to_anchor=(1.1, -0.1),fancybox=True, shadow=True, ncol=4)\n",
    "plt.savefig(\"figs/MTL_lambdas.pdf\", format=\"pdf\", bbox_inches=\"tight\")"
   ]
  },
  {
   "cell_type": "code",
   "execution_count": null,
   "metadata": {},
   "outputs": [],
   "source": [
    "\n",
    "triplets = pickle.load(open(\"/net/scratch/tianh/triplet-webapp/backup/trial0/butterfly.triplets.pkl\",\"rb\"))"
   ]
  },
  {
   "cell_type": "code",
   "execution_count": null,
   "metadata": {},
   "outputs": [],
   "source": [
    "train_idx = pickle.load(open(\"data/bm_train_idx.pkl\", \"rb\"))[1]\n",
    "val_idx  = pickle.load(open(\"data/bm_valid_idx.pkl\", \"rb\"))[1]"
   ]
  },
  {
   "cell_type": "code",
   "execution_count": null,
   "metadata": {},
   "outputs": [],
   "source": [
    "train_triplets = []\n",
    "val_triplets = []\n",
    "for triplet in triplets:\n",
    "    a,p,n = triplet\n",
    "    if a in train_idx.keys() and p in train_idx.keys() and n in train_idx.keys():\n",
    "        new = [train_idx[a], train_idx[p], train_idx[n]]\n",
    "        train_triplets.append(new)\n",
    "    elif a in val_idx.keys() and p in val_idx.keys() and n in val_idx.keys():\n",
    "        new = [val_idx[a], val_idx[p], val_idx[n]]\n",
    "        val_triplets.append(new)"
   ]
  },
  {
   "cell_type": "code",
   "execution_count": null,
   "metadata": {},
   "outputs": [],
   "source": [
    "\n",
    "train_triplets = \"/net/scratch/tianh/explain_teach/data/bm_triplets/3c2_unique=182/train_triplets.pkl\"\n",
    "valid_triplets = \"/net/scratch/tianh/explain_teach/data/bm_triplets/3c2_unique=182/valid_triplets.pkl\"\n",
    "train_triplets = pickle.load(open(train_triplets, \"rb\"))\n",
    "valid_triplets = pickle.load(open(valid_triplets, \"rb\"))"
   ]
  },
  {
   "cell_type": "code",
   "execution_count": null,
   "metadata": {},
   "outputs": [],
   "source": [
    "\n",
    "train_lpips_distance = \"/net/scratch/tianh/explain_teach/embeds/lpips/lpips.bm.train.pkl\"\n",
    "valid_lpips_distance = \"/net/scratch/tianh/explain_teach/embeds/lpips/lpips.bm.valid.pkl\"\n",
    "train_lpips_distance = pickle.load(open(train_lpips_distance, \"rb\"))\n",
    "valid_lpips_distance = pickle.load(open(valid_lpips_distance, \"rb\"))"
   ]
  },
  {
   "cell_type": "code",
   "execution_count": null,
   "metadata": {},
   "outputs": [],
   "source": [
    "correct = 0\n",
    "total = 0\n",
    "for htriplet in train_triplets:\n",
    "    total += 1\n",
    "    a,p,n = htriplet[0], htriplet[1], htriplet[2]\n",
    "    if train_lpips_distance[a, p] < train_lpips_distance[a, n]:\n",
    "        correct += 1\n",
    "correct/total\n"
   ]
  },
  {
   "cell_type": "code",
   "execution_count": null,
   "metadata": {},
   "outputs": [],
   "source": [
    "correct = 0\n",
    "total = 0\n",
    "for htriplet in valid_triplets:\n",
    "    total += 1\n",
    "    a,p,n = htriplet[0], htriplet[1], htriplet[2]\n",
    "    if valid_lpips_distance[a, p] < valid_lpips_distance[a, n]:\n",
    "        correct += 1\n",
    "correct/total\n"
   ]
  },
  {
   "cell_type": "code",
   "execution_count": null,
   "metadata": {},
   "outputs": [],
   "source": [
    "# train_pairwise_distance= \"embeds/lpips.bm.train.pkl\" \n",
    "# valid_pairwise_distance= \"embeds/lpips.bm.valid.pkl\" \n",
    "# train_pairwise_distance = pickle.load(open(train_pairwise_distance, \"rb\"))\n",
    "# valid_pairwise_distance = pickle.load(open(valid_pairwise_distance, \"rb\"))\n",
    "\n",
    "train_triplets = \"/net/scratch/tianh/explain_teach/data/bm_triplets/train_triplets.pkl\"\n",
    "valid_triplets = \"/net/scratch/tianh/explain_teach/data/bm_triplets/valid_triplets.pkl\"\n",
    "train_triplets = pickle.load(open(train_triplets, \"rb\"))\n",
    "valid_triplets = pickle.load(open(valid_triplets, \"rb\"))"
   ]
  },
  {
   "cell_type": "code",
   "execution_count": null,
   "metadata": {},
   "outputs": [],
   "source": [
    "train = pickle.load(open(\"embeds/TN_bm_train.pkl\",\"rb\"))\n",
    "valid = pickle.load(open(\"embeds/TN_bm_valid.pkl\",\"rb\"))\n",
    "triplets = pickle.load(open(\"data/bm_triplets/val2train_triplets.pkl\",\"rb\"))"
   ]
  },
  {
   "cell_type": "code",
   "execution_count": null,
   "metadata": {},
   "outputs": [],
   "source": [
    "acc = evals.val2train_triplet_acc(train, valid, triplets)\n",
    "acc"
   ]
  },
  {
   "cell_type": "code",
   "execution_count": null,
   "metadata": {},
   "outputs": [],
   "source": [
    "acc = evals.triplet_acc(train, train_triplets)\n",
    "acc"
   ]
  },
  {
   "cell_type": "code",
   "execution_count": null,
   "metadata": {},
   "outputs": [],
   "source": [
    "acc = evals.triplet_acc(valid, valid_triplets)\n",
    "acc"
   ]
  },
  {
   "cell_type": "code",
   "execution_count": null,
   "metadata": {},
   "outputs": [],
   "source": [
    "\n",
    "train_triplets = \"/net/scratch/tianh/bm/triplets/train_triplets.pkl\"\n",
    "valid_triplets = \"/net/scratch/tianh/bm/triplets/valid_triplets.pkl\"\n",
    "# clf_train_triplets = \"/net/scratch/tianh/bm/triplets/clf_train_triplets.pkl\"\n",
    "# clf_valid_triplets = \"/net/scratch/tianh/bm/triplets/clf_valid_triplets.pkl\"\n",
    "\n",
    "train_triplets = pickle.load(open(train_triplets, \"rb\"))"
   ]
  },
  {
   "cell_type": "code",
   "execution_count": null,
   "metadata": {},
   "outputs": [],
   "source": [
    "\n",
    "train_dir = \"/net/scratch/hanliu-shared/data/bm/train\"\n",
    "valid_dir = \"/net/scratch/hanliu-shared/data/bm/valid\"\n",
    "train_dataset = torchvision.datasets.ImageFolder(train_dir, transform=utils.bm_transform())\n",
    "valid_dataset = torchvision.datasets.ImageFolder(valid_dir, transform=utils.bm_transform())\n",
    "train_inputs = torch.tensor(np.array([data[0].numpy() for data in train_dataset]))\n",
    "valid_inputs = torch.tensor(np.array([data[0].numpy() for data in valid_dataset]))\n",
    "train_labels = torch.tensor(np.array([data[1] for data in train_dataset]))\n",
    "valid_labels = torch.tensor(np.array([data[1] for data in valid_dataset]))"
   ]
  },
  {
   "cell_type": "code",
   "execution_count": null,
   "metadata": {},
   "outputs": [],
   "source": [
    "np.where(train_labels==0)"
   ]
  },
  {
   "cell_type": "code",
   "execution_count": null,
   "metadata": {},
   "outputs": [],
   "source": [
    "a = pickle.load(open(\"/net/scratch/tianh/bm/triplets/clf_train_triplets.pkl\",\"rb\"))"
   ]
  },
  {
   "cell_type": "code",
   "execution_count": null,
   "metadata": {},
   "outputs": [],
   "source": [
    "idx = np.random.choice(len(combs), 32, replace=False)\n",
    "sample = combs[idx]\n",
    "len(np.unique(sample.flatten()))"
   ]
  },
  {
   "cell_type": "code",
   "execution_count": null,
   "metadata": {},
   "outputs": [],
   "source": [
    "import torch\n",
    "a = torch.tensor(sample)"
   ]
  },
  {
   "cell_type": "code",
   "execution_count": null,
   "metadata": {},
   "outputs": [],
   "source": [
    "torch.unique(torch.flatten(a))"
   ]
  },
  {
   "cell_type": "code",
   "execution_count": null,
   "metadata": {},
   "outputs": [],
   "source": [
    "triplet_idx = []\n",
    "for c in combs:\n",
    "    x1, x2, x3 = c[0], c[1], c[2]\n",
    "    if train_pairwise_distance[x1, x2] > train_pairwise_distance[x1, x3]:\n",
    "        triplet_idx.append([x1, x3, x2])\n",
    "    else:\n",
    "        triplet_idx.append([x1, x2, x3])"
   ]
  },
  {
   "cell_type": "code",
   "execution_count": null,
   "metadata": {},
   "outputs": [],
   "source": [
    "pickle.dump(np.array(triplet_idx), open('/net/scratch/tianh/bm/triplets/train_triplets.pkl',\"wb\"))"
   ]
  },
  {
   "cell_type": "code",
   "execution_count": null,
   "metadata": {},
   "outputs": [],
   "source": [
    "a = pickle.load(open('/net/scratch/tianh/bm/triplets/train_triplets.pkl',\"rb\"))\n",
    "a.shape"
   ]
  },
  {
   "cell_type": "code",
   "execution_count": null,
   "metadata": {},
   "outputs": [],
   "source": [
    "np.array(triplet_idx).shape"
   ]
  },
  {
   "cell_type": "code",
   "execution_count": null,
   "metadata": {},
   "outputs": [],
   "source": [
    "food100 = []\n",
    "with open('/net/scratch/tianh/food100-dataset/all-triplets.csv', newline='') as csvfile:\n",
    "    spamreader = csv.reader(csvfile, delimiter=' ', quotechar='|')\n",
    "    for row in spamreader:\n",
    "        food100.append(row)"
   ]
  },
  {
   "cell_type": "code",
   "execution_count": null,
   "metadata": {},
   "outputs": [],
   "source": [
    "\n",
    "transform = transforms.Compose([\n",
    "    transforms.Resize([230,230]),\n",
    "    transforms.CenterCrop(224),\n",
    "    transforms.ToTensor(),\n",
    "    transforms.Normalize([0.485, 0.456, 0.406], [0.229, 0.224, 0.225])\n",
    "])\n",
    "data_dir = '/net/scratch/tianh/food100-dataset/images'\n",
    "dataset = torchvision.datasets.ImageFolder(data_dir, transform=transform)\n",
    "total_idx = np.arange(len(dataset))"
   ]
  },
  {
   "cell_type": "code",
   "execution_count": null,
   "metadata": {},
   "outputs": [],
   "source": [
    "train_img_idx = np.random.choice(total_idx, int(len(total_idx)*0.615), replace=False)\n",
    "valid_img_idx = np.setdiff1d(total_idx, train_img_idx)\n",
    "\n",
    "train_data = torch.tensor(np.array([dataset[i][0].numpy() for i in train_img_idx]))\n",
    "valid_data = torch.tensor(np.array([dataset[i][0].numpy() for i in valid_img_idx]))\n",
    "train_label = torch.tensor(np.array([dataset[i][1] for i in train_img_idx]))\n",
    "valid_label = torch.tensor(np.array([dataset[i][1] for i in valid_img_idx]))\n",
    "\n",
    "valid_triplets = []\n",
    "for t in triplets:\n",
    "    if t[0] in valid_label and t[1] in valid_label and t[2] in valid_label:\n",
    "        valid_triplets.append(t)\n",
    "train_triplets = []\n",
    "for t in triplets:\n",
    "    if t[0] in train_label and t[1] in train_label and t[2] in train_label:\n",
    "        train_triplets.append(t)\n",
    "len(train_triplets), len(valid_triplets)"
   ]
  },
  {
   "cell_type": "code",
   "execution_count": null,
   "metadata": {},
   "outputs": [],
   "source": [
    "41685/11018"
   ]
  },
  {
   "cell_type": "code",
   "execution_count": null,
   "metadata": {},
   "outputs": [],
   "source": [
    "len(triplets)*0.2"
   ]
  },
  {
   "cell_type": "code",
   "execution_count": null,
   "metadata": {},
   "outputs": [],
   "source": [
    "triplets = pickle.load(open(\"/net/scratch/tianh/food100-dataset/triplets_idx.pkl\", \"rb\"))"
   ]
  },
  {
   "cell_type": "code",
   "execution_count": null,
   "metadata": {},
   "outputs": [],
   "source": [
    "train_triplets"
   ]
  },
  {
   "cell_type": "code",
   "execution_count": null,
   "metadata": {},
   "outputs": [],
   "source": [
    "total_idx = np.arange(100)\n",
    "train_idx = np.random.choice(total_idx, len(total_idx)*8//10, replace=False)\n",
    "valid_idx = np.setdiff1d(total_idx, train_idx)\n",
    "train_triplets = 0\n",
    "valid_triplets = 0\n",
    "for t in triplets:\n",
    "    if t[0] in train_idx:\n",
    "        train_triplets += 1\n",
    "    else:\n",
    "        valid_triplets += 1\n",
    "train_triplets/len(triplets), valid_triplets/len(triplets)"
   ]
  },
  {
   "cell_type": "code",
   "execution_count": null,
   "metadata": {},
   "outputs": [],
   "source": [
    "path = \"/net/scratch/tianh/food100-dataset/images\"\n",
    "dir_list = os.listdir(path)\n",
    "dir_list"
   ]
  },
  {
   "cell_type": "code",
   "execution_count": null,
   "metadata": {},
   "outputs": [],
   "source": [
    "import shutil\n",
    "for image in dir_list:\n",
    "    image_dir = os.path.join(path, image[:-4]) \n",
    "    if not os.path.exists(image_dir):\n",
    "        os.mkdir(image_dir) \n",
    "        shutil.copy(os.path.join(path,image),image_dir)"
   ]
  }
 ],
 "metadata": {
  "interpreter": {
   "hash": "2c73f886271c839d0ba877ba8b97f5003c6c6417a734903c0face75895daee34"
  },
  "kernelspec": {
   "display_name": "Python 3.7.11 ('han')",
   "language": "python",
   "name": "python3"
  },
  "language_info": {
   "codemirror_mode": {
    "name": "ipython",
    "version": 3
   },
   "file_extension": ".py",
   "mimetype": "text/x-python",
   "name": "python",
   "nbconvert_exporter": "python",
   "pygments_lexer": "ipython3",
   "version": "3.7.11"
  },
  "orig_nbformat": 4,
  "vscode": {
   "interpreter": {
    "hash": "2c73f886271c839d0ba877ba8b97f5003c6c6417a734903c0face75895daee34"
   }
  }
 },
 "nbformat": 4,
 "nbformat_minor": 2
}
