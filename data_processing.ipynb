{
 "cells": [
  {
   "cell_type": "code",
   "execution_count": 1,
   "metadata": {},
   "outputs": [],
   "source": [
    "%load_ext autoreload\n",
    "%autoreload 2\n",
    "import os, pickle, csv, itertools, shutil, random\n",
    "import numpy as np\n",
    "import matplotlib.pyplot as plt\n",
    "import pandas as pd\n",
    "import torchvision, torch\n",
    "from torchvision import transforms\n",
    "from omegaconf import OmegaConf as oc\n",
    "\n",
    "%matplotlib inline\n",
    "%config InlineBackend.figure_format='retina'\n",
    "\n",
    "import utils.utils as utils\n",
    "import evals.embed_evals as evals\n",
    "import utils.plot_data as plot\n",
    "import utils.gen_triplets as gen\n",
    "import warnings\n",
    "warnings.filterwarnings(\"ignore\")"
   ]
  },
  {
   "cell_type": "code",
   "execution_count": 2,
   "metadata": {},
   "outputs": [],
   "source": [
    "train_embeds = pickle.load(open(\"datasets/wv_3d/train_features.pkl\",\"rb\"))\n",
    "test_embeds = pickle.load(open(\"datasets/wv_3d/test_features.pkl\",\"rb\"))\n",
    "y_train = np.array([x[1] for x in torchvision.datasets.ImageFolder(\"datasets/wv_3d/train\")])\n",
    "y_test = np.array([x[1] for x in torchvision.datasets.ImageFolder(\"datasets/wv_3d/test\")])"
   ]
  },
  {
   "cell_type": "code",
   "execution_count": 5,
   "metadata": {},
   "outputs": [],
   "source": [
    "RESN_embed_dir = \"embeds/old/wv_3d/RESN_d=50\"\n",
    "seeds = 1\n",
    "RESN_train = [pickle.load(open(f\"{RESN_embed_dir}/RESN_train_seed{seed}.pkl\",\"rb\")) for seed in range(seeds)]\n",
    "RESN_test = [pickle.load(open(f\"{RESN_embed_dir}/RESN_test_seed{seed}.pkl\",\"rb\")) for seed in range(seeds)]\n",
    "z_train = RESN_train[0]\n",
    "z_test = RESN_test[0]"
   ]
  },
  {
   "cell_type": "code",
   "execution_count": 16,
   "metadata": {},
   "outputs": [
    {
     "data": {
      "text/plain": [
       "0.7475"
      ]
     },
     "execution_count": 16,
     "metadata": {},
     "output_type": "execute_result"
    }
   ],
   "source": [
    "train_embeds = pickle.load(open(\"datasets/wv_3d/train_features.pkl\",\"rb\"))\n",
    "test_embeds = pickle.load(open(\"datasets/wv_3d/test_features.pkl\",\"rb\"))\n",
    "syn_evals = evals.syn_evals(z_train, y_train, z_test, y_test, train_embeds, test_embeds, [1,1,1,1], None, k=1)\n",
    "syn_evals[\"NIFO_ds_acc\"]"
   ]
  },
  {
   "cell_type": "code",
   "execution_count": 14,
   "metadata": {},
   "outputs": [],
   "source": [
    "train_embeds = pickle.load(open(\"datasets/wv_3d/train.pkl\",\"rb\"))\n",
    "test_embeds = pickle.load(open(\"datasets/wv_3d/test.pkl\",\"rb\"))"
   ]
  },
  {
   "cell_type": "code",
   "execution_count": 15,
   "metadata": {},
   "outputs": [
    {
     "data": {
      "text/plain": [
       "0.4825"
      ]
     },
     "execution_count": 15,
     "metadata": {},
     "output_type": "execute_result"
    }
   ],
   "source": [
    "syn_evals = evals.syn_evals(z_train, y_train, z_test, y_test, train_embeds, test_embeds, [1,1,1,1], None, k=1)\n",
    "syn_evals[\"NIFO_ds_acc\"]"
   ]
  },
  {
   "cell_type": "code",
   "execution_count": 13,
   "metadata": {},
   "outputs": [
    {
     "data": {
      "text/plain": [
       "array([0.46733668, 0.46984925, 0.47236181, 0.47487437, 0.48492462,\n",
       "       0.48743719, 0.49246231, 0.49497487, 0.49748744, 0.50251256,\n",
       "       0.50502513, 0.60301508, 0.60552764, 0.6080402 , 0.61055276,\n",
       "       0.61306533, 0.61557789, 0.61809045, 0.62060302, 0.62311558,\n",
       "       0.62562814, 0.6281407 , 0.63065327, 0.63316583, 0.63567839,\n",
       "       0.63819095, 0.64070352, 0.64321608, 0.64572864, 0.64824121,\n",
       "       0.65075377, 0.65326633, 0.65577889, 0.65829146, 0.66080402,\n",
       "       0.66331658, 0.66582915, 0.66834171, 0.67085427, 0.67336683,\n",
       "       0.6758794 , 0.67839196, 0.68090452, 0.68341709, 0.68592965,\n",
       "       0.68844221, 0.69095477, 0.69346734, 0.6959799 , 0.69849246,\n",
       "       0.70100503, 0.70351759, 0.70603015, 0.70854271, 0.71105528,\n",
       "       0.71356784, 0.7160804 , 0.71859296, 0.72110553, 0.72361809,\n",
       "       0.72613065, 0.72864322, 0.73115578, 0.73366834, 0.7361809 ,\n",
       "       0.73869347, 0.74371859, 0.74623116, 0.79899497, 0.82160804,\n",
       "       0.8241206 , 0.82663317, 0.82914573, 0.83165829, 0.83417085,\n",
       "       0.83668342, 0.83919598, 0.84170854, 0.84422111, 0.84673367,\n",
       "       0.84924623, 0.85175879, 0.85427136, 0.85678392, 0.85929648,\n",
       "       0.86180905, 0.86432161, 0.86683417, 0.86934673, 0.8718593 ,\n",
       "       0.87437186, 0.87688442, 0.87939698, 0.88190955, 0.88442211,\n",
       "       0.88693467, 0.88944724, 0.8919598 , 0.89447236, 0.89698492,\n",
       "       0.89949749, 0.90201005, 0.90452261, 0.90703518, 0.90954774,\n",
       "       0.9120603 , 0.91457286, 0.91708543, 0.91959799, 0.92211055,\n",
       "       0.92462312, 0.92713568, 0.92964824, 0.9321608 , 0.93467337,\n",
       "       0.93718593, 0.93969849, 0.94221106, 0.94472362, 0.94723618,\n",
       "       0.94974874, 0.95226131, 0.95477387, 0.95728643, 0.95979899,\n",
       "       0.96231156, 0.96482412, 0.96733668, 0.96984925, 0.97236181,\n",
       "       0.97487437, 0.97738693, 0.9798995 , 0.98241206, 0.98492462,\n",
       "       0.98743719, 0.98994975, 0.99246231, 0.99497487])"
      ]
     },
     "execution_count": 13,
     "metadata": {},
     "output_type": "execute_result"
    }
   ],
   "source": [
    "np.unique(df[\"aligns\"])"
   ]
  },
  {
   "cell_type": "code",
   "execution_count": 24,
   "metadata": {},
   "outputs": [
    {
     "data": {
      "text/plain": [
       "0.985"
      ]
     },
     "execution_count": 24,
     "metadata": {},
     "output_type": "execute_result"
    }
   ],
   "source": [
    "evals.distorted_1nn(train_embeds, y_train, test_embeds, y_test, [1,1,0,0])"
   ]
  },
  {
   "cell_type": "code",
   "execution_count": 9,
   "metadata": {},
   "outputs": [
    {
     "data": {
      "text/plain": [
       "0.54"
      ]
     },
     "execution_count": 9,
     "metadata": {},
     "output_type": "execute_result"
    }
   ],
   "source": [
    "evals.distorted_1nn(train_embeds, y_train, test_embeds, y_test, [0,256,1,1])\n"
   ]
  },
  {
   "cell_type": "code",
   "execution_count": 25,
   "metadata": {},
   "outputs": [
    {
     "data": {
      "text/plain": [
       "0.84"
      ]
     },
     "execution_count": 25,
     "metadata": {},
     "output_type": "execute_result"
    }
   ],
   "source": [
    "evals.distorted_1nn(train_embeds, y_train, test_embeds, y_test, [1,0,1,1])"
   ]
  },
  {
   "cell_type": "code",
   "execution_count": 22,
   "metadata": {},
   "outputs": [
    {
     "data": {
      "text/plain": [
       "0.92"
      ]
     },
     "execution_count": 22,
     "metadata": {},
     "output_type": "execute_result"
    }
   ],
   "source": [
    "evals.distorted_1nn(train_embeds, y_train, test_embeds, y_test, [1,256,256,256])"
   ]
  },
  {
   "cell_type": "code",
   "execution_count": 21,
   "metadata": {},
   "outputs": [
    {
     "data": {
      "text/plain": [
       "0.5625"
      ]
     },
     "execution_count": 21,
     "metadata": {},
     "output_type": "execute_result"
    }
   ],
   "source": [
    "evals.distorted_1nn(train_embeds, y_train, test_embeds, y_test, [0,1,1,1])\n"
   ]
  }
 ],
 "metadata": {
  "interpreter": {
   "hash": "2c73f886271c839d0ba877ba8b97f5003c6c6417a734903c0face75895daee34"
  },
  "kernelspec": {
   "display_name": "Python 3.7.11 ('han')",
   "language": "python",
   "name": "python3"
  },
  "language_info": {
   "codemirror_mode": {
    "name": "ipython",
    "version": 3
   },
   "file_extension": ".py",
   "mimetype": "text/x-python",
   "name": "python",
   "nbconvert_exporter": "python",
   "pygments_lexer": "ipython3",
   "version": "3.7.11"
  },
  "orig_nbformat": 4,
  "vscode": {
   "interpreter": {
    "hash": "2c73f886271c839d0ba877ba8b97f5003c6c6417a734903c0face75895daee34"
   }
  }
 },
 "nbformat": 4,
 "nbformat_minor": 2
}
