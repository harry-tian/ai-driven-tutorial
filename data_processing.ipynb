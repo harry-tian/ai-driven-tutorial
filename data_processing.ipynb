{
 "cells": [
  {
   "cell_type": "code",
   "execution_count": 137,
   "metadata": {},
   "outputs": [
    {
     "name": "stdout",
     "output_type": "stream",
     "text": [
      "The autoreload extension is already loaded. To reload it, use:\n",
      "  %reload_ext autoreload\n"
     ]
    }
   ],
   "source": [
    "%load_ext autoreload\n",
    "%autoreload 2\n",
    "import os, pickle, csv, itertools, shutil, random\n",
    "import numpy as np\n",
    "import seaborn as sns\n",
    "import matplotlib.pyplot as plt\n",
    "import pandas as pd\n",
    "import torchvision, torch\n",
    "from torchvision import transforms\n",
    "from omegaconf import OmegaConf as oc\n",
    "\n",
    "# %matplotlib inline\n",
    "# %config InlineBackend.figure_format='retina'\n",
    "\n",
    "import utils.utils as utils\n",
    "import evals.embed_evals as evals\n",
    "import utils.plot_data as plot\n",
    "import utils.gen_triplets as gen\n",
    "def normalize(data):return (data-np.min(data)) / (np.max(data)-np.min(data))\n",
    "import warnings\n",
    "warnings.filterwarnings(\"ignore\")\n",
    "from scipy import stats\n",
    "def get_ci(samples, confidence=0.95): return 2 * stats.sem(samples) * stats.t.ppf((1 + confidence) / 2., len(samples)-1)\n"
   ]
  },
  {
   "cell_type": "code",
   "execution_count": 162,
   "metadata": {},
   "outputs": [],
   "source": [
    "df = utils.get_wandb_runs(\"wv_3d_linear_noisy\")\n",
    "eval_cols = ['NINO_ds_acc',  'NIFO_ds_acc', 'NI_h2h', 'NO_h2h', 'test_triplet_acc','test_clf_acc', 'test_1nn_acc', 'rNINO_ds_acc',]\n",
    "config_cols = [\"model\",\"seed\", \"weights\", \"filtered\", \"embed_dim\", \"lamda\", \"wandb_group\", \"wandb_project\"]\n",
    "df = utils.strip_df(df, eval_cols, config_cols)"
   ]
  },
  {
   "cell_type": "markdown",
   "metadata": {},
   "source": [
    "## aligns"
   ]
  },
  {
   "cell_type": "code",
   "execution_count": 160,
   "metadata": {},
   "outputs": [],
   "source": [
    "df[\"align\"] = [float(x.split(\"=\")[-1]) for x in df[\"wandb_group\"]]"
   ]
  },
  {
   "cell_type": "markdown",
   "metadata": {},
   "source": [
    "## noisy"
   ]
  },
  {
   "cell_type": "code",
   "execution_count": 168,
   "metadata": {},
   "outputs": [],
   "source": [
    "df[\"align\"] = [float(x[6:10]) for x in df[\"wandb_group\"]]\n",
    "df[\"noise\"] = [float(x.split(\"=\")[-1]) for x in df[\"wandb_group\"]]"
   ]
  },
  {
   "cell_type": "code",
   "execution_count": 171,
   "metadata": {},
   "outputs": [],
   "source": [
    "df[df[\"align\"]==0.97].to_csv(\"link/wv_3d_linear/wv_3d_linear_noisy_0.97.csv\")\n",
    "df[df[\"align\"]==0.62].to_csv(\"link/wv_3d_linear/wv_3d_linear_noisy_0.62.csv\")"
   ]
  },
  {
   "cell_type": "markdown",
   "metadata": {},
   "source": [
    "## RESN"
   ]
  },
  {
   "cell_type": "code",
   "execution_count": 184,
   "metadata": {},
   "outputs": [],
   "source": [
    "df = pd.read_csv(\"evals/RESN_evals.csv\")\n",
    "df[\"align\"] = [float(x.split(\"=\")[-1]) for x in df[\"group\"]]\n",
    "df = df.rename({\"group\":\"wandb_group\"},axis=1)\n",
    "df[\"name\"] = [\"RESN\"]*len(df)\n",
    "df[\"model\"] = [\"RESN\"]*len(df)"
   ]
  },
  {
   "cell_type": "code",
   "execution_count": 185,
   "metadata": {},
   "outputs": [],
   "source": [
    "for col in config_cols+eval_cols:\n",
    "    if col not in df.columns: df[col] = [None]*len(df)"
   ]
  },
  {
   "cell_type": "code",
   "execution_count": 186,
   "metadata": {},
   "outputs": [],
   "source": [
    "df.to_csv(\"link/wv_3d_linear/RESN.csv\")"
   ]
  },
  {
   "cell_type": "code",
   "execution_count": 122,
   "metadata": {},
   "outputs": [
    {
     "data": {
      "text/html": [
       "<div>\n",
       "<style scoped>\n",
       "    .dataframe tbody tr th:only-of-type {\n",
       "        vertical-align: middle;\n",
       "    }\n",
       "\n",
       "    .dataframe tbody tr th {\n",
       "        vertical-align: top;\n",
       "    }\n",
       "\n",
       "    .dataframe thead th {\n",
       "        text-align: right;\n",
       "    }\n",
       "</style>\n",
       "<table border=\"1\" class=\"dataframe\">\n",
       "  <thead>\n",
       "    <tr style=\"text-align: right;\">\n",
       "      <th></th>\n",
       "      <th>seed</th>\n",
       "      <th>filtered</th>\n",
       "      <th>embed_dim</th>\n",
       "      <th>lamda</th>\n",
       "      <th>align</th>\n",
       "      <th>NINO_ds_acc</th>\n",
       "      <th>NIFO_ds_acc</th>\n",
       "      <th>NI_h2h</th>\n",
       "      <th>NO_h2h</th>\n",
       "      <th>test_triplet_acc</th>\n",
       "      <th>test_clf_acc</th>\n",
       "      <th>test_1nn_acc</th>\n",
       "      <th>rNINO_ds_acc</th>\n",
       "    </tr>\n",
       "    <tr>\n",
       "      <th>name</th>\n",
       "      <th></th>\n",
       "      <th></th>\n",
       "      <th></th>\n",
       "      <th></th>\n",
       "      <th></th>\n",
       "      <th></th>\n",
       "      <th></th>\n",
       "      <th></th>\n",
       "      <th></th>\n",
       "      <th></th>\n",
       "      <th></th>\n",
       "      <th></th>\n",
       "      <th></th>\n",
       "    </tr>\n",
       "  </thead>\n",
       "  <tbody>\n",
       "    <tr>\n",
       "      <th>MTL0.2</th>\n",
       "      <td>1.0</td>\n",
       "      <td>1.0</td>\n",
       "      <td>512.0</td>\n",
       "      <td>0.2</td>\n",
       "      <td>1.0</td>\n",
       "      <td>0.986600</td>\n",
       "      <td>0.986600</td>\n",
       "      <td>0.862786</td>\n",
       "      <td>0.911083</td>\n",
       "      <td>0.972380</td>\n",
       "      <td>0.986600</td>\n",
       "      <td>0.989112</td>\n",
       "      <td>0.986600</td>\n",
       "    </tr>\n",
       "    <tr>\n",
       "      <th>MTL0.5</th>\n",
       "      <td>1.0</td>\n",
       "      <td>1.0</td>\n",
       "      <td>512.0</td>\n",
       "      <td>0.5</td>\n",
       "      <td>1.0</td>\n",
       "      <td>0.989950</td>\n",
       "      <td>0.979899</td>\n",
       "      <td>0.864740</td>\n",
       "      <td>0.898241</td>\n",
       "      <td>0.975604</td>\n",
       "      <td>0.979899</td>\n",
       "      <td>0.987437</td>\n",
       "      <td>0.985762</td>\n",
       "    </tr>\n",
       "    <tr>\n",
       "      <th>MTL0.8</th>\n",
       "      <td>1.0</td>\n",
       "      <td>1.0</td>\n",
       "      <td>512.0</td>\n",
       "      <td>0.8</td>\n",
       "      <td>1.0</td>\n",
       "      <td>0.989950</td>\n",
       "      <td>0.988275</td>\n",
       "      <td>0.849386</td>\n",
       "      <td>0.922390</td>\n",
       "      <td>0.974276</td>\n",
       "      <td>0.988275</td>\n",
       "      <td>0.989950</td>\n",
       "      <td>0.990787</td>\n",
       "    </tr>\n",
       "    <tr>\n",
       "      <th>TN</th>\n",
       "      <td>1.0</td>\n",
       "      <td>1.0</td>\n",
       "      <td>512.0</td>\n",
       "      <td>0.0</td>\n",
       "      <td>1.0</td>\n",
       "      <td>0.989112</td>\n",
       "      <td>0.991625</td>\n",
       "      <td>0.883305</td>\n",
       "      <td>0.945422</td>\n",
       "      <td>0.971179</td>\n",
       "      <td>0.556114</td>\n",
       "      <td>0.991625</td>\n",
       "      <td>0.989112</td>\n",
       "    </tr>\n",
       "  </tbody>\n",
       "</table>\n",
       "</div>"
      ],
      "text/plain": [
       "        seed  filtered  embed_dim  lamda  align  NINO_ds_acc  NIFO_ds_acc  \\\n",
       "name                                                                        \n",
       "MTL0.2   1.0       1.0      512.0    0.2    1.0     0.986600     0.986600   \n",
       "MTL0.5   1.0       1.0      512.0    0.5    1.0     0.989950     0.979899   \n",
       "MTL0.8   1.0       1.0      512.0    0.8    1.0     0.989950     0.988275   \n",
       "TN       1.0       1.0      512.0    0.0    1.0     0.989112     0.991625   \n",
       "\n",
       "          NI_h2h    NO_h2h  test_triplet_acc  test_clf_acc  test_1nn_acc  \\\n",
       "name                                                                       \n",
       "MTL0.2  0.862786  0.911083          0.972380      0.986600      0.989112   \n",
       "MTL0.5  0.864740  0.898241          0.975604      0.979899      0.987437   \n",
       "MTL0.8  0.849386  0.922390          0.974276      0.988275      0.989950   \n",
       "TN      0.883305  0.945422          0.971179      0.556114      0.991625   \n",
       "\n",
       "        rNINO_ds_acc  \n",
       "name                  \n",
       "MTL0.2      0.986600  \n",
       "MTL0.5      0.985762  \n",
       "MTL0.8      0.990787  \n",
       "TN          0.989112  "
      ]
     },
     "execution_count": 122,
     "metadata": {},
     "output_type": "execute_result"
    }
   ],
   "source": [
    "df[df[\"align\"]==1].groupby([\"name\"]).mean()"
   ]
  },
  {
   "cell_type": "code",
   "execution_count": 134,
   "metadata": {},
   "outputs": [
    {
     "data": {
      "text/html": [
       "<div>\n",
       "<style scoped>\n",
       "    .dataframe tbody tr th:only-of-type {\n",
       "        vertical-align: middle;\n",
       "    }\n",
       "\n",
       "    .dataframe tbody tr th {\n",
       "        vertical-align: top;\n",
       "    }\n",
       "\n",
       "    .dataframe thead th {\n",
       "        text-align: right;\n",
       "    }\n",
       "</style>\n",
       "<table border=\"1\" class=\"dataframe\">\n",
       "  <thead>\n",
       "    <tr style=\"text-align: right;\">\n",
       "      <th></th>\n",
       "      <th>NINO_ds_acc</th>\n",
       "      <th>NIFO_ds_acc</th>\n",
       "      <th>NI_h2h</th>\n",
       "      <th>NO_h2h</th>\n",
       "      <th>test_triplet_acc</th>\n",
       "      <th>test_clf_acc</th>\n",
       "      <th>test_1nn_acc</th>\n",
       "      <th>rNINO_ds_acc</th>\n",
       "    </tr>\n",
       "    <tr>\n",
       "      <th>name</th>\n",
       "      <th></th>\n",
       "      <th></th>\n",
       "      <th></th>\n",
       "      <th></th>\n",
       "      <th></th>\n",
       "      <th></th>\n",
       "      <th></th>\n",
       "      <th></th>\n",
       "    </tr>\n",
       "  </thead>\n",
       "  <tbody>\n",
       "    <tr>\n",
       "      <th>MTL0.2</th>\n",
       "      <td>0.007207</td>\n",
       "      <td>0.025986</td>\n",
       "      <td>0.062288</td>\n",
       "      <td>0.080156</td>\n",
       "      <td>0.030150</td>\n",
       "      <td>0.025986</td>\n",
       "      <td>0.028828</td>\n",
       "      <td>0.031415</td>\n",
       "    </tr>\n",
       "    <tr>\n",
       "      <th>MTL0.5</th>\n",
       "      <td>0.000000</td>\n",
       "      <td>0.033027</td>\n",
       "      <td>0.067449</td>\n",
       "      <td>0.177430</td>\n",
       "      <td>0.016216</td>\n",
       "      <td>0.033027</td>\n",
       "      <td>0.024966</td>\n",
       "      <td>0.031415</td>\n",
       "    </tr>\n",
       "    <tr>\n",
       "      <th>MTL0.8</th>\n",
       "      <td>0.000000</td>\n",
       "      <td>0.014414</td>\n",
       "      <td>0.073302</td>\n",
       "      <td>0.111309</td>\n",
       "      <td>0.010419</td>\n",
       "      <td>0.014414</td>\n",
       "      <td>0.012483</td>\n",
       "      <td>0.007207</td>\n",
       "    </tr>\n",
       "    <tr>\n",
       "      <th>TN</th>\n",
       "      <td>0.031415</td>\n",
       "      <td>0.007207</td>\n",
       "      <td>0.042706</td>\n",
       "      <td>0.048093</td>\n",
       "      <td>0.025330</td>\n",
       "      <td>0.226881</td>\n",
       "      <td>0.007207</td>\n",
       "      <td>0.031415</td>\n",
       "    </tr>\n",
       "  </tbody>\n",
       "</table>\n",
       "</div>"
      ],
      "text/plain": [
       "        NINO_ds_acc  NIFO_ds_acc    NI_h2h    NO_h2h  test_triplet_acc  \\\n",
       "name                                                                     \n",
       "MTL0.2     0.007207     0.025986  0.062288  0.080156          0.030150   \n",
       "MTL0.5     0.000000     0.033027  0.067449  0.177430          0.016216   \n",
       "MTL0.8     0.000000     0.014414  0.073302  0.111309          0.010419   \n",
       "TN         0.031415     0.007207  0.042706  0.048093          0.025330   \n",
       "\n",
       "        test_clf_acc  test_1nn_acc  rNINO_ds_acc  \n",
       "name                                              \n",
       "MTL0.2      0.025986      0.028828      0.031415  \n",
       "MTL0.5      0.033027      0.024966      0.031415  \n",
       "MTL0.8      0.014414      0.012483      0.007207  \n",
       "TN          0.226881      0.007207      0.031415  "
      ]
     },
     "execution_count": 134,
     "metadata": {},
     "output_type": "execute_result"
    }
   ],
   "source": [
    "df[df[\"align\"]==1][[\"name\"]+eval_cols].groupby([\"name\"]).agg(get_ci)"
   ]
  },
  {
   "cell_type": "code",
   "execution_count": 133,
   "metadata": {},
   "outputs": [
    {
     "data": {
      "text/html": [
       "<div>\n",
       "<style scoped>\n",
       "    .dataframe tbody tr th:only-of-type {\n",
       "        vertical-align: middle;\n",
       "    }\n",
       "\n",
       "    .dataframe tbody tr th {\n",
       "        vertical-align: top;\n",
       "    }\n",
       "\n",
       "    .dataframe thead th {\n",
       "        text-align: right;\n",
       "    }\n",
       "</style>\n",
       "<table border=\"1\" class=\"dataframe\">\n",
       "  <thead>\n",
       "    <tr style=\"text-align: right;\">\n",
       "      <th></th>\n",
       "      <th>name</th>\n",
       "      <th>model</th>\n",
       "      <th>seed</th>\n",
       "      <th>weights</th>\n",
       "      <th>filtered</th>\n",
       "      <th>embed_dim</th>\n",
       "      <th>lamda</th>\n",
       "      <th>align</th>\n",
       "      <th>wandb_project</th>\n",
       "      <th>NINO_ds_acc</th>\n",
       "      <th>NIFO_ds_acc</th>\n",
       "      <th>NI_h2h</th>\n",
       "      <th>NO_h2h</th>\n",
       "      <th>test_triplet_acc</th>\n",
       "      <th>test_clf_acc</th>\n",
       "      <th>test_1nn_acc</th>\n",
       "      <th>rNINO_ds_acc</th>\n",
       "    </tr>\n",
       "  </thead>\n",
       "  <tbody>\n",
       "    <tr>\n",
       "      <th>1</th>\n",
       "      <td>MTL0.5</td>\n",
       "      <td>MTL</td>\n",
       "      <td>2</td>\n",
       "      <td>[1, 1, 0, 0]</td>\n",
       "      <td>True</td>\n",
       "      <td>512</td>\n",
       "      <td>0.5</td>\n",
       "      <td>1.0</td>\n",
       "      <td>wv_3d_linear</td>\n",
       "      <td>0.98995</td>\n",
       "      <td>0.972362</td>\n",
       "      <td>0.850084</td>\n",
       "      <td>0.860972</td>\n",
       "      <td>0.976678</td>\n",
       "      <td>0.972362</td>\n",
       "      <td>0.987437</td>\n",
       "      <td>0.979900</td>\n",
       "    </tr>\n",
       "    <tr>\n",
       "      <th>9</th>\n",
       "      <td>MTL0.5</td>\n",
       "      <td>MTL</td>\n",
       "      <td>1</td>\n",
       "      <td>[1, 1, 0, 0]</td>\n",
       "      <td>True</td>\n",
       "      <td>512</td>\n",
       "      <td>0.5</td>\n",
       "      <td>1.0</td>\n",
       "      <td>wv_3d_linear</td>\n",
       "      <td>0.98995</td>\n",
       "      <td>0.984925</td>\n",
       "      <td>0.867253</td>\n",
       "      <td>0.901591</td>\n",
       "      <td>0.971938</td>\n",
       "      <td>0.984925</td>\n",
       "      <td>0.992462</td>\n",
       "      <td>0.984925</td>\n",
       "    </tr>\n",
       "    <tr>\n",
       "      <th>22</th>\n",
       "      <td>MTL0.5</td>\n",
       "      <td>MTL</td>\n",
       "      <td>0</td>\n",
       "      <td>[1, 1, 0, 0]</td>\n",
       "      <td>True</td>\n",
       "      <td>512</td>\n",
       "      <td>0.5</td>\n",
       "      <td>1.0</td>\n",
       "      <td>wv_3d_linear</td>\n",
       "      <td>0.98995</td>\n",
       "      <td>0.982412</td>\n",
       "      <td>0.876884</td>\n",
       "      <td>0.932161</td>\n",
       "      <td>0.978195</td>\n",
       "      <td>0.982412</td>\n",
       "      <td>0.982412</td>\n",
       "      <td>0.992462</td>\n",
       "    </tr>\n",
       "  </tbody>\n",
       "</table>\n",
       "</div>"
      ],
      "text/plain": [
       "      name model  seed       weights  filtered  embed_dim  lamda  align  \\\n",
       "1   MTL0.5   MTL     2  [1, 1, 0, 0]      True        512    0.5    1.0   \n",
       "9   MTL0.5   MTL     1  [1, 1, 0, 0]      True        512    0.5    1.0   \n",
       "22  MTL0.5   MTL     0  [1, 1, 0, 0]      True        512    0.5    1.0   \n",
       "\n",
       "   wandb_project  NINO_ds_acc  NIFO_ds_acc    NI_h2h    NO_h2h  \\\n",
       "1   wv_3d_linear      0.98995     0.972362  0.850084  0.860972   \n",
       "9   wv_3d_linear      0.98995     0.984925  0.867253  0.901591   \n",
       "22  wv_3d_linear      0.98995     0.982412  0.876884  0.932161   \n",
       "\n",
       "    test_triplet_acc  test_clf_acc  test_1nn_acc  rNINO_ds_acc  \n",
       "1           0.976678      0.972362      0.987437      0.979900  \n",
       "9           0.971938      0.984925      0.992462      0.984925  \n",
       "22          0.978195      0.982412      0.982412      0.992462  "
      ]
     },
     "execution_count": 133,
     "metadata": {},
     "output_type": "execute_result"
    }
   ],
   "source": [
    "df[(df[\"align\"]==1) & (df[\"name\"]==\"MTL0.5\")]"
   ]
  },
  {
   "cell_type": "code",
   "execution_count": 43,
   "metadata": {},
   "outputs": [],
   "source": [
    "cis = []\n",
    "for align in [\"0.5\",\"0.8\",\"0.83\",\"0.92\",\"0.925\",\"1\"]:\n",
    "    data = df[df[\"group\"]==f\"align={align}\"][\"NIFO_ds_acc_k=1\"]\n",
    "    cis.append(np.around(get_ci(data),3))"
   ]
  },
  {
   "cell_type": "code",
   "execution_count": 112,
   "metadata": {},
   "outputs": [],
   "source": [
    "df = pd.read_csv(\"link/wv_3d_square/wv_3d_square_num_512.csv\")\n",
    "MTL = df[df[\"wandb_name\"]==\"MTL0.5\"]"
   ]
  },
  {
   "cell_type": "code",
   "execution_count": 113,
   "metadata": {},
   "outputs": [],
   "source": [
    "# unfiltered_MTL = TN[[\"filtered\" not in x for x in TN[\"wandb_group\"]]]\n",
    "MTL = MTL[[\"0.925\" in x for x in MTL[\"wandb_group\"]]]"
   ]
  },
  {
   "cell_type": "code",
   "execution_count": 118,
   "metadata": {},
   "outputs": [],
   "source": [
    "cis = []\n",
    "for align in [0.5,0.25,0.125,0.0625,0.03125,0.015625,0.0078125]:\n",
    "    data = MTL[MTL[\"wandb_group\"]==f\"align=0.925_p={align}\"][\"h2h_512\"]\n",
    "    cis.append(np.around(get_ci(data)/2,3))"
   ]
  },
  {
   "cell_type": "code",
   "execution_count": 119,
   "metadata": {},
   "outputs": [
    {
     "data": {
      "text/plain": [
       "[0.006, 0.02, 0.043, 0.016, 0.034, 0.006, 0.045]"
      ]
     },
     "execution_count": 119,
     "metadata": {},
     "output_type": "execute_result"
    }
   ],
   "source": [
    "cis"
   ]
  },
  {
   "cell_type": "code",
   "execution_count": 2,
   "metadata": {},
   "outputs": [],
   "source": [
    "train_embeds = pickle.load(open(\"datasets/wv_3d_linear/train_features.pkl\",\"rb\"))\n",
    "test_embeds = pickle.load(open(\"datasets/wv_3d_linear/test_features.pkl\",\"rb\"))\n",
    "y_train = np.array([x[1] for x in torchvision.datasets.ImageFolder(\"datasets/wv_3d_linear/train\")])\n",
    "y_test = np.array([x[1] for x in torchvision.datasets.ImageFolder(\"datasets/wv_3d_linear/test\")])"
   ]
  },
  {
   "cell_type": "code",
   "execution_count": 3,
   "metadata": {},
   "outputs": [],
   "source": [
    "\n",
    "total_weights = np.array(list(itertools.product([0]+[10**i for i in range(7)],repeat=2)))\n",
    "\n",
    "\n",
    "total_weights = np.hstack([total_weights,np.zeros_like(total_weights)])\n",
    "\n"
   ]
  },
  {
   "cell_type": "code",
   "execution_count": 4,
   "metadata": {},
   "outputs": [],
   "source": [
    "w_list = total_weights\n",
    "aligns = []\n",
    "for weights in w_list: aligns.append(evals.distorted_1nn(train_embeds, y_train, test_embeds, y_test, weights))"
   ]
  },
  {
   "cell_type": "code",
   "execution_count": 5,
   "metadata": {},
   "outputs": [
    {
     "data": {
      "text/plain": [
       "(array([ 1.,  0.,  7.,  7.,  2.,  0.,  4.,  0.,  6., 37.]),\n",
       " array([0.50251256, 0.55175879, 0.60100503, 0.65025126, 0.69949749,\n",
       "        0.74874372, 0.79798995, 0.84723618, 0.89648241, 0.94572864,\n",
       "        0.99497487]),\n",
       " <BarContainer object of 10 artists>)"
      ]
     },
     "execution_count": 5,
     "metadata": {},
     "output_type": "execute_result"
    },
    {
     "data": {
      "image/png": "[encoded data removed]",
      "text/plain": [
       "<Figure size 432x288 with 1 Axes>"
      ]
     },
     "metadata": {
      "needs_background": "light"
     },
     "output_type": "display_data"
    }
   ],
   "source": [
    "plt.hist(aligns)"
   ]
  },
  {
   "cell_type": "code",
   "execution_count": 36,
   "metadata": {},
   "outputs": [
    {
     "data": {
      "text/plain": [
       "array([1000,    1,    0,    0])"
      ]
     },
     "execution_count": 36,
     "metadata": {},
     "output_type": "execute_result"
    }
   ],
   "source": [
    "w_list[33]"
   ]
  },
  {
   "cell_type": "code",
   "execution_count": 27,
   "metadata": {},
   "outputs": [
    {
     "data": {
      "text/plain": [
       "0.8391959798994975"
      ]
     },
     "execution_count": 27,
     "metadata": {},
     "output_type": "execute_result"
    }
   ],
   "source": [
    "evals.distorted_1nn(train_embeds, y_train, test_embeds, y_test, [1,0.00001,0,0])"
   ]
  },
  {
   "cell_type": "code",
   "execution_count": 35,
   "metadata": {},
   "outputs": [
    {
     "data": {
      "text/plain": [
       "(array([33, 42, 51, 60]),)"
      ]
     },
     "execution_count": 35,
     "metadata": {},
     "output_type": "execute_result"
    }
   ],
   "source": [
    "np.where(aligns==np.unique(aligns)[-6])"
   ]
  },
  {
   "cell_type": "code",
   "execution_count": 34,
   "metadata": {},
   "outputs": [
    {
     "data": {
      "text/plain": [
       "0.9623115577889447"
      ]
     },
     "execution_count": 34,
     "metadata": {},
     "output_type": "execute_result"
    }
   ],
   "source": [
    "np.unique(aligns)[-6]"
   ]
  },
  {
   "cell_type": "code",
   "execution_count": 24,
   "metadata": {},
   "outputs": [
    {
     "data": {
      "text/plain": [
       "0.985"
      ]
     },
     "execution_count": 24,
     "metadata": {},
     "output_type": "execute_result"
    }
   ],
   "source": [
    "evals.distorted_1nn(train_embeds, y_train, test_embeds, y_test, [1,1,0,0])"
   ]
  },
  {
   "cell_type": "code",
   "execution_count": 9,
   "metadata": {},
   "outputs": [
    {
     "data": {
      "text/plain": [
       "0.54"
      ]
     },
     "execution_count": 9,
     "metadata": {},
     "output_type": "execute_result"
    }
   ],
   "source": [
    "evals.distorted_1nn(train_embeds, y_train, test_embeds, y_test, [0,256,1,1])\n"
   ]
  },
  {
   "cell_type": "code",
   "execution_count": 25,
   "metadata": {},
   "outputs": [
    {
     "data": {
      "text/plain": [
       "0.84"
      ]
     },
     "execution_count": 25,
     "metadata": {},
     "output_type": "execute_result"
    }
   ],
   "source": [
    "evals.distorted_1nn(train_embeds, y_train, test_embeds, y_test, [1,0,1,1])"
   ]
  },
  {
   "cell_type": "code",
   "execution_count": 22,
   "metadata": {},
   "outputs": [
    {
     "data": {
      "text/plain": [
       "0.92"
      ]
     },
     "execution_count": 22,
     "metadata": {},
     "output_type": "execute_result"
    }
   ],
   "source": [
    "evals.distorted_1nn(train_embeds, y_train, test_embeds, y_test, [1,256,256,256])"
   ]
  },
  {
   "cell_type": "code",
   "execution_count": 21,
   "metadata": {},
   "outputs": [
    {
     "data": {
      "text/plain": [
       "0.5625"
      ]
     },
     "execution_count": 21,
     "metadata": {},
     "output_type": "execute_result"
    }
   ],
   "source": [
    "evals.distorted_1nn(train_embeds, y_train, test_embeds, y_test, [0,1,1,1])\n"
   ]
  }
 ],
 "metadata": {
  "interpreter": {
   "hash": "2c73f886271c839d0ba877ba8b97f5003c6c6417a734903c0face75895daee34"
  },
  "kernelspec": {
   "display_name": "Python 3.7.11 ('han')",
   "language": "python",
   "name": "python3"
  },
  "language_info": {
   "codemirror_mode": {
    "name": "ipython",
    "version": 3
   },
   "file_extension": ".py",
   "mimetype": "text/x-python",
   "name": "python",
   "nbconvert_exporter": "python",
   "pygments_lexer": "ipython3",
   "version": "3.7.11"
  },
  "orig_nbformat": 4,
  "vscode": {
   "interpreter": {
    "hash": "2c73f886271c839d0ba877ba8b97f5003c6c6417a734903c0face75895daee34"
   }
  }
 },
 "nbformat": 4,
 "nbformat_minor": 2
}
