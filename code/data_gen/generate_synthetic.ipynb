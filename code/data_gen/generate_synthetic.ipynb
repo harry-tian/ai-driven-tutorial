{
 "cells": [
  {
   "cell_type": "code",
   "execution_count": 1,
   "metadata": {},
   "outputs": [],
   "source": [
    "import os\n",
    "import torchvision\n",
    "import utils\n",
    "import torch\n",
    "import numpy as np\n",
    "import matplotlib.pyplot as plt\n",
    "import random\n",
    "from IPython import display\n",
    "from PIL import Image\n",
    "import pandas as pd\n",
    "import shutil"
   ]
  },
  {
   "cell_type": "markdown",
   "metadata": {},
   "source": [
    "## Prepare dataframe"
   ]
  },
  {
   "cell_type": "code",
   "execution_count": 2,
   "metadata": {},
   "outputs": [
    {
     "data": {
      "text/html": [
       "<div>\n",
       "<style scoped>\n",
       "    .dataframe tbody tr th:only-of-type {\n",
       "        vertical-align: middle;\n",
       "    }\n",
       "\n",
       "    .dataframe tbody tr th {\n",
       "        vertical-align: top;\n",
       "    }\n",
       "\n",
       "    .dataframe thead th {\n",
       "        text-align: right;\n",
       "    }\n",
       "</style>\n",
       "<table border=\"1\" class=\"dataframe\">\n",
       "  <thead>\n",
       "    <tr style=\"text-align: right;\">\n",
       "      <th></th>\n",
       "      <th>label</th>\n",
       "      <th>name</th>\n",
       "      <th>index</th>\n",
       "      <th>3</th>\n",
       "      <th>bodyheadszratio</th>\n",
       "      <th>bodyheadcolordiff</th>\n",
       "      <th>bodysz</th>\n",
       "      <th>bodycolor</th>\n",
       "      <th>bodycolorlighter</th>\n",
       "    </tr>\n",
       "  </thead>\n",
       "  <tbody>\n",
       "    <tr>\n",
       "      <th>0</th>\n",
       "      <td>0</td>\n",
       "      <td>weevil</td>\n",
       "      <td>0</td>\n",
       "      <td>0</td>\n",
       "      <td>0.33</td>\n",
       "      <td>0.15</td>\n",
       "      <td>0.65</td>\n",
       "      <td>0.12</td>\n",
       "      <td>0.0</td>\n",
       "    </tr>\n",
       "    <tr>\n",
       "      <th>1</th>\n",
       "      <td>0</td>\n",
       "      <td>weevil</td>\n",
       "      <td>1</td>\n",
       "      <td>1</td>\n",
       "      <td>0.25</td>\n",
       "      <td>0.05</td>\n",
       "      <td>0.65</td>\n",
       "      <td>0.18</td>\n",
       "      <td>0.0</td>\n",
       "    </tr>\n",
       "    <tr>\n",
       "      <th>2</th>\n",
       "      <td>0</td>\n",
       "      <td>weevil</td>\n",
       "      <td>2</td>\n",
       "      <td>2</td>\n",
       "      <td>0.38</td>\n",
       "      <td>0.14</td>\n",
       "      <td>0.54</td>\n",
       "      <td>0.06</td>\n",
       "      <td>0.0</td>\n",
       "    </tr>\n",
       "    <tr>\n",
       "      <th>3</th>\n",
       "      <td>0</td>\n",
       "      <td>weevil</td>\n",
       "      <td>3</td>\n",
       "      <td>3</td>\n",
       "      <td>0.38</td>\n",
       "      <td>0.22</td>\n",
       "      <td>0.55</td>\n",
       "      <td>0.05</td>\n",
       "      <td>0.0</td>\n",
       "    </tr>\n",
       "    <tr>\n",
       "      <th>4</th>\n",
       "      <td>0</td>\n",
       "      <td>weevil</td>\n",
       "      <td>4</td>\n",
       "      <td>4</td>\n",
       "      <td>0.43</td>\n",
       "      <td>0.00</td>\n",
       "      <td>0.43</td>\n",
       "      <td>0.13</td>\n",
       "      <td>1.0</td>\n",
       "    </tr>\n",
       "    <tr>\n",
       "      <th>...</th>\n",
       "      <td>...</td>\n",
       "      <td>...</td>\n",
       "      <td>...</td>\n",
       "      <td>...</td>\n",
       "      <td>...</td>\n",
       "      <td>...</td>\n",
       "      <td>...</td>\n",
       "      <td>...</td>\n",
       "      <td>...</td>\n",
       "    </tr>\n",
       "    <tr>\n",
       "      <th>195</th>\n",
       "      <td>1</td>\n",
       "      <td>vespula</td>\n",
       "      <td>195</td>\n",
       "      <td>195</td>\n",
       "      <td>0.62</td>\n",
       "      <td>0.30</td>\n",
       "      <td>0.47</td>\n",
       "      <td>0.23</td>\n",
       "      <td>0.0</td>\n",
       "    </tr>\n",
       "    <tr>\n",
       "      <th>196</th>\n",
       "      <td>1</td>\n",
       "      <td>vespula</td>\n",
       "      <td>196</td>\n",
       "      <td>196</td>\n",
       "      <td>0.58</td>\n",
       "      <td>0.55</td>\n",
       "      <td>0.53</td>\n",
       "      <td>0.20</td>\n",
       "      <td>1.0</td>\n",
       "    </tr>\n",
       "    <tr>\n",
       "      <th>197</th>\n",
       "      <td>1</td>\n",
       "      <td>vespula</td>\n",
       "      <td>197</td>\n",
       "      <td>197</td>\n",
       "      <td>0.80</td>\n",
       "      <td>0.35</td>\n",
       "      <td>0.52</td>\n",
       "      <td>0.22</td>\n",
       "      <td>1.0</td>\n",
       "    </tr>\n",
       "    <tr>\n",
       "      <th>198</th>\n",
       "      <td>1</td>\n",
       "      <td>vespula</td>\n",
       "      <td>198</td>\n",
       "      <td>198</td>\n",
       "      <td>0.45</td>\n",
       "      <td>0.63</td>\n",
       "      <td>0.39</td>\n",
       "      <td>0.14</td>\n",
       "      <td>1.0</td>\n",
       "    </tr>\n",
       "    <tr>\n",
       "      <th>199</th>\n",
       "      <td>1</td>\n",
       "      <td>vespula</td>\n",
       "      <td>199</td>\n",
       "      <td>199</td>\n",
       "      <td>0.80</td>\n",
       "      <td>0.41</td>\n",
       "      <td>0.35</td>\n",
       "      <td>0.24</td>\n",
       "      <td>1.0</td>\n",
       "    </tr>\n",
       "  </tbody>\n",
       "</table>\n",
       "<p>200 rows × 9 columns</p>\n",
       "</div>"
      ],
      "text/plain": [
       "     label     name  index    3  bodyheadszratio  bodyheadcolordiff  bodysz  \\\n",
       "0        0   weevil      0    0             0.33               0.15    0.65   \n",
       "1        0   weevil      1    1             0.25               0.05    0.65   \n",
       "2        0   weevil      2    2             0.38               0.14    0.54   \n",
       "3        0   weevil      3    3             0.38               0.22    0.55   \n",
       "4        0   weevil      4    4             0.43               0.00    0.43   \n",
       "..     ...      ...    ...  ...              ...                ...     ...   \n",
       "195      1  vespula    195  195             0.62               0.30    0.47   \n",
       "196      1  vespula    196  196             0.58               0.55    0.53   \n",
       "197      1  vespula    197  197             0.80               0.35    0.52   \n",
       "198      1  vespula    198  198             0.45               0.63    0.39   \n",
       "199      1  vespula    199  199             0.80               0.41    0.35   \n",
       "\n",
       "     bodycolor  bodycolorlighter  \n",
       "0         0.12               0.0  \n",
       "1         0.18               0.0  \n",
       "2         0.06               0.0  \n",
       "3         0.05               0.0  \n",
       "4         0.13               1.0  \n",
       "..         ...               ...  \n",
       "195       0.23               0.0  \n",
       "196       0.20               1.0  \n",
       "197       0.22               1.0  \n",
       "198       0.14               1.0  \n",
       "199       0.24               1.0  \n",
       "\n",
       "[200 rows x 9 columns]"
      ]
     },
     "execution_count": 2,
     "metadata": {},
     "output_type": "execute_result"
    }
   ],
   "source": [
    "wee_ves_dir = '/net/scratch/hanliu-shared/data/image-data/output/one-class_syn2_size-color-diff-2D'\n",
    "# os.listdir(wee_ves_dir)\n",
    "tsv_file = os.path.join(wee_ves_dir,'images-config.tsv')\n",
    "df = pd.read_table(tsv_file,delim_whitespace=True,header=None)\n",
    "\n",
    "# pd.read_table(tsv_file,delim_whitespace=True,header=0)\n",
    "\n",
    "df = df.rename(columns={0: \"label\", \n",
    "                   1: \"name\",\n",
    "                   2: \"index\",\n",
    "                   4: \"bodyheadszratio\",\n",
    "                   5: \"bodyheadcolordiff\",\n",
    "                   6: \"bodysz\",\n",
    "                   7: \"bodycolor\",\n",
    "                   8: \"bodycolorlighter\"\n",
    "                   })\n",
    "# def clean_df(df)\n",
    "features =  [\"bodyheadszratio\",\n",
    "             \"bodyheadcolordiff\",\n",
    "             \"bodysz\",\n",
    "             \"bodycolor\",\n",
    "             \"bodycolorlighter\"]\n",
    "def extract_feature(x):\n",
    "    x_new= x.split('=')[1]\n",
    "    return x_new\n",
    "     \n",
    "for feature in features:\n",
    "    df[feature] = df.apply(lambda row : extract_feature(row[feature]), axis = 1)\n",
    "\n",
    "# for index, row in df.iterrows():\n",
    "#     for feature in features:\n",
    "#         # print(row[feature])\n",
    "#         # print(row[feature].split('=')[0])\n",
    "#         row[feature] = row[feature].split('=')[1]\n",
    "    # break\n",
    "for fea in features:\n",
    "    df[fea] = df[fea].astype('float')\n",
    "df"
   ]
  },
  {
   "cell_type": "markdown",
   "metadata": {},
   "source": [
    "## Generate new decision boundary"
   ]
  },
  {
   "cell_type": "code",
   "execution_count": 3,
   "metadata": {},
   "outputs": [],
   "source": [
    "import seaborn as sns\n",
    "\n",
    "for i in range(len(features)):\n",
    "    for j in range(i+1, len(features)):\n",
    "        if i ==j: continue\n",
    "        # sns.scatterplot(x=features[i], y=features[j], hue='label', data=df)\n",
    "        # plt.show() \n",
    "        break\n",
    "# sns.scatterplot(x=\"x1\", y=\"x2\", hue='class', data=data)"
   ]
  },
  {
   "cell_type": "code",
   "execution_count": 47,
   "metadata": {},
   "outputs": [],
   "source": [
    "\n",
    "from sklearn.linear_model import LogisticRegression\n",
    "selected_features = [features[0], features[1]]\n",
    "xmin, xmax = min(df[selected_features[0]]), max(df[selected_features[0]])\n",
    "ymin, ymax = min(df[selected_features[1]]), max(df[selected_features[1]])\n",
    "# clf = LogisticRegression().fit(df[selected_features],df['label'])\n",
    "# df[selected_features]\n",
    "# df['label']"
   ]
  },
  {
   "cell_type": "code",
   "execution_count": 5,
   "metadata": {},
   "outputs": [
    {
     "name": "stdout",
     "output_type": "stream",
     "text": [
      "[-0.73027025] [0.68565111]\n"
     ]
    },
    {
     "data": {
      "image/png": "[encoded data removed]",
      "text/plain": [
       "<Figure size 432x288 with 1 Axes>"
      ]
     },
     "metadata": {
      "needs_background": "light"
     },
     "output_type": "display_data"
    }
   ],
   "source": [
    "b = clf.intercept_[0]\n",
    "w1, w2 = clf.coef_.T\n",
    "# Calculate the intercept and gradient of the decision boundary.\n",
    "c = -b/w2\n",
    "m = -w1/w2\n",
    "# print(w1,w2,b)\n",
    "\n",
    "# Plot the data and the classification with the decision boundary.\n",
    "\n",
    "xd = np.array([0, 1])\n",
    "# yd = m*xd + c\n",
    "print(m,c)\n",
    "for i in range(10):\n",
    "    m-=0.25*i\n",
    "    c+=0.12*i\n",
    "    yd = m*xd + c\n",
    "    # print(m,c)\n",
    "    plt.plot(xd, yd, 'k', lw=1, ls='--')\n",
    "    # plt.fill_bet:ween(xd, yd, ymin, color='tab:blue', alpha=0.2)\n",
    "# plt.fill_between(xd, yd, ymax, color='tab:orange', alpha=0.2)\n",
    "scatter = plt.scatter(df[selected_features[0]],df[selected_features[1]], c=df['label'], s=50,\n",
    "           cmap=\"RdBu\", vmin=-.2, vmax=1.2,\n",
    "           edgecolor=\"white\", linewidth=1)\n",
    "# scatter = plt.scatter(x, y,c=values, cmap=colours)\n",
    "plt.legend(handles=scatter.legend_elements()[0], labels=[0,1])\n",
    "# plt.legend()\n",
    "# plt.scatter(*df[Y==0].T, s=8, alpha=0.5)\n",
    "# plt.scatter(*X[Y==1].T, s=8, alpha=0.5)\n",
    "plt.xlim(xmin, xmax)\n",
    "plt.ylim(ymin, ymax)\n",
    "# plt.xlim(0, 1)\n",
    "# plt.ylim(0, 1)\n",
    "# plt.ylabel(r'$x_2$')\n",
    "plt.ylabel(selected_features[1])\n",
    "plt.xlabel(selected_features[0])\n",
    "\n",
    "plt.show()"
   ]
  },
  {
   "cell_type": "code",
   "execution_count": 23,
   "metadata": {},
   "outputs": [
    {
     "data": {
      "image/png": "[encoded data removed]",
      "text/plain": [
       "<Figure size 432x288 with 1 Axes>"
      ]
     },
     "metadata": {
      "needs_background": "light"
     },
     "output_type": "display_data"
    }
   ],
   "source": [
    "\n",
    "\n",
    "def plot_func(w,b,label_column):\n",
    "    xd = np.array([0, 1])\n",
    "    yd = w*xd + b\n",
    "    plt.plot(xd, yd, 'k', lw=1, ls='--')\n",
    "    plt.scatter(df[selected_features[0]],df[selected_features[1]], c=df[label_column], s=50,\n",
    "           cmap=\"RdBu\", vmin=-.2, vmax=1.2,\n",
    "           edgecolor=\"white\", linewidth=1)\n",
    "\n",
    "    # plt.xlim(xmin, xmax)\n",
    "    # plt.ylim(ymin, ymax)\n",
    "    plt.xlim(0, 1.4)\n",
    "    plt.ylim(0, 0.7)\n",
    "    plt.ylabel(selected_features[1])\n",
    "    plt.xlabel(selected_features[0])\n",
    "    plt.show()\n",
    "\n",
    "# c = -b/w2\n",
    "# m = -w1/w2\n",
    "# print(w1,w2,b)\n",
    "xd = np.array([0, 1])\n",
    "# yd = m*xd + c\n",
    "# print(m,c)\n",
    "colors = ['k','y']\n",
    "# for i,cor in zip([0,8],colors):\n",
    "#     m-=0.25*i\n",
    "#     c+=0.12*i\n",
    "#     yd = m*xd + c\n",
    "    # print(m,c)\n",
    "    # plt.plot(xd, yd, cor, lw=1, ls='--')\n",
    "\n",
    "plt.scatter(df[selected_features[0]],df[selected_features[1]], c=df['label'], s=50,\n",
    "           cmap=\"RdBu\", vmin=-.2, vmax=1.2,\n",
    "           edgecolor=\"white\", linewidth=1)\n",
    "\n",
    "# plt.xlim(xmin, xmax)\n",
    "plt.xlim(0, 1.4)\n",
    "plt.ylim(0, 0.7)\n",
    "# plt.ylim(ymin, ymax)\n",
    "\n",
    "plt.ylabel(selected_features[1])\n",
    "plt.xlabel(selected_features[0])\n",
    "\n",
    "plt.show()"
   ]
  },
  {
   "cell_type": "markdown",
   "metadata": {},
   "source": [
    "## Generate labels"
   ]
  },
  {
   "cell_type": "code",
   "execution_count": 24,
   "metadata": {},
   "outputs": [
    {
     "data": {
      "image/png": "[encoded data removed]",
      "text/plain": [
       "<Figure size 432x288 with 1 Axes>"
      ]
     },
     "metadata": {
      "needs_background": "light"
     },
     "output_type": "display_data"
    }
   ],
   "source": [
    "def return_label(w,b,x,y):\n",
    "    y_prime = w*x+b\n",
    "    if y>y_prime:\n",
    "        return 1\n",
    "    else:\n",
    "        return 0\n",
    "\n",
    "w = -0.73027025\n",
    "b = 0.68565111\n",
    "# plot_func(w,b,'label')\n",
    "\n",
    "df['pseudo_label'] = df.apply(lambda row : return_label(w,b,row[selected_features[0]],row[selected_features[1]]), axis = 1)\n",
    "plot_func(w,b,'pseudo_label')\n",
    "\n",
    "# df\n"
   ]
  },
  {
   "cell_type": "markdown",
   "metadata": {},
   "source": [
    "## Human distorted space"
   ]
  },
  {
   "cell_type": "code",
   "execution_count": 30,
   "metadata": {},
   "outputs": [
    {
     "data": {
      "image/png": "[encoded data removed]",
      "text/plain": [
       "<Figure size 432x288 with 1 Axes>"
      ]
     },
     "metadata": {
      "needs_background": "light"
     },
     "output_type": "display_data"
    }
   ],
   "source": [
    "visual_weights = [2.73027025, 1]\n",
    "w = -0.73027025\n",
    "b = 0.68565111\n",
    "xd = np.array([0, 1])\n",
    "yd = w*xd + b\n",
    "# plt.plot(xd, yd, 'k', lw=1, ls='--')\n",
    "# plt.plot(xd, yd, 'k', lw=1, ls='--')\n",
    "plt.scatter(df[selected_features[0]]*np.sqrt(2.73027025),df[selected_features[1]], c=df['pseudo_label'], s=50,\n",
    "        cmap=\"RdBu\", vmin=-.2, vmax=1.2,\n",
    "        edgecolor=\"white\", linewidth=1)\n",
    "\n",
    "plt.xlim(0, 1.4)\n",
    "plt.ylim(0, 0.7)\n",
    "# plt.ylim(ymin, ymax)\n",
    "plt.ylabel(selected_features[1])\n",
    "plt.xlabel(selected_features[0]+'--distorted')\n",
    "plt.show()\n"
   ]
  },
  {
   "cell_type": "markdown",
   "metadata": {},
   "source": [
    "## misalignment between human and groundtruth"
   ]
  },
  {
   "cell_type": "code",
   "execution_count": 61,
   "metadata": {},
   "outputs": [
    {
     "data": {
      "text/plain": [
       "array([[0.35, 0.19, 0.  ],\n",
       "       [0.29, 0.25, 0.  ],\n",
       "       [0.39, 0.2 , 0.  ],\n",
       "       [0.72, 0.51, 1.  ],\n",
       "       [0.45, 0.63, 1.  ],\n",
       "       [0.55, 0.1 , 0.  ],\n",
       "       [0.43, 0.  , 0.  ],\n",
       "       [0.3 , 0.21, 0.  ],\n",
       "       [0.56, 0.48, 1.  ],\n",
       "       [0.48, 0.03, 0.  ],\n",
       "       [0.31, 0.2 , 0.  ],\n",
       "       [0.24, 0.17, 0.  ],\n",
       "       [0.62, 0.33, 1.  ],\n",
       "       [0.54, 0.54, 1.  ],\n",
       "       [0.66, 0.23, 1.  ],\n",
       "       [0.45, 0.32, 0.  ],\n",
       "       [0.47, 0.13, 0.  ],\n",
       "       [0.29, 0.26, 0.  ],\n",
       "       [0.44, 0.41, 1.  ],\n",
       "       [0.45, 0.19, 0.  ],\n",
       "       [0.31, 0.27, 0.  ],\n",
       "       [0.72, 0.23, 1.  ],\n",
       "       [0.73, 0.35, 1.  ],\n",
       "       [0.76, 0.31, 1.  ],\n",
       "       [0.44, 0.54, 1.  ],\n",
       "       [0.26, 0.31, 0.  ],\n",
       "       [0.19, 0.33, 0.  ],\n",
       "       [0.71, 0.61, 1.  ],\n",
       "       [0.24, 0.18, 0.  ],\n",
       "       [0.39, 0.29, 0.  ],\n",
       "       [0.39, 0.64, 1.  ],\n",
       "       [0.66, 0.42, 1.  ],\n",
       "       [0.56, 0.7 , 1.  ],\n",
       "       [0.56, 0.4 , 1.  ],\n",
       "       [0.4 , 0.18, 0.  ],\n",
       "       [0.51, 0.33, 1.  ],\n",
       "       [0.31, 0.29, 0.  ],\n",
       "       [0.6 , 0.38, 1.  ],\n",
       "       [0.4 , 0.48, 1.  ],\n",
       "       [0.34, 0.35, 0.  ],\n",
       "       [0.33, 0.13, 0.  ],\n",
       "       [0.4 , 0.21, 0.  ],\n",
       "       [0.37, 0.61, 1.  ],\n",
       "       [0.65, 0.6 , 1.  ],\n",
       "       [0.59, 0.58, 1.  ],\n",
       "       [0.8 , 0.41, 1.  ],\n",
       "       [0.6 , 0.61, 1.  ],\n",
       "       [0.32, 0.27, 0.  ],\n",
       "       [0.43, 0.15, 0.  ],\n",
       "       [0.69, 0.7 , 1.  ],\n",
       "       [0.6 , 0.59, 1.  ],\n",
       "       [0.53, 0.28, 0.  ],\n",
       "       [0.51, 0.35, 1.  ],\n",
       "       [0.38, 0.17, 0.  ],\n",
       "       [0.41, 0.64, 1.  ],\n",
       "       [0.69, 0.5 , 1.  ],\n",
       "       [0.64, 0.37, 1.  ],\n",
       "       [0.44, 0.45, 1.  ],\n",
       "       [0.62, 0.45, 1.  ],\n",
       "       [0.5 , 0.33, 1.  ],\n",
       "       [0.59, 0.16, 0.  ],\n",
       "       [0.37, 0.11, 0.  ],\n",
       "       [0.58, 0.53, 1.  ],\n",
       "       [0.6 , 0.49, 1.  ],\n",
       "       [0.34, 0.26, 0.  ],\n",
       "       [0.46, 0.52, 1.  ],\n",
       "       [0.41, 0.  , 0.  ],\n",
       "       [0.41, 0.  , 0.  ],\n",
       "       [0.17, 0.13, 0.  ],\n",
       "       [0.44, 0.4 , 1.  ],\n",
       "       [0.47, 0.5 , 1.  ],\n",
       "       [0.61, 0.49, 1.  ],\n",
       "       [0.62, 0.66, 1.  ],\n",
       "       [0.67, 0.43, 1.  ],\n",
       "       [0.59, 0.39, 1.  ],\n",
       "       [0.54, 0.34, 1.  ],\n",
       "       [0.51, 0.21, 0.  ],\n",
       "       [0.6 , 0.42, 1.  ],\n",
       "       [0.38, 0.14, 0.  ],\n",
       "       [0.34, 0.19, 0.  ],\n",
       "       [0.37, 0.35, 0.  ],\n",
       "       [0.43, 0.26, 0.  ],\n",
       "       [0.35, 0.36, 0.  ],\n",
       "       [0.31, 0.25, 0.  ],\n",
       "       [0.44, 0.44, 1.  ],\n",
       "       [0.43, 0.1 , 0.  ],\n",
       "       [0.74, 0.65, 1.  ],\n",
       "       [0.6 , 0.12, 0.  ],\n",
       "       [0.58, 0.45, 1.  ],\n",
       "       [0.19, 0.  , 0.  ],\n",
       "       [0.19, 0.3 , 0.  ],\n",
       "       [0.6 , 0.42, 1.  ],\n",
       "       [0.7 , 0.67, 1.  ],\n",
       "       [0.48, 0.29, 0.  ],\n",
       "       [0.55, 0.52, 1.  ],\n",
       "       [0.58, 0.48, 1.  ],\n",
       "       [0.61, 0.66, 1.  ],\n",
       "       [0.46, 0.16, 0.  ],\n",
       "       [0.4 , 0.05, 0.  ],\n",
       "       [0.31, 0.08, 0.  ],\n",
       "       [0.62, 0.49, 1.  ],\n",
       "       [0.63, 0.49, 1.  ],\n",
       "       [0.57, 0.41, 1.  ],\n",
       "       [0.3 , 0.  , 0.  ],\n",
       "       [0.43, 0.42, 1.  ],\n",
       "       [0.31, 0.11, 0.  ],\n",
       "       [0.75, 0.52, 1.  ],\n",
       "       [0.23, 0.17, 0.  ],\n",
       "       [0.43, 0.18, 0.  ],\n",
       "       [0.61, 0.7 , 1.  ],\n",
       "       [0.47, 0.1 , 0.  ],\n",
       "       [0.38, 0.06, 0.  ],\n",
       "       [0.47, 0.04, 0.  ],\n",
       "       [0.39, 0.25, 0.  ],\n",
       "       [0.11, 0.22, 0.  ],\n",
       "       [0.65, 0.09, 0.  ],\n",
       "       [0.38, 0.22, 0.  ],\n",
       "       [0.42, 0.44, 1.  ],\n",
       "       [0.19, 0.15, 0.  ],\n",
       "       [0.61, 0.34, 1.  ]])"
      ]
     },
     "execution_count": 61,
     "metadata": {},
     "output_type": "execute_result"
    }
   ],
   "source": [
    "#  df_train[selected_features].iloc[0]\n",
    "#  df_train[selected_features].head(5)\n",
    "# selected = selected_features.append('pseudo_label')\n",
    "# selected_features\n",
    "df_train[selected_features].to_numpy()"
   ]
  },
  {
   "cell_type": "code",
   "execution_count": 71,
   "metadata": {},
   "outputs": [
    {
     "data": {
      "text/plain": [
       "0.975"
      ]
     },
     "execution_count": 71,
     "metadata": {},
     "output_type": "execute_result"
    }
   ],
   "source": [
    "## human 1nn\n",
    "# Example of calculating Euclidean distance\n",
    "from math import sqrt\n",
    " \n",
    "# calculate the Euclidean distance between two vectors\n",
    "# def euclidean_distance(row1, row2):\n",
    "# \tdistance = 0.0\n",
    "# \tfor i in range(len(row1)-1):\n",
    "# \t\tdistance += (row1[i] - row2[i])**2\n",
    "# \treturn sqrt(distance)\n",
    "\n",
    "def euclidean_distance(row1, row2):\n",
    "    visual_weights = [2.73027025, 1]\n",
    "    q = row1[:2]-row2[:2]\n",
    "    return np.sqrt((visual_weights*q*q).sum())\n",
    "\n",
    "# Locate the most similar neighbors\n",
    "def get_neighbors(train, test_row, num_neighbors):\n",
    "\tdistances = list()\n",
    "\tfor train_row in train:\n",
    "\t\tdist = euclidean_distance(test_row, train_row)\n",
    "\t\tdistances.append((train_row, dist))\n",
    "\tdistances.sort(key=lambda tup: tup[1])\n",
    "\tneighbors = list()\n",
    "\tfor i in range(num_neighbors):\n",
    "\t\tneighbors.append(distances[i][0])\n",
    "\treturn neighbors\n",
    "\n",
    "# Make a classification prediction with neighbors\n",
    "def predict_classification(train, test_row, num_neighbors):\n",
    "\tneighbors = get_neighbors(train, test_row, num_neighbors)\n",
    "    # print(neighbors)\n",
    "\toutput_values = [row[-1] for row in neighbors]\n",
    "\tprediction = max(set(output_values), key=output_values.count)\n",
    "\treturn prediction\n",
    "# def get_1nn(data, index):\n",
    "#     dist = euclidean_distances(data)\n",
    "#     return np.argsort(dist[index])[1]\n",
    "\n",
    "prediction = predict_classification(df_train[selected_features].to_numpy(), df_train[selected_features].to_numpy()[4],1)\n",
    "# print('Expected %d, Got %d.' % (df_train[selected_features].to_numpy()[4][-1], prediction))\n",
    "\n",
    "\n",
    "acc_count = 0\n",
    "for test_row in df_test[selected_features].to_numpy():\n",
    "\t# print(test_row)\n",
    "\tpred = predict_classification(df_train[selected_features].to_numpy(), test_row,1)\n",
    "\tactual = test_row[-1]\n",
    "\tif actual == pred:\n",
    "\t\tacc_count +=1\n",
    "\n",
    "acc_count/len(df_test[selected_features].to_numpy())\n",
    "# acc_count"
   ]
  },
  {
   "cell_type": "markdown",
   "metadata": {},
   "source": [
    "## Triplet annotation\n",
    "25000 from training set\n",
    "\n",
    "10000 from validation set\n",
    "\n",
    "function for testing set"
   ]
  },
  {
   "cell_type": "code",
   "execution_count": 8,
   "metadata": {},
   "outputs": [
    {
     "name": "stdout",
     "output_type": "stream",
     "text": [
      "1313400\n",
      "3940200\n"
     ]
    }
   ],
   "source": [
    "# df.shape]\n",
    "from itertools import combinations\n",
    "\n",
    "df[selected_features]\n",
    "a  = list(range(200))\n",
    "b = list(combinations(a, 3))\n",
    "print(len(b))\n",
    "b_final = []\n",
    "for trip in b:\n",
    "    a,p,n = trip\n",
    "    b_final.append([a,p,n])\n",
    "    b_final.append([p,a,n])\n",
    "    b_final.append([n,p,a])\n",
    "print(len(b_final))\n",
    "import random\n",
    "SEED = 448\n",
    "random.seed(SEED)\n",
    "selected_triplets = random.sample(b_final, k=2000)\n",
    "# len(list(combinations(list(range(120)), 3)))\n",
    "# b[:100]"
   ]
  },
  {
   "cell_type": "code",
   "execution_count": null,
   "metadata": {},
   "outputs": [],
   "source": []
  },
  {
   "cell_type": "code",
   "execution_count": 10,
   "metadata": {},
   "outputs": [
    {
     "name": "stdout",
     "output_type": "stream",
     "text": [
      "113 39 22\n"
     ]
    }
   ],
   "source": [
    "# [-0.73027025] [0.68565111]\n",
    "# [-2.73027025] [1.64565111]\n",
    "# m = [-2.73027025]\n",
    "# c = [1.64565111]\n",
    "# yd = m*xd + c\n",
    "\n",
    "## weighted euclidean distance\n",
    "def weightedL2(a, b, visual_weights):\n",
    "    q = a-b\n",
    "    return np.sqrt((visual_weights*q*q).sum())\n",
    "\n",
    "visual_weights = [2.73027025, 1]\n",
    "\n",
    "# for index, row in df.iterrows():\n",
    "#     for feature in features:\n",
    "#         # print(row[feature])\n",
    "# random.randint(0, len(b))\n",
    "for trip in selected_triplets:\n",
    "    a, p, n = trip\n",
    "    print(a,p,n)\n",
    "    \n",
    "    break\n",
    "    # weightedL2()"
   ]
  },
  {
   "cell_type": "code",
   "execution_count": 11,
   "metadata": {},
   "outputs": [
    {
     "name": "stdout",
     "output_type": "stream",
     "text": [
      "0.35512083858878235\n",
      "0.42748320507945103\n",
      "[[0.51 0.42]] [[0.31 0.29]] [2.73027025, 1]\n"
     ]
    }
   ],
   "source": [
    "df[(df['index']==20) | (df['index']==97) |  (df['index']==125)]\n",
    "point1 = df[(df['index']==a)][selected_features].to_numpy()\n",
    "point2 = df[(df['index']==p)][selected_features].to_numpy()\n",
    "point3 = df[(df['index']==n)][selected_features].to_numpy()\n",
    "print(weightedL2(point1,point2,visual_weights))\n",
    "print(weightedL2(point1,point3,visual_weights))\n",
    "print(point1,point2,visual_weights)\n",
    "# np.sqrt(2.73027025*(0.24-0.19)**2+1*(0.33-0.12)**2)"
   ]
  },
  {
   "cell_type": "code",
   "execution_count": 12,
   "metadata": {},
   "outputs": [
    {
     "data": {
      "text/plain": [
       "[97, 20, 125]"
      ]
     },
     "execution_count": 12,
     "metadata": {},
     "output_type": "execute_result"
    }
   ],
   "source": [
    "def calc_triplets(trip):\n",
    "    a,p,n  = trip\n",
    "    point1 = df[(df['index']==a)][selected_features].to_numpy()\n",
    "    point2 = df[(df['index']==p)][selected_features].to_numpy()\n",
    "    point3 = df[(df['index']==n)][selected_features].to_numpy()\n",
    "    d_ap = weightedL2(point1,point2,visual_weights)\n",
    "    d_an = weightedL2(point1,point3,visual_weights)\n",
    "    if d_ap>d_an:\n",
    "        return [a,n,p]\n",
    "    else:\n",
    "        return [a,p,n]\n",
    "calc_triplets([97,125,20])\n"
   ]
  },
  {
   "cell_type": "code",
   "execution_count": 13,
   "metadata": {},
   "outputs": [],
   "source": [
    "# # 120 40 40 \n",
    "# from PIL import Image\n",
    "# addr = '/net/scratch/hanliu-shared/data/image-data/output/one-class_syn2_size-color-diff-2D/szratio-contrast-2D-scatter.jpg'\n",
    "# # addr = '/net/scratch/hanliu-shared/data/image-data/output/one-class_syn2_size-color-diff-2D/szratio-contrast-2D-scatter.pdf'\n",
    "# display.display(display.Image(filename=addr))\n",
    "# # Image.open('/net/scratch/hanliu-shared/data/image-data/output/one-class_syn2_size-color-diff-2D/szratio-contrast-2D-scatter.jpg').show()\n",
    "# # image.show()"
   ]
  },
  {
   "cell_type": "markdown",
   "metadata": {},
   "source": [
    "## Seperate train || validation || testing"
   ]
  },
  {
   "cell_type": "code",
   "execution_count": 31,
   "metadata": {},
   "outputs": [
    {
     "name": "stdout",
     "output_type": "stream",
     "text": [
      "(120, 10)\n",
      "(40, 10)\n",
      "(40, 10)\n"
     ]
    }
   ],
   "source": [
    "df.shape[0]\n",
    "df_train = df.sample(n=int(df.shape[0]*0.8), random_state=1)\n",
    "df_test = df.drop(df_train.index)\n",
    "df_val = df_train.sample(n=int(df.shape[0]*0.2), random_state=23)\n",
    "df_train = df_train.drop(df_val.index)\n",
    "\n",
    "print(df_train.shape)\n",
    "print(df_val.shape)\n",
    "print(df_test.shape)\n",
    "# len(set(sorted(np.append(df_train['index'].to_numpy(), [df_val['index'].to_numpy(), df_test['index'].to_numpy()]))))"
   ]
  },
  {
   "cell_type": "code",
   "execution_count": 15,
   "metadata": {},
   "outputs": [
    {
     "data": {
      "text/plain": [
       "200"
      ]
     },
     "execution_count": 15,
     "metadata": {},
     "output_type": "execute_result"
    }
   ],
   "source": [
    "# move images into corresponding directory\n",
    "images_files = os.listdir(os.path.join(wee_ves_dir,'images'))\n",
    "images_files\n",
    "b = [a for a in images_files if 'jpg' in a and 'vespula' not in a]\n",
    "len(b)\n",
    "# sorted(b)\n",
    "# df.shape\n",
    "# for item in fileList:\n",
    "#     shutil.copy(item[0], \"/Users/username/Desktop/testPhotos\")"
   ]
  },
  {
   "cell_type": "code",
   "execution_count": 16,
   "metadata": {},
   "outputs": [
    {
     "data": {
      "text/plain": [
       "array([ 58,  40,  34, 184, 198,  95,   4,  29, 168,  18,  11,  89, 110,\n",
       "       118, 159,  16,  44,  94, 162,  38,  28,  27, 165, 194, 177, 176,\n",
       "        97, 174,  73,  69, 172, 108, 107, 189,  14,  19,  39, 185, 124,\n",
       "        98,  53,  33, 179, 181, 106, 199, 116,  78,   5, 127, 105,  48,\n",
       "        54,  84, 183, 158, 166,  93, 120, 154,  90,  81, 122, 191,  13,\n",
       "       132,  45,  99,  36, 161, 186, 153, 103, 148, 173,  21,  91, 152,\n",
       "         2,  70,  85,   6,  77,  65, 167,  88, 130,  46,  62,  74,  92,\n",
       "       147, 160,  87, 180, 145, 164,  10,  32,  83, 182, 100, 125,  23,\n",
       "       126,   9, 135,  15,  41, 163,  80,  52,  26,  76,  43,  24,   3,\n",
       "       169,  49, 131])"
      ]
     },
     "execution_count": 16,
     "metadata": {},
     "output_type": "execute_result"
    }
   ],
   "source": [
    "# df[df['index']==188]\n",
    "df_train['index'].to_numpy()\n",
    "# shutil.copy(item[0], \"/Users/username/Desktop/testPhotos\")"
   ]
  },
  {
   "cell_type": "code",
   "execution_count": 137,
   "metadata": {},
   "outputs": [],
   "source": [
    "# sum(df['label'][:100])\n",
    "# sum(df['pseudo_label'][:100])"
   ]
  },
  {
   "cell_type": "code",
   "execution_count": 17,
   "metadata": {},
   "outputs": [
    {
     "data": {
      "text/plain": [
       "0"
      ]
     },
     "execution_count": 17,
     "metadata": {},
     "output_type": "execute_result"
    }
   ],
   "source": [
    "index = 99\n",
    "label = df[df['index']==index]['pseudo_label'].to_numpy()[0]\n",
    "label"
   ]
  },
  {
   "cell_type": "code",
   "execution_count": 18,
   "metadata": {},
   "outputs": [],
   "source": [
    "image_path = '/net/scratch/hanliu-shared/data/image-data/output/one-class_syn2_size-color-diff-2D/images'\n",
    "def cp_image(index,split):\n",
    "    label = df[df['index']==index]['pseudo_label'].to_numpy()[0]\n",
    "    file_path = os.path.join('/net/scratch/chacha/data/weevil_vespula', split)\n",
    "    file_path = os.path.join(file_path, str(label))\n",
    "    # print(file_path)\n",
    "    image_file = os.path.join(image_path, str(index)+'.jpg')\n",
    "    shutil.copy(image_file, file_path)"
   ]
  },
  {
   "cell_type": "code",
   "execution_count": 19,
   "metadata": {},
   "outputs": [],
   "source": [
    "train_indexs = df_train['index'].to_numpy()\n",
    "# print(train_indexs)\n",
    "for tr_index in train_indexs:\n",
    "    cp_image(tr_index,'train')"
   ]
  },
  {
   "cell_type": "code",
   "execution_count": 21,
   "metadata": {},
   "outputs": [],
   "source": [
    "val_indexs = df_val['index'].to_numpy()\n",
    "for tr_index in val_indexs:\n",
    "    cp_image(tr_index,'valid')\n",
    "\n",
    "test_indexs = df_test['index'].to_numpy()\n",
    "for tr_index in test_indexs:\n",
    "    cp_image(tr_index,'test')"
   ]
  },
  {
   "cell_type": "code",
   "execution_count": 20,
   "metadata": {},
   "outputs": [
    {
     "name": "stdout",
     "output_type": "stream",
     "text": [
      "60\n",
      "60\n",
      "25\n",
      "15\n",
      "20\n",
      "20\n"
     ]
    }
   ],
   "source": [
    "print(len(os.listdir('/net/scratch/chacha/data/weevil_vespula/train/1')))\n",
    "print(len(os.listdir('/net/scratch/chacha/data/weevil_vespula/train/0')))\n",
    "print(len(os.listdir('/net/scratch/chacha/data/weevil_vespula/valid/1')))\n",
    "print(len(os.listdir('/net/scratch/chacha/data/weevil_vespula/valid/0')))\n",
    "print(len(os.listdir('/net/scratch/chacha/data/weevil_vespula/test/1')))\n",
    "print(len(os.listdir('/net/scratch/chacha/data/weevil_vespula/test/0')))"
   ]
  },
  {
   "cell_type": "markdown",
   "metadata": {},
   "source": [
    "## Sample triplets"
   ]
  },
  {
   "cell_type": "code",
   "execution_count": 22,
   "metadata": {},
   "outputs": [
    {
     "name": "stdout",
     "output_type": "stream",
     "text": [
      "280840\n",
      "total triplets number:  842520\n",
      "9880\n",
      "total triplets number:  29640\n"
     ]
    }
   ],
   "source": [
    "## sample triplets function \n",
    "## input: a list\n",
    "## output: a random list of triplets\n",
    "def sample_triplets(A, number_of_triplets):\n",
    "    B = list(combinations(A, 3))\n",
    "    print(len(B))\n",
    "    B_final = []\n",
    "    for trip in B:\n",
    "        a,p,n = trip\n",
    "        B_final.append([a,p,n])\n",
    "        B_final.append([p,a,n])\n",
    "        B_final.append([n,p,a])\n",
    "    print(\"total triplets number: \", len(B_final))\n",
    "    SEED = 448\n",
    "    random.seed(SEED)\n",
    "    selected_triplets = random.sample(B_final, k=number_of_triplets)\n",
    "    return selected_triplets\n",
    "\n",
    "## sample 25000 training triplets\n",
    "train_triplets = sample_triplets(train_indexs, 25000)\n",
    "val_triplets = sample_triplets(val_indexs, 10000)\n",
    "\n"
   ]
  },
  {
   "cell_type": "code",
   "execution_count": 67,
   "metadata": {},
   "outputs": [
    {
     "name": "stdout",
     "output_type": "stream",
     "text": [
      "9880\n",
      "total triplets number:  29640\n"
     ]
    }
   ],
   "source": [
    "test_triplets = sample_triplets(test_indexs, 10000)"
   ]
  },
  {
   "cell_type": "code",
   "execution_count": 24,
   "metadata": {},
   "outputs": [],
   "source": [
    "# len(train_triplets)\n",
    "# len(val_triplets)\n",
    "train_triplets_final = []\n",
    "for trip in train_triplets:\n",
    "    # a,p,n = trip\n",
    "    train_triplets_final.append(calc_triplets(trip))\n"
   ]
  },
  {
   "cell_type": "code",
   "execution_count": 27,
   "metadata": {},
   "outputs": [],
   "source": [
    "\n",
    "valid_triplets_final = []\n",
    "for trip in val_triplets:\n",
    "    # a,p,n = trip\n",
    "    valid_triplets_final.append(calc_triplets(trip))\n"
   ]
  },
  {
   "cell_type": "code",
   "execution_count": 68,
   "metadata": {},
   "outputs": [],
   "source": [
    "\n",
    "test_triplets_final = []\n",
    "for trip in test_triplets:\n",
    "    # a,p,n = trip\n",
    "    test_triplets_final.append(calc_triplets(trip))\n"
   ]
  },
  {
   "cell_type": "code",
   "execution_count": 189,
   "metadata": {},
   "outputs": [],
   "source": []
  },
  {
   "cell_type": "code",
   "execution_count": 25,
   "metadata": {},
   "outputs": [
    {
     "data": {
      "text/plain": [
       "[[6, 16, 88], [169, 118, 152], [4, 26, 159], [186, 153, 44], [172, 168, 91]]"
      ]
     },
     "execution_count": 25,
     "metadata": {},
     "output_type": "execute_result"
    }
   ],
   "source": [
    "train_triplets_final[:5]"
   ]
  },
  {
   "cell_type": "code",
   "execution_count": null,
   "metadata": {},
   "outputs": [],
   "source": []
  },
  {
   "cell_type": "code",
   "execution_count": 28,
   "metadata": {},
   "outputs": [
    {
     "data": {
      "text/plain": [
       "[[55, 136, 119],\n",
       " [64, 187, 150],\n",
       " [102, 112, 149],\n",
       " [111, 136, 104],\n",
       " [155, 151, 113]]"
      ]
     },
     "execution_count": 28,
     "metadata": {},
     "output_type": "execute_result"
    }
   ],
   "source": [
    "# train_triplets_final_final = []\n",
    "# for tmp in train_triplets_final:\n",
    "#     a,p,n = tmp\n",
    "#     train_triplets_final_final.append([a,p,n])\n",
    "# train_triplets_final_final[:5]\n",
    "valid_triplets_final_final = []\n",
    "for tmp in valid_triplets_final:\n",
    "    a,p,n = tmp\n",
    "    valid_triplets_final_final.append([a,p,n])\n",
    "valid_triplets_final_final[:5]"
   ]
  },
  {
   "cell_type": "code",
   "execution_count": 184,
   "metadata": {},
   "outputs": [],
   "source": [
    "with open('/net/scratch/chacha/explain_teach/data/bm_triplets/3c2_unique=182/train_triplets.pkl','rb') as f:\n",
    "    m_dict = pickle.load(f)"
   ]
  },
  {
   "cell_type": "code",
   "execution_count": 192,
   "metadata": {},
   "outputs": [],
   "source": [
    "# m_dict\n",
    "with open('/net/scratch/chacha/data/weevil_vespula/train_triplet.pkl','rb') as f:\n",
    "    m_dict = pickle.load(f)"
   ]
  },
  {
   "cell_type": "code",
   "execution_count": 194,
   "metadata": {},
   "outputs": [],
   "source": [
    "# m_dict"
   ]
  },
  {
   "cell_type": "markdown",
   "metadata": {},
   "source": [
    "## file name index to triplet index"
   ]
  },
  {
   "cell_type": "code",
   "execution_count": 56,
   "metadata": {},
   "outputs": [
    {
     "name": "stdout",
     "output_type": "stream",
     "text": [
      "[6, 16, 88]\n",
      "34 5 49\n"
     ]
    }
   ],
   "source": [
    "with open('/net/scratch/chacha/data/weevil_vespula/p2i.pkl', 'rb') as f:\n",
    "  p2i = pickle.load(f)\n",
    "# p2i\n",
    "print(train_triplets_final[0])\n",
    "print(p2i[str(6)],p2i[str(16)],p2i[str(88)])\n",
    "\n",
    "len(train_triplets_final)\n",
    "train_triplets_final_final_torch_index = []\n",
    "for trip in train_triplets_final:\n",
    "    a,p,n = trip\n",
    "    train_triplets_final_final_torch_index.append([p2i[str(a)],p2i[str(p)],p2i[str(n)]])"
   ]
  },
  {
   "cell_type": "code",
   "execution_count": 57,
   "metadata": {},
   "outputs": [],
   "source": [
    "with open('/net/scratch/chacha/data/weevil_vespula/p2i_valid.pkl', 'rb') as f:\n",
    "  p2i = pickle.load(f)\n",
    "len(valid_triplets_final_final)\n",
    "valid_triplets_final_final_torch_index = []\n",
    "for trip in valid_triplets_final_final:\n",
    "    a,p,n = trip\n",
    "    valid_triplets_final_final_torch_index.append([p2i[str(a)],p2i[str(p)],p2i[str(n)]])"
   ]
  },
  {
   "cell_type": "code",
   "execution_count": 70,
   "metadata": {},
   "outputs": [],
   "source": [
    "with open('/net/scratch/chacha/data/weevil_vespula/p2i_test.pkl', 'rb') as f:\n",
    "  p2i = pickle.load(f)\n",
    "len(test_triplets_final)\n",
    "test_triplets_final_final_torch_index = []\n",
    "for trip in test_triplets_final:\n",
    "    a,p,n = trip\n",
    "    test_triplets_final_final_torch_index.append([p2i[str(a)],p2i[str(p)],p2i[str(n)]])"
   ]
  },
  {
   "cell_type": "code",
   "execution_count": 71,
   "metadata": {},
   "outputs": [],
   "source": [
    "import pickle\n",
    "\n",
    "# save_triplet_path = \n",
    "# with open('/net/scratch/chacha/data/weevil_vespula/train_triplet.pkl', 'wb') as f:\n",
    "#   pickle.dump(train_triplets_final_final_torch_index, f)\n",
    "# with open('/net/scratch/chacha/data/weevil_vespula/valid_triplet.pkl', 'wb') as f:\n",
    "#   pickle.dump(valid_triplets_final_final_torch_index, f)\n",
    "with open('/net/scratch/chacha/data/weevil_vespula/test_triplet.pkl', 'wb') as f:\n",
    "  pickle.dump(test_triplets_final_final_torch_index, f)\n",
    "with open('/net/scratch/chacha/data/weevil_vespula/train_triplet.pkl', 'rb') as f:\n",
    "  train_triplets_final_final_torch_index = pickle.load(f)\n",
    "with open('/net/scratch/chacha/data/weevil_vespula/valid_triplet.pkl', 'rb') as f:\n",
    "  valid_triplets_final_final_torch_index = pickle.load(f)\n",
    "with open('/net/scratch/chacha/data/weevil_vespula/test_triplet.pkl', 'rb') as f:\n",
    "  test_triplets_final_final_torch_index = pickle.load(f)"
   ]
  },
  {
   "cell_type": "code",
   "execution_count": 62,
   "metadata": {},
   "outputs": [
    {
     "data": {
      "text/plain": [
       "[[39, 24, 22], [10, 33, 28], [15, 18, 27], [1, 24, 16], [30, 29, 19]]"
      ]
     },
     "execution_count": 62,
     "metadata": {},
     "output_type": "execute_result"
    }
   ],
   "source": [
    "valid_triplets_final_final_torch_index[:5]"
   ]
  },
  {
   "cell_type": "code",
   "execution_count": 63,
   "metadata": {},
   "outputs": [
    {
     "data": {
      "text/plain": [
       "[[34, 5, 49], [96, 68, 82], [21, 11, 86], [108, 83, 25], [97, 95, 53]]"
      ]
     },
     "execution_count": 63,
     "metadata": {},
     "output_type": "execute_result"
    }
   ],
   "source": [
    "train_triplets_final_final_torch_index[:5]"
   ]
  },
  {
   "cell_type": "code",
   "execution_count": 42,
   "metadata": {},
   "outputs": [
    {
     "data": {
      "text/plain": [
       "[[34, 5, 49], [96, 68, 82], [21, 11, 86], [108, 83, 25], [97, 95, 53]]"
      ]
     },
     "execution_count": 42,
     "metadata": {},
     "output_type": "execute_result"
    }
   ],
   "source": [
    "train_triplets_final_final_torch_index[:5]"
   ]
  },
  {
   "cell_type": "code",
   "execution_count": 41,
   "metadata": {},
   "outputs": [
    {
     "data": {
      "text/plain": [
       "[[39, 24, 22], [10, 33, 28], [15, 18, 27], [1, 24, 16], [30, 29, 19]]"
      ]
     },
     "execution_count": 41,
     "metadata": {},
     "output_type": "execute_result"
    }
   ],
   "source": [
    "valid_triplets_final_final_torch_index[:5]"
   ]
  },
  {
   "cell_type": "code",
   "execution_count": 74,
   "metadata": {},
   "outputs": [
    {
     "data": {
      "text/plain": [
       "[[17, 5, 20],\n",
       " [31, 33, 4],\n",
       " [21, 35, 14],\n",
       " [22, 34, 5],\n",
       " [26, 38, 39],\n",
       " [2, 14, 0],\n",
       " [28, 20, 3],\n",
       " [20, 38, 19],\n",
       " [11, 19, 26],\n",
       " [34, 22, 6]]"
      ]
     },
     "execution_count": 74,
     "metadata": {},
     "output_type": "execute_result"
    }
   ],
   "source": [
    "test_triplets_final_final_torch_index[:10]"
   ]
  },
  {
   "cell_type": "code",
   "execution_count": 75,
   "metadata": {},
   "outputs": [
    {
     "name": "stdout",
     "output_type": "stream",
     "text": [
      "79 22 115\n"
     ]
    }
   ],
   "source": [
    "for trip in test_triplets_final:\n",
    "    a,p,n = trip\n",
    "    print(a,p,n)\n",
    "    break"
   ]
  },
  {
   "cell_type": "code",
   "execution_count": 76,
   "metadata": {},
   "outputs": [
    {
     "data": {
      "text/plain": [
       "[[79, 22, 115],\n",
       " [156, 175, 20],\n",
       " [121, 190, 7],\n",
       " [129, 178, 22],\n",
       " [140, 61, 8],\n",
       " [128, 7, 1],\n",
       " [142, 115, 133],\n",
       " [115, 61, 96],\n",
       " [60, 96, 140],\n",
       " [178, 129, 25]]"
      ]
     },
     "execution_count": 76,
     "metadata": {},
     "output_type": "execute_result"
    }
   ],
   "source": [
    "test_triplets_final[:10]"
   ]
  },
  {
   "cell_type": "code",
   "execution_count": null,
   "metadata": {},
   "outputs": [],
   "source": []
  }
 ],
 "metadata": {
  "interpreter": {
   "hash": "d481768984fd22ffaad5ac1001b63c49ae40850344d87dce2c6389b48859204f"
  },
  "kernelspec": {
   "display_name": "Python 3.7.11 ('teaching': conda)",
   "language": "python",
   "name": "python3"
  },
  "language_info": {
   "codemirror_mode": {
    "name": "ipython",
    "version": 3
   },
   "file_extension": ".py",
   "mimetype": "text/x-python",
   "name": "python",
   "nbconvert_exporter": "python",
   "pygments_lexer": "ipython3",
   "version": "3.7.11"
  },
  "orig_nbformat": 4
 },
 "nbformat": 4,
 "nbformat_minor": 2
}
